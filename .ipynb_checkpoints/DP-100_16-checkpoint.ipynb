{
 "cells": [
  {
   "cell_type": "markdown",
   "id": "38db8e25",
   "metadata": {},
   "source": [
    "# Exercise: Train a multiple linear regression model\n",
    "In this exercise, we'll train both a simple linear regression model and a multiple linear regression model, and compare their performance using R-Squared.\n",
    "\n",
    "## Loading data\n",
    "Let's start by having a look at our data."
   ]
  },
  {
   "cell_type": "code",
   "execution_count": 25,
   "id": "b6a749fa",
   "metadata": {},
   "outputs": [
    {
     "name": "stdout",
     "output_type": "stream",
     "text": [
      "Requirement already satisfied: statsmodels in c:\\programdata\\anaconda3\\lib\\site-packages (0.12.2)\n",
      "Requirement already satisfied: numpy>=1.15 in c:\\programdata\\anaconda3\\lib\\site-packages (from statsmodels) (1.20.1)\n",
      "Requirement already satisfied: scipy>=1.1 in c:\\programdata\\anaconda3\\lib\\site-packages (from statsmodels) (1.6.2)\n",
      "Requirement already satisfied: pandas>=0.21 in c:\\programdata\\anaconda3\\lib\\site-packages (from statsmodels) (1.2.4)\n",
      "Requirement already satisfied: patsy>=0.5 in c:\\programdata\\anaconda3\\lib\\site-packages (from statsmodels) (0.5.1)\n",
      "Requirement already satisfied: python-dateutil>=2.7.3 in c:\\programdata\\anaconda3\\lib\\site-packages (from pandas>=0.21->statsmodels) (2.8.1)\n",
      "Requirement already satisfied: pytz>=2017.3 in c:\\programdata\\anaconda3\\lib\\site-packages (from pandas>=0.21->statsmodels) (2021.1)\n",
      "Requirement already satisfied: six in c:\\programdata\\anaconda3\\lib\\site-packages (from patsy>=0.5->statsmodels) (1.15.0)\n",
      "\n",
      "Saved under graphing (1).py\n",
      "\n",
      "Saved under doggy-illness (2).csv\n"
     ]
    },
    {
     "data": {
      "text/html": [
       "<div>\n",
       "<style scoped>\n",
       "    .dataframe tbody tr th:only-of-type {\n",
       "        vertical-align: middle;\n",
       "    }\n",
       "\n",
       "    .dataframe tbody tr th {\n",
       "        vertical-align: top;\n",
       "    }\n",
       "\n",
       "    .dataframe thead th {\n",
       "        text-align: right;\n",
       "    }\n",
       "</style>\n",
       "<table border=\"1\" class=\"dataframe\">\n",
       "  <thead>\n",
       "    <tr style=\"text-align: right;\">\n",
       "      <th></th>\n",
       "      <th>male</th>\n",
       "      <th>attended_training</th>\n",
       "      <th>age</th>\n",
       "      <th>body_fat_percentage</th>\n",
       "      <th>core_temperature</th>\n",
       "      <th>ate_at_tonys_steakhouse</th>\n",
       "      <th>needed_intensive_care</th>\n",
       "      <th>protein_content_of_last_meal</th>\n",
       "    </tr>\n",
       "  </thead>\n",
       "  <tbody>\n",
       "    <tr>\n",
       "      <th>0</th>\n",
       "      <td>0</td>\n",
       "      <td>1</td>\n",
       "      <td>6.9</td>\n",
       "      <td>38</td>\n",
       "      <td>38.423169</td>\n",
       "      <td>0</td>\n",
       "      <td>0</td>\n",
       "      <td>7.66</td>\n",
       "    </tr>\n",
       "    <tr>\n",
       "      <th>1</th>\n",
       "      <td>0</td>\n",
       "      <td>1</td>\n",
       "      <td>5.4</td>\n",
       "      <td>32</td>\n",
       "      <td>39.015998</td>\n",
       "      <td>0</td>\n",
       "      <td>0</td>\n",
       "      <td>13.36</td>\n",
       "    </tr>\n",
       "    <tr>\n",
       "      <th>2</th>\n",
       "      <td>1</td>\n",
       "      <td>1</td>\n",
       "      <td>5.4</td>\n",
       "      <td>12</td>\n",
       "      <td>39.148341</td>\n",
       "      <td>0</td>\n",
       "      <td>0</td>\n",
       "      <td>12.90</td>\n",
       "    </tr>\n",
       "    <tr>\n",
       "      <th>3</th>\n",
       "      <td>1</td>\n",
       "      <td>0</td>\n",
       "      <td>4.8</td>\n",
       "      <td>23</td>\n",
       "      <td>39.060049</td>\n",
       "      <td>0</td>\n",
       "      <td>0</td>\n",
       "      <td>13.45</td>\n",
       "    </tr>\n",
       "    <tr>\n",
       "      <th>4</th>\n",
       "      <td>1</td>\n",
       "      <td>0</td>\n",
       "      <td>4.8</td>\n",
       "      <td>15</td>\n",
       "      <td>38.655439</td>\n",
       "      <td>0</td>\n",
       "      <td>0</td>\n",
       "      <td>10.53</td>\n",
       "    </tr>\n",
       "    <tr>\n",
       "      <th>...</th>\n",
       "      <td>...</td>\n",
       "      <td>...</td>\n",
       "      <td>...</td>\n",
       "      <td>...</td>\n",
       "      <td>...</td>\n",
       "      <td>...</td>\n",
       "      <td>...</td>\n",
       "      <td>...</td>\n",
       "    </tr>\n",
       "    <tr>\n",
       "      <th>93</th>\n",
       "      <td>0</td>\n",
       "      <td>0</td>\n",
       "      <td>4.5</td>\n",
       "      <td>38</td>\n",
       "      <td>37.939942</td>\n",
       "      <td>0</td>\n",
       "      <td>0</td>\n",
       "      <td>7.35</td>\n",
       "    </tr>\n",
       "    <tr>\n",
       "      <th>94</th>\n",
       "      <td>1</td>\n",
       "      <td>0</td>\n",
       "      <td>1.8</td>\n",
       "      <td>11</td>\n",
       "      <td>38.790426</td>\n",
       "      <td>1</td>\n",
       "      <td>1</td>\n",
       "      <td>12.18</td>\n",
       "    </tr>\n",
       "    <tr>\n",
       "      <th>95</th>\n",
       "      <td>0</td>\n",
       "      <td>0</td>\n",
       "      <td>6.6</td>\n",
       "      <td>20</td>\n",
       "      <td>39.489962</td>\n",
       "      <td>0</td>\n",
       "      <td>0</td>\n",
       "      <td>15.84</td>\n",
       "    </tr>\n",
       "    <tr>\n",
       "      <th>96</th>\n",
       "      <td>0</td>\n",
       "      <td>0</td>\n",
       "      <td>6.9</td>\n",
       "      <td>32</td>\n",
       "      <td>38.575742</td>\n",
       "      <td>1</td>\n",
       "      <td>1</td>\n",
       "      <td>9.79</td>\n",
       "    </tr>\n",
       "    <tr>\n",
       "      <th>97</th>\n",
       "      <td>1</td>\n",
       "      <td>1</td>\n",
       "      <td>6.0</td>\n",
       "      <td>21</td>\n",
       "      <td>39.766447</td>\n",
       "      <td>1</td>\n",
       "      <td>1</td>\n",
       "      <td>21.30</td>\n",
       "    </tr>\n",
       "  </tbody>\n",
       "</table>\n",
       "<p>98 rows × 8 columns</p>\n",
       "</div>"
      ],
      "text/plain": [
       "    male  attended_training  age  body_fat_percentage  core_temperature  \\\n",
       "0      0                  1  6.9                   38         38.423169   \n",
       "1      0                  1  5.4                   32         39.015998   \n",
       "2      1                  1  5.4                   12         39.148341   \n",
       "3      1                  0  4.8                   23         39.060049   \n",
       "4      1                  0  4.8                   15         38.655439   \n",
       "..   ...                ...  ...                  ...               ...   \n",
       "93     0                  0  4.5                   38         37.939942   \n",
       "94     1                  0  1.8                   11         38.790426   \n",
       "95     0                  0  6.6                   20         39.489962   \n",
       "96     0                  0  6.9                   32         38.575742   \n",
       "97     1                  1  6.0                   21         39.766447   \n",
       "\n",
       "    ate_at_tonys_steakhouse  needed_intensive_care  \\\n",
       "0                         0                      0   \n",
       "1                         0                      0   \n",
       "2                         0                      0   \n",
       "3                         0                      0   \n",
       "4                         0                      0   \n",
       "..                      ...                    ...   \n",
       "93                        0                      0   \n",
       "94                        1                      1   \n",
       "95                        0                      0   \n",
       "96                        1                      1   \n",
       "97                        1                      1   \n",
       "\n",
       "    protein_content_of_last_meal  \n",
       "0                           7.66  \n",
       "1                          13.36  \n",
       "2                          12.90  \n",
       "3                          13.45  \n",
       "4                          10.53  \n",
       "..                           ...  \n",
       "93                          7.35  \n",
       "94                         12.18  \n",
       "95                         15.84  \n",
       "96                          9.79  \n",
       "97                         21.30  \n",
       "\n",
       "[98 rows x 8 columns]"
      ]
     },
     "execution_count": 25,
     "metadata": {},
     "output_type": "execute_result"
    }
   ],
   "source": [
    "import pandas\n",
    "#!pip install statsmodels\n",
    "#!python -m wget https://raw.githubusercontent.com/MicrosoftDocs/mslearn-introduction-to-machine-learning/main/graphing.py\n",
    "#!python -m wget https://raw.githubusercontent.com/MicrosoftDocs/mslearn-introduction-to-machine-learning/main/Data/doggy-illness.csv\n",
    "\n",
    "#Import the data from the .csv file\n",
    "dataset = pandas.read_csv('doggy-illness.csv', delimiter=\"\\t\")\n",
    "\n",
    "#Let's have a look at the data\n",
    "dataset"
   ]
  },
  {
   "cell_type": "markdown",
   "id": "23a70653",
   "metadata": {},
   "source": [
    "For this exercise we'll try to predict `core_temperature` from some of the other available features. \n",
    "\n",
    "## Data visualization\n",
    "Let's quickly eyeball which features seem to have some kind of relationship with `core_temperature`"
   ]
  },
  {
   "cell_type": "code",
   "execution_count": 26,
   "id": "07b5528e",
   "metadata": {},
   "outputs": [
    {
     "data": {
      "application/vnd.plotly.v1+json": {
       "config": {
        "plotlyServerURL": "https://plot.ly"
       },
       "data": [
        {
         "alignmentgroup": "True",
         "hovertemplate": "male=%{x}<br>core temperature=%{y}<extra></extra>",
         "legendgroup": "",
         "marker": {
          "color": "#636efa"
         },
         "name": "",
         "notched": false,
         "offsetgroup": "",
         "orientation": "v",
         "showlegend": false,
         "type": "box",
         "x": [
          0,
          0,
          1,
          1,
          1,
          0,
          1,
          1,
          0,
          0,
          1,
          0,
          1,
          1,
          0,
          1,
          1,
          1,
          0,
          1,
          0,
          1,
          0,
          1,
          1,
          0,
          1,
          0,
          0,
          0,
          1,
          0,
          1,
          1,
          1,
          1,
          1,
          1,
          0,
          1,
          0,
          1,
          0,
          0,
          0,
          0,
          0,
          1,
          0,
          1,
          1,
          1,
          0,
          0,
          1,
          0,
          1,
          0,
          1,
          0,
          1,
          1,
          1,
          1,
          1,
          1,
          1,
          0,
          0,
          1,
          0,
          1,
          1,
          0,
          0,
          1,
          0,
          1,
          0,
          0,
          0,
          1,
          0,
          0,
          1,
          1,
          0,
          1,
          0,
          0,
          0,
          1,
          0,
          0,
          1,
          0,
          0,
          1
         ],
         "x0": " ",
         "xaxis": "x",
         "y": [
          38.42316895,
          39.01599822,
          39.14834088,
          39.06004863,
          38.65543905,
          38.6092188,
          39.47390806,
          38.81521612,
          37.77845286,
          39.17685034,
          39.52090819,
          38.57896943,
          38.28013391,
          38.40158039,
          38.65157641,
          39.61720308,
          37.72843549,
          39.36694049,
          37.98848685,
          39.93405104,
          37.60559023,
          38.83468198,
          37.39892664,
          38.98633063,
          39.72456882,
          38.09695504,
          37.59597881,
          39.49731323,
          38.50187636,
          38.27036031,
          38.69964224,
          39.08411118,
          38.29400364,
          38.39872285,
          39.29951536,
          38.37598649,
          38.46968433,
          39.58561173,
          38.12682317,
          39.80156649,
          37.92682179,
          39.67264697,
          38.21409556,
          38.93217418,
          37.80121676,
          37.52097889,
          39.34942824,
          38.9163822,
          38.72595498,
          38.35421436,
          40.17337876,
          39.48214424,
          39.9557292,
          39.02529641,
          39.70565695,
          37.87210056,
          38.92730588,
          38.75694066,
          38.98157028,
          39.07020183,
          39.31023381,
          40.26487847,
          39.19531025,
          37.46606804,
          38.61929591,
          39.74308443,
          37.9590829,
          38.52387016,
          39.58821189,
          39.48780846,
          37.32113362,
          38.30311301,
          39.32598796,
          38.18373964,
          37.78518905,
          38.97361387,
          37.97719515,
          38.92654301,
          37.98922316,
          39.87010492,
          38.51344083,
          39.14710639,
          38.61129304,
          38.95232638,
          37.46812464,
          38.24131363,
          38.7661591,
          39.87233432,
          38.87492299,
          39.09337261,
          39.00124171,
          39.25963687,
          38.6808734,
          37.93994229,
          38.79042609,
          39.48996228,
          38.57574159,
          39.76644658
         ],
         "y0": " ",
         "yaxis": "y"
        }
       ],
       "layout": {
        "boxmode": "group",
        "legend": {
         "tracegroupgap": 0
        },
        "template": {
         "data": {
          "bar": [
           {
            "error_x": {
             "color": "#2a3f5f"
            },
            "error_y": {
             "color": "#2a3f5f"
            },
            "marker": {
             "line": {
              "color": "white",
              "width": 0.5
             },
             "pattern": {
              "fillmode": "overlay",
              "size": 10,
              "solidity": 0.2
             }
            },
            "type": "bar"
           }
          ],
          "barpolar": [
           {
            "marker": {
             "line": {
              "color": "white",
              "width": 0.5
             },
             "pattern": {
              "fillmode": "overlay",
              "size": 10,
              "solidity": 0.2
             }
            },
            "type": "barpolar"
           }
          ],
          "box": [
           {
            "boxpoints": "outliers",
            "notched": false,
            "type": "box"
           }
          ],
          "carpet": [
           {
            "aaxis": {
             "endlinecolor": "#2a3f5f",
             "gridcolor": "#C8D4E3",
             "linecolor": "#C8D4E3",
             "minorgridcolor": "#C8D4E3",
             "startlinecolor": "#2a3f5f"
            },
            "baxis": {
             "endlinecolor": "#2a3f5f",
             "gridcolor": "#C8D4E3",
             "linecolor": "#C8D4E3",
             "minorgridcolor": "#C8D4E3",
             "startlinecolor": "#2a3f5f"
            },
            "type": "carpet"
           }
          ],
          "choropleth": [
           {
            "colorbar": {
             "outlinewidth": 0,
             "ticks": ""
            },
            "type": "choropleth"
           }
          ],
          "contour": [
           {
            "colorbar": {
             "outlinewidth": 0,
             "ticks": ""
            },
            "colorscale": [
             [
              0,
              "#0d0887"
             ],
             [
              0.1111111111111111,
              "#46039f"
             ],
             [
              0.2222222222222222,
              "#7201a8"
             ],
             [
              0.3333333333333333,
              "#9c179e"
             ],
             [
              0.4444444444444444,
              "#bd3786"
             ],
             [
              0.5555555555555556,
              "#d8576b"
             ],
             [
              0.6666666666666666,
              "#ed7953"
             ],
             [
              0.7777777777777778,
              "#fb9f3a"
             ],
             [
              0.8888888888888888,
              "#fdca26"
             ],
             [
              1,
              "#f0f921"
             ]
            ],
            "type": "contour"
           }
          ],
          "contourcarpet": [
           {
            "colorbar": {
             "outlinewidth": 0,
             "ticks": ""
            },
            "type": "contourcarpet"
           }
          ],
          "heatmap": [
           {
            "colorbar": {
             "outlinewidth": 0,
             "ticks": ""
            },
            "colorscale": [
             [
              0,
              "#0d0887"
             ],
             [
              0.1111111111111111,
              "#46039f"
             ],
             [
              0.2222222222222222,
              "#7201a8"
             ],
             [
              0.3333333333333333,
              "#9c179e"
             ],
             [
              0.4444444444444444,
              "#bd3786"
             ],
             [
              0.5555555555555556,
              "#d8576b"
             ],
             [
              0.6666666666666666,
              "#ed7953"
             ],
             [
              0.7777777777777778,
              "#fb9f3a"
             ],
             [
              0.8888888888888888,
              "#fdca26"
             ],
             [
              1,
              "#f0f921"
             ]
            ],
            "type": "heatmap"
           }
          ],
          "heatmapgl": [
           {
            "colorbar": {
             "outlinewidth": 0,
             "ticks": ""
            },
            "colorscale": [
             [
              0,
              "#0d0887"
             ],
             [
              0.1111111111111111,
              "#46039f"
             ],
             [
              0.2222222222222222,
              "#7201a8"
             ],
             [
              0.3333333333333333,
              "#9c179e"
             ],
             [
              0.4444444444444444,
              "#bd3786"
             ],
             [
              0.5555555555555556,
              "#d8576b"
             ],
             [
              0.6666666666666666,
              "#ed7953"
             ],
             [
              0.7777777777777778,
              "#fb9f3a"
             ],
             [
              0.8888888888888888,
              "#fdca26"
             ],
             [
              1,
              "#f0f921"
             ]
            ],
            "type": "heatmapgl"
           }
          ],
          "histogram": [
           {
            "marker": {
             "line": {
              "width": 1
             },
             "pattern": {
              "fillmode": "overlay",
              "size": 10,
              "solidity": 0.2
             }
            },
            "type": "histogram"
           }
          ],
          "histogram2d": [
           {
            "colorbar": {
             "outlinewidth": 0,
             "ticks": ""
            },
            "colorscale": [
             [
              0,
              "#0d0887"
             ],
             [
              0.1111111111111111,
              "#46039f"
             ],
             [
              0.2222222222222222,
              "#7201a8"
             ],
             [
              0.3333333333333333,
              "#9c179e"
             ],
             [
              0.4444444444444444,
              "#bd3786"
             ],
             [
              0.5555555555555556,
              "#d8576b"
             ],
             [
              0.6666666666666666,
              "#ed7953"
             ],
             [
              0.7777777777777778,
              "#fb9f3a"
             ],
             [
              0.8888888888888888,
              "#fdca26"
             ],
             [
              1,
              "#f0f921"
             ]
            ],
            "type": "histogram2d"
           }
          ],
          "histogram2dcontour": [
           {
            "colorbar": {
             "outlinewidth": 0,
             "ticks": ""
            },
            "colorscale": [
             [
              0,
              "#0d0887"
             ],
             [
              0.1111111111111111,
              "#46039f"
             ],
             [
              0.2222222222222222,
              "#7201a8"
             ],
             [
              0.3333333333333333,
              "#9c179e"
             ],
             [
              0.4444444444444444,
              "#bd3786"
             ],
             [
              0.5555555555555556,
              "#d8576b"
             ],
             [
              0.6666666666666666,
              "#ed7953"
             ],
             [
              0.7777777777777778,
              "#fb9f3a"
             ],
             [
              0.8888888888888888,
              "#fdca26"
             ],
             [
              1,
              "#f0f921"
             ]
            ],
            "type": "histogram2dcontour"
           }
          ],
          "mesh3d": [
           {
            "colorbar": {
             "outlinewidth": 0,
             "ticks": ""
            },
            "type": "mesh3d"
           }
          ],
          "parcoords": [
           {
            "line": {
             "colorbar": {
              "outlinewidth": 0,
              "ticks": ""
             }
            },
            "type": "parcoords"
           }
          ],
          "pie": [
           {
            "automargin": true,
            "type": "pie"
           }
          ],
          "scatter": [
           {
            "marker": {
             "colorbar": {
              "outlinewidth": 0,
              "ticks": ""
             },
             "opacity": 0.8
            },
            "type": "scatter"
           }
          ],
          "scatter3d": [
           {
            "line": {
             "colorbar": {
              "outlinewidth": 0,
              "ticks": ""
             }
            },
            "marker": {
             "colorbar": {
              "outlinewidth": 0,
              "ticks": ""
             },
             "opacity": 0.8
            },
            "type": "scatter3d"
           }
          ],
          "scattercarpet": [
           {
            "marker": {
             "colorbar": {
              "outlinewidth": 0,
              "ticks": ""
             }
            },
            "type": "scattercarpet"
           }
          ],
          "scattergeo": [
           {
            "marker": {
             "colorbar": {
              "outlinewidth": 0,
              "ticks": ""
             }
            },
            "type": "scattergeo"
           }
          ],
          "scattergl": [
           {
            "marker": {
             "colorbar": {
              "outlinewidth": 0,
              "ticks": ""
             }
            },
            "type": "scattergl"
           }
          ],
          "scattermapbox": [
           {
            "marker": {
             "colorbar": {
              "outlinewidth": 0,
              "ticks": ""
             }
            },
            "type": "scattermapbox"
           }
          ],
          "scatterpolar": [
           {
            "marker": {
             "colorbar": {
              "outlinewidth": 0,
              "ticks": ""
             }
            },
            "type": "scatterpolar"
           }
          ],
          "scatterpolargl": [
           {
            "marker": {
             "colorbar": {
              "outlinewidth": 0,
              "ticks": ""
             }
            },
            "type": "scatterpolargl"
           }
          ],
          "scatterternary": [
           {
            "marker": {
             "colorbar": {
              "outlinewidth": 0,
              "ticks": ""
             }
            },
            "type": "scatterternary"
           }
          ],
          "surface": [
           {
            "colorbar": {
             "outlinewidth": 0,
             "ticks": ""
            },
            "colorscale": [
             [
              0,
              "#0d0887"
             ],
             [
              0.1111111111111111,
              "#46039f"
             ],
             [
              0.2222222222222222,
              "#7201a8"
             ],
             [
              0.3333333333333333,
              "#9c179e"
             ],
             [
              0.4444444444444444,
              "#bd3786"
             ],
             [
              0.5555555555555556,
              "#d8576b"
             ],
             [
              0.6666666666666666,
              "#ed7953"
             ],
             [
              0.7777777777777778,
              "#fb9f3a"
             ],
             [
              0.8888888888888888,
              "#fdca26"
             ],
             [
              1,
              "#f0f921"
             ]
            ],
            "type": "surface"
           }
          ],
          "table": [
           {
            "cells": {
             "fill": {
              "color": "#EBF0F8"
             },
             "line": {
              "color": "white"
             }
            },
            "header": {
             "fill": {
              "color": "#C8D4E3"
             },
             "line": {
              "color": "white"
             }
            },
            "type": "table"
           }
          ]
         },
         "layout": {
          "annotationdefaults": {
           "arrowcolor": "#2a3f5f",
           "arrowhead": 0,
           "arrowwidth": 1
          },
          "autotypenumbers": "strict",
          "coloraxis": {
           "colorbar": {
            "outlinewidth": 0,
            "ticks": ""
           }
          },
          "colorscale": {
           "diverging": [
            [
             0,
             "#8e0152"
            ],
            [
             0.1,
             "#c51b7d"
            ],
            [
             0.2,
             "#de77ae"
            ],
            [
             0.3,
             "#f1b6da"
            ],
            [
             0.4,
             "#fde0ef"
            ],
            [
             0.5,
             "#f7f7f7"
            ],
            [
             0.6,
             "#e6f5d0"
            ],
            [
             0.7,
             "#b8e186"
            ],
            [
             0.8,
             "#7fbc41"
            ],
            [
             0.9,
             "#4d9221"
            ],
            [
             1,
             "#276419"
            ]
           ],
           "sequential": [
            [
             0,
             "#0d0887"
            ],
            [
             0.1111111111111111,
             "#46039f"
            ],
            [
             0.2222222222222222,
             "#7201a8"
            ],
            [
             0.3333333333333333,
             "#9c179e"
            ],
            [
             0.4444444444444444,
             "#bd3786"
            ],
            [
             0.5555555555555556,
             "#d8576b"
            ],
            [
             0.6666666666666666,
             "#ed7953"
            ],
            [
             0.7777777777777778,
             "#fb9f3a"
            ],
            [
             0.8888888888888888,
             "#fdca26"
            ],
            [
             1,
             "#f0f921"
            ]
           ],
           "sequentialminus": [
            [
             0,
             "#0d0887"
            ],
            [
             0.1111111111111111,
             "#46039f"
            ],
            [
             0.2222222222222222,
             "#7201a8"
            ],
            [
             0.3333333333333333,
             "#9c179e"
            ],
            [
             0.4444444444444444,
             "#bd3786"
            ],
            [
             0.5555555555555556,
             "#d8576b"
            ],
            [
             0.6666666666666666,
             "#ed7953"
            ],
            [
             0.7777777777777778,
             "#fb9f3a"
            ],
            [
             0.8888888888888888,
             "#fdca26"
            ],
            [
             1,
             "#f0f921"
            ]
           ]
          },
          "colorway": [
           "#636efa",
           "#EF553B",
           "#00cc96",
           "#ab63fa",
           "#FFA15A",
           "#19d3f3",
           "#FF6692",
           "#B6E880",
           "#FF97FF",
           "#FECB52"
          ],
          "font": {
           "color": "#2a3f5f"
          },
          "geo": {
           "bgcolor": "white",
           "lakecolor": "white",
           "landcolor": "white",
           "showlakes": true,
           "showland": true,
           "subunitcolor": "#C8D4E3"
          },
          "height": 400,
          "hoverlabel": {
           "align": "left"
          },
          "hovermode": "closest",
          "mapbox": {
           "style": "light"
          },
          "margin": {
           "b": 2,
           "l": 2,
           "r": 2,
           "t": 30
          },
          "paper_bgcolor": "white",
          "plot_bgcolor": "white",
          "polar": {
           "angularaxis": {
            "gridcolor": "#EBF0F8",
            "linecolor": "#EBF0F8",
            "ticks": ""
           },
           "bgcolor": "white",
           "radialaxis": {
            "gridcolor": "#EBF0F8",
            "linecolor": "#EBF0F8",
            "ticks": ""
           }
          },
          "scene": {
           "camera": {
            "eye": {
             "x": 1.5,
             "y": 1.5,
             "z": 0.1
            }
           },
           "xaxis": {
            "backgroundcolor": "white",
            "gridcolor": "#DFE8F3",
            "gridwidth": 2,
            "linecolor": "#EBF0F8",
            "showbackground": true,
            "ticks": "",
            "zerolinecolor": "#EBF0F8"
           },
           "yaxis": {
            "backgroundcolor": "white",
            "gridcolor": "#DFE8F3",
            "gridwidth": 2,
            "linecolor": "#EBF0F8",
            "showbackground": true,
            "ticks": "",
            "zerolinecolor": "#EBF0F8"
           },
           "zaxis": {
            "backgroundcolor": "white",
            "gridcolor": "#DFE8F3",
            "gridwidth": 2,
            "linecolor": "#EBF0F8",
            "showbackground": true,
            "ticks": "",
            "zerolinecolor": "#EBF0F8"
           }
          },
          "shapedefaults": {
           "line": {
            "color": "#2a3f5f"
           }
          },
          "ternary": {
           "aaxis": {
            "gridcolor": "#DFE8F3",
            "linecolor": "#A2B1C6",
            "ticks": ""
           },
           "baxis": {
            "gridcolor": "#DFE8F3",
            "linecolor": "#A2B1C6",
            "ticks": ""
           },
           "bgcolor": "white",
           "caxis": {
            "gridcolor": "#DFE8F3",
            "linecolor": "#A2B1C6",
            "ticks": ""
           }
          },
          "title": {
           "x": 0.5
          },
          "xaxis": {
           "automargin": true,
           "gridcolor": "#EBF0F8",
           "linecolor": "#EBF0F8",
           "linewidth": 2,
           "showline": true,
           "ticks": "",
           "title": {
            "standoff": 15
           },
           "zerolinecolor": "#EBF0F8",
           "zerolinewidth": 2
          },
          "yaxis": {
           "automargin": true,
           "gridcolor": "#EBF0F8",
           "linecolor": "#EBF0F8",
           "linewidth": 2,
           "showline": true,
           "ticks": "",
           "title": {
            "standoff": 15
           },
           "zerolinecolor": "#EBF0F8",
           "zerolinewidth": 2
          }
         }
        },
        "xaxis": {
         "anchor": "y",
         "domain": [
          0,
          1
         ],
         "title": {
          "text": "male"
         }
        },
        "yaxis": {
         "anchor": "x",
         "domain": [
          0,
          1
         ],
         "title": {
          "text": "core temperature"
         }
        }
       }
      },
      "text/html": [
       "<div>                            <div id=\"0b09dae7-6124-428c-8380-d3e8383be436\" class=\"plotly-graph-div\" style=\"height:400px; width:100%;\"></div>            <script type=\"text/javascript\">                require([\"plotly\"], function(Plotly) {                    window.PLOTLYENV=window.PLOTLYENV || {};                                    if (document.getElementById(\"0b09dae7-6124-428c-8380-d3e8383be436\")) {                    Plotly.newPlot(                        \"0b09dae7-6124-428c-8380-d3e8383be436\",                        [{\"alignmentgroup\":\"True\",\"hovertemplate\":\"male=%{x}<br>core temperature=%{y}<extra></extra>\",\"legendgroup\":\"\",\"marker\":{\"color\":\"#636efa\"},\"name\":\"\",\"notched\":false,\"offsetgroup\":\"\",\"orientation\":\"v\",\"showlegend\":false,\"type\":\"box\",\"x\":[0,0,1,1,1,0,1,1,0,0,1,0,1,1,0,1,1,1,0,1,0,1,0,1,1,0,1,0,0,0,1,0,1,1,1,1,1,1,0,1,0,1,0,0,0,0,0,1,0,1,1,1,0,0,1,0,1,0,1,0,1,1,1,1,1,1,1,0,0,1,0,1,1,0,0,1,0,1,0,0,0,1,0,0,1,1,0,1,0,0,0,1,0,0,1,0,0,1],\"x0\":\" \",\"xaxis\":\"x\",\"y\":[38.42316895,39.01599822,39.14834088,39.06004863,38.65543905,38.6092188,39.47390806,38.81521612,37.77845286,39.17685034,39.52090819,38.57896943,38.28013391,38.40158039,38.65157641,39.61720308,37.72843549,39.36694049,37.98848685,39.93405104,37.60559023,38.83468198,37.39892664,38.98633063,39.72456882,38.09695504,37.59597881,39.49731323,38.50187636,38.27036031,38.69964224,39.08411118,38.29400364,38.39872285,39.29951536,38.37598649,38.46968433,39.58561173,38.12682317,39.80156649,37.92682179,39.67264697,38.21409556,38.93217418,37.80121676,37.52097889,39.34942824,38.9163822,38.72595498,38.35421436,40.17337876,39.48214424,39.9557292,39.02529641,39.70565695,37.87210056,38.92730588,38.75694066,38.98157028,39.07020183,39.31023381,40.26487847,39.19531025,37.46606804,38.61929591,39.74308443,37.9590829,38.52387016,39.58821189,39.48780846,37.32113362,38.30311301,39.32598796,38.18373964,37.78518905,38.97361387,37.97719515,38.92654301,37.98922316,39.87010492,38.51344083,39.14710639,38.61129304,38.95232638,37.46812464,38.24131363,38.7661591,39.87233432,38.87492299,39.09337261,39.00124171,39.25963687,38.6808734,37.93994229,38.79042609,39.48996228,38.57574159,39.76644658],\"y0\":\" \",\"yaxis\":\"y\"}],                        {\"boxmode\":\"group\",\"legend\":{\"tracegroupgap\":0},\"template\":{\"data\":{\"bar\":[{\"error_x\":{\"color\":\"#2a3f5f\"},\"error_y\":{\"color\":\"#2a3f5f\"},\"marker\":{\"line\":{\"color\":\"white\",\"width\":0.5},\"pattern\":{\"fillmode\":\"overlay\",\"size\":10,\"solidity\":0.2}},\"type\":\"bar\"}],\"barpolar\":[{\"marker\":{\"line\":{\"color\":\"white\",\"width\":0.5},\"pattern\":{\"fillmode\":\"overlay\",\"size\":10,\"solidity\":0.2}},\"type\":\"barpolar\"}],\"box\":[{\"boxpoints\":\"outliers\",\"notched\":false,\"type\":\"box\"}],\"carpet\":[{\"aaxis\":{\"endlinecolor\":\"#2a3f5f\",\"gridcolor\":\"#C8D4E3\",\"linecolor\":\"#C8D4E3\",\"minorgridcolor\":\"#C8D4E3\",\"startlinecolor\":\"#2a3f5f\"},\"baxis\":{\"endlinecolor\":\"#2a3f5f\",\"gridcolor\":\"#C8D4E3\",\"linecolor\":\"#C8D4E3\",\"minorgridcolor\":\"#C8D4E3\",\"startlinecolor\":\"#2a3f5f\"},\"type\":\"carpet\"}],\"choropleth\":[{\"colorbar\":{\"outlinewidth\":0,\"ticks\":\"\"},\"type\":\"choropleth\"}],\"contour\":[{\"colorbar\":{\"outlinewidth\":0,\"ticks\":\"\"},\"colorscale\":[[0.0,\"#0d0887\"],[0.1111111111111111,\"#46039f\"],[0.2222222222222222,\"#7201a8\"],[0.3333333333333333,\"#9c179e\"],[0.4444444444444444,\"#bd3786\"],[0.5555555555555556,\"#d8576b\"],[0.6666666666666666,\"#ed7953\"],[0.7777777777777778,\"#fb9f3a\"],[0.8888888888888888,\"#fdca26\"],[1.0,\"#f0f921\"]],\"type\":\"contour\"}],\"contourcarpet\":[{\"colorbar\":{\"outlinewidth\":0,\"ticks\":\"\"},\"type\":\"contourcarpet\"}],\"heatmap\":[{\"colorbar\":{\"outlinewidth\":0,\"ticks\":\"\"},\"colorscale\":[[0.0,\"#0d0887\"],[0.1111111111111111,\"#46039f\"],[0.2222222222222222,\"#7201a8\"],[0.3333333333333333,\"#9c179e\"],[0.4444444444444444,\"#bd3786\"],[0.5555555555555556,\"#d8576b\"],[0.6666666666666666,\"#ed7953\"],[0.7777777777777778,\"#fb9f3a\"],[0.8888888888888888,\"#fdca26\"],[1.0,\"#f0f921\"]],\"type\":\"heatmap\"}],\"heatmapgl\":[{\"colorbar\":{\"outlinewidth\":0,\"ticks\":\"\"},\"colorscale\":[[0.0,\"#0d0887\"],[0.1111111111111111,\"#46039f\"],[0.2222222222222222,\"#7201a8\"],[0.3333333333333333,\"#9c179e\"],[0.4444444444444444,\"#bd3786\"],[0.5555555555555556,\"#d8576b\"],[0.6666666666666666,\"#ed7953\"],[0.7777777777777778,\"#fb9f3a\"],[0.8888888888888888,\"#fdca26\"],[1.0,\"#f0f921\"]],\"type\":\"heatmapgl\"}],\"histogram\":[{\"marker\":{\"line\":{\"width\":1},\"pattern\":{\"fillmode\":\"overlay\",\"size\":10,\"solidity\":0.2}},\"type\":\"histogram\"}],\"histogram2d\":[{\"colorbar\":{\"outlinewidth\":0,\"ticks\":\"\"},\"colorscale\":[[0.0,\"#0d0887\"],[0.1111111111111111,\"#46039f\"],[0.2222222222222222,\"#7201a8\"],[0.3333333333333333,\"#9c179e\"],[0.4444444444444444,\"#bd3786\"],[0.5555555555555556,\"#d8576b\"],[0.6666666666666666,\"#ed7953\"],[0.7777777777777778,\"#fb9f3a\"],[0.8888888888888888,\"#fdca26\"],[1.0,\"#f0f921\"]],\"type\":\"histogram2d\"}],\"histogram2dcontour\":[{\"colorbar\":{\"outlinewidth\":0,\"ticks\":\"\"},\"colorscale\":[[0.0,\"#0d0887\"],[0.1111111111111111,\"#46039f\"],[0.2222222222222222,\"#7201a8\"],[0.3333333333333333,\"#9c179e\"],[0.4444444444444444,\"#bd3786\"],[0.5555555555555556,\"#d8576b\"],[0.6666666666666666,\"#ed7953\"],[0.7777777777777778,\"#fb9f3a\"],[0.8888888888888888,\"#fdca26\"],[1.0,\"#f0f921\"]],\"type\":\"histogram2dcontour\"}],\"mesh3d\":[{\"colorbar\":{\"outlinewidth\":0,\"ticks\":\"\"},\"type\":\"mesh3d\"}],\"parcoords\":[{\"line\":{\"colorbar\":{\"outlinewidth\":0,\"ticks\":\"\"}},\"type\":\"parcoords\"}],\"pie\":[{\"automargin\":true,\"type\":\"pie\"}],\"scatter\":[{\"marker\":{\"colorbar\":{\"outlinewidth\":0,\"ticks\":\"\"},\"opacity\":0.8},\"type\":\"scatter\"}],\"scatter3d\":[{\"line\":{\"colorbar\":{\"outlinewidth\":0,\"ticks\":\"\"}},\"marker\":{\"colorbar\":{\"outlinewidth\":0,\"ticks\":\"\"},\"opacity\":0.8},\"type\":\"scatter3d\"}],\"scattercarpet\":[{\"marker\":{\"colorbar\":{\"outlinewidth\":0,\"ticks\":\"\"}},\"type\":\"scattercarpet\"}],\"scattergeo\":[{\"marker\":{\"colorbar\":{\"outlinewidth\":0,\"ticks\":\"\"}},\"type\":\"scattergeo\"}],\"scattergl\":[{\"marker\":{\"colorbar\":{\"outlinewidth\":0,\"ticks\":\"\"}},\"type\":\"scattergl\"}],\"scattermapbox\":[{\"marker\":{\"colorbar\":{\"outlinewidth\":0,\"ticks\":\"\"}},\"type\":\"scattermapbox\"}],\"scatterpolar\":[{\"marker\":{\"colorbar\":{\"outlinewidth\":0,\"ticks\":\"\"}},\"type\":\"scatterpolar\"}],\"scatterpolargl\":[{\"marker\":{\"colorbar\":{\"outlinewidth\":0,\"ticks\":\"\"}},\"type\":\"scatterpolargl\"}],\"scatterternary\":[{\"marker\":{\"colorbar\":{\"outlinewidth\":0,\"ticks\":\"\"}},\"type\":\"scatterternary\"}],\"surface\":[{\"colorbar\":{\"outlinewidth\":0,\"ticks\":\"\"},\"colorscale\":[[0.0,\"#0d0887\"],[0.1111111111111111,\"#46039f\"],[0.2222222222222222,\"#7201a8\"],[0.3333333333333333,\"#9c179e\"],[0.4444444444444444,\"#bd3786\"],[0.5555555555555556,\"#d8576b\"],[0.6666666666666666,\"#ed7953\"],[0.7777777777777778,\"#fb9f3a\"],[0.8888888888888888,\"#fdca26\"],[1.0,\"#f0f921\"]],\"type\":\"surface\"}],\"table\":[{\"cells\":{\"fill\":{\"color\":\"#EBF0F8\"},\"line\":{\"color\":\"white\"}},\"header\":{\"fill\":{\"color\":\"#C8D4E3\"},\"line\":{\"color\":\"white\"}},\"type\":\"table\"}]},\"layout\":{\"annotationdefaults\":{\"arrowcolor\":\"#2a3f5f\",\"arrowhead\":0,\"arrowwidth\":1},\"autotypenumbers\":\"strict\",\"coloraxis\":{\"colorbar\":{\"outlinewidth\":0,\"ticks\":\"\"}},\"colorscale\":{\"diverging\":[[0,\"#8e0152\"],[0.1,\"#c51b7d\"],[0.2,\"#de77ae\"],[0.3,\"#f1b6da\"],[0.4,\"#fde0ef\"],[0.5,\"#f7f7f7\"],[0.6,\"#e6f5d0\"],[0.7,\"#b8e186\"],[0.8,\"#7fbc41\"],[0.9,\"#4d9221\"],[1,\"#276419\"]],\"sequential\":[[0.0,\"#0d0887\"],[0.1111111111111111,\"#46039f\"],[0.2222222222222222,\"#7201a8\"],[0.3333333333333333,\"#9c179e\"],[0.4444444444444444,\"#bd3786\"],[0.5555555555555556,\"#d8576b\"],[0.6666666666666666,\"#ed7953\"],[0.7777777777777778,\"#fb9f3a\"],[0.8888888888888888,\"#fdca26\"],[1.0,\"#f0f921\"]],\"sequentialminus\":[[0.0,\"#0d0887\"],[0.1111111111111111,\"#46039f\"],[0.2222222222222222,\"#7201a8\"],[0.3333333333333333,\"#9c179e\"],[0.4444444444444444,\"#bd3786\"],[0.5555555555555556,\"#d8576b\"],[0.6666666666666666,\"#ed7953\"],[0.7777777777777778,\"#fb9f3a\"],[0.8888888888888888,\"#fdca26\"],[1.0,\"#f0f921\"]]},\"colorway\":[\"#636efa\",\"#EF553B\",\"#00cc96\",\"#ab63fa\",\"#FFA15A\",\"#19d3f3\",\"#FF6692\",\"#B6E880\",\"#FF97FF\",\"#FECB52\"],\"font\":{\"color\":\"#2a3f5f\"},\"geo\":{\"bgcolor\":\"white\",\"lakecolor\":\"white\",\"landcolor\":\"white\",\"showlakes\":true,\"showland\":true,\"subunitcolor\":\"#C8D4E3\"},\"height\":400,\"hoverlabel\":{\"align\":\"left\"},\"hovermode\":\"closest\",\"mapbox\":{\"style\":\"light\"},\"margin\":{\"b\":2,\"l\":2,\"r\":2,\"t\":30},\"paper_bgcolor\":\"white\",\"plot_bgcolor\":\"white\",\"polar\":{\"angularaxis\":{\"gridcolor\":\"#EBF0F8\",\"linecolor\":\"#EBF0F8\",\"ticks\":\"\"},\"bgcolor\":\"white\",\"radialaxis\":{\"gridcolor\":\"#EBF0F8\",\"linecolor\":\"#EBF0F8\",\"ticks\":\"\"}},\"scene\":{\"camera\":{\"eye\":{\"x\":1.5,\"y\":1.5,\"z\":0.1}},\"xaxis\":{\"backgroundcolor\":\"white\",\"gridcolor\":\"#DFE8F3\",\"gridwidth\":2,\"linecolor\":\"#EBF0F8\",\"showbackground\":true,\"ticks\":\"\",\"zerolinecolor\":\"#EBF0F8\"},\"yaxis\":{\"backgroundcolor\":\"white\",\"gridcolor\":\"#DFE8F3\",\"gridwidth\":2,\"linecolor\":\"#EBF0F8\",\"showbackground\":true,\"ticks\":\"\",\"zerolinecolor\":\"#EBF0F8\"},\"zaxis\":{\"backgroundcolor\":\"white\",\"gridcolor\":\"#DFE8F3\",\"gridwidth\":2,\"linecolor\":\"#EBF0F8\",\"showbackground\":true,\"ticks\":\"\",\"zerolinecolor\":\"#EBF0F8\"}},\"shapedefaults\":{\"line\":{\"color\":\"#2a3f5f\"}},\"ternary\":{\"aaxis\":{\"gridcolor\":\"#DFE8F3\",\"linecolor\":\"#A2B1C6\",\"ticks\":\"\"},\"baxis\":{\"gridcolor\":\"#DFE8F3\",\"linecolor\":\"#A2B1C6\",\"ticks\":\"\"},\"bgcolor\":\"white\",\"caxis\":{\"gridcolor\":\"#DFE8F3\",\"linecolor\":\"#A2B1C6\",\"ticks\":\"\"}},\"title\":{\"x\":0.5},\"xaxis\":{\"automargin\":true,\"gridcolor\":\"#EBF0F8\",\"linecolor\":\"#EBF0F8\",\"linewidth\":2,\"showline\":true,\"ticks\":\"\",\"title\":{\"standoff\":15},\"zerolinecolor\":\"#EBF0F8\",\"zerolinewidth\":2},\"yaxis\":{\"automargin\":true,\"gridcolor\":\"#EBF0F8\",\"linecolor\":\"#EBF0F8\",\"linewidth\":2,\"showline\":true,\"ticks\":\"\",\"title\":{\"standoff\":15},\"zerolinecolor\":\"#EBF0F8\",\"zerolinewidth\":2}}},\"xaxis\":{\"anchor\":\"y\",\"domain\":[0.0,1.0],\"title\":{\"text\":\"male\"}},\"yaxis\":{\"anchor\":\"x\",\"domain\":[0.0,1.0],\"title\":{\"text\":\"core temperature\"}}},                        {\"responsive\": true}                    ).then(function(){\n",
       "                            \n",
       "var gd = document.getElementById('0b09dae7-6124-428c-8380-d3e8383be436');\n",
       "var x = new MutationObserver(function (mutations, observer) {{\n",
       "        var display = window.getComputedStyle(gd).display;\n",
       "        if (!display || display === 'none') {{\n",
       "            console.log([gd, 'removed!']);\n",
       "            Plotly.purge(gd);\n",
       "            observer.disconnect();\n",
       "        }}\n",
       "}});\n",
       "\n",
       "// Listen for the removal of the full notebook cells\n",
       "var notebookContainer = gd.closest('#notebook-container');\n",
       "if (notebookContainer) {{\n",
       "    x.observe(notebookContainer, {childList: true});\n",
       "}}\n",
       "\n",
       "// Listen for the clearing of the current output cell\n",
       "var outputEl = gd.closest('.output');\n",
       "if (outputEl) {{\n",
       "    x.observe(outputEl, {childList: true});\n",
       "}}\n",
       "\n",
       "                        })                };                });            </script>        </div>"
      ]
     },
     "metadata": {},
     "output_type": "display_data"
    },
    {
     "data": {
      "application/vnd.plotly.v1+json": {
       "config": {
        "plotlyServerURL": "https://plot.ly"
       },
       "data": [
        {
         "alignmentgroup": "True",
         "hovertemplate": "attended training=%{x}<br>core temperature=%{y}<extra></extra>",
         "legendgroup": "",
         "marker": {
          "color": "#636efa"
         },
         "name": "",
         "notched": false,
         "offsetgroup": "",
         "orientation": "v",
         "showlegend": false,
         "type": "box",
         "x": [
          1,
          1,
          1,
          0,
          0,
          1,
          1,
          0,
          0,
          1,
          0,
          0,
          1,
          1,
          1,
          0,
          1,
          1,
          0,
          0,
          0,
          0,
          1,
          0,
          0,
          1,
          0,
          0,
          1,
          1,
          0,
          1,
          1,
          1,
          1,
          0,
          1,
          1,
          0,
          0,
          1,
          0,
          0,
          1,
          0,
          0,
          1,
          0,
          0,
          0,
          0,
          1,
          1,
          1,
          0,
          1,
          1,
          1,
          1,
          1,
          1,
          0,
          1,
          0,
          1,
          1,
          1,
          0,
          0,
          0,
          1,
          1,
          0,
          1,
          0,
          1,
          1,
          1,
          0,
          1,
          0,
          1,
          0,
          1,
          1,
          0,
          1,
          0,
          1,
          0,
          0,
          0,
          0,
          0,
          0,
          0,
          0,
          1
         ],
         "x0": " ",
         "xaxis": "x",
         "y": [
          38.42316895,
          39.01599822,
          39.14834088,
          39.06004863,
          38.65543905,
          38.6092188,
          39.47390806,
          38.81521612,
          37.77845286,
          39.17685034,
          39.52090819,
          38.57896943,
          38.28013391,
          38.40158039,
          38.65157641,
          39.61720308,
          37.72843549,
          39.36694049,
          37.98848685,
          39.93405104,
          37.60559023,
          38.83468198,
          37.39892664,
          38.98633063,
          39.72456882,
          38.09695504,
          37.59597881,
          39.49731323,
          38.50187636,
          38.27036031,
          38.69964224,
          39.08411118,
          38.29400364,
          38.39872285,
          39.29951536,
          38.37598649,
          38.46968433,
          39.58561173,
          38.12682317,
          39.80156649,
          37.92682179,
          39.67264697,
          38.21409556,
          38.93217418,
          37.80121676,
          37.52097889,
          39.34942824,
          38.9163822,
          38.72595498,
          38.35421436,
          40.17337876,
          39.48214424,
          39.9557292,
          39.02529641,
          39.70565695,
          37.87210056,
          38.92730588,
          38.75694066,
          38.98157028,
          39.07020183,
          39.31023381,
          40.26487847,
          39.19531025,
          37.46606804,
          38.61929591,
          39.74308443,
          37.9590829,
          38.52387016,
          39.58821189,
          39.48780846,
          37.32113362,
          38.30311301,
          39.32598796,
          38.18373964,
          37.78518905,
          38.97361387,
          37.97719515,
          38.92654301,
          37.98922316,
          39.87010492,
          38.51344083,
          39.14710639,
          38.61129304,
          38.95232638,
          37.46812464,
          38.24131363,
          38.7661591,
          39.87233432,
          38.87492299,
          39.09337261,
          39.00124171,
          39.25963687,
          38.6808734,
          37.93994229,
          38.79042609,
          39.48996228,
          38.57574159,
          39.76644658
         ],
         "y0": " ",
         "yaxis": "y"
        }
       ],
       "layout": {
        "boxmode": "group",
        "legend": {
         "tracegroupgap": 0
        },
        "template": {
         "data": {
          "bar": [
           {
            "error_x": {
             "color": "#2a3f5f"
            },
            "error_y": {
             "color": "#2a3f5f"
            },
            "marker": {
             "line": {
              "color": "white",
              "width": 0.5
             },
             "pattern": {
              "fillmode": "overlay",
              "size": 10,
              "solidity": 0.2
             }
            },
            "type": "bar"
           }
          ],
          "barpolar": [
           {
            "marker": {
             "line": {
              "color": "white",
              "width": 0.5
             },
             "pattern": {
              "fillmode": "overlay",
              "size": 10,
              "solidity": 0.2
             }
            },
            "type": "barpolar"
           }
          ],
          "box": [
           {
            "boxpoints": "outliers",
            "notched": false,
            "type": "box"
           }
          ],
          "carpet": [
           {
            "aaxis": {
             "endlinecolor": "#2a3f5f",
             "gridcolor": "#C8D4E3",
             "linecolor": "#C8D4E3",
             "minorgridcolor": "#C8D4E3",
             "startlinecolor": "#2a3f5f"
            },
            "baxis": {
             "endlinecolor": "#2a3f5f",
             "gridcolor": "#C8D4E3",
             "linecolor": "#C8D4E3",
             "minorgridcolor": "#C8D4E3",
             "startlinecolor": "#2a3f5f"
            },
            "type": "carpet"
           }
          ],
          "choropleth": [
           {
            "colorbar": {
             "outlinewidth": 0,
             "ticks": ""
            },
            "type": "choropleth"
           }
          ],
          "contour": [
           {
            "colorbar": {
             "outlinewidth": 0,
             "ticks": ""
            },
            "colorscale": [
             [
              0,
              "#0d0887"
             ],
             [
              0.1111111111111111,
              "#46039f"
             ],
             [
              0.2222222222222222,
              "#7201a8"
             ],
             [
              0.3333333333333333,
              "#9c179e"
             ],
             [
              0.4444444444444444,
              "#bd3786"
             ],
             [
              0.5555555555555556,
              "#d8576b"
             ],
             [
              0.6666666666666666,
              "#ed7953"
             ],
             [
              0.7777777777777778,
              "#fb9f3a"
             ],
             [
              0.8888888888888888,
              "#fdca26"
             ],
             [
              1,
              "#f0f921"
             ]
            ],
            "type": "contour"
           }
          ],
          "contourcarpet": [
           {
            "colorbar": {
             "outlinewidth": 0,
             "ticks": ""
            },
            "type": "contourcarpet"
           }
          ],
          "heatmap": [
           {
            "colorbar": {
             "outlinewidth": 0,
             "ticks": ""
            },
            "colorscale": [
             [
              0,
              "#0d0887"
             ],
             [
              0.1111111111111111,
              "#46039f"
             ],
             [
              0.2222222222222222,
              "#7201a8"
             ],
             [
              0.3333333333333333,
              "#9c179e"
             ],
             [
              0.4444444444444444,
              "#bd3786"
             ],
             [
              0.5555555555555556,
              "#d8576b"
             ],
             [
              0.6666666666666666,
              "#ed7953"
             ],
             [
              0.7777777777777778,
              "#fb9f3a"
             ],
             [
              0.8888888888888888,
              "#fdca26"
             ],
             [
              1,
              "#f0f921"
             ]
            ],
            "type": "heatmap"
           }
          ],
          "heatmapgl": [
           {
            "colorbar": {
             "outlinewidth": 0,
             "ticks": ""
            },
            "colorscale": [
             [
              0,
              "#0d0887"
             ],
             [
              0.1111111111111111,
              "#46039f"
             ],
             [
              0.2222222222222222,
              "#7201a8"
             ],
             [
              0.3333333333333333,
              "#9c179e"
             ],
             [
              0.4444444444444444,
              "#bd3786"
             ],
             [
              0.5555555555555556,
              "#d8576b"
             ],
             [
              0.6666666666666666,
              "#ed7953"
             ],
             [
              0.7777777777777778,
              "#fb9f3a"
             ],
             [
              0.8888888888888888,
              "#fdca26"
             ],
             [
              1,
              "#f0f921"
             ]
            ],
            "type": "heatmapgl"
           }
          ],
          "histogram": [
           {
            "marker": {
             "line": {
              "width": 1
             },
             "pattern": {
              "fillmode": "overlay",
              "size": 10,
              "solidity": 0.2
             }
            },
            "type": "histogram"
           }
          ],
          "histogram2d": [
           {
            "colorbar": {
             "outlinewidth": 0,
             "ticks": ""
            },
            "colorscale": [
             [
              0,
              "#0d0887"
             ],
             [
              0.1111111111111111,
              "#46039f"
             ],
             [
              0.2222222222222222,
              "#7201a8"
             ],
             [
              0.3333333333333333,
              "#9c179e"
             ],
             [
              0.4444444444444444,
              "#bd3786"
             ],
             [
              0.5555555555555556,
              "#d8576b"
             ],
             [
              0.6666666666666666,
              "#ed7953"
             ],
             [
              0.7777777777777778,
              "#fb9f3a"
             ],
             [
              0.8888888888888888,
              "#fdca26"
             ],
             [
              1,
              "#f0f921"
             ]
            ],
            "type": "histogram2d"
           }
          ],
          "histogram2dcontour": [
           {
            "colorbar": {
             "outlinewidth": 0,
             "ticks": ""
            },
            "colorscale": [
             [
              0,
              "#0d0887"
             ],
             [
              0.1111111111111111,
              "#46039f"
             ],
             [
              0.2222222222222222,
              "#7201a8"
             ],
             [
              0.3333333333333333,
              "#9c179e"
             ],
             [
              0.4444444444444444,
              "#bd3786"
             ],
             [
              0.5555555555555556,
              "#d8576b"
             ],
             [
              0.6666666666666666,
              "#ed7953"
             ],
             [
              0.7777777777777778,
              "#fb9f3a"
             ],
             [
              0.8888888888888888,
              "#fdca26"
             ],
             [
              1,
              "#f0f921"
             ]
            ],
            "type": "histogram2dcontour"
           }
          ],
          "mesh3d": [
           {
            "colorbar": {
             "outlinewidth": 0,
             "ticks": ""
            },
            "type": "mesh3d"
           }
          ],
          "parcoords": [
           {
            "line": {
             "colorbar": {
              "outlinewidth": 0,
              "ticks": ""
             }
            },
            "type": "parcoords"
           }
          ],
          "pie": [
           {
            "automargin": true,
            "type": "pie"
           }
          ],
          "scatter": [
           {
            "marker": {
             "colorbar": {
              "outlinewidth": 0,
              "ticks": ""
             },
             "opacity": 0.8
            },
            "type": "scatter"
           }
          ],
          "scatter3d": [
           {
            "line": {
             "colorbar": {
              "outlinewidth": 0,
              "ticks": ""
             }
            },
            "marker": {
             "colorbar": {
              "outlinewidth": 0,
              "ticks": ""
             },
             "opacity": 0.8
            },
            "type": "scatter3d"
           }
          ],
          "scattercarpet": [
           {
            "marker": {
             "colorbar": {
              "outlinewidth": 0,
              "ticks": ""
             }
            },
            "type": "scattercarpet"
           }
          ],
          "scattergeo": [
           {
            "marker": {
             "colorbar": {
              "outlinewidth": 0,
              "ticks": ""
             }
            },
            "type": "scattergeo"
           }
          ],
          "scattergl": [
           {
            "marker": {
             "colorbar": {
              "outlinewidth": 0,
              "ticks": ""
             }
            },
            "type": "scattergl"
           }
          ],
          "scattermapbox": [
           {
            "marker": {
             "colorbar": {
              "outlinewidth": 0,
              "ticks": ""
             }
            },
            "type": "scattermapbox"
           }
          ],
          "scatterpolar": [
           {
            "marker": {
             "colorbar": {
              "outlinewidth": 0,
              "ticks": ""
             }
            },
            "type": "scatterpolar"
           }
          ],
          "scatterpolargl": [
           {
            "marker": {
             "colorbar": {
              "outlinewidth": 0,
              "ticks": ""
             }
            },
            "type": "scatterpolargl"
           }
          ],
          "scatterternary": [
           {
            "marker": {
             "colorbar": {
              "outlinewidth": 0,
              "ticks": ""
             }
            },
            "type": "scatterternary"
           }
          ],
          "surface": [
           {
            "colorbar": {
             "outlinewidth": 0,
             "ticks": ""
            },
            "colorscale": [
             [
              0,
              "#0d0887"
             ],
             [
              0.1111111111111111,
              "#46039f"
             ],
             [
              0.2222222222222222,
              "#7201a8"
             ],
             [
              0.3333333333333333,
              "#9c179e"
             ],
             [
              0.4444444444444444,
              "#bd3786"
             ],
             [
              0.5555555555555556,
              "#d8576b"
             ],
             [
              0.6666666666666666,
              "#ed7953"
             ],
             [
              0.7777777777777778,
              "#fb9f3a"
             ],
             [
              0.8888888888888888,
              "#fdca26"
             ],
             [
              1,
              "#f0f921"
             ]
            ],
            "type": "surface"
           }
          ],
          "table": [
           {
            "cells": {
             "fill": {
              "color": "#EBF0F8"
             },
             "line": {
              "color": "white"
             }
            },
            "header": {
             "fill": {
              "color": "#C8D4E3"
             },
             "line": {
              "color": "white"
             }
            },
            "type": "table"
           }
          ]
         },
         "layout": {
          "annotationdefaults": {
           "arrowcolor": "#2a3f5f",
           "arrowhead": 0,
           "arrowwidth": 1
          },
          "autotypenumbers": "strict",
          "coloraxis": {
           "colorbar": {
            "outlinewidth": 0,
            "ticks": ""
           }
          },
          "colorscale": {
           "diverging": [
            [
             0,
             "#8e0152"
            ],
            [
             0.1,
             "#c51b7d"
            ],
            [
             0.2,
             "#de77ae"
            ],
            [
             0.3,
             "#f1b6da"
            ],
            [
             0.4,
             "#fde0ef"
            ],
            [
             0.5,
             "#f7f7f7"
            ],
            [
             0.6,
             "#e6f5d0"
            ],
            [
             0.7,
             "#b8e186"
            ],
            [
             0.8,
             "#7fbc41"
            ],
            [
             0.9,
             "#4d9221"
            ],
            [
             1,
             "#276419"
            ]
           ],
           "sequential": [
            [
             0,
             "#0d0887"
            ],
            [
             0.1111111111111111,
             "#46039f"
            ],
            [
             0.2222222222222222,
             "#7201a8"
            ],
            [
             0.3333333333333333,
             "#9c179e"
            ],
            [
             0.4444444444444444,
             "#bd3786"
            ],
            [
             0.5555555555555556,
             "#d8576b"
            ],
            [
             0.6666666666666666,
             "#ed7953"
            ],
            [
             0.7777777777777778,
             "#fb9f3a"
            ],
            [
             0.8888888888888888,
             "#fdca26"
            ],
            [
             1,
             "#f0f921"
            ]
           ],
           "sequentialminus": [
            [
             0,
             "#0d0887"
            ],
            [
             0.1111111111111111,
             "#46039f"
            ],
            [
             0.2222222222222222,
             "#7201a8"
            ],
            [
             0.3333333333333333,
             "#9c179e"
            ],
            [
             0.4444444444444444,
             "#bd3786"
            ],
            [
             0.5555555555555556,
             "#d8576b"
            ],
            [
             0.6666666666666666,
             "#ed7953"
            ],
            [
             0.7777777777777778,
             "#fb9f3a"
            ],
            [
             0.8888888888888888,
             "#fdca26"
            ],
            [
             1,
             "#f0f921"
            ]
           ]
          },
          "colorway": [
           "#636efa",
           "#EF553B",
           "#00cc96",
           "#ab63fa",
           "#FFA15A",
           "#19d3f3",
           "#FF6692",
           "#B6E880",
           "#FF97FF",
           "#FECB52"
          ],
          "font": {
           "color": "#2a3f5f"
          },
          "geo": {
           "bgcolor": "white",
           "lakecolor": "white",
           "landcolor": "white",
           "showlakes": true,
           "showland": true,
           "subunitcolor": "#C8D4E3"
          },
          "height": 400,
          "hoverlabel": {
           "align": "left"
          },
          "hovermode": "closest",
          "mapbox": {
           "style": "light"
          },
          "margin": {
           "b": 2,
           "l": 2,
           "r": 2,
           "t": 30
          },
          "paper_bgcolor": "white",
          "plot_bgcolor": "white",
          "polar": {
           "angularaxis": {
            "gridcolor": "#EBF0F8",
            "linecolor": "#EBF0F8",
            "ticks": ""
           },
           "bgcolor": "white",
           "radialaxis": {
            "gridcolor": "#EBF0F8",
            "linecolor": "#EBF0F8",
            "ticks": ""
           }
          },
          "scene": {
           "camera": {
            "eye": {
             "x": 1.5,
             "y": 1.5,
             "z": 0.1
            }
           },
           "xaxis": {
            "backgroundcolor": "white",
            "gridcolor": "#DFE8F3",
            "gridwidth": 2,
            "linecolor": "#EBF0F8",
            "showbackground": true,
            "ticks": "",
            "zerolinecolor": "#EBF0F8"
           },
           "yaxis": {
            "backgroundcolor": "white",
            "gridcolor": "#DFE8F3",
            "gridwidth": 2,
            "linecolor": "#EBF0F8",
            "showbackground": true,
            "ticks": "",
            "zerolinecolor": "#EBF0F8"
           },
           "zaxis": {
            "backgroundcolor": "white",
            "gridcolor": "#DFE8F3",
            "gridwidth": 2,
            "linecolor": "#EBF0F8",
            "showbackground": true,
            "ticks": "",
            "zerolinecolor": "#EBF0F8"
           }
          },
          "shapedefaults": {
           "line": {
            "color": "#2a3f5f"
           }
          },
          "ternary": {
           "aaxis": {
            "gridcolor": "#DFE8F3",
            "linecolor": "#A2B1C6",
            "ticks": ""
           },
           "baxis": {
            "gridcolor": "#DFE8F3",
            "linecolor": "#A2B1C6",
            "ticks": ""
           },
           "bgcolor": "white",
           "caxis": {
            "gridcolor": "#DFE8F3",
            "linecolor": "#A2B1C6",
            "ticks": ""
           }
          },
          "title": {
           "x": 0.5
          },
          "xaxis": {
           "automargin": true,
           "gridcolor": "#EBF0F8",
           "linecolor": "#EBF0F8",
           "linewidth": 2,
           "showline": true,
           "ticks": "",
           "title": {
            "standoff": 15
           },
           "zerolinecolor": "#EBF0F8",
           "zerolinewidth": 2
          },
          "yaxis": {
           "automargin": true,
           "gridcolor": "#EBF0F8",
           "linecolor": "#EBF0F8",
           "linewidth": 2,
           "showline": true,
           "ticks": "",
           "title": {
            "standoff": 15
           },
           "zerolinecolor": "#EBF0F8",
           "zerolinewidth": 2
          }
         }
        },
        "xaxis": {
         "anchor": "y",
         "domain": [
          0,
          1
         ],
         "title": {
          "text": "attended training"
         }
        },
        "yaxis": {
         "anchor": "x",
         "domain": [
          0,
          1
         ],
         "title": {
          "text": "core temperature"
         }
        }
       }
      },
      "text/html": [
       "<div>                            <div id=\"c1506830-1c04-4440-8a1b-be2f620ed28e\" class=\"plotly-graph-div\" style=\"height:400px; width:100%;\"></div>            <script type=\"text/javascript\">                require([\"plotly\"], function(Plotly) {                    window.PLOTLYENV=window.PLOTLYENV || {};                                    if (document.getElementById(\"c1506830-1c04-4440-8a1b-be2f620ed28e\")) {                    Plotly.newPlot(                        \"c1506830-1c04-4440-8a1b-be2f620ed28e\",                        [{\"alignmentgroup\":\"True\",\"hovertemplate\":\"attended training=%{x}<br>core temperature=%{y}<extra></extra>\",\"legendgroup\":\"\",\"marker\":{\"color\":\"#636efa\"},\"name\":\"\",\"notched\":false,\"offsetgroup\":\"\",\"orientation\":\"v\",\"showlegend\":false,\"type\":\"box\",\"x\":[1,1,1,0,0,1,1,0,0,1,0,0,1,1,1,0,1,1,0,0,0,0,1,0,0,1,0,0,1,1,0,1,1,1,1,0,1,1,0,0,1,0,0,1,0,0,1,0,0,0,0,1,1,1,0,1,1,1,1,1,1,0,1,0,1,1,1,0,0,0,1,1,0,1,0,1,1,1,0,1,0,1,0,1,1,0,1,0,1,0,0,0,0,0,0,0,0,1],\"x0\":\" \",\"xaxis\":\"x\",\"y\":[38.42316895,39.01599822,39.14834088,39.06004863,38.65543905,38.6092188,39.47390806,38.81521612,37.77845286,39.17685034,39.52090819,38.57896943,38.28013391,38.40158039,38.65157641,39.61720308,37.72843549,39.36694049,37.98848685,39.93405104,37.60559023,38.83468198,37.39892664,38.98633063,39.72456882,38.09695504,37.59597881,39.49731323,38.50187636,38.27036031,38.69964224,39.08411118,38.29400364,38.39872285,39.29951536,38.37598649,38.46968433,39.58561173,38.12682317,39.80156649,37.92682179,39.67264697,38.21409556,38.93217418,37.80121676,37.52097889,39.34942824,38.9163822,38.72595498,38.35421436,40.17337876,39.48214424,39.9557292,39.02529641,39.70565695,37.87210056,38.92730588,38.75694066,38.98157028,39.07020183,39.31023381,40.26487847,39.19531025,37.46606804,38.61929591,39.74308443,37.9590829,38.52387016,39.58821189,39.48780846,37.32113362,38.30311301,39.32598796,38.18373964,37.78518905,38.97361387,37.97719515,38.92654301,37.98922316,39.87010492,38.51344083,39.14710639,38.61129304,38.95232638,37.46812464,38.24131363,38.7661591,39.87233432,38.87492299,39.09337261,39.00124171,39.25963687,38.6808734,37.93994229,38.79042609,39.48996228,38.57574159,39.76644658],\"y0\":\" \",\"yaxis\":\"y\"}],                        {\"boxmode\":\"group\",\"legend\":{\"tracegroupgap\":0},\"template\":{\"data\":{\"bar\":[{\"error_x\":{\"color\":\"#2a3f5f\"},\"error_y\":{\"color\":\"#2a3f5f\"},\"marker\":{\"line\":{\"color\":\"white\",\"width\":0.5},\"pattern\":{\"fillmode\":\"overlay\",\"size\":10,\"solidity\":0.2}},\"type\":\"bar\"}],\"barpolar\":[{\"marker\":{\"line\":{\"color\":\"white\",\"width\":0.5},\"pattern\":{\"fillmode\":\"overlay\",\"size\":10,\"solidity\":0.2}},\"type\":\"barpolar\"}],\"box\":[{\"boxpoints\":\"outliers\",\"notched\":false,\"type\":\"box\"}],\"carpet\":[{\"aaxis\":{\"endlinecolor\":\"#2a3f5f\",\"gridcolor\":\"#C8D4E3\",\"linecolor\":\"#C8D4E3\",\"minorgridcolor\":\"#C8D4E3\",\"startlinecolor\":\"#2a3f5f\"},\"baxis\":{\"endlinecolor\":\"#2a3f5f\",\"gridcolor\":\"#C8D4E3\",\"linecolor\":\"#C8D4E3\",\"minorgridcolor\":\"#C8D4E3\",\"startlinecolor\":\"#2a3f5f\"},\"type\":\"carpet\"}],\"choropleth\":[{\"colorbar\":{\"outlinewidth\":0,\"ticks\":\"\"},\"type\":\"choropleth\"}],\"contour\":[{\"colorbar\":{\"outlinewidth\":0,\"ticks\":\"\"},\"colorscale\":[[0.0,\"#0d0887\"],[0.1111111111111111,\"#46039f\"],[0.2222222222222222,\"#7201a8\"],[0.3333333333333333,\"#9c179e\"],[0.4444444444444444,\"#bd3786\"],[0.5555555555555556,\"#d8576b\"],[0.6666666666666666,\"#ed7953\"],[0.7777777777777778,\"#fb9f3a\"],[0.8888888888888888,\"#fdca26\"],[1.0,\"#f0f921\"]],\"type\":\"contour\"}],\"contourcarpet\":[{\"colorbar\":{\"outlinewidth\":0,\"ticks\":\"\"},\"type\":\"contourcarpet\"}],\"heatmap\":[{\"colorbar\":{\"outlinewidth\":0,\"ticks\":\"\"},\"colorscale\":[[0.0,\"#0d0887\"],[0.1111111111111111,\"#46039f\"],[0.2222222222222222,\"#7201a8\"],[0.3333333333333333,\"#9c179e\"],[0.4444444444444444,\"#bd3786\"],[0.5555555555555556,\"#d8576b\"],[0.6666666666666666,\"#ed7953\"],[0.7777777777777778,\"#fb9f3a\"],[0.8888888888888888,\"#fdca26\"],[1.0,\"#f0f921\"]],\"type\":\"heatmap\"}],\"heatmapgl\":[{\"colorbar\":{\"outlinewidth\":0,\"ticks\":\"\"},\"colorscale\":[[0.0,\"#0d0887\"],[0.1111111111111111,\"#46039f\"],[0.2222222222222222,\"#7201a8\"],[0.3333333333333333,\"#9c179e\"],[0.4444444444444444,\"#bd3786\"],[0.5555555555555556,\"#d8576b\"],[0.6666666666666666,\"#ed7953\"],[0.7777777777777778,\"#fb9f3a\"],[0.8888888888888888,\"#fdca26\"],[1.0,\"#f0f921\"]],\"type\":\"heatmapgl\"}],\"histogram\":[{\"marker\":{\"line\":{\"width\":1},\"pattern\":{\"fillmode\":\"overlay\",\"size\":10,\"solidity\":0.2}},\"type\":\"histogram\"}],\"histogram2d\":[{\"colorbar\":{\"outlinewidth\":0,\"ticks\":\"\"},\"colorscale\":[[0.0,\"#0d0887\"],[0.1111111111111111,\"#46039f\"],[0.2222222222222222,\"#7201a8\"],[0.3333333333333333,\"#9c179e\"],[0.4444444444444444,\"#bd3786\"],[0.5555555555555556,\"#d8576b\"],[0.6666666666666666,\"#ed7953\"],[0.7777777777777778,\"#fb9f3a\"],[0.8888888888888888,\"#fdca26\"],[1.0,\"#f0f921\"]],\"type\":\"histogram2d\"}],\"histogram2dcontour\":[{\"colorbar\":{\"outlinewidth\":0,\"ticks\":\"\"},\"colorscale\":[[0.0,\"#0d0887\"],[0.1111111111111111,\"#46039f\"],[0.2222222222222222,\"#7201a8\"],[0.3333333333333333,\"#9c179e\"],[0.4444444444444444,\"#bd3786\"],[0.5555555555555556,\"#d8576b\"],[0.6666666666666666,\"#ed7953\"],[0.7777777777777778,\"#fb9f3a\"],[0.8888888888888888,\"#fdca26\"],[1.0,\"#f0f921\"]],\"type\":\"histogram2dcontour\"}],\"mesh3d\":[{\"colorbar\":{\"outlinewidth\":0,\"ticks\":\"\"},\"type\":\"mesh3d\"}],\"parcoords\":[{\"line\":{\"colorbar\":{\"outlinewidth\":0,\"ticks\":\"\"}},\"type\":\"parcoords\"}],\"pie\":[{\"automargin\":true,\"type\":\"pie\"}],\"scatter\":[{\"marker\":{\"colorbar\":{\"outlinewidth\":0,\"ticks\":\"\"},\"opacity\":0.8},\"type\":\"scatter\"}],\"scatter3d\":[{\"line\":{\"colorbar\":{\"outlinewidth\":0,\"ticks\":\"\"}},\"marker\":{\"colorbar\":{\"outlinewidth\":0,\"ticks\":\"\"},\"opacity\":0.8},\"type\":\"scatter3d\"}],\"scattercarpet\":[{\"marker\":{\"colorbar\":{\"outlinewidth\":0,\"ticks\":\"\"}},\"type\":\"scattercarpet\"}],\"scattergeo\":[{\"marker\":{\"colorbar\":{\"outlinewidth\":0,\"ticks\":\"\"}},\"type\":\"scattergeo\"}],\"scattergl\":[{\"marker\":{\"colorbar\":{\"outlinewidth\":0,\"ticks\":\"\"}},\"type\":\"scattergl\"}],\"scattermapbox\":[{\"marker\":{\"colorbar\":{\"outlinewidth\":0,\"ticks\":\"\"}},\"type\":\"scattermapbox\"}],\"scatterpolar\":[{\"marker\":{\"colorbar\":{\"outlinewidth\":0,\"ticks\":\"\"}},\"type\":\"scatterpolar\"}],\"scatterpolargl\":[{\"marker\":{\"colorbar\":{\"outlinewidth\":0,\"ticks\":\"\"}},\"type\":\"scatterpolargl\"}],\"scatterternary\":[{\"marker\":{\"colorbar\":{\"outlinewidth\":0,\"ticks\":\"\"}},\"type\":\"scatterternary\"}],\"surface\":[{\"colorbar\":{\"outlinewidth\":0,\"ticks\":\"\"},\"colorscale\":[[0.0,\"#0d0887\"],[0.1111111111111111,\"#46039f\"],[0.2222222222222222,\"#7201a8\"],[0.3333333333333333,\"#9c179e\"],[0.4444444444444444,\"#bd3786\"],[0.5555555555555556,\"#d8576b\"],[0.6666666666666666,\"#ed7953\"],[0.7777777777777778,\"#fb9f3a\"],[0.8888888888888888,\"#fdca26\"],[1.0,\"#f0f921\"]],\"type\":\"surface\"}],\"table\":[{\"cells\":{\"fill\":{\"color\":\"#EBF0F8\"},\"line\":{\"color\":\"white\"}},\"header\":{\"fill\":{\"color\":\"#C8D4E3\"},\"line\":{\"color\":\"white\"}},\"type\":\"table\"}]},\"layout\":{\"annotationdefaults\":{\"arrowcolor\":\"#2a3f5f\",\"arrowhead\":0,\"arrowwidth\":1},\"autotypenumbers\":\"strict\",\"coloraxis\":{\"colorbar\":{\"outlinewidth\":0,\"ticks\":\"\"}},\"colorscale\":{\"diverging\":[[0,\"#8e0152\"],[0.1,\"#c51b7d\"],[0.2,\"#de77ae\"],[0.3,\"#f1b6da\"],[0.4,\"#fde0ef\"],[0.5,\"#f7f7f7\"],[0.6,\"#e6f5d0\"],[0.7,\"#b8e186\"],[0.8,\"#7fbc41\"],[0.9,\"#4d9221\"],[1,\"#276419\"]],\"sequential\":[[0.0,\"#0d0887\"],[0.1111111111111111,\"#46039f\"],[0.2222222222222222,\"#7201a8\"],[0.3333333333333333,\"#9c179e\"],[0.4444444444444444,\"#bd3786\"],[0.5555555555555556,\"#d8576b\"],[0.6666666666666666,\"#ed7953\"],[0.7777777777777778,\"#fb9f3a\"],[0.8888888888888888,\"#fdca26\"],[1.0,\"#f0f921\"]],\"sequentialminus\":[[0.0,\"#0d0887\"],[0.1111111111111111,\"#46039f\"],[0.2222222222222222,\"#7201a8\"],[0.3333333333333333,\"#9c179e\"],[0.4444444444444444,\"#bd3786\"],[0.5555555555555556,\"#d8576b\"],[0.6666666666666666,\"#ed7953\"],[0.7777777777777778,\"#fb9f3a\"],[0.8888888888888888,\"#fdca26\"],[1.0,\"#f0f921\"]]},\"colorway\":[\"#636efa\",\"#EF553B\",\"#00cc96\",\"#ab63fa\",\"#FFA15A\",\"#19d3f3\",\"#FF6692\",\"#B6E880\",\"#FF97FF\",\"#FECB52\"],\"font\":{\"color\":\"#2a3f5f\"},\"geo\":{\"bgcolor\":\"white\",\"lakecolor\":\"white\",\"landcolor\":\"white\",\"showlakes\":true,\"showland\":true,\"subunitcolor\":\"#C8D4E3\"},\"height\":400,\"hoverlabel\":{\"align\":\"left\"},\"hovermode\":\"closest\",\"mapbox\":{\"style\":\"light\"},\"margin\":{\"b\":2,\"l\":2,\"r\":2,\"t\":30},\"paper_bgcolor\":\"white\",\"plot_bgcolor\":\"white\",\"polar\":{\"angularaxis\":{\"gridcolor\":\"#EBF0F8\",\"linecolor\":\"#EBF0F8\",\"ticks\":\"\"},\"bgcolor\":\"white\",\"radialaxis\":{\"gridcolor\":\"#EBF0F8\",\"linecolor\":\"#EBF0F8\",\"ticks\":\"\"}},\"scene\":{\"camera\":{\"eye\":{\"x\":1.5,\"y\":1.5,\"z\":0.1}},\"xaxis\":{\"backgroundcolor\":\"white\",\"gridcolor\":\"#DFE8F3\",\"gridwidth\":2,\"linecolor\":\"#EBF0F8\",\"showbackground\":true,\"ticks\":\"\",\"zerolinecolor\":\"#EBF0F8\"},\"yaxis\":{\"backgroundcolor\":\"white\",\"gridcolor\":\"#DFE8F3\",\"gridwidth\":2,\"linecolor\":\"#EBF0F8\",\"showbackground\":true,\"ticks\":\"\",\"zerolinecolor\":\"#EBF0F8\"},\"zaxis\":{\"backgroundcolor\":\"white\",\"gridcolor\":\"#DFE8F3\",\"gridwidth\":2,\"linecolor\":\"#EBF0F8\",\"showbackground\":true,\"ticks\":\"\",\"zerolinecolor\":\"#EBF0F8\"}},\"shapedefaults\":{\"line\":{\"color\":\"#2a3f5f\"}},\"ternary\":{\"aaxis\":{\"gridcolor\":\"#DFE8F3\",\"linecolor\":\"#A2B1C6\",\"ticks\":\"\"},\"baxis\":{\"gridcolor\":\"#DFE8F3\",\"linecolor\":\"#A2B1C6\",\"ticks\":\"\"},\"bgcolor\":\"white\",\"caxis\":{\"gridcolor\":\"#DFE8F3\",\"linecolor\":\"#A2B1C6\",\"ticks\":\"\"}},\"title\":{\"x\":0.5},\"xaxis\":{\"automargin\":true,\"gridcolor\":\"#EBF0F8\",\"linecolor\":\"#EBF0F8\",\"linewidth\":2,\"showline\":true,\"ticks\":\"\",\"title\":{\"standoff\":15},\"zerolinecolor\":\"#EBF0F8\",\"zerolinewidth\":2},\"yaxis\":{\"automargin\":true,\"gridcolor\":\"#EBF0F8\",\"linecolor\":\"#EBF0F8\",\"linewidth\":2,\"showline\":true,\"ticks\":\"\",\"title\":{\"standoff\":15},\"zerolinecolor\":\"#EBF0F8\",\"zerolinewidth\":2}}},\"xaxis\":{\"anchor\":\"y\",\"domain\":[0.0,1.0],\"title\":{\"text\":\"attended training\"}},\"yaxis\":{\"anchor\":\"x\",\"domain\":[0.0,1.0],\"title\":{\"text\":\"core temperature\"}}},                        {\"responsive\": true}                    ).then(function(){\n",
       "                            \n",
       "var gd = document.getElementById('c1506830-1c04-4440-8a1b-be2f620ed28e');\n",
       "var x = new MutationObserver(function (mutations, observer) {{\n",
       "        var display = window.getComputedStyle(gd).display;\n",
       "        if (!display || display === 'none') {{\n",
       "            console.log([gd, 'removed!']);\n",
       "            Plotly.purge(gd);\n",
       "            observer.disconnect();\n",
       "        }}\n",
       "}});\n",
       "\n",
       "// Listen for the removal of the full notebook cells\n",
       "var notebookContainer = gd.closest('#notebook-container');\n",
       "if (notebookContainer) {{\n",
       "    x.observe(notebookContainer, {childList: true});\n",
       "}}\n",
       "\n",
       "// Listen for the clearing of the current output cell\n",
       "var outputEl = gd.closest('.output');\n",
       "if (outputEl) {{\n",
       "    x.observe(outputEl, {childList: true});\n",
       "}}\n",
       "\n",
       "                        })                };                });            </script>        </div>"
      ]
     },
     "metadata": {},
     "output_type": "display_data"
    },
    {
     "data": {
      "application/vnd.plotly.v1+json": {
       "config": {
        "plotlyServerURL": "https://plot.ly"
       },
       "data": [
        {
         "alignmentgroup": "True",
         "hovertemplate": "ate at tonys steakhouse=%{x}<br>core temperature=%{y}<extra></extra>",
         "legendgroup": "",
         "marker": {
          "color": "#636efa"
         },
         "name": "",
         "notched": false,
         "offsetgroup": "",
         "orientation": "v",
         "showlegend": false,
         "type": "box",
         "x": [
          0,
          0,
          0,
          0,
          0,
          0,
          1,
          0,
          0,
          1,
          1,
          0,
          1,
          1,
          1,
          0,
          1,
          0,
          0,
          1,
          0,
          1,
          1,
          1,
          0,
          0,
          1,
          1,
          0,
          0,
          1,
          0,
          1,
          1,
          1,
          0,
          1,
          0,
          1,
          1,
          1,
          1,
          1,
          0,
          1,
          1,
          1,
          1,
          1,
          1,
          1,
          1,
          1,
          1,
          1,
          0,
          1,
          1,
          1,
          0,
          1,
          0,
          1,
          0,
          1,
          1,
          1,
          1,
          0,
          0,
          1,
          0,
          1,
          0,
          1,
          0,
          0,
          0,
          0,
          1,
          1,
          1,
          1,
          0,
          1,
          1,
          1,
          0,
          1,
          1,
          0,
          1,
          1,
          0,
          1,
          0,
          1,
          1
         ],
         "x0": " ",
         "xaxis": "x",
         "y": [
          38.42316895,
          39.01599822,
          39.14834088,
          39.06004863,
          38.65543905,
          38.6092188,
          39.47390806,
          38.81521612,
          37.77845286,
          39.17685034,
          39.52090819,
          38.57896943,
          38.28013391,
          38.40158039,
          38.65157641,
          39.61720308,
          37.72843549,
          39.36694049,
          37.98848685,
          39.93405104,
          37.60559023,
          38.83468198,
          37.39892664,
          38.98633063,
          39.72456882,
          38.09695504,
          37.59597881,
          39.49731323,
          38.50187636,
          38.27036031,
          38.69964224,
          39.08411118,
          38.29400364,
          38.39872285,
          39.29951536,
          38.37598649,
          38.46968433,
          39.58561173,
          38.12682317,
          39.80156649,
          37.92682179,
          39.67264697,
          38.21409556,
          38.93217418,
          37.80121676,
          37.52097889,
          39.34942824,
          38.9163822,
          38.72595498,
          38.35421436,
          40.17337876,
          39.48214424,
          39.9557292,
          39.02529641,
          39.70565695,
          37.87210056,
          38.92730588,
          38.75694066,
          38.98157028,
          39.07020183,
          39.31023381,
          40.26487847,
          39.19531025,
          37.46606804,
          38.61929591,
          39.74308443,
          37.9590829,
          38.52387016,
          39.58821189,
          39.48780846,
          37.32113362,
          38.30311301,
          39.32598796,
          38.18373964,
          37.78518905,
          38.97361387,
          37.97719515,
          38.92654301,
          37.98922316,
          39.87010492,
          38.51344083,
          39.14710639,
          38.61129304,
          38.95232638,
          37.46812464,
          38.24131363,
          38.7661591,
          39.87233432,
          38.87492299,
          39.09337261,
          39.00124171,
          39.25963687,
          38.6808734,
          37.93994229,
          38.79042609,
          39.48996228,
          38.57574159,
          39.76644658
         ],
         "y0": " ",
         "yaxis": "y"
        }
       ],
       "layout": {
        "boxmode": "group",
        "legend": {
         "tracegroupgap": 0
        },
        "template": {
         "data": {
          "bar": [
           {
            "error_x": {
             "color": "#2a3f5f"
            },
            "error_y": {
             "color": "#2a3f5f"
            },
            "marker": {
             "line": {
              "color": "white",
              "width": 0.5
             },
             "pattern": {
              "fillmode": "overlay",
              "size": 10,
              "solidity": 0.2
             }
            },
            "type": "bar"
           }
          ],
          "barpolar": [
           {
            "marker": {
             "line": {
              "color": "white",
              "width": 0.5
             },
             "pattern": {
              "fillmode": "overlay",
              "size": 10,
              "solidity": 0.2
             }
            },
            "type": "barpolar"
           }
          ],
          "box": [
           {
            "boxpoints": "outliers",
            "notched": false,
            "type": "box"
           }
          ],
          "carpet": [
           {
            "aaxis": {
             "endlinecolor": "#2a3f5f",
             "gridcolor": "#C8D4E3",
             "linecolor": "#C8D4E3",
             "minorgridcolor": "#C8D4E3",
             "startlinecolor": "#2a3f5f"
            },
            "baxis": {
             "endlinecolor": "#2a3f5f",
             "gridcolor": "#C8D4E3",
             "linecolor": "#C8D4E3",
             "minorgridcolor": "#C8D4E3",
             "startlinecolor": "#2a3f5f"
            },
            "type": "carpet"
           }
          ],
          "choropleth": [
           {
            "colorbar": {
             "outlinewidth": 0,
             "ticks": ""
            },
            "type": "choropleth"
           }
          ],
          "contour": [
           {
            "colorbar": {
             "outlinewidth": 0,
             "ticks": ""
            },
            "colorscale": [
             [
              0,
              "#0d0887"
             ],
             [
              0.1111111111111111,
              "#46039f"
             ],
             [
              0.2222222222222222,
              "#7201a8"
             ],
             [
              0.3333333333333333,
              "#9c179e"
             ],
             [
              0.4444444444444444,
              "#bd3786"
             ],
             [
              0.5555555555555556,
              "#d8576b"
             ],
             [
              0.6666666666666666,
              "#ed7953"
             ],
             [
              0.7777777777777778,
              "#fb9f3a"
             ],
             [
              0.8888888888888888,
              "#fdca26"
             ],
             [
              1,
              "#f0f921"
             ]
            ],
            "type": "contour"
           }
          ],
          "contourcarpet": [
           {
            "colorbar": {
             "outlinewidth": 0,
             "ticks": ""
            },
            "type": "contourcarpet"
           }
          ],
          "heatmap": [
           {
            "colorbar": {
             "outlinewidth": 0,
             "ticks": ""
            },
            "colorscale": [
             [
              0,
              "#0d0887"
             ],
             [
              0.1111111111111111,
              "#46039f"
             ],
             [
              0.2222222222222222,
              "#7201a8"
             ],
             [
              0.3333333333333333,
              "#9c179e"
             ],
             [
              0.4444444444444444,
              "#bd3786"
             ],
             [
              0.5555555555555556,
              "#d8576b"
             ],
             [
              0.6666666666666666,
              "#ed7953"
             ],
             [
              0.7777777777777778,
              "#fb9f3a"
             ],
             [
              0.8888888888888888,
              "#fdca26"
             ],
             [
              1,
              "#f0f921"
             ]
            ],
            "type": "heatmap"
           }
          ],
          "heatmapgl": [
           {
            "colorbar": {
             "outlinewidth": 0,
             "ticks": ""
            },
            "colorscale": [
             [
              0,
              "#0d0887"
             ],
             [
              0.1111111111111111,
              "#46039f"
             ],
             [
              0.2222222222222222,
              "#7201a8"
             ],
             [
              0.3333333333333333,
              "#9c179e"
             ],
             [
              0.4444444444444444,
              "#bd3786"
             ],
             [
              0.5555555555555556,
              "#d8576b"
             ],
             [
              0.6666666666666666,
              "#ed7953"
             ],
             [
              0.7777777777777778,
              "#fb9f3a"
             ],
             [
              0.8888888888888888,
              "#fdca26"
             ],
             [
              1,
              "#f0f921"
             ]
            ],
            "type": "heatmapgl"
           }
          ],
          "histogram": [
           {
            "marker": {
             "line": {
              "width": 1
             },
             "pattern": {
              "fillmode": "overlay",
              "size": 10,
              "solidity": 0.2
             }
            },
            "type": "histogram"
           }
          ],
          "histogram2d": [
           {
            "colorbar": {
             "outlinewidth": 0,
             "ticks": ""
            },
            "colorscale": [
             [
              0,
              "#0d0887"
             ],
             [
              0.1111111111111111,
              "#46039f"
             ],
             [
              0.2222222222222222,
              "#7201a8"
             ],
             [
              0.3333333333333333,
              "#9c179e"
             ],
             [
              0.4444444444444444,
              "#bd3786"
             ],
             [
              0.5555555555555556,
              "#d8576b"
             ],
             [
              0.6666666666666666,
              "#ed7953"
             ],
             [
              0.7777777777777778,
              "#fb9f3a"
             ],
             [
              0.8888888888888888,
              "#fdca26"
             ],
             [
              1,
              "#f0f921"
             ]
            ],
            "type": "histogram2d"
           }
          ],
          "histogram2dcontour": [
           {
            "colorbar": {
             "outlinewidth": 0,
             "ticks": ""
            },
            "colorscale": [
             [
              0,
              "#0d0887"
             ],
             [
              0.1111111111111111,
              "#46039f"
             ],
             [
              0.2222222222222222,
              "#7201a8"
             ],
             [
              0.3333333333333333,
              "#9c179e"
             ],
             [
              0.4444444444444444,
              "#bd3786"
             ],
             [
              0.5555555555555556,
              "#d8576b"
             ],
             [
              0.6666666666666666,
              "#ed7953"
             ],
             [
              0.7777777777777778,
              "#fb9f3a"
             ],
             [
              0.8888888888888888,
              "#fdca26"
             ],
             [
              1,
              "#f0f921"
             ]
            ],
            "type": "histogram2dcontour"
           }
          ],
          "mesh3d": [
           {
            "colorbar": {
             "outlinewidth": 0,
             "ticks": ""
            },
            "type": "mesh3d"
           }
          ],
          "parcoords": [
           {
            "line": {
             "colorbar": {
              "outlinewidth": 0,
              "ticks": ""
             }
            },
            "type": "parcoords"
           }
          ],
          "pie": [
           {
            "automargin": true,
            "type": "pie"
           }
          ],
          "scatter": [
           {
            "marker": {
             "colorbar": {
              "outlinewidth": 0,
              "ticks": ""
             },
             "opacity": 0.8
            },
            "type": "scatter"
           }
          ],
          "scatter3d": [
           {
            "line": {
             "colorbar": {
              "outlinewidth": 0,
              "ticks": ""
             }
            },
            "marker": {
             "colorbar": {
              "outlinewidth": 0,
              "ticks": ""
             },
             "opacity": 0.8
            },
            "type": "scatter3d"
           }
          ],
          "scattercarpet": [
           {
            "marker": {
             "colorbar": {
              "outlinewidth": 0,
              "ticks": ""
             }
            },
            "type": "scattercarpet"
           }
          ],
          "scattergeo": [
           {
            "marker": {
             "colorbar": {
              "outlinewidth": 0,
              "ticks": ""
             }
            },
            "type": "scattergeo"
           }
          ],
          "scattergl": [
           {
            "marker": {
             "colorbar": {
              "outlinewidth": 0,
              "ticks": ""
             }
            },
            "type": "scattergl"
           }
          ],
          "scattermapbox": [
           {
            "marker": {
             "colorbar": {
              "outlinewidth": 0,
              "ticks": ""
             }
            },
            "type": "scattermapbox"
           }
          ],
          "scatterpolar": [
           {
            "marker": {
             "colorbar": {
              "outlinewidth": 0,
              "ticks": ""
             }
            },
            "type": "scatterpolar"
           }
          ],
          "scatterpolargl": [
           {
            "marker": {
             "colorbar": {
              "outlinewidth": 0,
              "ticks": ""
             }
            },
            "type": "scatterpolargl"
           }
          ],
          "scatterternary": [
           {
            "marker": {
             "colorbar": {
              "outlinewidth": 0,
              "ticks": ""
             }
            },
            "type": "scatterternary"
           }
          ],
          "surface": [
           {
            "colorbar": {
             "outlinewidth": 0,
             "ticks": ""
            },
            "colorscale": [
             [
              0,
              "#0d0887"
             ],
             [
              0.1111111111111111,
              "#46039f"
             ],
             [
              0.2222222222222222,
              "#7201a8"
             ],
             [
              0.3333333333333333,
              "#9c179e"
             ],
             [
              0.4444444444444444,
              "#bd3786"
             ],
             [
              0.5555555555555556,
              "#d8576b"
             ],
             [
              0.6666666666666666,
              "#ed7953"
             ],
             [
              0.7777777777777778,
              "#fb9f3a"
             ],
             [
              0.8888888888888888,
              "#fdca26"
             ],
             [
              1,
              "#f0f921"
             ]
            ],
            "type": "surface"
           }
          ],
          "table": [
           {
            "cells": {
             "fill": {
              "color": "#EBF0F8"
             },
             "line": {
              "color": "white"
             }
            },
            "header": {
             "fill": {
              "color": "#C8D4E3"
             },
             "line": {
              "color": "white"
             }
            },
            "type": "table"
           }
          ]
         },
         "layout": {
          "annotationdefaults": {
           "arrowcolor": "#2a3f5f",
           "arrowhead": 0,
           "arrowwidth": 1
          },
          "autotypenumbers": "strict",
          "coloraxis": {
           "colorbar": {
            "outlinewidth": 0,
            "ticks": ""
           }
          },
          "colorscale": {
           "diverging": [
            [
             0,
             "#8e0152"
            ],
            [
             0.1,
             "#c51b7d"
            ],
            [
             0.2,
             "#de77ae"
            ],
            [
             0.3,
             "#f1b6da"
            ],
            [
             0.4,
             "#fde0ef"
            ],
            [
             0.5,
             "#f7f7f7"
            ],
            [
             0.6,
             "#e6f5d0"
            ],
            [
             0.7,
             "#b8e186"
            ],
            [
             0.8,
             "#7fbc41"
            ],
            [
             0.9,
             "#4d9221"
            ],
            [
             1,
             "#276419"
            ]
           ],
           "sequential": [
            [
             0,
             "#0d0887"
            ],
            [
             0.1111111111111111,
             "#46039f"
            ],
            [
             0.2222222222222222,
             "#7201a8"
            ],
            [
             0.3333333333333333,
             "#9c179e"
            ],
            [
             0.4444444444444444,
             "#bd3786"
            ],
            [
             0.5555555555555556,
             "#d8576b"
            ],
            [
             0.6666666666666666,
             "#ed7953"
            ],
            [
             0.7777777777777778,
             "#fb9f3a"
            ],
            [
             0.8888888888888888,
             "#fdca26"
            ],
            [
             1,
             "#f0f921"
            ]
           ],
           "sequentialminus": [
            [
             0,
             "#0d0887"
            ],
            [
             0.1111111111111111,
             "#46039f"
            ],
            [
             0.2222222222222222,
             "#7201a8"
            ],
            [
             0.3333333333333333,
             "#9c179e"
            ],
            [
             0.4444444444444444,
             "#bd3786"
            ],
            [
             0.5555555555555556,
             "#d8576b"
            ],
            [
             0.6666666666666666,
             "#ed7953"
            ],
            [
             0.7777777777777778,
             "#fb9f3a"
            ],
            [
             0.8888888888888888,
             "#fdca26"
            ],
            [
             1,
             "#f0f921"
            ]
           ]
          },
          "colorway": [
           "#636efa",
           "#EF553B",
           "#00cc96",
           "#ab63fa",
           "#FFA15A",
           "#19d3f3",
           "#FF6692",
           "#B6E880",
           "#FF97FF",
           "#FECB52"
          ],
          "font": {
           "color": "#2a3f5f"
          },
          "geo": {
           "bgcolor": "white",
           "lakecolor": "white",
           "landcolor": "white",
           "showlakes": true,
           "showland": true,
           "subunitcolor": "#C8D4E3"
          },
          "height": 400,
          "hoverlabel": {
           "align": "left"
          },
          "hovermode": "closest",
          "mapbox": {
           "style": "light"
          },
          "margin": {
           "b": 2,
           "l": 2,
           "r": 2,
           "t": 30
          },
          "paper_bgcolor": "white",
          "plot_bgcolor": "white",
          "polar": {
           "angularaxis": {
            "gridcolor": "#EBF0F8",
            "linecolor": "#EBF0F8",
            "ticks": ""
           },
           "bgcolor": "white",
           "radialaxis": {
            "gridcolor": "#EBF0F8",
            "linecolor": "#EBF0F8",
            "ticks": ""
           }
          },
          "scene": {
           "camera": {
            "eye": {
             "x": 1.5,
             "y": 1.5,
             "z": 0.1
            }
           },
           "xaxis": {
            "backgroundcolor": "white",
            "gridcolor": "#DFE8F3",
            "gridwidth": 2,
            "linecolor": "#EBF0F8",
            "showbackground": true,
            "ticks": "",
            "zerolinecolor": "#EBF0F8"
           },
           "yaxis": {
            "backgroundcolor": "white",
            "gridcolor": "#DFE8F3",
            "gridwidth": 2,
            "linecolor": "#EBF0F8",
            "showbackground": true,
            "ticks": "",
            "zerolinecolor": "#EBF0F8"
           },
           "zaxis": {
            "backgroundcolor": "white",
            "gridcolor": "#DFE8F3",
            "gridwidth": 2,
            "linecolor": "#EBF0F8",
            "showbackground": true,
            "ticks": "",
            "zerolinecolor": "#EBF0F8"
           }
          },
          "shapedefaults": {
           "line": {
            "color": "#2a3f5f"
           }
          },
          "ternary": {
           "aaxis": {
            "gridcolor": "#DFE8F3",
            "linecolor": "#A2B1C6",
            "ticks": ""
           },
           "baxis": {
            "gridcolor": "#DFE8F3",
            "linecolor": "#A2B1C6",
            "ticks": ""
           },
           "bgcolor": "white",
           "caxis": {
            "gridcolor": "#DFE8F3",
            "linecolor": "#A2B1C6",
            "ticks": ""
           }
          },
          "title": {
           "x": 0.5
          },
          "xaxis": {
           "automargin": true,
           "gridcolor": "#EBF0F8",
           "linecolor": "#EBF0F8",
           "linewidth": 2,
           "showline": true,
           "ticks": "",
           "title": {
            "standoff": 15
           },
           "zerolinecolor": "#EBF0F8",
           "zerolinewidth": 2
          },
          "yaxis": {
           "automargin": true,
           "gridcolor": "#EBF0F8",
           "linecolor": "#EBF0F8",
           "linewidth": 2,
           "showline": true,
           "ticks": "",
           "title": {
            "standoff": 15
           },
           "zerolinecolor": "#EBF0F8",
           "zerolinewidth": 2
          }
         }
        },
        "xaxis": {
         "anchor": "y",
         "domain": [
          0,
          1
         ],
         "title": {
          "text": "ate at tonys steakhouse"
         }
        },
        "yaxis": {
         "anchor": "x",
         "domain": [
          0,
          1
         ],
         "title": {
          "text": "core temperature"
         }
        }
       }
      },
      "text/html": [
       "<div>                            <div id=\"77cf471d-b08c-4a7f-ac66-019c56eae750\" class=\"plotly-graph-div\" style=\"height:400px; width:100%;\"></div>            <script type=\"text/javascript\">                require([\"plotly\"], function(Plotly) {                    window.PLOTLYENV=window.PLOTLYENV || {};                                    if (document.getElementById(\"77cf471d-b08c-4a7f-ac66-019c56eae750\")) {                    Plotly.newPlot(                        \"77cf471d-b08c-4a7f-ac66-019c56eae750\",                        [{\"alignmentgroup\":\"True\",\"hovertemplate\":\"ate at tonys steakhouse=%{x}<br>core temperature=%{y}<extra></extra>\",\"legendgroup\":\"\",\"marker\":{\"color\":\"#636efa\"},\"name\":\"\",\"notched\":false,\"offsetgroup\":\"\",\"orientation\":\"v\",\"showlegend\":false,\"type\":\"box\",\"x\":[0,0,0,0,0,0,1,0,0,1,1,0,1,1,1,0,1,0,0,1,0,1,1,1,0,0,1,1,0,0,1,0,1,1,1,0,1,0,1,1,1,1,1,0,1,1,1,1,1,1,1,1,1,1,1,0,1,1,1,0,1,0,1,0,1,1,1,1,0,0,1,0,1,0,1,0,0,0,0,1,1,1,1,0,1,1,1,0,1,1,0,1,1,0,1,0,1,1],\"x0\":\" \",\"xaxis\":\"x\",\"y\":[38.42316895,39.01599822,39.14834088,39.06004863,38.65543905,38.6092188,39.47390806,38.81521612,37.77845286,39.17685034,39.52090819,38.57896943,38.28013391,38.40158039,38.65157641,39.61720308,37.72843549,39.36694049,37.98848685,39.93405104,37.60559023,38.83468198,37.39892664,38.98633063,39.72456882,38.09695504,37.59597881,39.49731323,38.50187636,38.27036031,38.69964224,39.08411118,38.29400364,38.39872285,39.29951536,38.37598649,38.46968433,39.58561173,38.12682317,39.80156649,37.92682179,39.67264697,38.21409556,38.93217418,37.80121676,37.52097889,39.34942824,38.9163822,38.72595498,38.35421436,40.17337876,39.48214424,39.9557292,39.02529641,39.70565695,37.87210056,38.92730588,38.75694066,38.98157028,39.07020183,39.31023381,40.26487847,39.19531025,37.46606804,38.61929591,39.74308443,37.9590829,38.52387016,39.58821189,39.48780846,37.32113362,38.30311301,39.32598796,38.18373964,37.78518905,38.97361387,37.97719515,38.92654301,37.98922316,39.87010492,38.51344083,39.14710639,38.61129304,38.95232638,37.46812464,38.24131363,38.7661591,39.87233432,38.87492299,39.09337261,39.00124171,39.25963687,38.6808734,37.93994229,38.79042609,39.48996228,38.57574159,39.76644658],\"y0\":\" \",\"yaxis\":\"y\"}],                        {\"boxmode\":\"group\",\"legend\":{\"tracegroupgap\":0},\"template\":{\"data\":{\"bar\":[{\"error_x\":{\"color\":\"#2a3f5f\"},\"error_y\":{\"color\":\"#2a3f5f\"},\"marker\":{\"line\":{\"color\":\"white\",\"width\":0.5},\"pattern\":{\"fillmode\":\"overlay\",\"size\":10,\"solidity\":0.2}},\"type\":\"bar\"}],\"barpolar\":[{\"marker\":{\"line\":{\"color\":\"white\",\"width\":0.5},\"pattern\":{\"fillmode\":\"overlay\",\"size\":10,\"solidity\":0.2}},\"type\":\"barpolar\"}],\"box\":[{\"boxpoints\":\"outliers\",\"notched\":false,\"type\":\"box\"}],\"carpet\":[{\"aaxis\":{\"endlinecolor\":\"#2a3f5f\",\"gridcolor\":\"#C8D4E3\",\"linecolor\":\"#C8D4E3\",\"minorgridcolor\":\"#C8D4E3\",\"startlinecolor\":\"#2a3f5f\"},\"baxis\":{\"endlinecolor\":\"#2a3f5f\",\"gridcolor\":\"#C8D4E3\",\"linecolor\":\"#C8D4E3\",\"minorgridcolor\":\"#C8D4E3\",\"startlinecolor\":\"#2a3f5f\"},\"type\":\"carpet\"}],\"choropleth\":[{\"colorbar\":{\"outlinewidth\":0,\"ticks\":\"\"},\"type\":\"choropleth\"}],\"contour\":[{\"colorbar\":{\"outlinewidth\":0,\"ticks\":\"\"},\"colorscale\":[[0.0,\"#0d0887\"],[0.1111111111111111,\"#46039f\"],[0.2222222222222222,\"#7201a8\"],[0.3333333333333333,\"#9c179e\"],[0.4444444444444444,\"#bd3786\"],[0.5555555555555556,\"#d8576b\"],[0.6666666666666666,\"#ed7953\"],[0.7777777777777778,\"#fb9f3a\"],[0.8888888888888888,\"#fdca26\"],[1.0,\"#f0f921\"]],\"type\":\"contour\"}],\"contourcarpet\":[{\"colorbar\":{\"outlinewidth\":0,\"ticks\":\"\"},\"type\":\"contourcarpet\"}],\"heatmap\":[{\"colorbar\":{\"outlinewidth\":0,\"ticks\":\"\"},\"colorscale\":[[0.0,\"#0d0887\"],[0.1111111111111111,\"#46039f\"],[0.2222222222222222,\"#7201a8\"],[0.3333333333333333,\"#9c179e\"],[0.4444444444444444,\"#bd3786\"],[0.5555555555555556,\"#d8576b\"],[0.6666666666666666,\"#ed7953\"],[0.7777777777777778,\"#fb9f3a\"],[0.8888888888888888,\"#fdca26\"],[1.0,\"#f0f921\"]],\"type\":\"heatmap\"}],\"heatmapgl\":[{\"colorbar\":{\"outlinewidth\":0,\"ticks\":\"\"},\"colorscale\":[[0.0,\"#0d0887\"],[0.1111111111111111,\"#46039f\"],[0.2222222222222222,\"#7201a8\"],[0.3333333333333333,\"#9c179e\"],[0.4444444444444444,\"#bd3786\"],[0.5555555555555556,\"#d8576b\"],[0.6666666666666666,\"#ed7953\"],[0.7777777777777778,\"#fb9f3a\"],[0.8888888888888888,\"#fdca26\"],[1.0,\"#f0f921\"]],\"type\":\"heatmapgl\"}],\"histogram\":[{\"marker\":{\"line\":{\"width\":1},\"pattern\":{\"fillmode\":\"overlay\",\"size\":10,\"solidity\":0.2}},\"type\":\"histogram\"}],\"histogram2d\":[{\"colorbar\":{\"outlinewidth\":0,\"ticks\":\"\"},\"colorscale\":[[0.0,\"#0d0887\"],[0.1111111111111111,\"#46039f\"],[0.2222222222222222,\"#7201a8\"],[0.3333333333333333,\"#9c179e\"],[0.4444444444444444,\"#bd3786\"],[0.5555555555555556,\"#d8576b\"],[0.6666666666666666,\"#ed7953\"],[0.7777777777777778,\"#fb9f3a\"],[0.8888888888888888,\"#fdca26\"],[1.0,\"#f0f921\"]],\"type\":\"histogram2d\"}],\"histogram2dcontour\":[{\"colorbar\":{\"outlinewidth\":0,\"ticks\":\"\"},\"colorscale\":[[0.0,\"#0d0887\"],[0.1111111111111111,\"#46039f\"],[0.2222222222222222,\"#7201a8\"],[0.3333333333333333,\"#9c179e\"],[0.4444444444444444,\"#bd3786\"],[0.5555555555555556,\"#d8576b\"],[0.6666666666666666,\"#ed7953\"],[0.7777777777777778,\"#fb9f3a\"],[0.8888888888888888,\"#fdca26\"],[1.0,\"#f0f921\"]],\"type\":\"histogram2dcontour\"}],\"mesh3d\":[{\"colorbar\":{\"outlinewidth\":0,\"ticks\":\"\"},\"type\":\"mesh3d\"}],\"parcoords\":[{\"line\":{\"colorbar\":{\"outlinewidth\":0,\"ticks\":\"\"}},\"type\":\"parcoords\"}],\"pie\":[{\"automargin\":true,\"type\":\"pie\"}],\"scatter\":[{\"marker\":{\"colorbar\":{\"outlinewidth\":0,\"ticks\":\"\"},\"opacity\":0.8},\"type\":\"scatter\"}],\"scatter3d\":[{\"line\":{\"colorbar\":{\"outlinewidth\":0,\"ticks\":\"\"}},\"marker\":{\"colorbar\":{\"outlinewidth\":0,\"ticks\":\"\"},\"opacity\":0.8},\"type\":\"scatter3d\"}],\"scattercarpet\":[{\"marker\":{\"colorbar\":{\"outlinewidth\":0,\"ticks\":\"\"}},\"type\":\"scattercarpet\"}],\"scattergeo\":[{\"marker\":{\"colorbar\":{\"outlinewidth\":0,\"ticks\":\"\"}},\"type\":\"scattergeo\"}],\"scattergl\":[{\"marker\":{\"colorbar\":{\"outlinewidth\":0,\"ticks\":\"\"}},\"type\":\"scattergl\"}],\"scattermapbox\":[{\"marker\":{\"colorbar\":{\"outlinewidth\":0,\"ticks\":\"\"}},\"type\":\"scattermapbox\"}],\"scatterpolar\":[{\"marker\":{\"colorbar\":{\"outlinewidth\":0,\"ticks\":\"\"}},\"type\":\"scatterpolar\"}],\"scatterpolargl\":[{\"marker\":{\"colorbar\":{\"outlinewidth\":0,\"ticks\":\"\"}},\"type\":\"scatterpolargl\"}],\"scatterternary\":[{\"marker\":{\"colorbar\":{\"outlinewidth\":0,\"ticks\":\"\"}},\"type\":\"scatterternary\"}],\"surface\":[{\"colorbar\":{\"outlinewidth\":0,\"ticks\":\"\"},\"colorscale\":[[0.0,\"#0d0887\"],[0.1111111111111111,\"#46039f\"],[0.2222222222222222,\"#7201a8\"],[0.3333333333333333,\"#9c179e\"],[0.4444444444444444,\"#bd3786\"],[0.5555555555555556,\"#d8576b\"],[0.6666666666666666,\"#ed7953\"],[0.7777777777777778,\"#fb9f3a\"],[0.8888888888888888,\"#fdca26\"],[1.0,\"#f0f921\"]],\"type\":\"surface\"}],\"table\":[{\"cells\":{\"fill\":{\"color\":\"#EBF0F8\"},\"line\":{\"color\":\"white\"}},\"header\":{\"fill\":{\"color\":\"#C8D4E3\"},\"line\":{\"color\":\"white\"}},\"type\":\"table\"}]},\"layout\":{\"annotationdefaults\":{\"arrowcolor\":\"#2a3f5f\",\"arrowhead\":0,\"arrowwidth\":1},\"autotypenumbers\":\"strict\",\"coloraxis\":{\"colorbar\":{\"outlinewidth\":0,\"ticks\":\"\"}},\"colorscale\":{\"diverging\":[[0,\"#8e0152\"],[0.1,\"#c51b7d\"],[0.2,\"#de77ae\"],[0.3,\"#f1b6da\"],[0.4,\"#fde0ef\"],[0.5,\"#f7f7f7\"],[0.6,\"#e6f5d0\"],[0.7,\"#b8e186\"],[0.8,\"#7fbc41\"],[0.9,\"#4d9221\"],[1,\"#276419\"]],\"sequential\":[[0.0,\"#0d0887\"],[0.1111111111111111,\"#46039f\"],[0.2222222222222222,\"#7201a8\"],[0.3333333333333333,\"#9c179e\"],[0.4444444444444444,\"#bd3786\"],[0.5555555555555556,\"#d8576b\"],[0.6666666666666666,\"#ed7953\"],[0.7777777777777778,\"#fb9f3a\"],[0.8888888888888888,\"#fdca26\"],[1.0,\"#f0f921\"]],\"sequentialminus\":[[0.0,\"#0d0887\"],[0.1111111111111111,\"#46039f\"],[0.2222222222222222,\"#7201a8\"],[0.3333333333333333,\"#9c179e\"],[0.4444444444444444,\"#bd3786\"],[0.5555555555555556,\"#d8576b\"],[0.6666666666666666,\"#ed7953\"],[0.7777777777777778,\"#fb9f3a\"],[0.8888888888888888,\"#fdca26\"],[1.0,\"#f0f921\"]]},\"colorway\":[\"#636efa\",\"#EF553B\",\"#00cc96\",\"#ab63fa\",\"#FFA15A\",\"#19d3f3\",\"#FF6692\",\"#B6E880\",\"#FF97FF\",\"#FECB52\"],\"font\":{\"color\":\"#2a3f5f\"},\"geo\":{\"bgcolor\":\"white\",\"lakecolor\":\"white\",\"landcolor\":\"white\",\"showlakes\":true,\"showland\":true,\"subunitcolor\":\"#C8D4E3\"},\"height\":400,\"hoverlabel\":{\"align\":\"left\"},\"hovermode\":\"closest\",\"mapbox\":{\"style\":\"light\"},\"margin\":{\"b\":2,\"l\":2,\"r\":2,\"t\":30},\"paper_bgcolor\":\"white\",\"plot_bgcolor\":\"white\",\"polar\":{\"angularaxis\":{\"gridcolor\":\"#EBF0F8\",\"linecolor\":\"#EBF0F8\",\"ticks\":\"\"},\"bgcolor\":\"white\",\"radialaxis\":{\"gridcolor\":\"#EBF0F8\",\"linecolor\":\"#EBF0F8\",\"ticks\":\"\"}},\"scene\":{\"camera\":{\"eye\":{\"x\":1.5,\"y\":1.5,\"z\":0.1}},\"xaxis\":{\"backgroundcolor\":\"white\",\"gridcolor\":\"#DFE8F3\",\"gridwidth\":2,\"linecolor\":\"#EBF0F8\",\"showbackground\":true,\"ticks\":\"\",\"zerolinecolor\":\"#EBF0F8\"},\"yaxis\":{\"backgroundcolor\":\"white\",\"gridcolor\":\"#DFE8F3\",\"gridwidth\":2,\"linecolor\":\"#EBF0F8\",\"showbackground\":true,\"ticks\":\"\",\"zerolinecolor\":\"#EBF0F8\"},\"zaxis\":{\"backgroundcolor\":\"white\",\"gridcolor\":\"#DFE8F3\",\"gridwidth\":2,\"linecolor\":\"#EBF0F8\",\"showbackground\":true,\"ticks\":\"\",\"zerolinecolor\":\"#EBF0F8\"}},\"shapedefaults\":{\"line\":{\"color\":\"#2a3f5f\"}},\"ternary\":{\"aaxis\":{\"gridcolor\":\"#DFE8F3\",\"linecolor\":\"#A2B1C6\",\"ticks\":\"\"},\"baxis\":{\"gridcolor\":\"#DFE8F3\",\"linecolor\":\"#A2B1C6\",\"ticks\":\"\"},\"bgcolor\":\"white\",\"caxis\":{\"gridcolor\":\"#DFE8F3\",\"linecolor\":\"#A2B1C6\",\"ticks\":\"\"}},\"title\":{\"x\":0.5},\"xaxis\":{\"automargin\":true,\"gridcolor\":\"#EBF0F8\",\"linecolor\":\"#EBF0F8\",\"linewidth\":2,\"showline\":true,\"ticks\":\"\",\"title\":{\"standoff\":15},\"zerolinecolor\":\"#EBF0F8\",\"zerolinewidth\":2},\"yaxis\":{\"automargin\":true,\"gridcolor\":\"#EBF0F8\",\"linecolor\":\"#EBF0F8\",\"linewidth\":2,\"showline\":true,\"ticks\":\"\",\"title\":{\"standoff\":15},\"zerolinecolor\":\"#EBF0F8\",\"zerolinewidth\":2}}},\"xaxis\":{\"anchor\":\"y\",\"domain\":[0.0,1.0],\"title\":{\"text\":\"ate at tonys steakhouse\"}},\"yaxis\":{\"anchor\":\"x\",\"domain\":[0.0,1.0],\"title\":{\"text\":\"core temperature\"}}},                        {\"responsive\": true}                    ).then(function(){\n",
       "                            \n",
       "var gd = document.getElementById('77cf471d-b08c-4a7f-ac66-019c56eae750');\n",
       "var x = new MutationObserver(function (mutations, observer) {{\n",
       "        var display = window.getComputedStyle(gd).display;\n",
       "        if (!display || display === 'none') {{\n",
       "            console.log([gd, 'removed!']);\n",
       "            Plotly.purge(gd);\n",
       "            observer.disconnect();\n",
       "        }}\n",
       "}});\n",
       "\n",
       "// Listen for the removal of the full notebook cells\n",
       "var notebookContainer = gd.closest('#notebook-container');\n",
       "if (notebookContainer) {{\n",
       "    x.observe(notebookContainer, {childList: true});\n",
       "}}\n",
       "\n",
       "// Listen for the clearing of the current output cell\n",
       "var outputEl = gd.closest('.output');\n",
       "if (outputEl) {{\n",
       "    x.observe(outputEl, {childList: true});\n",
       "}}\n",
       "\n",
       "                        })                };                });            </script>        </div>"
      ]
     },
     "metadata": {},
     "output_type": "display_data"
    },
    {
     "data": {
      "application/vnd.plotly.v1+json": {
       "config": {
        "plotlyServerURL": "https://plot.ly"
       },
       "data": [
        {
         "hovertemplate": "body fat percentage=%{x}<br>core temperature=%{y}<extra></extra>",
         "legendgroup": "",
         "marker": {
          "color": "#636efa",
          "size": 17,
          "symbol": "circle"
         },
         "mode": "markers",
         "name": "",
         "orientation": "v",
         "showlegend": false,
         "type": "scatter",
         "x": [
          38,
          32,
          12,
          23,
          15,
          14,
          25,
          18,
          34,
          31,
          13,
          18,
          26,
          36,
          31,
          12,
          30,
          35,
          11,
          26,
          19,
          36,
          24,
          29,
          20,
          16,
          17,
          17,
          32,
          12,
          20,
          34,
          29,
          12,
          36,
          39,
          12,
          15,
          35,
          32,
          39,
          31,
          17,
          20,
          40,
          40,
          23,
          38,
          18,
          28,
          40,
          28,
          40,
          11,
          16,
          39,
          20,
          39,
          15,
          21,
          16,
          33,
          40,
          19,
          38,
          20,
          17,
          40,
          36,
          23,
          10,
          30,
          38,
          23,
          35,
          27,
          21,
          16,
          40,
          29,
          20,
          11,
          37,
          33,
          15,
          25,
          39,
          25,
          38,
          36,
          29,
          30,
          18,
          38,
          11,
          20,
          32,
          21
         ],
         "xaxis": "x",
         "y": [
          38.42316895,
          39.01599822,
          39.14834088,
          39.06004863,
          38.65543905,
          38.6092188,
          39.47390806,
          38.81521612,
          37.77845286,
          39.17685034,
          39.52090819,
          38.57896943,
          38.28013391,
          38.40158039,
          38.65157641,
          39.61720308,
          37.72843549,
          39.36694049,
          37.98848685,
          39.93405104,
          37.60559023,
          38.83468198,
          37.39892664,
          38.98633063,
          39.72456882,
          38.09695504,
          37.59597881,
          39.49731323,
          38.50187636,
          38.27036031,
          38.69964224,
          39.08411118,
          38.29400364,
          38.39872285,
          39.29951536,
          38.37598649,
          38.46968433,
          39.58561173,
          38.12682317,
          39.80156649,
          37.92682179,
          39.67264697,
          38.21409556,
          38.93217418,
          37.80121676,
          37.52097889,
          39.34942824,
          38.9163822,
          38.72595498,
          38.35421436,
          40.17337876,
          39.48214424,
          39.9557292,
          39.02529641,
          39.70565695,
          37.87210056,
          38.92730588,
          38.75694066,
          38.98157028,
          39.07020183,
          39.31023381,
          40.26487847,
          39.19531025,
          37.46606804,
          38.61929591,
          39.74308443,
          37.9590829,
          38.52387016,
          39.58821189,
          39.48780846,
          37.32113362,
          38.30311301,
          39.32598796,
          38.18373964,
          37.78518905,
          38.97361387,
          37.97719515,
          38.92654301,
          37.98922316,
          39.87010492,
          38.51344083,
          39.14710639,
          38.61129304,
          38.95232638,
          37.46812464,
          38.24131363,
          38.7661591,
          39.87233432,
          38.87492299,
          39.09337261,
          39.00124171,
          39.25963687,
          38.6808734,
          37.93994229,
          38.79042609,
          39.48996228,
          38.57574159,
          39.76644658
         ],
         "yaxis": "y"
        }
       ],
       "layout": {
        "legend": {
         "tracegroupgap": 0
        },
        "template": {
         "data": {
          "bar": [
           {
            "error_x": {
             "color": "#2a3f5f"
            },
            "error_y": {
             "color": "#2a3f5f"
            },
            "marker": {
             "line": {
              "color": "white",
              "width": 0.5
             },
             "pattern": {
              "fillmode": "overlay",
              "size": 10,
              "solidity": 0.2
             }
            },
            "type": "bar"
           }
          ],
          "barpolar": [
           {
            "marker": {
             "line": {
              "color": "white",
              "width": 0.5
             },
             "pattern": {
              "fillmode": "overlay",
              "size": 10,
              "solidity": 0.2
             }
            },
            "type": "barpolar"
           }
          ],
          "box": [
           {
            "boxpoints": "outliers",
            "notched": false,
            "type": "box"
           }
          ],
          "carpet": [
           {
            "aaxis": {
             "endlinecolor": "#2a3f5f",
             "gridcolor": "#C8D4E3",
             "linecolor": "#C8D4E3",
             "minorgridcolor": "#C8D4E3",
             "startlinecolor": "#2a3f5f"
            },
            "baxis": {
             "endlinecolor": "#2a3f5f",
             "gridcolor": "#C8D4E3",
             "linecolor": "#C8D4E3",
             "minorgridcolor": "#C8D4E3",
             "startlinecolor": "#2a3f5f"
            },
            "type": "carpet"
           }
          ],
          "choropleth": [
           {
            "colorbar": {
             "outlinewidth": 0,
             "ticks": ""
            },
            "type": "choropleth"
           }
          ],
          "contour": [
           {
            "colorbar": {
             "outlinewidth": 0,
             "ticks": ""
            },
            "colorscale": [
             [
              0,
              "#0d0887"
             ],
             [
              0.1111111111111111,
              "#46039f"
             ],
             [
              0.2222222222222222,
              "#7201a8"
             ],
             [
              0.3333333333333333,
              "#9c179e"
             ],
             [
              0.4444444444444444,
              "#bd3786"
             ],
             [
              0.5555555555555556,
              "#d8576b"
             ],
             [
              0.6666666666666666,
              "#ed7953"
             ],
             [
              0.7777777777777778,
              "#fb9f3a"
             ],
             [
              0.8888888888888888,
              "#fdca26"
             ],
             [
              1,
              "#f0f921"
             ]
            ],
            "type": "contour"
           }
          ],
          "contourcarpet": [
           {
            "colorbar": {
             "outlinewidth": 0,
             "ticks": ""
            },
            "type": "contourcarpet"
           }
          ],
          "heatmap": [
           {
            "colorbar": {
             "outlinewidth": 0,
             "ticks": ""
            },
            "colorscale": [
             [
              0,
              "#0d0887"
             ],
             [
              0.1111111111111111,
              "#46039f"
             ],
             [
              0.2222222222222222,
              "#7201a8"
             ],
             [
              0.3333333333333333,
              "#9c179e"
             ],
             [
              0.4444444444444444,
              "#bd3786"
             ],
             [
              0.5555555555555556,
              "#d8576b"
             ],
             [
              0.6666666666666666,
              "#ed7953"
             ],
             [
              0.7777777777777778,
              "#fb9f3a"
             ],
             [
              0.8888888888888888,
              "#fdca26"
             ],
             [
              1,
              "#f0f921"
             ]
            ],
            "type": "heatmap"
           }
          ],
          "heatmapgl": [
           {
            "colorbar": {
             "outlinewidth": 0,
             "ticks": ""
            },
            "colorscale": [
             [
              0,
              "#0d0887"
             ],
             [
              0.1111111111111111,
              "#46039f"
             ],
             [
              0.2222222222222222,
              "#7201a8"
             ],
             [
              0.3333333333333333,
              "#9c179e"
             ],
             [
              0.4444444444444444,
              "#bd3786"
             ],
             [
              0.5555555555555556,
              "#d8576b"
             ],
             [
              0.6666666666666666,
              "#ed7953"
             ],
             [
              0.7777777777777778,
              "#fb9f3a"
             ],
             [
              0.8888888888888888,
              "#fdca26"
             ],
             [
              1,
              "#f0f921"
             ]
            ],
            "type": "heatmapgl"
           }
          ],
          "histogram": [
           {
            "marker": {
             "line": {
              "width": 1
             },
             "pattern": {
              "fillmode": "overlay",
              "size": 10,
              "solidity": 0.2
             }
            },
            "type": "histogram"
           }
          ],
          "histogram2d": [
           {
            "colorbar": {
             "outlinewidth": 0,
             "ticks": ""
            },
            "colorscale": [
             [
              0,
              "#0d0887"
             ],
             [
              0.1111111111111111,
              "#46039f"
             ],
             [
              0.2222222222222222,
              "#7201a8"
             ],
             [
              0.3333333333333333,
              "#9c179e"
             ],
             [
              0.4444444444444444,
              "#bd3786"
             ],
             [
              0.5555555555555556,
              "#d8576b"
             ],
             [
              0.6666666666666666,
              "#ed7953"
             ],
             [
              0.7777777777777778,
              "#fb9f3a"
             ],
             [
              0.8888888888888888,
              "#fdca26"
             ],
             [
              1,
              "#f0f921"
             ]
            ],
            "type": "histogram2d"
           }
          ],
          "histogram2dcontour": [
           {
            "colorbar": {
             "outlinewidth": 0,
             "ticks": ""
            },
            "colorscale": [
             [
              0,
              "#0d0887"
             ],
             [
              0.1111111111111111,
              "#46039f"
             ],
             [
              0.2222222222222222,
              "#7201a8"
             ],
             [
              0.3333333333333333,
              "#9c179e"
             ],
             [
              0.4444444444444444,
              "#bd3786"
             ],
             [
              0.5555555555555556,
              "#d8576b"
             ],
             [
              0.6666666666666666,
              "#ed7953"
             ],
             [
              0.7777777777777778,
              "#fb9f3a"
             ],
             [
              0.8888888888888888,
              "#fdca26"
             ],
             [
              1,
              "#f0f921"
             ]
            ],
            "type": "histogram2dcontour"
           }
          ],
          "mesh3d": [
           {
            "colorbar": {
             "outlinewidth": 0,
             "ticks": ""
            },
            "type": "mesh3d"
           }
          ],
          "parcoords": [
           {
            "line": {
             "colorbar": {
              "outlinewidth": 0,
              "ticks": ""
             }
            },
            "type": "parcoords"
           }
          ],
          "pie": [
           {
            "automargin": true,
            "type": "pie"
           }
          ],
          "scatter": [
           {
            "marker": {
             "colorbar": {
              "outlinewidth": 0,
              "ticks": ""
             },
             "opacity": 0.8
            },
            "type": "scatter"
           }
          ],
          "scatter3d": [
           {
            "line": {
             "colorbar": {
              "outlinewidth": 0,
              "ticks": ""
             }
            },
            "marker": {
             "colorbar": {
              "outlinewidth": 0,
              "ticks": ""
             },
             "opacity": 0.8
            },
            "type": "scatter3d"
           }
          ],
          "scattercarpet": [
           {
            "marker": {
             "colorbar": {
              "outlinewidth": 0,
              "ticks": ""
             }
            },
            "type": "scattercarpet"
           }
          ],
          "scattergeo": [
           {
            "marker": {
             "colorbar": {
              "outlinewidth": 0,
              "ticks": ""
             }
            },
            "type": "scattergeo"
           }
          ],
          "scattergl": [
           {
            "marker": {
             "colorbar": {
              "outlinewidth": 0,
              "ticks": ""
             }
            },
            "type": "scattergl"
           }
          ],
          "scattermapbox": [
           {
            "marker": {
             "colorbar": {
              "outlinewidth": 0,
              "ticks": ""
             }
            },
            "type": "scattermapbox"
           }
          ],
          "scatterpolar": [
           {
            "marker": {
             "colorbar": {
              "outlinewidth": 0,
              "ticks": ""
             }
            },
            "type": "scatterpolar"
           }
          ],
          "scatterpolargl": [
           {
            "marker": {
             "colorbar": {
              "outlinewidth": 0,
              "ticks": ""
             }
            },
            "type": "scatterpolargl"
           }
          ],
          "scatterternary": [
           {
            "marker": {
             "colorbar": {
              "outlinewidth": 0,
              "ticks": ""
             }
            },
            "type": "scatterternary"
           }
          ],
          "surface": [
           {
            "colorbar": {
             "outlinewidth": 0,
             "ticks": ""
            },
            "colorscale": [
             [
              0,
              "#0d0887"
             ],
             [
              0.1111111111111111,
              "#46039f"
             ],
             [
              0.2222222222222222,
              "#7201a8"
             ],
             [
              0.3333333333333333,
              "#9c179e"
             ],
             [
              0.4444444444444444,
              "#bd3786"
             ],
             [
              0.5555555555555556,
              "#d8576b"
             ],
             [
              0.6666666666666666,
              "#ed7953"
             ],
             [
              0.7777777777777778,
              "#fb9f3a"
             ],
             [
              0.8888888888888888,
              "#fdca26"
             ],
             [
              1,
              "#f0f921"
             ]
            ],
            "type": "surface"
           }
          ],
          "table": [
           {
            "cells": {
             "fill": {
              "color": "#EBF0F8"
             },
             "line": {
              "color": "white"
             }
            },
            "header": {
             "fill": {
              "color": "#C8D4E3"
             },
             "line": {
              "color": "white"
             }
            },
            "type": "table"
           }
          ]
         },
         "layout": {
          "annotationdefaults": {
           "arrowcolor": "#2a3f5f",
           "arrowhead": 0,
           "arrowwidth": 1
          },
          "autotypenumbers": "strict",
          "coloraxis": {
           "colorbar": {
            "outlinewidth": 0,
            "ticks": ""
           }
          },
          "colorscale": {
           "diverging": [
            [
             0,
             "#8e0152"
            ],
            [
             0.1,
             "#c51b7d"
            ],
            [
             0.2,
             "#de77ae"
            ],
            [
             0.3,
             "#f1b6da"
            ],
            [
             0.4,
             "#fde0ef"
            ],
            [
             0.5,
             "#f7f7f7"
            ],
            [
             0.6,
             "#e6f5d0"
            ],
            [
             0.7,
             "#b8e186"
            ],
            [
             0.8,
             "#7fbc41"
            ],
            [
             0.9,
             "#4d9221"
            ],
            [
             1,
             "#276419"
            ]
           ],
           "sequential": [
            [
             0,
             "#0d0887"
            ],
            [
             0.1111111111111111,
             "#46039f"
            ],
            [
             0.2222222222222222,
             "#7201a8"
            ],
            [
             0.3333333333333333,
             "#9c179e"
            ],
            [
             0.4444444444444444,
             "#bd3786"
            ],
            [
             0.5555555555555556,
             "#d8576b"
            ],
            [
             0.6666666666666666,
             "#ed7953"
            ],
            [
             0.7777777777777778,
             "#fb9f3a"
            ],
            [
             0.8888888888888888,
             "#fdca26"
            ],
            [
             1,
             "#f0f921"
            ]
           ],
           "sequentialminus": [
            [
             0,
             "#0d0887"
            ],
            [
             0.1111111111111111,
             "#46039f"
            ],
            [
             0.2222222222222222,
             "#7201a8"
            ],
            [
             0.3333333333333333,
             "#9c179e"
            ],
            [
             0.4444444444444444,
             "#bd3786"
            ],
            [
             0.5555555555555556,
             "#d8576b"
            ],
            [
             0.6666666666666666,
             "#ed7953"
            ],
            [
             0.7777777777777778,
             "#fb9f3a"
            ],
            [
             0.8888888888888888,
             "#fdca26"
            ],
            [
             1,
             "#f0f921"
            ]
           ]
          },
          "colorway": [
           "#636efa",
           "#EF553B",
           "#00cc96",
           "#ab63fa",
           "#FFA15A",
           "#19d3f3",
           "#FF6692",
           "#B6E880",
           "#FF97FF",
           "#FECB52"
          ],
          "font": {
           "color": "#2a3f5f"
          },
          "geo": {
           "bgcolor": "white",
           "lakecolor": "white",
           "landcolor": "white",
           "showlakes": true,
           "showland": true,
           "subunitcolor": "#C8D4E3"
          },
          "height": 400,
          "hoverlabel": {
           "align": "left"
          },
          "hovermode": "closest",
          "mapbox": {
           "style": "light"
          },
          "margin": {
           "b": 2,
           "l": 2,
           "r": 2,
           "t": 30
          },
          "paper_bgcolor": "white",
          "plot_bgcolor": "white",
          "polar": {
           "angularaxis": {
            "gridcolor": "#EBF0F8",
            "linecolor": "#EBF0F8",
            "ticks": ""
           },
           "bgcolor": "white",
           "radialaxis": {
            "gridcolor": "#EBF0F8",
            "linecolor": "#EBF0F8",
            "ticks": ""
           }
          },
          "scene": {
           "camera": {
            "eye": {
             "x": 1.5,
             "y": 1.5,
             "z": 0.1
            }
           },
           "xaxis": {
            "backgroundcolor": "white",
            "gridcolor": "#DFE8F3",
            "gridwidth": 2,
            "linecolor": "#EBF0F8",
            "showbackground": true,
            "ticks": "",
            "zerolinecolor": "#EBF0F8"
           },
           "yaxis": {
            "backgroundcolor": "white",
            "gridcolor": "#DFE8F3",
            "gridwidth": 2,
            "linecolor": "#EBF0F8",
            "showbackground": true,
            "ticks": "",
            "zerolinecolor": "#EBF0F8"
           },
           "zaxis": {
            "backgroundcolor": "white",
            "gridcolor": "#DFE8F3",
            "gridwidth": 2,
            "linecolor": "#EBF0F8",
            "showbackground": true,
            "ticks": "",
            "zerolinecolor": "#EBF0F8"
           }
          },
          "shapedefaults": {
           "line": {
            "color": "#2a3f5f"
           }
          },
          "ternary": {
           "aaxis": {
            "gridcolor": "#DFE8F3",
            "linecolor": "#A2B1C6",
            "ticks": ""
           },
           "baxis": {
            "gridcolor": "#DFE8F3",
            "linecolor": "#A2B1C6",
            "ticks": ""
           },
           "bgcolor": "white",
           "caxis": {
            "gridcolor": "#DFE8F3",
            "linecolor": "#A2B1C6",
            "ticks": ""
           }
          },
          "title": {
           "x": 0.5
          },
          "xaxis": {
           "automargin": true,
           "gridcolor": "#EBF0F8",
           "linecolor": "#EBF0F8",
           "linewidth": 2,
           "showline": true,
           "ticks": "",
           "title": {
            "standoff": 15
           },
           "zerolinecolor": "#EBF0F8",
           "zerolinewidth": 2
          },
          "yaxis": {
           "automargin": true,
           "gridcolor": "#EBF0F8",
           "linecolor": "#EBF0F8",
           "linewidth": 2,
           "showline": true,
           "ticks": "",
           "title": {
            "standoff": 15
           },
           "zerolinecolor": "#EBF0F8",
           "zerolinewidth": 2
          }
         }
        },
        "xaxis": {
         "anchor": "y",
         "domain": [
          0,
          1
         ],
         "title": {
          "text": "body fat percentage"
         }
        },
        "yaxis": {
         "anchor": "x",
         "domain": [
          0,
          1
         ],
         "title": {
          "text": "core temperature"
         }
        }
       }
      },
      "text/html": [
       "<div>                            <div id=\"95022e41-cc44-4f43-a9fa-2a19c707604a\" class=\"plotly-graph-div\" style=\"height:400px; width:100%;\"></div>            <script type=\"text/javascript\">                require([\"plotly\"], function(Plotly) {                    window.PLOTLYENV=window.PLOTLYENV || {};                                    if (document.getElementById(\"95022e41-cc44-4f43-a9fa-2a19c707604a\")) {                    Plotly.newPlot(                        \"95022e41-cc44-4f43-a9fa-2a19c707604a\",                        [{\"hovertemplate\":\"body fat percentage=%{x}<br>core temperature=%{y}<extra></extra>\",\"legendgroup\":\"\",\"marker\":{\"color\":\"#636efa\",\"size\":17,\"symbol\":\"circle\"},\"mode\":\"markers\",\"name\":\"\",\"orientation\":\"v\",\"showlegend\":false,\"type\":\"scatter\",\"x\":[38,32,12,23,15,14,25,18,34,31,13,18,26,36,31,12,30,35,11,26,19,36,24,29,20,16,17,17,32,12,20,34,29,12,36,39,12,15,35,32,39,31,17,20,40,40,23,38,18,28,40,28,40,11,16,39,20,39,15,21,16,33,40,19,38,20,17,40,36,23,10,30,38,23,35,27,21,16,40,29,20,11,37,33,15,25,39,25,38,36,29,30,18,38,11,20,32,21],\"xaxis\":\"x\",\"y\":[38.42316895,39.01599822,39.14834088,39.06004863,38.65543905,38.6092188,39.47390806,38.81521612,37.77845286,39.17685034,39.52090819,38.57896943,38.28013391,38.40158039,38.65157641,39.61720308,37.72843549,39.36694049,37.98848685,39.93405104,37.60559023,38.83468198,37.39892664,38.98633063,39.72456882,38.09695504,37.59597881,39.49731323,38.50187636,38.27036031,38.69964224,39.08411118,38.29400364,38.39872285,39.29951536,38.37598649,38.46968433,39.58561173,38.12682317,39.80156649,37.92682179,39.67264697,38.21409556,38.93217418,37.80121676,37.52097889,39.34942824,38.9163822,38.72595498,38.35421436,40.17337876,39.48214424,39.9557292,39.02529641,39.70565695,37.87210056,38.92730588,38.75694066,38.98157028,39.07020183,39.31023381,40.26487847,39.19531025,37.46606804,38.61929591,39.74308443,37.9590829,38.52387016,39.58821189,39.48780846,37.32113362,38.30311301,39.32598796,38.18373964,37.78518905,38.97361387,37.97719515,38.92654301,37.98922316,39.87010492,38.51344083,39.14710639,38.61129304,38.95232638,37.46812464,38.24131363,38.7661591,39.87233432,38.87492299,39.09337261,39.00124171,39.25963687,38.6808734,37.93994229,38.79042609,39.48996228,38.57574159,39.76644658],\"yaxis\":\"y\"}],                        {\"legend\":{\"tracegroupgap\":0},\"template\":{\"data\":{\"bar\":[{\"error_x\":{\"color\":\"#2a3f5f\"},\"error_y\":{\"color\":\"#2a3f5f\"},\"marker\":{\"line\":{\"color\":\"white\",\"width\":0.5},\"pattern\":{\"fillmode\":\"overlay\",\"size\":10,\"solidity\":0.2}},\"type\":\"bar\"}],\"barpolar\":[{\"marker\":{\"line\":{\"color\":\"white\",\"width\":0.5},\"pattern\":{\"fillmode\":\"overlay\",\"size\":10,\"solidity\":0.2}},\"type\":\"barpolar\"}],\"box\":[{\"boxpoints\":\"outliers\",\"notched\":false,\"type\":\"box\"}],\"carpet\":[{\"aaxis\":{\"endlinecolor\":\"#2a3f5f\",\"gridcolor\":\"#C8D4E3\",\"linecolor\":\"#C8D4E3\",\"minorgridcolor\":\"#C8D4E3\",\"startlinecolor\":\"#2a3f5f\"},\"baxis\":{\"endlinecolor\":\"#2a3f5f\",\"gridcolor\":\"#C8D4E3\",\"linecolor\":\"#C8D4E3\",\"minorgridcolor\":\"#C8D4E3\",\"startlinecolor\":\"#2a3f5f\"},\"type\":\"carpet\"}],\"choropleth\":[{\"colorbar\":{\"outlinewidth\":0,\"ticks\":\"\"},\"type\":\"choropleth\"}],\"contour\":[{\"colorbar\":{\"outlinewidth\":0,\"ticks\":\"\"},\"colorscale\":[[0.0,\"#0d0887\"],[0.1111111111111111,\"#46039f\"],[0.2222222222222222,\"#7201a8\"],[0.3333333333333333,\"#9c179e\"],[0.4444444444444444,\"#bd3786\"],[0.5555555555555556,\"#d8576b\"],[0.6666666666666666,\"#ed7953\"],[0.7777777777777778,\"#fb9f3a\"],[0.8888888888888888,\"#fdca26\"],[1.0,\"#f0f921\"]],\"type\":\"contour\"}],\"contourcarpet\":[{\"colorbar\":{\"outlinewidth\":0,\"ticks\":\"\"},\"type\":\"contourcarpet\"}],\"heatmap\":[{\"colorbar\":{\"outlinewidth\":0,\"ticks\":\"\"},\"colorscale\":[[0.0,\"#0d0887\"],[0.1111111111111111,\"#46039f\"],[0.2222222222222222,\"#7201a8\"],[0.3333333333333333,\"#9c179e\"],[0.4444444444444444,\"#bd3786\"],[0.5555555555555556,\"#d8576b\"],[0.6666666666666666,\"#ed7953\"],[0.7777777777777778,\"#fb9f3a\"],[0.8888888888888888,\"#fdca26\"],[1.0,\"#f0f921\"]],\"type\":\"heatmap\"}],\"heatmapgl\":[{\"colorbar\":{\"outlinewidth\":0,\"ticks\":\"\"},\"colorscale\":[[0.0,\"#0d0887\"],[0.1111111111111111,\"#46039f\"],[0.2222222222222222,\"#7201a8\"],[0.3333333333333333,\"#9c179e\"],[0.4444444444444444,\"#bd3786\"],[0.5555555555555556,\"#d8576b\"],[0.6666666666666666,\"#ed7953\"],[0.7777777777777778,\"#fb9f3a\"],[0.8888888888888888,\"#fdca26\"],[1.0,\"#f0f921\"]],\"type\":\"heatmapgl\"}],\"histogram\":[{\"marker\":{\"line\":{\"width\":1},\"pattern\":{\"fillmode\":\"overlay\",\"size\":10,\"solidity\":0.2}},\"type\":\"histogram\"}],\"histogram2d\":[{\"colorbar\":{\"outlinewidth\":0,\"ticks\":\"\"},\"colorscale\":[[0.0,\"#0d0887\"],[0.1111111111111111,\"#46039f\"],[0.2222222222222222,\"#7201a8\"],[0.3333333333333333,\"#9c179e\"],[0.4444444444444444,\"#bd3786\"],[0.5555555555555556,\"#d8576b\"],[0.6666666666666666,\"#ed7953\"],[0.7777777777777778,\"#fb9f3a\"],[0.8888888888888888,\"#fdca26\"],[1.0,\"#f0f921\"]],\"type\":\"histogram2d\"}],\"histogram2dcontour\":[{\"colorbar\":{\"outlinewidth\":0,\"ticks\":\"\"},\"colorscale\":[[0.0,\"#0d0887\"],[0.1111111111111111,\"#46039f\"],[0.2222222222222222,\"#7201a8\"],[0.3333333333333333,\"#9c179e\"],[0.4444444444444444,\"#bd3786\"],[0.5555555555555556,\"#d8576b\"],[0.6666666666666666,\"#ed7953\"],[0.7777777777777778,\"#fb9f3a\"],[0.8888888888888888,\"#fdca26\"],[1.0,\"#f0f921\"]],\"type\":\"histogram2dcontour\"}],\"mesh3d\":[{\"colorbar\":{\"outlinewidth\":0,\"ticks\":\"\"},\"type\":\"mesh3d\"}],\"parcoords\":[{\"line\":{\"colorbar\":{\"outlinewidth\":0,\"ticks\":\"\"}},\"type\":\"parcoords\"}],\"pie\":[{\"automargin\":true,\"type\":\"pie\"}],\"scatter\":[{\"marker\":{\"colorbar\":{\"outlinewidth\":0,\"ticks\":\"\"},\"opacity\":0.8},\"type\":\"scatter\"}],\"scatter3d\":[{\"line\":{\"colorbar\":{\"outlinewidth\":0,\"ticks\":\"\"}},\"marker\":{\"colorbar\":{\"outlinewidth\":0,\"ticks\":\"\"},\"opacity\":0.8},\"type\":\"scatter3d\"}],\"scattercarpet\":[{\"marker\":{\"colorbar\":{\"outlinewidth\":0,\"ticks\":\"\"}},\"type\":\"scattercarpet\"}],\"scattergeo\":[{\"marker\":{\"colorbar\":{\"outlinewidth\":0,\"ticks\":\"\"}},\"type\":\"scattergeo\"}],\"scattergl\":[{\"marker\":{\"colorbar\":{\"outlinewidth\":0,\"ticks\":\"\"}},\"type\":\"scattergl\"}],\"scattermapbox\":[{\"marker\":{\"colorbar\":{\"outlinewidth\":0,\"ticks\":\"\"}},\"type\":\"scattermapbox\"}],\"scatterpolar\":[{\"marker\":{\"colorbar\":{\"outlinewidth\":0,\"ticks\":\"\"}},\"type\":\"scatterpolar\"}],\"scatterpolargl\":[{\"marker\":{\"colorbar\":{\"outlinewidth\":0,\"ticks\":\"\"}},\"type\":\"scatterpolargl\"}],\"scatterternary\":[{\"marker\":{\"colorbar\":{\"outlinewidth\":0,\"ticks\":\"\"}},\"type\":\"scatterternary\"}],\"surface\":[{\"colorbar\":{\"outlinewidth\":0,\"ticks\":\"\"},\"colorscale\":[[0.0,\"#0d0887\"],[0.1111111111111111,\"#46039f\"],[0.2222222222222222,\"#7201a8\"],[0.3333333333333333,\"#9c179e\"],[0.4444444444444444,\"#bd3786\"],[0.5555555555555556,\"#d8576b\"],[0.6666666666666666,\"#ed7953\"],[0.7777777777777778,\"#fb9f3a\"],[0.8888888888888888,\"#fdca26\"],[1.0,\"#f0f921\"]],\"type\":\"surface\"}],\"table\":[{\"cells\":{\"fill\":{\"color\":\"#EBF0F8\"},\"line\":{\"color\":\"white\"}},\"header\":{\"fill\":{\"color\":\"#C8D4E3\"},\"line\":{\"color\":\"white\"}},\"type\":\"table\"}]},\"layout\":{\"annotationdefaults\":{\"arrowcolor\":\"#2a3f5f\",\"arrowhead\":0,\"arrowwidth\":1},\"autotypenumbers\":\"strict\",\"coloraxis\":{\"colorbar\":{\"outlinewidth\":0,\"ticks\":\"\"}},\"colorscale\":{\"diverging\":[[0,\"#8e0152\"],[0.1,\"#c51b7d\"],[0.2,\"#de77ae\"],[0.3,\"#f1b6da\"],[0.4,\"#fde0ef\"],[0.5,\"#f7f7f7\"],[0.6,\"#e6f5d0\"],[0.7,\"#b8e186\"],[0.8,\"#7fbc41\"],[0.9,\"#4d9221\"],[1,\"#276419\"]],\"sequential\":[[0.0,\"#0d0887\"],[0.1111111111111111,\"#46039f\"],[0.2222222222222222,\"#7201a8\"],[0.3333333333333333,\"#9c179e\"],[0.4444444444444444,\"#bd3786\"],[0.5555555555555556,\"#d8576b\"],[0.6666666666666666,\"#ed7953\"],[0.7777777777777778,\"#fb9f3a\"],[0.8888888888888888,\"#fdca26\"],[1.0,\"#f0f921\"]],\"sequentialminus\":[[0.0,\"#0d0887\"],[0.1111111111111111,\"#46039f\"],[0.2222222222222222,\"#7201a8\"],[0.3333333333333333,\"#9c179e\"],[0.4444444444444444,\"#bd3786\"],[0.5555555555555556,\"#d8576b\"],[0.6666666666666666,\"#ed7953\"],[0.7777777777777778,\"#fb9f3a\"],[0.8888888888888888,\"#fdca26\"],[1.0,\"#f0f921\"]]},\"colorway\":[\"#636efa\",\"#EF553B\",\"#00cc96\",\"#ab63fa\",\"#FFA15A\",\"#19d3f3\",\"#FF6692\",\"#B6E880\",\"#FF97FF\",\"#FECB52\"],\"font\":{\"color\":\"#2a3f5f\"},\"geo\":{\"bgcolor\":\"white\",\"lakecolor\":\"white\",\"landcolor\":\"white\",\"showlakes\":true,\"showland\":true,\"subunitcolor\":\"#C8D4E3\"},\"height\":400,\"hoverlabel\":{\"align\":\"left\"},\"hovermode\":\"closest\",\"mapbox\":{\"style\":\"light\"},\"margin\":{\"b\":2,\"l\":2,\"r\":2,\"t\":30},\"paper_bgcolor\":\"white\",\"plot_bgcolor\":\"white\",\"polar\":{\"angularaxis\":{\"gridcolor\":\"#EBF0F8\",\"linecolor\":\"#EBF0F8\",\"ticks\":\"\"},\"bgcolor\":\"white\",\"radialaxis\":{\"gridcolor\":\"#EBF0F8\",\"linecolor\":\"#EBF0F8\",\"ticks\":\"\"}},\"scene\":{\"camera\":{\"eye\":{\"x\":1.5,\"y\":1.5,\"z\":0.1}},\"xaxis\":{\"backgroundcolor\":\"white\",\"gridcolor\":\"#DFE8F3\",\"gridwidth\":2,\"linecolor\":\"#EBF0F8\",\"showbackground\":true,\"ticks\":\"\",\"zerolinecolor\":\"#EBF0F8\"},\"yaxis\":{\"backgroundcolor\":\"white\",\"gridcolor\":\"#DFE8F3\",\"gridwidth\":2,\"linecolor\":\"#EBF0F8\",\"showbackground\":true,\"ticks\":\"\",\"zerolinecolor\":\"#EBF0F8\"},\"zaxis\":{\"backgroundcolor\":\"white\",\"gridcolor\":\"#DFE8F3\",\"gridwidth\":2,\"linecolor\":\"#EBF0F8\",\"showbackground\":true,\"ticks\":\"\",\"zerolinecolor\":\"#EBF0F8\"}},\"shapedefaults\":{\"line\":{\"color\":\"#2a3f5f\"}},\"ternary\":{\"aaxis\":{\"gridcolor\":\"#DFE8F3\",\"linecolor\":\"#A2B1C6\",\"ticks\":\"\"},\"baxis\":{\"gridcolor\":\"#DFE8F3\",\"linecolor\":\"#A2B1C6\",\"ticks\":\"\"},\"bgcolor\":\"white\",\"caxis\":{\"gridcolor\":\"#DFE8F3\",\"linecolor\":\"#A2B1C6\",\"ticks\":\"\"}},\"title\":{\"x\":0.5},\"xaxis\":{\"automargin\":true,\"gridcolor\":\"#EBF0F8\",\"linecolor\":\"#EBF0F8\",\"linewidth\":2,\"showline\":true,\"ticks\":\"\",\"title\":{\"standoff\":15},\"zerolinecolor\":\"#EBF0F8\",\"zerolinewidth\":2},\"yaxis\":{\"automargin\":true,\"gridcolor\":\"#EBF0F8\",\"linecolor\":\"#EBF0F8\",\"linewidth\":2,\"showline\":true,\"ticks\":\"\",\"title\":{\"standoff\":15},\"zerolinecolor\":\"#EBF0F8\",\"zerolinewidth\":2}}},\"xaxis\":{\"anchor\":\"y\",\"domain\":[0.0,1.0],\"title\":{\"text\":\"body fat percentage\"}},\"yaxis\":{\"anchor\":\"x\",\"domain\":[0.0,1.0],\"title\":{\"text\":\"core temperature\"}}},                        {\"responsive\": true}                    ).then(function(){\n",
       "                            \n",
       "var gd = document.getElementById('95022e41-cc44-4f43-a9fa-2a19c707604a');\n",
       "var x = new MutationObserver(function (mutations, observer) {{\n",
       "        var display = window.getComputedStyle(gd).display;\n",
       "        if (!display || display === 'none') {{\n",
       "            console.log([gd, 'removed!']);\n",
       "            Plotly.purge(gd);\n",
       "            observer.disconnect();\n",
       "        }}\n",
       "}});\n",
       "\n",
       "// Listen for the removal of the full notebook cells\n",
       "var notebookContainer = gd.closest('#notebook-container');\n",
       "if (notebookContainer) {{\n",
       "    x.observe(notebookContainer, {childList: true});\n",
       "}}\n",
       "\n",
       "// Listen for the clearing of the current output cell\n",
       "var outputEl = gd.closest('.output');\n",
       "if (outputEl) {{\n",
       "    x.observe(outputEl, {childList: true});\n",
       "}}\n",
       "\n",
       "                        })                };                });            </script>        </div>"
      ]
     },
     "metadata": {},
     "output_type": "display_data"
    },
    {
     "data": {
      "application/vnd.plotly.v1+json": {
       "config": {
        "plotlyServerURL": "https://plot.ly"
       },
       "data": [
        {
         "hovertemplate": "protein content of last meal=%{x}<br>core temperature=%{y}<extra></extra>",
         "legendgroup": "",
         "marker": {
          "color": "#636efa",
          "size": 17,
          "symbol": "circle"
         },
         "mode": "markers",
         "name": "",
         "orientation": "v",
         "showlegend": false,
         "type": "scatter",
         "x": [
          7.66,
          13.36,
          12.9,
          13.45,
          10.53,
          11.17,
          16,
          10.3,
          5.71,
          15.38,
          18.47,
          8.52,
          7.36,
          7.78,
          10.76,
          19.94,
          5.86,
          17.56,
          8.14,
          22.18,
          4.43,
          12.29,
          4.83,
          13.68,
          18.52,
          7.12,
          6.99,
          17.39,
          10.6,
          9.03,
          9.54,
          13.29,
          8.79,
          7.72,
          15.43,
          7.17,
          8.9,
          19.72,
          8.47,
          21.73,
          5.95,
          19.16,
          7.28,
          11.57,
          7.62,
          5.33,
          15.95,
          13.04,
          11.96,
          8.96,
          24.89,
          17.45,
          23.65,
          11.9,
          20.52,
          6.76,
          11.71,
          11.51,
          11.76,
          13.78,
          16.51,
          26.61,
          14.84,
          4.99,
          9.98,
          19.91,
          6.5,
          8.2,
          18.86,
          16.26,
          3.93,
          7.66,
          14.68,
          6.4,
          5.31,
          13.52,
          7.9,
          10.86,
          7.91,
          21.93,
          9.51,
          12.79,
          9.64,
          13.31,
          6.45,
          9.44,
          10.04,
          22.78,
          11.12,
          13.99,
          14.22,
          15.06,
          10,
          7.35,
          12.18,
          15.84,
          9.79,
          21.3
         ],
         "xaxis": "x",
         "y": [
          38.42316895,
          39.01599822,
          39.14834088,
          39.06004863,
          38.65543905,
          38.6092188,
          39.47390806,
          38.81521612,
          37.77845286,
          39.17685034,
          39.52090819,
          38.57896943,
          38.28013391,
          38.40158039,
          38.65157641,
          39.61720308,
          37.72843549,
          39.36694049,
          37.98848685,
          39.93405104,
          37.60559023,
          38.83468198,
          37.39892664,
          38.98633063,
          39.72456882,
          38.09695504,
          37.59597881,
          39.49731323,
          38.50187636,
          38.27036031,
          38.69964224,
          39.08411118,
          38.29400364,
          38.39872285,
          39.29951536,
          38.37598649,
          38.46968433,
          39.58561173,
          38.12682317,
          39.80156649,
          37.92682179,
          39.67264697,
          38.21409556,
          38.93217418,
          37.80121676,
          37.52097889,
          39.34942824,
          38.9163822,
          38.72595498,
          38.35421436,
          40.17337876,
          39.48214424,
          39.9557292,
          39.02529641,
          39.70565695,
          37.87210056,
          38.92730588,
          38.75694066,
          38.98157028,
          39.07020183,
          39.31023381,
          40.26487847,
          39.19531025,
          37.46606804,
          38.61929591,
          39.74308443,
          37.9590829,
          38.52387016,
          39.58821189,
          39.48780846,
          37.32113362,
          38.30311301,
          39.32598796,
          38.18373964,
          37.78518905,
          38.97361387,
          37.97719515,
          38.92654301,
          37.98922316,
          39.87010492,
          38.51344083,
          39.14710639,
          38.61129304,
          38.95232638,
          37.46812464,
          38.24131363,
          38.7661591,
          39.87233432,
          38.87492299,
          39.09337261,
          39.00124171,
          39.25963687,
          38.6808734,
          37.93994229,
          38.79042609,
          39.48996228,
          38.57574159,
          39.76644658
         ],
         "yaxis": "y"
        }
       ],
       "layout": {
        "legend": {
         "tracegroupgap": 0
        },
        "template": {
         "data": {
          "bar": [
           {
            "error_x": {
             "color": "#2a3f5f"
            },
            "error_y": {
             "color": "#2a3f5f"
            },
            "marker": {
             "line": {
              "color": "white",
              "width": 0.5
             },
             "pattern": {
              "fillmode": "overlay",
              "size": 10,
              "solidity": 0.2
             }
            },
            "type": "bar"
           }
          ],
          "barpolar": [
           {
            "marker": {
             "line": {
              "color": "white",
              "width": 0.5
             },
             "pattern": {
              "fillmode": "overlay",
              "size": 10,
              "solidity": 0.2
             }
            },
            "type": "barpolar"
           }
          ],
          "box": [
           {
            "boxpoints": "outliers",
            "notched": false,
            "type": "box"
           }
          ],
          "carpet": [
           {
            "aaxis": {
             "endlinecolor": "#2a3f5f",
             "gridcolor": "#C8D4E3",
             "linecolor": "#C8D4E3",
             "minorgridcolor": "#C8D4E3",
             "startlinecolor": "#2a3f5f"
            },
            "baxis": {
             "endlinecolor": "#2a3f5f",
             "gridcolor": "#C8D4E3",
             "linecolor": "#C8D4E3",
             "minorgridcolor": "#C8D4E3",
             "startlinecolor": "#2a3f5f"
            },
            "type": "carpet"
           }
          ],
          "choropleth": [
           {
            "colorbar": {
             "outlinewidth": 0,
             "ticks": ""
            },
            "type": "choropleth"
           }
          ],
          "contour": [
           {
            "colorbar": {
             "outlinewidth": 0,
             "ticks": ""
            },
            "colorscale": [
             [
              0,
              "#0d0887"
             ],
             [
              0.1111111111111111,
              "#46039f"
             ],
             [
              0.2222222222222222,
              "#7201a8"
             ],
             [
              0.3333333333333333,
              "#9c179e"
             ],
             [
              0.4444444444444444,
              "#bd3786"
             ],
             [
              0.5555555555555556,
              "#d8576b"
             ],
             [
              0.6666666666666666,
              "#ed7953"
             ],
             [
              0.7777777777777778,
              "#fb9f3a"
             ],
             [
              0.8888888888888888,
              "#fdca26"
             ],
             [
              1,
              "#f0f921"
             ]
            ],
            "type": "contour"
           }
          ],
          "contourcarpet": [
           {
            "colorbar": {
             "outlinewidth": 0,
             "ticks": ""
            },
            "type": "contourcarpet"
           }
          ],
          "heatmap": [
           {
            "colorbar": {
             "outlinewidth": 0,
             "ticks": ""
            },
            "colorscale": [
             [
              0,
              "#0d0887"
             ],
             [
              0.1111111111111111,
              "#46039f"
             ],
             [
              0.2222222222222222,
              "#7201a8"
             ],
             [
              0.3333333333333333,
              "#9c179e"
             ],
             [
              0.4444444444444444,
              "#bd3786"
             ],
             [
              0.5555555555555556,
              "#d8576b"
             ],
             [
              0.6666666666666666,
              "#ed7953"
             ],
             [
              0.7777777777777778,
              "#fb9f3a"
             ],
             [
              0.8888888888888888,
              "#fdca26"
             ],
             [
              1,
              "#f0f921"
             ]
            ],
            "type": "heatmap"
           }
          ],
          "heatmapgl": [
           {
            "colorbar": {
             "outlinewidth": 0,
             "ticks": ""
            },
            "colorscale": [
             [
              0,
              "#0d0887"
             ],
             [
              0.1111111111111111,
              "#46039f"
             ],
             [
              0.2222222222222222,
              "#7201a8"
             ],
             [
              0.3333333333333333,
              "#9c179e"
             ],
             [
              0.4444444444444444,
              "#bd3786"
             ],
             [
              0.5555555555555556,
              "#d8576b"
             ],
             [
              0.6666666666666666,
              "#ed7953"
             ],
             [
              0.7777777777777778,
              "#fb9f3a"
             ],
             [
              0.8888888888888888,
              "#fdca26"
             ],
             [
              1,
              "#f0f921"
             ]
            ],
            "type": "heatmapgl"
           }
          ],
          "histogram": [
           {
            "marker": {
             "line": {
              "width": 1
             },
             "pattern": {
              "fillmode": "overlay",
              "size": 10,
              "solidity": 0.2
             }
            },
            "type": "histogram"
           }
          ],
          "histogram2d": [
           {
            "colorbar": {
             "outlinewidth": 0,
             "ticks": ""
            },
            "colorscale": [
             [
              0,
              "#0d0887"
             ],
             [
              0.1111111111111111,
              "#46039f"
             ],
             [
              0.2222222222222222,
              "#7201a8"
             ],
             [
              0.3333333333333333,
              "#9c179e"
             ],
             [
              0.4444444444444444,
              "#bd3786"
             ],
             [
              0.5555555555555556,
              "#d8576b"
             ],
             [
              0.6666666666666666,
              "#ed7953"
             ],
             [
              0.7777777777777778,
              "#fb9f3a"
             ],
             [
              0.8888888888888888,
              "#fdca26"
             ],
             [
              1,
              "#f0f921"
             ]
            ],
            "type": "histogram2d"
           }
          ],
          "histogram2dcontour": [
           {
            "colorbar": {
             "outlinewidth": 0,
             "ticks": ""
            },
            "colorscale": [
             [
              0,
              "#0d0887"
             ],
             [
              0.1111111111111111,
              "#46039f"
             ],
             [
              0.2222222222222222,
              "#7201a8"
             ],
             [
              0.3333333333333333,
              "#9c179e"
             ],
             [
              0.4444444444444444,
              "#bd3786"
             ],
             [
              0.5555555555555556,
              "#d8576b"
             ],
             [
              0.6666666666666666,
              "#ed7953"
             ],
             [
              0.7777777777777778,
              "#fb9f3a"
             ],
             [
              0.8888888888888888,
              "#fdca26"
             ],
             [
              1,
              "#f0f921"
             ]
            ],
            "type": "histogram2dcontour"
           }
          ],
          "mesh3d": [
           {
            "colorbar": {
             "outlinewidth": 0,
             "ticks": ""
            },
            "type": "mesh3d"
           }
          ],
          "parcoords": [
           {
            "line": {
             "colorbar": {
              "outlinewidth": 0,
              "ticks": ""
             }
            },
            "type": "parcoords"
           }
          ],
          "pie": [
           {
            "automargin": true,
            "type": "pie"
           }
          ],
          "scatter": [
           {
            "marker": {
             "colorbar": {
              "outlinewidth": 0,
              "ticks": ""
             },
             "opacity": 0.8
            },
            "type": "scatter"
           }
          ],
          "scatter3d": [
           {
            "line": {
             "colorbar": {
              "outlinewidth": 0,
              "ticks": ""
             }
            },
            "marker": {
             "colorbar": {
              "outlinewidth": 0,
              "ticks": ""
             },
             "opacity": 0.8
            },
            "type": "scatter3d"
           }
          ],
          "scattercarpet": [
           {
            "marker": {
             "colorbar": {
              "outlinewidth": 0,
              "ticks": ""
             }
            },
            "type": "scattercarpet"
           }
          ],
          "scattergeo": [
           {
            "marker": {
             "colorbar": {
              "outlinewidth": 0,
              "ticks": ""
             }
            },
            "type": "scattergeo"
           }
          ],
          "scattergl": [
           {
            "marker": {
             "colorbar": {
              "outlinewidth": 0,
              "ticks": ""
             }
            },
            "type": "scattergl"
           }
          ],
          "scattermapbox": [
           {
            "marker": {
             "colorbar": {
              "outlinewidth": 0,
              "ticks": ""
             }
            },
            "type": "scattermapbox"
           }
          ],
          "scatterpolar": [
           {
            "marker": {
             "colorbar": {
              "outlinewidth": 0,
              "ticks": ""
             }
            },
            "type": "scatterpolar"
           }
          ],
          "scatterpolargl": [
           {
            "marker": {
             "colorbar": {
              "outlinewidth": 0,
              "ticks": ""
             }
            },
            "type": "scatterpolargl"
           }
          ],
          "scatterternary": [
           {
            "marker": {
             "colorbar": {
              "outlinewidth": 0,
              "ticks": ""
             }
            },
            "type": "scatterternary"
           }
          ],
          "surface": [
           {
            "colorbar": {
             "outlinewidth": 0,
             "ticks": ""
            },
            "colorscale": [
             [
              0,
              "#0d0887"
             ],
             [
              0.1111111111111111,
              "#46039f"
             ],
             [
              0.2222222222222222,
              "#7201a8"
             ],
             [
              0.3333333333333333,
              "#9c179e"
             ],
             [
              0.4444444444444444,
              "#bd3786"
             ],
             [
              0.5555555555555556,
              "#d8576b"
             ],
             [
              0.6666666666666666,
              "#ed7953"
             ],
             [
              0.7777777777777778,
              "#fb9f3a"
             ],
             [
              0.8888888888888888,
              "#fdca26"
             ],
             [
              1,
              "#f0f921"
             ]
            ],
            "type": "surface"
           }
          ],
          "table": [
           {
            "cells": {
             "fill": {
              "color": "#EBF0F8"
             },
             "line": {
              "color": "white"
             }
            },
            "header": {
             "fill": {
              "color": "#C8D4E3"
             },
             "line": {
              "color": "white"
             }
            },
            "type": "table"
           }
          ]
         },
         "layout": {
          "annotationdefaults": {
           "arrowcolor": "#2a3f5f",
           "arrowhead": 0,
           "arrowwidth": 1
          },
          "autotypenumbers": "strict",
          "coloraxis": {
           "colorbar": {
            "outlinewidth": 0,
            "ticks": ""
           }
          },
          "colorscale": {
           "diverging": [
            [
             0,
             "#8e0152"
            ],
            [
             0.1,
             "#c51b7d"
            ],
            [
             0.2,
             "#de77ae"
            ],
            [
             0.3,
             "#f1b6da"
            ],
            [
             0.4,
             "#fde0ef"
            ],
            [
             0.5,
             "#f7f7f7"
            ],
            [
             0.6,
             "#e6f5d0"
            ],
            [
             0.7,
             "#b8e186"
            ],
            [
             0.8,
             "#7fbc41"
            ],
            [
             0.9,
             "#4d9221"
            ],
            [
             1,
             "#276419"
            ]
           ],
           "sequential": [
            [
             0,
             "#0d0887"
            ],
            [
             0.1111111111111111,
             "#46039f"
            ],
            [
             0.2222222222222222,
             "#7201a8"
            ],
            [
             0.3333333333333333,
             "#9c179e"
            ],
            [
             0.4444444444444444,
             "#bd3786"
            ],
            [
             0.5555555555555556,
             "#d8576b"
            ],
            [
             0.6666666666666666,
             "#ed7953"
            ],
            [
             0.7777777777777778,
             "#fb9f3a"
            ],
            [
             0.8888888888888888,
             "#fdca26"
            ],
            [
             1,
             "#f0f921"
            ]
           ],
           "sequentialminus": [
            [
             0,
             "#0d0887"
            ],
            [
             0.1111111111111111,
             "#46039f"
            ],
            [
             0.2222222222222222,
             "#7201a8"
            ],
            [
             0.3333333333333333,
             "#9c179e"
            ],
            [
             0.4444444444444444,
             "#bd3786"
            ],
            [
             0.5555555555555556,
             "#d8576b"
            ],
            [
             0.6666666666666666,
             "#ed7953"
            ],
            [
             0.7777777777777778,
             "#fb9f3a"
            ],
            [
             0.8888888888888888,
             "#fdca26"
            ],
            [
             1,
             "#f0f921"
            ]
           ]
          },
          "colorway": [
           "#636efa",
           "#EF553B",
           "#00cc96",
           "#ab63fa",
           "#FFA15A",
           "#19d3f3",
           "#FF6692",
           "#B6E880",
           "#FF97FF",
           "#FECB52"
          ],
          "font": {
           "color": "#2a3f5f"
          },
          "geo": {
           "bgcolor": "white",
           "lakecolor": "white",
           "landcolor": "white",
           "showlakes": true,
           "showland": true,
           "subunitcolor": "#C8D4E3"
          },
          "height": 400,
          "hoverlabel": {
           "align": "left"
          },
          "hovermode": "closest",
          "mapbox": {
           "style": "light"
          },
          "margin": {
           "b": 2,
           "l": 2,
           "r": 2,
           "t": 30
          },
          "paper_bgcolor": "white",
          "plot_bgcolor": "white",
          "polar": {
           "angularaxis": {
            "gridcolor": "#EBF0F8",
            "linecolor": "#EBF0F8",
            "ticks": ""
           },
           "bgcolor": "white",
           "radialaxis": {
            "gridcolor": "#EBF0F8",
            "linecolor": "#EBF0F8",
            "ticks": ""
           }
          },
          "scene": {
           "camera": {
            "eye": {
             "x": 1.5,
             "y": 1.5,
             "z": 0.1
            }
           },
           "xaxis": {
            "backgroundcolor": "white",
            "gridcolor": "#DFE8F3",
            "gridwidth": 2,
            "linecolor": "#EBF0F8",
            "showbackground": true,
            "ticks": "",
            "zerolinecolor": "#EBF0F8"
           },
           "yaxis": {
            "backgroundcolor": "white",
            "gridcolor": "#DFE8F3",
            "gridwidth": 2,
            "linecolor": "#EBF0F8",
            "showbackground": true,
            "ticks": "",
            "zerolinecolor": "#EBF0F8"
           },
           "zaxis": {
            "backgroundcolor": "white",
            "gridcolor": "#DFE8F3",
            "gridwidth": 2,
            "linecolor": "#EBF0F8",
            "showbackground": true,
            "ticks": "",
            "zerolinecolor": "#EBF0F8"
           }
          },
          "shapedefaults": {
           "line": {
            "color": "#2a3f5f"
           }
          },
          "ternary": {
           "aaxis": {
            "gridcolor": "#DFE8F3",
            "linecolor": "#A2B1C6",
            "ticks": ""
           },
           "baxis": {
            "gridcolor": "#DFE8F3",
            "linecolor": "#A2B1C6",
            "ticks": ""
           },
           "bgcolor": "white",
           "caxis": {
            "gridcolor": "#DFE8F3",
            "linecolor": "#A2B1C6",
            "ticks": ""
           }
          },
          "title": {
           "x": 0.5
          },
          "xaxis": {
           "automargin": true,
           "gridcolor": "#EBF0F8",
           "linecolor": "#EBF0F8",
           "linewidth": 2,
           "showline": true,
           "ticks": "",
           "title": {
            "standoff": 15
           },
           "zerolinecolor": "#EBF0F8",
           "zerolinewidth": 2
          },
          "yaxis": {
           "automargin": true,
           "gridcolor": "#EBF0F8",
           "linecolor": "#EBF0F8",
           "linewidth": 2,
           "showline": true,
           "ticks": "",
           "title": {
            "standoff": 15
           },
           "zerolinecolor": "#EBF0F8",
           "zerolinewidth": 2
          }
         }
        },
        "xaxis": {
         "anchor": "y",
         "domain": [
          0,
          1
         ],
         "title": {
          "text": "protein content of last meal"
         }
        },
        "yaxis": {
         "anchor": "x",
         "domain": [
          0,
          1
         ],
         "title": {
          "text": "core temperature"
         }
        }
       }
      },
      "text/html": [
       "<div>                            <div id=\"c066877f-8e7c-46b1-b2a0-cb8346c63af9\" class=\"plotly-graph-div\" style=\"height:400px; width:100%;\"></div>            <script type=\"text/javascript\">                require([\"plotly\"], function(Plotly) {                    window.PLOTLYENV=window.PLOTLYENV || {};                                    if (document.getElementById(\"c066877f-8e7c-46b1-b2a0-cb8346c63af9\")) {                    Plotly.newPlot(                        \"c066877f-8e7c-46b1-b2a0-cb8346c63af9\",                        [{\"hovertemplate\":\"protein content of last meal=%{x}<br>core temperature=%{y}<extra></extra>\",\"legendgroup\":\"\",\"marker\":{\"color\":\"#636efa\",\"size\":17,\"symbol\":\"circle\"},\"mode\":\"markers\",\"name\":\"\",\"orientation\":\"v\",\"showlegend\":false,\"type\":\"scatter\",\"x\":[7.66,13.36,12.9,13.45,10.53,11.17,16.0,10.3,5.71,15.38,18.47,8.52,7.36,7.78,10.76,19.94,5.86,17.56,8.14,22.18,4.43,12.29,4.83,13.68,18.52,7.12,6.99,17.39,10.6,9.03,9.54,13.29,8.79,7.72,15.43,7.17,8.9,19.72,8.47,21.73,5.95,19.16,7.28,11.57,7.62,5.33,15.95,13.04,11.96,8.96,24.89,17.45,23.65,11.9,20.52,6.76,11.71,11.51,11.76,13.78,16.51,26.61,14.84,4.99,9.98,19.91,6.5,8.2,18.86,16.26,3.93,7.66,14.68,6.4,5.31,13.52,7.9,10.86,7.91,21.93,9.51,12.79,9.64,13.31,6.45,9.44,10.04,22.78,11.12,13.99,14.22,15.06,10.0,7.35,12.18,15.84,9.79,21.3],\"xaxis\":\"x\",\"y\":[38.42316895,39.01599822,39.14834088,39.06004863,38.65543905,38.6092188,39.47390806,38.81521612,37.77845286,39.17685034,39.52090819,38.57896943,38.28013391,38.40158039,38.65157641,39.61720308,37.72843549,39.36694049,37.98848685,39.93405104,37.60559023,38.83468198,37.39892664,38.98633063,39.72456882,38.09695504,37.59597881,39.49731323,38.50187636,38.27036031,38.69964224,39.08411118,38.29400364,38.39872285,39.29951536,38.37598649,38.46968433,39.58561173,38.12682317,39.80156649,37.92682179,39.67264697,38.21409556,38.93217418,37.80121676,37.52097889,39.34942824,38.9163822,38.72595498,38.35421436,40.17337876,39.48214424,39.9557292,39.02529641,39.70565695,37.87210056,38.92730588,38.75694066,38.98157028,39.07020183,39.31023381,40.26487847,39.19531025,37.46606804,38.61929591,39.74308443,37.9590829,38.52387016,39.58821189,39.48780846,37.32113362,38.30311301,39.32598796,38.18373964,37.78518905,38.97361387,37.97719515,38.92654301,37.98922316,39.87010492,38.51344083,39.14710639,38.61129304,38.95232638,37.46812464,38.24131363,38.7661591,39.87233432,38.87492299,39.09337261,39.00124171,39.25963687,38.6808734,37.93994229,38.79042609,39.48996228,38.57574159,39.76644658],\"yaxis\":\"y\"}],                        {\"legend\":{\"tracegroupgap\":0},\"template\":{\"data\":{\"bar\":[{\"error_x\":{\"color\":\"#2a3f5f\"},\"error_y\":{\"color\":\"#2a3f5f\"},\"marker\":{\"line\":{\"color\":\"white\",\"width\":0.5},\"pattern\":{\"fillmode\":\"overlay\",\"size\":10,\"solidity\":0.2}},\"type\":\"bar\"}],\"barpolar\":[{\"marker\":{\"line\":{\"color\":\"white\",\"width\":0.5},\"pattern\":{\"fillmode\":\"overlay\",\"size\":10,\"solidity\":0.2}},\"type\":\"barpolar\"}],\"box\":[{\"boxpoints\":\"outliers\",\"notched\":false,\"type\":\"box\"}],\"carpet\":[{\"aaxis\":{\"endlinecolor\":\"#2a3f5f\",\"gridcolor\":\"#C8D4E3\",\"linecolor\":\"#C8D4E3\",\"minorgridcolor\":\"#C8D4E3\",\"startlinecolor\":\"#2a3f5f\"},\"baxis\":{\"endlinecolor\":\"#2a3f5f\",\"gridcolor\":\"#C8D4E3\",\"linecolor\":\"#C8D4E3\",\"minorgridcolor\":\"#C8D4E3\",\"startlinecolor\":\"#2a3f5f\"},\"type\":\"carpet\"}],\"choropleth\":[{\"colorbar\":{\"outlinewidth\":0,\"ticks\":\"\"},\"type\":\"choropleth\"}],\"contour\":[{\"colorbar\":{\"outlinewidth\":0,\"ticks\":\"\"},\"colorscale\":[[0.0,\"#0d0887\"],[0.1111111111111111,\"#46039f\"],[0.2222222222222222,\"#7201a8\"],[0.3333333333333333,\"#9c179e\"],[0.4444444444444444,\"#bd3786\"],[0.5555555555555556,\"#d8576b\"],[0.6666666666666666,\"#ed7953\"],[0.7777777777777778,\"#fb9f3a\"],[0.8888888888888888,\"#fdca26\"],[1.0,\"#f0f921\"]],\"type\":\"contour\"}],\"contourcarpet\":[{\"colorbar\":{\"outlinewidth\":0,\"ticks\":\"\"},\"type\":\"contourcarpet\"}],\"heatmap\":[{\"colorbar\":{\"outlinewidth\":0,\"ticks\":\"\"},\"colorscale\":[[0.0,\"#0d0887\"],[0.1111111111111111,\"#46039f\"],[0.2222222222222222,\"#7201a8\"],[0.3333333333333333,\"#9c179e\"],[0.4444444444444444,\"#bd3786\"],[0.5555555555555556,\"#d8576b\"],[0.6666666666666666,\"#ed7953\"],[0.7777777777777778,\"#fb9f3a\"],[0.8888888888888888,\"#fdca26\"],[1.0,\"#f0f921\"]],\"type\":\"heatmap\"}],\"heatmapgl\":[{\"colorbar\":{\"outlinewidth\":0,\"ticks\":\"\"},\"colorscale\":[[0.0,\"#0d0887\"],[0.1111111111111111,\"#46039f\"],[0.2222222222222222,\"#7201a8\"],[0.3333333333333333,\"#9c179e\"],[0.4444444444444444,\"#bd3786\"],[0.5555555555555556,\"#d8576b\"],[0.6666666666666666,\"#ed7953\"],[0.7777777777777778,\"#fb9f3a\"],[0.8888888888888888,\"#fdca26\"],[1.0,\"#f0f921\"]],\"type\":\"heatmapgl\"}],\"histogram\":[{\"marker\":{\"line\":{\"width\":1},\"pattern\":{\"fillmode\":\"overlay\",\"size\":10,\"solidity\":0.2}},\"type\":\"histogram\"}],\"histogram2d\":[{\"colorbar\":{\"outlinewidth\":0,\"ticks\":\"\"},\"colorscale\":[[0.0,\"#0d0887\"],[0.1111111111111111,\"#46039f\"],[0.2222222222222222,\"#7201a8\"],[0.3333333333333333,\"#9c179e\"],[0.4444444444444444,\"#bd3786\"],[0.5555555555555556,\"#d8576b\"],[0.6666666666666666,\"#ed7953\"],[0.7777777777777778,\"#fb9f3a\"],[0.8888888888888888,\"#fdca26\"],[1.0,\"#f0f921\"]],\"type\":\"histogram2d\"}],\"histogram2dcontour\":[{\"colorbar\":{\"outlinewidth\":0,\"ticks\":\"\"},\"colorscale\":[[0.0,\"#0d0887\"],[0.1111111111111111,\"#46039f\"],[0.2222222222222222,\"#7201a8\"],[0.3333333333333333,\"#9c179e\"],[0.4444444444444444,\"#bd3786\"],[0.5555555555555556,\"#d8576b\"],[0.6666666666666666,\"#ed7953\"],[0.7777777777777778,\"#fb9f3a\"],[0.8888888888888888,\"#fdca26\"],[1.0,\"#f0f921\"]],\"type\":\"histogram2dcontour\"}],\"mesh3d\":[{\"colorbar\":{\"outlinewidth\":0,\"ticks\":\"\"},\"type\":\"mesh3d\"}],\"parcoords\":[{\"line\":{\"colorbar\":{\"outlinewidth\":0,\"ticks\":\"\"}},\"type\":\"parcoords\"}],\"pie\":[{\"automargin\":true,\"type\":\"pie\"}],\"scatter\":[{\"marker\":{\"colorbar\":{\"outlinewidth\":0,\"ticks\":\"\"},\"opacity\":0.8},\"type\":\"scatter\"}],\"scatter3d\":[{\"line\":{\"colorbar\":{\"outlinewidth\":0,\"ticks\":\"\"}},\"marker\":{\"colorbar\":{\"outlinewidth\":0,\"ticks\":\"\"},\"opacity\":0.8},\"type\":\"scatter3d\"}],\"scattercarpet\":[{\"marker\":{\"colorbar\":{\"outlinewidth\":0,\"ticks\":\"\"}},\"type\":\"scattercarpet\"}],\"scattergeo\":[{\"marker\":{\"colorbar\":{\"outlinewidth\":0,\"ticks\":\"\"}},\"type\":\"scattergeo\"}],\"scattergl\":[{\"marker\":{\"colorbar\":{\"outlinewidth\":0,\"ticks\":\"\"}},\"type\":\"scattergl\"}],\"scattermapbox\":[{\"marker\":{\"colorbar\":{\"outlinewidth\":0,\"ticks\":\"\"}},\"type\":\"scattermapbox\"}],\"scatterpolar\":[{\"marker\":{\"colorbar\":{\"outlinewidth\":0,\"ticks\":\"\"}},\"type\":\"scatterpolar\"}],\"scatterpolargl\":[{\"marker\":{\"colorbar\":{\"outlinewidth\":0,\"ticks\":\"\"}},\"type\":\"scatterpolargl\"}],\"scatterternary\":[{\"marker\":{\"colorbar\":{\"outlinewidth\":0,\"ticks\":\"\"}},\"type\":\"scatterternary\"}],\"surface\":[{\"colorbar\":{\"outlinewidth\":0,\"ticks\":\"\"},\"colorscale\":[[0.0,\"#0d0887\"],[0.1111111111111111,\"#46039f\"],[0.2222222222222222,\"#7201a8\"],[0.3333333333333333,\"#9c179e\"],[0.4444444444444444,\"#bd3786\"],[0.5555555555555556,\"#d8576b\"],[0.6666666666666666,\"#ed7953\"],[0.7777777777777778,\"#fb9f3a\"],[0.8888888888888888,\"#fdca26\"],[1.0,\"#f0f921\"]],\"type\":\"surface\"}],\"table\":[{\"cells\":{\"fill\":{\"color\":\"#EBF0F8\"},\"line\":{\"color\":\"white\"}},\"header\":{\"fill\":{\"color\":\"#C8D4E3\"},\"line\":{\"color\":\"white\"}},\"type\":\"table\"}]},\"layout\":{\"annotationdefaults\":{\"arrowcolor\":\"#2a3f5f\",\"arrowhead\":0,\"arrowwidth\":1},\"autotypenumbers\":\"strict\",\"coloraxis\":{\"colorbar\":{\"outlinewidth\":0,\"ticks\":\"\"}},\"colorscale\":{\"diverging\":[[0,\"#8e0152\"],[0.1,\"#c51b7d\"],[0.2,\"#de77ae\"],[0.3,\"#f1b6da\"],[0.4,\"#fde0ef\"],[0.5,\"#f7f7f7\"],[0.6,\"#e6f5d0\"],[0.7,\"#b8e186\"],[0.8,\"#7fbc41\"],[0.9,\"#4d9221\"],[1,\"#276419\"]],\"sequential\":[[0.0,\"#0d0887\"],[0.1111111111111111,\"#46039f\"],[0.2222222222222222,\"#7201a8\"],[0.3333333333333333,\"#9c179e\"],[0.4444444444444444,\"#bd3786\"],[0.5555555555555556,\"#d8576b\"],[0.6666666666666666,\"#ed7953\"],[0.7777777777777778,\"#fb9f3a\"],[0.8888888888888888,\"#fdca26\"],[1.0,\"#f0f921\"]],\"sequentialminus\":[[0.0,\"#0d0887\"],[0.1111111111111111,\"#46039f\"],[0.2222222222222222,\"#7201a8\"],[0.3333333333333333,\"#9c179e\"],[0.4444444444444444,\"#bd3786\"],[0.5555555555555556,\"#d8576b\"],[0.6666666666666666,\"#ed7953\"],[0.7777777777777778,\"#fb9f3a\"],[0.8888888888888888,\"#fdca26\"],[1.0,\"#f0f921\"]]},\"colorway\":[\"#636efa\",\"#EF553B\",\"#00cc96\",\"#ab63fa\",\"#FFA15A\",\"#19d3f3\",\"#FF6692\",\"#B6E880\",\"#FF97FF\",\"#FECB52\"],\"font\":{\"color\":\"#2a3f5f\"},\"geo\":{\"bgcolor\":\"white\",\"lakecolor\":\"white\",\"landcolor\":\"white\",\"showlakes\":true,\"showland\":true,\"subunitcolor\":\"#C8D4E3\"},\"height\":400,\"hoverlabel\":{\"align\":\"left\"},\"hovermode\":\"closest\",\"mapbox\":{\"style\":\"light\"},\"margin\":{\"b\":2,\"l\":2,\"r\":2,\"t\":30},\"paper_bgcolor\":\"white\",\"plot_bgcolor\":\"white\",\"polar\":{\"angularaxis\":{\"gridcolor\":\"#EBF0F8\",\"linecolor\":\"#EBF0F8\",\"ticks\":\"\"},\"bgcolor\":\"white\",\"radialaxis\":{\"gridcolor\":\"#EBF0F8\",\"linecolor\":\"#EBF0F8\",\"ticks\":\"\"}},\"scene\":{\"camera\":{\"eye\":{\"x\":1.5,\"y\":1.5,\"z\":0.1}},\"xaxis\":{\"backgroundcolor\":\"white\",\"gridcolor\":\"#DFE8F3\",\"gridwidth\":2,\"linecolor\":\"#EBF0F8\",\"showbackground\":true,\"ticks\":\"\",\"zerolinecolor\":\"#EBF0F8\"},\"yaxis\":{\"backgroundcolor\":\"white\",\"gridcolor\":\"#DFE8F3\",\"gridwidth\":2,\"linecolor\":\"#EBF0F8\",\"showbackground\":true,\"ticks\":\"\",\"zerolinecolor\":\"#EBF0F8\"},\"zaxis\":{\"backgroundcolor\":\"white\",\"gridcolor\":\"#DFE8F3\",\"gridwidth\":2,\"linecolor\":\"#EBF0F8\",\"showbackground\":true,\"ticks\":\"\",\"zerolinecolor\":\"#EBF0F8\"}},\"shapedefaults\":{\"line\":{\"color\":\"#2a3f5f\"}},\"ternary\":{\"aaxis\":{\"gridcolor\":\"#DFE8F3\",\"linecolor\":\"#A2B1C6\",\"ticks\":\"\"},\"baxis\":{\"gridcolor\":\"#DFE8F3\",\"linecolor\":\"#A2B1C6\",\"ticks\":\"\"},\"bgcolor\":\"white\",\"caxis\":{\"gridcolor\":\"#DFE8F3\",\"linecolor\":\"#A2B1C6\",\"ticks\":\"\"}},\"title\":{\"x\":0.5},\"xaxis\":{\"automargin\":true,\"gridcolor\":\"#EBF0F8\",\"linecolor\":\"#EBF0F8\",\"linewidth\":2,\"showline\":true,\"ticks\":\"\",\"title\":{\"standoff\":15},\"zerolinecolor\":\"#EBF0F8\",\"zerolinewidth\":2},\"yaxis\":{\"automargin\":true,\"gridcolor\":\"#EBF0F8\",\"linecolor\":\"#EBF0F8\",\"linewidth\":2,\"showline\":true,\"ticks\":\"\",\"title\":{\"standoff\":15},\"zerolinecolor\":\"#EBF0F8\",\"zerolinewidth\":2}}},\"xaxis\":{\"anchor\":\"y\",\"domain\":[0.0,1.0],\"title\":{\"text\":\"protein content of last meal\"}},\"yaxis\":{\"anchor\":\"x\",\"domain\":[0.0,1.0],\"title\":{\"text\":\"core temperature\"}}},                        {\"responsive\": true}                    ).then(function(){\n",
       "                            \n",
       "var gd = document.getElementById('c066877f-8e7c-46b1-b2a0-cb8346c63af9');\n",
       "var x = new MutationObserver(function (mutations, observer) {{\n",
       "        var display = window.getComputedStyle(gd).display;\n",
       "        if (!display || display === 'none') {{\n",
       "            console.log([gd, 'removed!']);\n",
       "            Plotly.purge(gd);\n",
       "            observer.disconnect();\n",
       "        }}\n",
       "}});\n",
       "\n",
       "// Listen for the removal of the full notebook cells\n",
       "var notebookContainer = gd.closest('#notebook-container');\n",
       "if (notebookContainer) {{\n",
       "    x.observe(notebookContainer, {childList: true});\n",
       "}}\n",
       "\n",
       "// Listen for the clearing of the current output cell\n",
       "var outputEl = gd.closest('.output');\n",
       "if (outputEl) {{\n",
       "    x.observe(outputEl, {childList: true});\n",
       "}}\n",
       "\n",
       "                        })                };                });            </script>        </div>"
      ]
     },
     "metadata": {},
     "output_type": "display_data"
    },
    {
     "data": {
      "application/vnd.plotly.v1+json": {
       "config": {
        "plotlyServerURL": "https://plot.ly"
       },
       "data": [
        {
         "hovertemplate": "age=%{x}<br>core temperature=%{y}<extra></extra>",
         "legendgroup": "",
         "marker": {
          "color": "#636efa",
          "size": 17,
          "symbol": "circle"
         },
         "mode": "markers",
         "name": "",
         "orientation": "v",
         "showlegend": false,
         "type": "scatter",
         "x": [
          6.9,
          5.4,
          5.4,
          4.8,
          4.8,
          7.8,
          2.7,
          5.7,
          1.5,
          1.8,
          4.2,
          4.5,
          1.5,
          5.1,
          4.8,
          5.1,
          3.6,
          4.2,
          2.7,
          8.7,
          0.9,
          6.3,
          1.2,
          2.7,
          6,
          6,
          0.6,
          3.9,
          6,
          5.7,
          6.9,
          5.1,
          2.1,
          3.6,
          6.3,
          2.4,
          8.4,
          7.5,
          5.7,
          5.7,
          2.7,
          4.2,
          6.9,
          3,
          1.8,
          2.4,
          6.3,
          0.6,
          1.8,
          4.8,
          8.4,
          8.1,
          6.3,
          8.7,
          4.5,
          4.5,
          7.5,
          1.2,
          5.7,
          0.6,
          6.9,
          8.1,
          0.6,
          1.2,
          6.6,
          8.1,
          2.7,
          3.9,
          4.2,
          6.9,
          1.2,
          3.9,
          3.6,
          0.3,
          3,
          8.7,
          2.1,
          6.6,
          1.5,
          5.1,
          6,
          2.1,
          6,
          4.2,
          1.5,
          1.8,
          1.8,
          6.9,
          6.9,
          4.5,
          1.8,
          8.4,
          3,
          4.5,
          1.8,
          6.6,
          6.9,
          6
         ],
         "xaxis": "x",
         "y": [
          38.42316895,
          39.01599822,
          39.14834088,
          39.06004863,
          38.65543905,
          38.6092188,
          39.47390806,
          38.81521612,
          37.77845286,
          39.17685034,
          39.52090819,
          38.57896943,
          38.28013391,
          38.40158039,
          38.65157641,
          39.61720308,
          37.72843549,
          39.36694049,
          37.98848685,
          39.93405104,
          37.60559023,
          38.83468198,
          37.39892664,
          38.98633063,
          39.72456882,
          38.09695504,
          37.59597881,
          39.49731323,
          38.50187636,
          38.27036031,
          38.69964224,
          39.08411118,
          38.29400364,
          38.39872285,
          39.29951536,
          38.37598649,
          38.46968433,
          39.58561173,
          38.12682317,
          39.80156649,
          37.92682179,
          39.67264697,
          38.21409556,
          38.93217418,
          37.80121676,
          37.52097889,
          39.34942824,
          38.9163822,
          38.72595498,
          38.35421436,
          40.17337876,
          39.48214424,
          39.9557292,
          39.02529641,
          39.70565695,
          37.87210056,
          38.92730588,
          38.75694066,
          38.98157028,
          39.07020183,
          39.31023381,
          40.26487847,
          39.19531025,
          37.46606804,
          38.61929591,
          39.74308443,
          37.9590829,
          38.52387016,
          39.58821189,
          39.48780846,
          37.32113362,
          38.30311301,
          39.32598796,
          38.18373964,
          37.78518905,
          38.97361387,
          37.97719515,
          38.92654301,
          37.98922316,
          39.87010492,
          38.51344083,
          39.14710639,
          38.61129304,
          38.95232638,
          37.46812464,
          38.24131363,
          38.7661591,
          39.87233432,
          38.87492299,
          39.09337261,
          39.00124171,
          39.25963687,
          38.6808734,
          37.93994229,
          38.79042609,
          39.48996228,
          38.57574159,
          39.76644658
         ],
         "yaxis": "y"
        }
       ],
       "layout": {
        "legend": {
         "tracegroupgap": 0
        },
        "template": {
         "data": {
          "bar": [
           {
            "error_x": {
             "color": "#2a3f5f"
            },
            "error_y": {
             "color": "#2a3f5f"
            },
            "marker": {
             "line": {
              "color": "white",
              "width": 0.5
             },
             "pattern": {
              "fillmode": "overlay",
              "size": 10,
              "solidity": 0.2
             }
            },
            "type": "bar"
           }
          ],
          "barpolar": [
           {
            "marker": {
             "line": {
              "color": "white",
              "width": 0.5
             },
             "pattern": {
              "fillmode": "overlay",
              "size": 10,
              "solidity": 0.2
             }
            },
            "type": "barpolar"
           }
          ],
          "box": [
           {
            "boxpoints": "outliers",
            "notched": false,
            "type": "box"
           }
          ],
          "carpet": [
           {
            "aaxis": {
             "endlinecolor": "#2a3f5f",
             "gridcolor": "#C8D4E3",
             "linecolor": "#C8D4E3",
             "minorgridcolor": "#C8D4E3",
             "startlinecolor": "#2a3f5f"
            },
            "baxis": {
             "endlinecolor": "#2a3f5f",
             "gridcolor": "#C8D4E3",
             "linecolor": "#C8D4E3",
             "minorgridcolor": "#C8D4E3",
             "startlinecolor": "#2a3f5f"
            },
            "type": "carpet"
           }
          ],
          "choropleth": [
           {
            "colorbar": {
             "outlinewidth": 0,
             "ticks": ""
            },
            "type": "choropleth"
           }
          ],
          "contour": [
           {
            "colorbar": {
             "outlinewidth": 0,
             "ticks": ""
            },
            "colorscale": [
             [
              0,
              "#0d0887"
             ],
             [
              0.1111111111111111,
              "#46039f"
             ],
             [
              0.2222222222222222,
              "#7201a8"
             ],
             [
              0.3333333333333333,
              "#9c179e"
             ],
             [
              0.4444444444444444,
              "#bd3786"
             ],
             [
              0.5555555555555556,
              "#d8576b"
             ],
             [
              0.6666666666666666,
              "#ed7953"
             ],
             [
              0.7777777777777778,
              "#fb9f3a"
             ],
             [
              0.8888888888888888,
              "#fdca26"
             ],
             [
              1,
              "#f0f921"
             ]
            ],
            "type": "contour"
           }
          ],
          "contourcarpet": [
           {
            "colorbar": {
             "outlinewidth": 0,
             "ticks": ""
            },
            "type": "contourcarpet"
           }
          ],
          "heatmap": [
           {
            "colorbar": {
             "outlinewidth": 0,
             "ticks": ""
            },
            "colorscale": [
             [
              0,
              "#0d0887"
             ],
             [
              0.1111111111111111,
              "#46039f"
             ],
             [
              0.2222222222222222,
              "#7201a8"
             ],
             [
              0.3333333333333333,
              "#9c179e"
             ],
             [
              0.4444444444444444,
              "#bd3786"
             ],
             [
              0.5555555555555556,
              "#d8576b"
             ],
             [
              0.6666666666666666,
              "#ed7953"
             ],
             [
              0.7777777777777778,
              "#fb9f3a"
             ],
             [
              0.8888888888888888,
              "#fdca26"
             ],
             [
              1,
              "#f0f921"
             ]
            ],
            "type": "heatmap"
           }
          ],
          "heatmapgl": [
           {
            "colorbar": {
             "outlinewidth": 0,
             "ticks": ""
            },
            "colorscale": [
             [
              0,
              "#0d0887"
             ],
             [
              0.1111111111111111,
              "#46039f"
             ],
             [
              0.2222222222222222,
              "#7201a8"
             ],
             [
              0.3333333333333333,
              "#9c179e"
             ],
             [
              0.4444444444444444,
              "#bd3786"
             ],
             [
              0.5555555555555556,
              "#d8576b"
             ],
             [
              0.6666666666666666,
              "#ed7953"
             ],
             [
              0.7777777777777778,
              "#fb9f3a"
             ],
             [
              0.8888888888888888,
              "#fdca26"
             ],
             [
              1,
              "#f0f921"
             ]
            ],
            "type": "heatmapgl"
           }
          ],
          "histogram": [
           {
            "marker": {
             "line": {
              "width": 1
             },
             "pattern": {
              "fillmode": "overlay",
              "size": 10,
              "solidity": 0.2
             }
            },
            "type": "histogram"
           }
          ],
          "histogram2d": [
           {
            "colorbar": {
             "outlinewidth": 0,
             "ticks": ""
            },
            "colorscale": [
             [
              0,
              "#0d0887"
             ],
             [
              0.1111111111111111,
              "#46039f"
             ],
             [
              0.2222222222222222,
              "#7201a8"
             ],
             [
              0.3333333333333333,
              "#9c179e"
             ],
             [
              0.4444444444444444,
              "#bd3786"
             ],
             [
              0.5555555555555556,
              "#d8576b"
             ],
             [
              0.6666666666666666,
              "#ed7953"
             ],
             [
              0.7777777777777778,
              "#fb9f3a"
             ],
             [
              0.8888888888888888,
              "#fdca26"
             ],
             [
              1,
              "#f0f921"
             ]
            ],
            "type": "histogram2d"
           }
          ],
          "histogram2dcontour": [
           {
            "colorbar": {
             "outlinewidth": 0,
             "ticks": ""
            },
            "colorscale": [
             [
              0,
              "#0d0887"
             ],
             [
              0.1111111111111111,
              "#46039f"
             ],
             [
              0.2222222222222222,
              "#7201a8"
             ],
             [
              0.3333333333333333,
              "#9c179e"
             ],
             [
              0.4444444444444444,
              "#bd3786"
             ],
             [
              0.5555555555555556,
              "#d8576b"
             ],
             [
              0.6666666666666666,
              "#ed7953"
             ],
             [
              0.7777777777777778,
              "#fb9f3a"
             ],
             [
              0.8888888888888888,
              "#fdca26"
             ],
             [
              1,
              "#f0f921"
             ]
            ],
            "type": "histogram2dcontour"
           }
          ],
          "mesh3d": [
           {
            "colorbar": {
             "outlinewidth": 0,
             "ticks": ""
            },
            "type": "mesh3d"
           }
          ],
          "parcoords": [
           {
            "line": {
             "colorbar": {
              "outlinewidth": 0,
              "ticks": ""
             }
            },
            "type": "parcoords"
           }
          ],
          "pie": [
           {
            "automargin": true,
            "type": "pie"
           }
          ],
          "scatter": [
           {
            "marker": {
             "colorbar": {
              "outlinewidth": 0,
              "ticks": ""
             },
             "opacity": 0.8
            },
            "type": "scatter"
           }
          ],
          "scatter3d": [
           {
            "line": {
             "colorbar": {
              "outlinewidth": 0,
              "ticks": ""
             }
            },
            "marker": {
             "colorbar": {
              "outlinewidth": 0,
              "ticks": ""
             },
             "opacity": 0.8
            },
            "type": "scatter3d"
           }
          ],
          "scattercarpet": [
           {
            "marker": {
             "colorbar": {
              "outlinewidth": 0,
              "ticks": ""
             }
            },
            "type": "scattercarpet"
           }
          ],
          "scattergeo": [
           {
            "marker": {
             "colorbar": {
              "outlinewidth": 0,
              "ticks": ""
             }
            },
            "type": "scattergeo"
           }
          ],
          "scattergl": [
           {
            "marker": {
             "colorbar": {
              "outlinewidth": 0,
              "ticks": ""
             }
            },
            "type": "scattergl"
           }
          ],
          "scattermapbox": [
           {
            "marker": {
             "colorbar": {
              "outlinewidth": 0,
              "ticks": ""
             }
            },
            "type": "scattermapbox"
           }
          ],
          "scatterpolar": [
           {
            "marker": {
             "colorbar": {
              "outlinewidth": 0,
              "ticks": ""
             }
            },
            "type": "scatterpolar"
           }
          ],
          "scatterpolargl": [
           {
            "marker": {
             "colorbar": {
              "outlinewidth": 0,
              "ticks": ""
             }
            },
            "type": "scatterpolargl"
           }
          ],
          "scatterternary": [
           {
            "marker": {
             "colorbar": {
              "outlinewidth": 0,
              "ticks": ""
             }
            },
            "type": "scatterternary"
           }
          ],
          "surface": [
           {
            "colorbar": {
             "outlinewidth": 0,
             "ticks": ""
            },
            "colorscale": [
             [
              0,
              "#0d0887"
             ],
             [
              0.1111111111111111,
              "#46039f"
             ],
             [
              0.2222222222222222,
              "#7201a8"
             ],
             [
              0.3333333333333333,
              "#9c179e"
             ],
             [
              0.4444444444444444,
              "#bd3786"
             ],
             [
              0.5555555555555556,
              "#d8576b"
             ],
             [
              0.6666666666666666,
              "#ed7953"
             ],
             [
              0.7777777777777778,
              "#fb9f3a"
             ],
             [
              0.8888888888888888,
              "#fdca26"
             ],
             [
              1,
              "#f0f921"
             ]
            ],
            "type": "surface"
           }
          ],
          "table": [
           {
            "cells": {
             "fill": {
              "color": "#EBF0F8"
             },
             "line": {
              "color": "white"
             }
            },
            "header": {
             "fill": {
              "color": "#C8D4E3"
             },
             "line": {
              "color": "white"
             }
            },
            "type": "table"
           }
          ]
         },
         "layout": {
          "annotationdefaults": {
           "arrowcolor": "#2a3f5f",
           "arrowhead": 0,
           "arrowwidth": 1
          },
          "autotypenumbers": "strict",
          "coloraxis": {
           "colorbar": {
            "outlinewidth": 0,
            "ticks": ""
           }
          },
          "colorscale": {
           "diverging": [
            [
             0,
             "#8e0152"
            ],
            [
             0.1,
             "#c51b7d"
            ],
            [
             0.2,
             "#de77ae"
            ],
            [
             0.3,
             "#f1b6da"
            ],
            [
             0.4,
             "#fde0ef"
            ],
            [
             0.5,
             "#f7f7f7"
            ],
            [
             0.6,
             "#e6f5d0"
            ],
            [
             0.7,
             "#b8e186"
            ],
            [
             0.8,
             "#7fbc41"
            ],
            [
             0.9,
             "#4d9221"
            ],
            [
             1,
             "#276419"
            ]
           ],
           "sequential": [
            [
             0,
             "#0d0887"
            ],
            [
             0.1111111111111111,
             "#46039f"
            ],
            [
             0.2222222222222222,
             "#7201a8"
            ],
            [
             0.3333333333333333,
             "#9c179e"
            ],
            [
             0.4444444444444444,
             "#bd3786"
            ],
            [
             0.5555555555555556,
             "#d8576b"
            ],
            [
             0.6666666666666666,
             "#ed7953"
            ],
            [
             0.7777777777777778,
             "#fb9f3a"
            ],
            [
             0.8888888888888888,
             "#fdca26"
            ],
            [
             1,
             "#f0f921"
            ]
           ],
           "sequentialminus": [
            [
             0,
             "#0d0887"
            ],
            [
             0.1111111111111111,
             "#46039f"
            ],
            [
             0.2222222222222222,
             "#7201a8"
            ],
            [
             0.3333333333333333,
             "#9c179e"
            ],
            [
             0.4444444444444444,
             "#bd3786"
            ],
            [
             0.5555555555555556,
             "#d8576b"
            ],
            [
             0.6666666666666666,
             "#ed7953"
            ],
            [
             0.7777777777777778,
             "#fb9f3a"
            ],
            [
             0.8888888888888888,
             "#fdca26"
            ],
            [
             1,
             "#f0f921"
            ]
           ]
          },
          "colorway": [
           "#636efa",
           "#EF553B",
           "#00cc96",
           "#ab63fa",
           "#FFA15A",
           "#19d3f3",
           "#FF6692",
           "#B6E880",
           "#FF97FF",
           "#FECB52"
          ],
          "font": {
           "color": "#2a3f5f"
          },
          "geo": {
           "bgcolor": "white",
           "lakecolor": "white",
           "landcolor": "white",
           "showlakes": true,
           "showland": true,
           "subunitcolor": "#C8D4E3"
          },
          "height": 400,
          "hoverlabel": {
           "align": "left"
          },
          "hovermode": "closest",
          "mapbox": {
           "style": "light"
          },
          "margin": {
           "b": 2,
           "l": 2,
           "r": 2,
           "t": 30
          },
          "paper_bgcolor": "white",
          "plot_bgcolor": "white",
          "polar": {
           "angularaxis": {
            "gridcolor": "#EBF0F8",
            "linecolor": "#EBF0F8",
            "ticks": ""
           },
           "bgcolor": "white",
           "radialaxis": {
            "gridcolor": "#EBF0F8",
            "linecolor": "#EBF0F8",
            "ticks": ""
           }
          },
          "scene": {
           "camera": {
            "eye": {
             "x": 1.5,
             "y": 1.5,
             "z": 0.1
            }
           },
           "xaxis": {
            "backgroundcolor": "white",
            "gridcolor": "#DFE8F3",
            "gridwidth": 2,
            "linecolor": "#EBF0F8",
            "showbackground": true,
            "ticks": "",
            "zerolinecolor": "#EBF0F8"
           },
           "yaxis": {
            "backgroundcolor": "white",
            "gridcolor": "#DFE8F3",
            "gridwidth": 2,
            "linecolor": "#EBF0F8",
            "showbackground": true,
            "ticks": "",
            "zerolinecolor": "#EBF0F8"
           },
           "zaxis": {
            "backgroundcolor": "white",
            "gridcolor": "#DFE8F3",
            "gridwidth": 2,
            "linecolor": "#EBF0F8",
            "showbackground": true,
            "ticks": "",
            "zerolinecolor": "#EBF0F8"
           }
          },
          "shapedefaults": {
           "line": {
            "color": "#2a3f5f"
           }
          },
          "ternary": {
           "aaxis": {
            "gridcolor": "#DFE8F3",
            "linecolor": "#A2B1C6",
            "ticks": ""
           },
           "baxis": {
            "gridcolor": "#DFE8F3",
            "linecolor": "#A2B1C6",
            "ticks": ""
           },
           "bgcolor": "white",
           "caxis": {
            "gridcolor": "#DFE8F3",
            "linecolor": "#A2B1C6",
            "ticks": ""
           }
          },
          "title": {
           "x": 0.5
          },
          "xaxis": {
           "automargin": true,
           "gridcolor": "#EBF0F8",
           "linecolor": "#EBF0F8",
           "linewidth": 2,
           "showline": true,
           "ticks": "",
           "title": {
            "standoff": 15
           },
           "zerolinecolor": "#EBF0F8",
           "zerolinewidth": 2
          },
          "yaxis": {
           "automargin": true,
           "gridcolor": "#EBF0F8",
           "linecolor": "#EBF0F8",
           "linewidth": 2,
           "showline": true,
           "ticks": "",
           "title": {
            "standoff": 15
           },
           "zerolinecolor": "#EBF0F8",
           "zerolinewidth": 2
          }
         }
        },
        "xaxis": {
         "anchor": "y",
         "domain": [
          0,
          1
         ],
         "title": {
          "text": "age"
         }
        },
        "yaxis": {
         "anchor": "x",
         "domain": [
          0,
          1
         ],
         "title": {
          "text": "core temperature"
         }
        }
       }
      },
      "text/html": [
       "<div>                            <div id=\"866db7ca-8d38-4148-967e-c8f64d4f5df0\" class=\"plotly-graph-div\" style=\"height:400px; width:100%;\"></div>            <script type=\"text/javascript\">                require([\"plotly\"], function(Plotly) {                    window.PLOTLYENV=window.PLOTLYENV || {};                                    if (document.getElementById(\"866db7ca-8d38-4148-967e-c8f64d4f5df0\")) {                    Plotly.newPlot(                        \"866db7ca-8d38-4148-967e-c8f64d4f5df0\",                        [{\"hovertemplate\":\"age=%{x}<br>core temperature=%{y}<extra></extra>\",\"legendgroup\":\"\",\"marker\":{\"color\":\"#636efa\",\"size\":17,\"symbol\":\"circle\"},\"mode\":\"markers\",\"name\":\"\",\"orientation\":\"v\",\"showlegend\":false,\"type\":\"scatter\",\"x\":[6.9,5.4,5.4,4.8,4.8,7.8,2.7,5.7,1.5,1.8,4.2,4.5,1.5,5.1,4.8,5.1,3.6,4.2,2.7,8.7,0.9,6.3,1.2,2.7,6.0,6.0,0.6,3.9,6.0,5.7,6.9,5.1,2.1,3.6,6.3,2.4,8.4,7.5,5.7,5.7,2.7,4.2,6.9,3.0,1.8,2.4,6.3,0.6,1.8,4.8,8.4,8.1,6.3,8.7,4.5,4.5,7.5,1.2,5.7,0.6,6.9,8.1,0.6,1.2,6.6,8.1,2.7,3.9,4.2,6.9,1.2,3.9,3.6,0.3,3.0,8.7,2.1,6.6,1.5,5.1,6.0,2.1,6.0,4.2,1.5,1.8,1.8,6.9,6.9,4.5,1.8,8.4,3.0,4.5,1.8,6.6,6.9,6.0],\"xaxis\":\"x\",\"y\":[38.42316895,39.01599822,39.14834088,39.06004863,38.65543905,38.6092188,39.47390806,38.81521612,37.77845286,39.17685034,39.52090819,38.57896943,38.28013391,38.40158039,38.65157641,39.61720308,37.72843549,39.36694049,37.98848685,39.93405104,37.60559023,38.83468198,37.39892664,38.98633063,39.72456882,38.09695504,37.59597881,39.49731323,38.50187636,38.27036031,38.69964224,39.08411118,38.29400364,38.39872285,39.29951536,38.37598649,38.46968433,39.58561173,38.12682317,39.80156649,37.92682179,39.67264697,38.21409556,38.93217418,37.80121676,37.52097889,39.34942824,38.9163822,38.72595498,38.35421436,40.17337876,39.48214424,39.9557292,39.02529641,39.70565695,37.87210056,38.92730588,38.75694066,38.98157028,39.07020183,39.31023381,40.26487847,39.19531025,37.46606804,38.61929591,39.74308443,37.9590829,38.52387016,39.58821189,39.48780846,37.32113362,38.30311301,39.32598796,38.18373964,37.78518905,38.97361387,37.97719515,38.92654301,37.98922316,39.87010492,38.51344083,39.14710639,38.61129304,38.95232638,37.46812464,38.24131363,38.7661591,39.87233432,38.87492299,39.09337261,39.00124171,39.25963687,38.6808734,37.93994229,38.79042609,39.48996228,38.57574159,39.76644658],\"yaxis\":\"y\"}],                        {\"legend\":{\"tracegroupgap\":0},\"template\":{\"data\":{\"bar\":[{\"error_x\":{\"color\":\"#2a3f5f\"},\"error_y\":{\"color\":\"#2a3f5f\"},\"marker\":{\"line\":{\"color\":\"white\",\"width\":0.5},\"pattern\":{\"fillmode\":\"overlay\",\"size\":10,\"solidity\":0.2}},\"type\":\"bar\"}],\"barpolar\":[{\"marker\":{\"line\":{\"color\":\"white\",\"width\":0.5},\"pattern\":{\"fillmode\":\"overlay\",\"size\":10,\"solidity\":0.2}},\"type\":\"barpolar\"}],\"box\":[{\"boxpoints\":\"outliers\",\"notched\":false,\"type\":\"box\"}],\"carpet\":[{\"aaxis\":{\"endlinecolor\":\"#2a3f5f\",\"gridcolor\":\"#C8D4E3\",\"linecolor\":\"#C8D4E3\",\"minorgridcolor\":\"#C8D4E3\",\"startlinecolor\":\"#2a3f5f\"},\"baxis\":{\"endlinecolor\":\"#2a3f5f\",\"gridcolor\":\"#C8D4E3\",\"linecolor\":\"#C8D4E3\",\"minorgridcolor\":\"#C8D4E3\",\"startlinecolor\":\"#2a3f5f\"},\"type\":\"carpet\"}],\"choropleth\":[{\"colorbar\":{\"outlinewidth\":0,\"ticks\":\"\"},\"type\":\"choropleth\"}],\"contour\":[{\"colorbar\":{\"outlinewidth\":0,\"ticks\":\"\"},\"colorscale\":[[0.0,\"#0d0887\"],[0.1111111111111111,\"#46039f\"],[0.2222222222222222,\"#7201a8\"],[0.3333333333333333,\"#9c179e\"],[0.4444444444444444,\"#bd3786\"],[0.5555555555555556,\"#d8576b\"],[0.6666666666666666,\"#ed7953\"],[0.7777777777777778,\"#fb9f3a\"],[0.8888888888888888,\"#fdca26\"],[1.0,\"#f0f921\"]],\"type\":\"contour\"}],\"contourcarpet\":[{\"colorbar\":{\"outlinewidth\":0,\"ticks\":\"\"},\"type\":\"contourcarpet\"}],\"heatmap\":[{\"colorbar\":{\"outlinewidth\":0,\"ticks\":\"\"},\"colorscale\":[[0.0,\"#0d0887\"],[0.1111111111111111,\"#46039f\"],[0.2222222222222222,\"#7201a8\"],[0.3333333333333333,\"#9c179e\"],[0.4444444444444444,\"#bd3786\"],[0.5555555555555556,\"#d8576b\"],[0.6666666666666666,\"#ed7953\"],[0.7777777777777778,\"#fb9f3a\"],[0.8888888888888888,\"#fdca26\"],[1.0,\"#f0f921\"]],\"type\":\"heatmap\"}],\"heatmapgl\":[{\"colorbar\":{\"outlinewidth\":0,\"ticks\":\"\"},\"colorscale\":[[0.0,\"#0d0887\"],[0.1111111111111111,\"#46039f\"],[0.2222222222222222,\"#7201a8\"],[0.3333333333333333,\"#9c179e\"],[0.4444444444444444,\"#bd3786\"],[0.5555555555555556,\"#d8576b\"],[0.6666666666666666,\"#ed7953\"],[0.7777777777777778,\"#fb9f3a\"],[0.8888888888888888,\"#fdca26\"],[1.0,\"#f0f921\"]],\"type\":\"heatmapgl\"}],\"histogram\":[{\"marker\":{\"line\":{\"width\":1},\"pattern\":{\"fillmode\":\"overlay\",\"size\":10,\"solidity\":0.2}},\"type\":\"histogram\"}],\"histogram2d\":[{\"colorbar\":{\"outlinewidth\":0,\"ticks\":\"\"},\"colorscale\":[[0.0,\"#0d0887\"],[0.1111111111111111,\"#46039f\"],[0.2222222222222222,\"#7201a8\"],[0.3333333333333333,\"#9c179e\"],[0.4444444444444444,\"#bd3786\"],[0.5555555555555556,\"#d8576b\"],[0.6666666666666666,\"#ed7953\"],[0.7777777777777778,\"#fb9f3a\"],[0.8888888888888888,\"#fdca26\"],[1.0,\"#f0f921\"]],\"type\":\"histogram2d\"}],\"histogram2dcontour\":[{\"colorbar\":{\"outlinewidth\":0,\"ticks\":\"\"},\"colorscale\":[[0.0,\"#0d0887\"],[0.1111111111111111,\"#46039f\"],[0.2222222222222222,\"#7201a8\"],[0.3333333333333333,\"#9c179e\"],[0.4444444444444444,\"#bd3786\"],[0.5555555555555556,\"#d8576b\"],[0.6666666666666666,\"#ed7953\"],[0.7777777777777778,\"#fb9f3a\"],[0.8888888888888888,\"#fdca26\"],[1.0,\"#f0f921\"]],\"type\":\"histogram2dcontour\"}],\"mesh3d\":[{\"colorbar\":{\"outlinewidth\":0,\"ticks\":\"\"},\"type\":\"mesh3d\"}],\"parcoords\":[{\"line\":{\"colorbar\":{\"outlinewidth\":0,\"ticks\":\"\"}},\"type\":\"parcoords\"}],\"pie\":[{\"automargin\":true,\"type\":\"pie\"}],\"scatter\":[{\"marker\":{\"colorbar\":{\"outlinewidth\":0,\"ticks\":\"\"},\"opacity\":0.8},\"type\":\"scatter\"}],\"scatter3d\":[{\"line\":{\"colorbar\":{\"outlinewidth\":0,\"ticks\":\"\"}},\"marker\":{\"colorbar\":{\"outlinewidth\":0,\"ticks\":\"\"},\"opacity\":0.8},\"type\":\"scatter3d\"}],\"scattercarpet\":[{\"marker\":{\"colorbar\":{\"outlinewidth\":0,\"ticks\":\"\"}},\"type\":\"scattercarpet\"}],\"scattergeo\":[{\"marker\":{\"colorbar\":{\"outlinewidth\":0,\"ticks\":\"\"}},\"type\":\"scattergeo\"}],\"scattergl\":[{\"marker\":{\"colorbar\":{\"outlinewidth\":0,\"ticks\":\"\"}},\"type\":\"scattergl\"}],\"scattermapbox\":[{\"marker\":{\"colorbar\":{\"outlinewidth\":0,\"ticks\":\"\"}},\"type\":\"scattermapbox\"}],\"scatterpolar\":[{\"marker\":{\"colorbar\":{\"outlinewidth\":0,\"ticks\":\"\"}},\"type\":\"scatterpolar\"}],\"scatterpolargl\":[{\"marker\":{\"colorbar\":{\"outlinewidth\":0,\"ticks\":\"\"}},\"type\":\"scatterpolargl\"}],\"scatterternary\":[{\"marker\":{\"colorbar\":{\"outlinewidth\":0,\"ticks\":\"\"}},\"type\":\"scatterternary\"}],\"surface\":[{\"colorbar\":{\"outlinewidth\":0,\"ticks\":\"\"},\"colorscale\":[[0.0,\"#0d0887\"],[0.1111111111111111,\"#46039f\"],[0.2222222222222222,\"#7201a8\"],[0.3333333333333333,\"#9c179e\"],[0.4444444444444444,\"#bd3786\"],[0.5555555555555556,\"#d8576b\"],[0.6666666666666666,\"#ed7953\"],[0.7777777777777778,\"#fb9f3a\"],[0.8888888888888888,\"#fdca26\"],[1.0,\"#f0f921\"]],\"type\":\"surface\"}],\"table\":[{\"cells\":{\"fill\":{\"color\":\"#EBF0F8\"},\"line\":{\"color\":\"white\"}},\"header\":{\"fill\":{\"color\":\"#C8D4E3\"},\"line\":{\"color\":\"white\"}},\"type\":\"table\"}]},\"layout\":{\"annotationdefaults\":{\"arrowcolor\":\"#2a3f5f\",\"arrowhead\":0,\"arrowwidth\":1},\"autotypenumbers\":\"strict\",\"coloraxis\":{\"colorbar\":{\"outlinewidth\":0,\"ticks\":\"\"}},\"colorscale\":{\"diverging\":[[0,\"#8e0152\"],[0.1,\"#c51b7d\"],[0.2,\"#de77ae\"],[0.3,\"#f1b6da\"],[0.4,\"#fde0ef\"],[0.5,\"#f7f7f7\"],[0.6,\"#e6f5d0\"],[0.7,\"#b8e186\"],[0.8,\"#7fbc41\"],[0.9,\"#4d9221\"],[1,\"#276419\"]],\"sequential\":[[0.0,\"#0d0887\"],[0.1111111111111111,\"#46039f\"],[0.2222222222222222,\"#7201a8\"],[0.3333333333333333,\"#9c179e\"],[0.4444444444444444,\"#bd3786\"],[0.5555555555555556,\"#d8576b\"],[0.6666666666666666,\"#ed7953\"],[0.7777777777777778,\"#fb9f3a\"],[0.8888888888888888,\"#fdca26\"],[1.0,\"#f0f921\"]],\"sequentialminus\":[[0.0,\"#0d0887\"],[0.1111111111111111,\"#46039f\"],[0.2222222222222222,\"#7201a8\"],[0.3333333333333333,\"#9c179e\"],[0.4444444444444444,\"#bd3786\"],[0.5555555555555556,\"#d8576b\"],[0.6666666666666666,\"#ed7953\"],[0.7777777777777778,\"#fb9f3a\"],[0.8888888888888888,\"#fdca26\"],[1.0,\"#f0f921\"]]},\"colorway\":[\"#636efa\",\"#EF553B\",\"#00cc96\",\"#ab63fa\",\"#FFA15A\",\"#19d3f3\",\"#FF6692\",\"#B6E880\",\"#FF97FF\",\"#FECB52\"],\"font\":{\"color\":\"#2a3f5f\"},\"geo\":{\"bgcolor\":\"white\",\"lakecolor\":\"white\",\"landcolor\":\"white\",\"showlakes\":true,\"showland\":true,\"subunitcolor\":\"#C8D4E3\"},\"height\":400,\"hoverlabel\":{\"align\":\"left\"},\"hovermode\":\"closest\",\"mapbox\":{\"style\":\"light\"},\"margin\":{\"b\":2,\"l\":2,\"r\":2,\"t\":30},\"paper_bgcolor\":\"white\",\"plot_bgcolor\":\"white\",\"polar\":{\"angularaxis\":{\"gridcolor\":\"#EBF0F8\",\"linecolor\":\"#EBF0F8\",\"ticks\":\"\"},\"bgcolor\":\"white\",\"radialaxis\":{\"gridcolor\":\"#EBF0F8\",\"linecolor\":\"#EBF0F8\",\"ticks\":\"\"}},\"scene\":{\"camera\":{\"eye\":{\"x\":1.5,\"y\":1.5,\"z\":0.1}},\"xaxis\":{\"backgroundcolor\":\"white\",\"gridcolor\":\"#DFE8F3\",\"gridwidth\":2,\"linecolor\":\"#EBF0F8\",\"showbackground\":true,\"ticks\":\"\",\"zerolinecolor\":\"#EBF0F8\"},\"yaxis\":{\"backgroundcolor\":\"white\",\"gridcolor\":\"#DFE8F3\",\"gridwidth\":2,\"linecolor\":\"#EBF0F8\",\"showbackground\":true,\"ticks\":\"\",\"zerolinecolor\":\"#EBF0F8\"},\"zaxis\":{\"backgroundcolor\":\"white\",\"gridcolor\":\"#DFE8F3\",\"gridwidth\":2,\"linecolor\":\"#EBF0F8\",\"showbackground\":true,\"ticks\":\"\",\"zerolinecolor\":\"#EBF0F8\"}},\"shapedefaults\":{\"line\":{\"color\":\"#2a3f5f\"}},\"ternary\":{\"aaxis\":{\"gridcolor\":\"#DFE8F3\",\"linecolor\":\"#A2B1C6\",\"ticks\":\"\"},\"baxis\":{\"gridcolor\":\"#DFE8F3\",\"linecolor\":\"#A2B1C6\",\"ticks\":\"\"},\"bgcolor\":\"white\",\"caxis\":{\"gridcolor\":\"#DFE8F3\",\"linecolor\":\"#A2B1C6\",\"ticks\":\"\"}},\"title\":{\"x\":0.5},\"xaxis\":{\"automargin\":true,\"gridcolor\":\"#EBF0F8\",\"linecolor\":\"#EBF0F8\",\"linewidth\":2,\"showline\":true,\"ticks\":\"\",\"title\":{\"standoff\":15},\"zerolinecolor\":\"#EBF0F8\",\"zerolinewidth\":2},\"yaxis\":{\"automargin\":true,\"gridcolor\":\"#EBF0F8\",\"linecolor\":\"#EBF0F8\",\"linewidth\":2,\"showline\":true,\"ticks\":\"\",\"title\":{\"standoff\":15},\"zerolinecolor\":\"#EBF0F8\",\"zerolinewidth\":2}}},\"xaxis\":{\"anchor\":\"y\",\"domain\":[0.0,1.0],\"title\":{\"text\":\"age\"}},\"yaxis\":{\"anchor\":\"x\",\"domain\":[0.0,1.0],\"title\":{\"text\":\"core temperature\"}}},                        {\"responsive\": true}                    ).then(function(){\n",
       "                            \n",
       "var gd = document.getElementById('866db7ca-8d38-4148-967e-c8f64d4f5df0');\n",
       "var x = new MutationObserver(function (mutations, observer) {{\n",
       "        var display = window.getComputedStyle(gd).display;\n",
       "        if (!display || display === 'none') {{\n",
       "            console.log([gd, 'removed!']);\n",
       "            Plotly.purge(gd);\n",
       "            observer.disconnect();\n",
       "        }}\n",
       "}});\n",
       "\n",
       "// Listen for the removal of the full notebook cells\n",
       "var notebookContainer = gd.closest('#notebook-container');\n",
       "if (notebookContainer) {{\n",
       "    x.observe(notebookContainer, {childList: true});\n",
       "}}\n",
       "\n",
       "// Listen for the clearing of the current output cell\n",
       "var outputEl = gd.closest('.output');\n",
       "if (outputEl) {{\n",
       "    x.observe(outputEl, {childList: true});\n",
       "}}\n",
       "\n",
       "                        })                };                });            </script>        </div>"
      ]
     },
     "metadata": {},
     "output_type": "display_data"
    }
   ],
   "source": [
    "import graphing # Custom graphing code that uses Plotly. See our GitHub repository for details\n",
    "\n",
    "graphing.box_and_whisker(dataset, \"male\", \"core_temperature\", show=True)\n",
    "graphing.box_and_whisker(dataset, \"attended_training\", \"core_temperature\", show=True)\n",
    "graphing.box_and_whisker(dataset, \"ate_at_tonys_steakhouse\", \"core_temperature\", show=True)\n",
    "graphing.scatter_2D(dataset, \"body_fat_percentage\", \"core_temperature\", show=True)\n",
    "graphing.scatter_2D(dataset, \"protein_content_of_last_meal\", \"core_temperature\", show=True)\n",
    "graphing.scatter_2D(dataset, \"age\", \"core_temperature\")"
   ]
  },
  {
   "cell_type": "markdown",
   "id": "fd748a7a",
   "metadata": {},
   "source": [
    "At a glance, fatter, older, and male dogs seem to more commonly have higher temperatures than thinner, younger, or female dogs. Dogs who ate a lot of protein last night also seem to be more unwell. The other features don't seem particularly useful.\n",
    "\n",
    "## Simple linear regression\n",
    "\n",
    "Let's try to predict `core_temperature` using simple linear regression, and note the R-Squared for these relationships."
   ]
  },
  {
   "cell_type": "code",
   "execution_count": 28,
   "id": "27b295ae",
   "metadata": {},
   "outputs": [
    {
     "name": "stdout",
     "output_type": "stream",
     "text": [
      "male\n",
      "R-squared: 0.0999007443071992\n"
     ]
    },
    {
     "data": {
      "application/vnd.plotly.v1+json": {
       "config": {
        "plotlyServerURL": "https://plot.ly"
       },
       "data": [
        {
         "hovertemplate": "male=%{x}<br>core temperature=%{y}<extra></extra>",
         "legendgroup": "",
         "marker": {
          "color": "#636efa",
          "size": 17,
          "symbol": "circle"
         },
         "mode": "markers",
         "name": "",
         "orientation": "v",
         "showlegend": false,
         "type": "scatter",
         "x": [
          0,
          0,
          1,
          1,
          1,
          0,
          1,
          1,
          0,
          0,
          1,
          0,
          1,
          1,
          0,
          1,
          1,
          1,
          0,
          1,
          0,
          1,
          0,
          1,
          1,
          0,
          1,
          0,
          0,
          0,
          1,
          0,
          1,
          1,
          1,
          1,
          1,
          1,
          0,
          1,
          0,
          1,
          0,
          0,
          0,
          0,
          0,
          1,
          0,
          1,
          1,
          1,
          0,
          0,
          1,
          0,
          1,
          0,
          1,
          0,
          1,
          1,
          1,
          1,
          1,
          1,
          1,
          0,
          0,
          1,
          0,
          1,
          1,
          0,
          0,
          1,
          0,
          1,
          0,
          0,
          0,
          1,
          0,
          0,
          1,
          1,
          0,
          1,
          0,
          0,
          0,
          1,
          0,
          0,
          1,
          0,
          0,
          1
         ],
         "xaxis": "x",
         "y": [
          38.42316895,
          39.01599822,
          39.14834088,
          39.06004863,
          38.65543905,
          38.6092188,
          39.47390806,
          38.81521612,
          37.77845286,
          39.17685034,
          39.52090819,
          38.57896943,
          38.28013391,
          38.40158039,
          38.65157641,
          39.61720308,
          37.72843549,
          39.36694049,
          37.98848685,
          39.93405104,
          37.60559023,
          38.83468198,
          37.39892664,
          38.98633063,
          39.72456882,
          38.09695504,
          37.59597881,
          39.49731323,
          38.50187636,
          38.27036031,
          38.69964224,
          39.08411118,
          38.29400364,
          38.39872285,
          39.29951536,
          38.37598649,
          38.46968433,
          39.58561173,
          38.12682317,
          39.80156649,
          37.92682179,
          39.67264697,
          38.21409556,
          38.93217418,
          37.80121676,
          37.52097889,
          39.34942824,
          38.9163822,
          38.72595498,
          38.35421436,
          40.17337876,
          39.48214424,
          39.9557292,
          39.02529641,
          39.70565695,
          37.87210056,
          38.92730588,
          38.75694066,
          38.98157028,
          39.07020183,
          39.31023381,
          40.26487847,
          39.19531025,
          37.46606804,
          38.61929591,
          39.74308443,
          37.9590829,
          38.52387016,
          39.58821189,
          39.48780846,
          37.32113362,
          38.30311301,
          39.32598796,
          38.18373964,
          37.78518905,
          38.97361387,
          37.97719515,
          38.92654301,
          37.98922316,
          39.87010492,
          38.51344083,
          39.14710639,
          38.61129304,
          38.95232638,
          37.46812464,
          38.24131363,
          38.7661591,
          39.87233432,
          38.87492299,
          39.09337261,
          39.00124171,
          39.25963687,
          38.6808734,
          37.93994229,
          38.79042609,
          39.48996228,
          38.57574159,
          39.76644658
         ],
         "yaxis": "y"
        }
       ],
       "layout": {
        "legend": {
         "tracegroupgap": 0
        },
        "shapes": [
         {
          "line": {
           "color": "rgb(228,26,28)"
          },
          "path": "M0.0 38.54667150829785 L 0.005025125628140704 38.548890639252306 L 0.010050251256281407 38.551109770206764 L 0.01507537688442211 38.55332890116123 L 0.020100502512562814 38.55554803211569 L 0.02512562814070352 38.557767163070146 L 0.03015075376884422 38.559986294024604 L 0.035175879396984924 38.56220542497906 L 0.04020100502512563 38.56442455593352 L 0.04522613065326633 38.566643686887986 L 0.05025125628140704 38.568862817842444 L 0.05527638190954774 38.5710819487969 L 0.06030150753768844 38.57330107975136 L 0.06532663316582915 38.57552021070582 L 0.07035175879396985 38.577739341660276 L 0.07537688442211056 38.57995847261474 L 0.08040201005025126 38.5821776035692 L 0.08542713567839195 38.58439673452366 L 0.09045226130653267 38.586615865478116 L 0.09547738693467336 38.588834996432574 L 0.10050251256281408 38.59105412738703 L 0.10552763819095477 38.5932732583415 L 0.11055276381909548 38.595492389295956 L 0.11557788944723618 38.597711520250414 L 0.12060301507537688 38.59993065120487 L 0.12562814070351758 38.60214978215933 L 0.1306532663316583 38.604368913113795 L 0.135678391959799 38.60658804406825 L 0.1407035175879397 38.60880717502271 L 0.1457286432160804 38.61102630597717 L 0.15075376884422112 38.61324543693163 L 0.15577889447236182 38.615464567886086 L 0.16080402010050251 38.61768369884055 L 0.1658291457286432 38.61990282979501 L 0.1708542713567839 38.62212196074947 L 0.17587939698492464 38.624341091703926 L 0.18090452261306533 38.626560222658384 L 0.18592964824120603 38.62877935361284 L 0.19095477386934673 38.63099848456731 L 0.19597989949748745 38.633217615521765 L 0.20100502512562815 38.63543674647622 L 0.20603015075376885 38.63765587743068 L 0.21105527638190955 38.63987500838514 L 0.21608040201005024 38.642094139339605 L 0.22110552763819097 38.64431327029406 L 0.22613065326633167 38.64653240124852 L 0.23115577889447236 38.64875153220298 L 0.23618090452261306 38.65097066315744 L 0.24120603015075376 38.653189794111896 L 0.24623115577889448 38.65540892506636 L 0.25125628140703515 38.65762805602082 L 0.2562814070351759 38.65984718697528 L 0.2613065326633166 38.662066317929735 L 0.2663316582914573 38.66428544888419 L 0.271356783919598 38.66650457983865 L 0.2763819095477387 38.66872371079312 L 0.2814070351758794 38.670942841747575 L 0.2864321608040201 38.67316197270203 L 0.2914572864321608 38.67538110365649 L 0.2964824120603015 38.67760023461095 L 0.30150753768844224 38.67981936556541 L 0.3065326633165829 38.68203849651987 L 0.31155778894472363 38.68425762747433 L 0.3165829145728643 38.68647675842879 L 0.32160804020100503 38.68869588938325 L 0.32663316582914576 38.690915020337705 L 0.3316582914572864 38.69313415129217 L 0.33668341708542715 38.69535328224663 L 0.3417085427135678 38.69757241320109 L 0.34673366834170855 38.699791544155545 L 0.35175879396984927 38.70201067511 L 0.35678391959798994 38.70422980606446 L 0.36180904522613067 38.706448937018926 L 0.36683417085427134 38.708668067973385 L 0.37185929648241206 38.71088719892784 L 0.3768844221105528 38.7131063298823 L 0.38190954773869346 38.71532546083676 L 0.3869346733668342 38.71754459179122 L 0.3919597989949749 38.71976372274568 L 0.3969849246231156 38.72198285370014 L 0.4020100502512563 38.7242019846546 L 0.40703517587939697 38.72642111560906 L 0.4120603015075377 38.728640246563515 L 0.4170854271356784 38.73085937751798 L 0.4221105527638191 38.73307850847244 L 0.4271356783919598 38.735297639426896 L 0.4321608040201005 38.737516770381355 L 0.4371859296482412 38.73973590133581 L 0.44221105527638194 38.74195503229027 L 0.4472361809045226 38.744174163244736 L 0.45226130653266333 38.746393294199194 L 0.457286432160804 38.74861242515365 L 0.4623115577889447 38.75083155610811 L 0.46733668341708545 38.75305068706257 L 0.4723618090452261 38.75526981801703 L 0.47738693467336685 38.75748894897149 L 0.4824120603015075 38.75970807992595 L 0.48743718592964824 38.76192721088041 L 0.49246231155778897 38.764146341834866 L 0.49748743718592964 38.766365472789325 L 0.5025125628140703 38.76858460374378 L 0.507537688442211 38.77080373469825 L 0.5125628140703518 38.773022865652706 L 0.5175879396984925 38.775241996607164 L 0.5226130653266332 38.77746112756162 L 0.5276381909547738 38.77968025851608 L 0.5326633165829145 38.781899389470546 L 0.5376884422110553 38.784118520425004 L 0.542713567839196 38.78633765137946 L 0.5477386934673367 38.78855678233392 L 0.5527638190954774 38.79077591328838 L 0.5577889447236181 38.792995044242836 L 0.5628140703517588 38.7952141751973 L 0.5678391959798995 38.79743330615176 L 0.5728643216080402 38.79965243710622 L 0.577889447236181 38.801871568060676 L 0.5829145728643216 38.804090699015134 L 0.5879396984924623 38.80630982996959 L 0.592964824120603 38.80852896092406 L 0.5979899497487438 38.810748091878516 L 0.6030150753768845 38.812967222832974 L 0.6080402010050251 38.81518635378743 L 0.6130653266331658 38.81740548474189 L 0.6180904522613065 38.819624615696355 L 0.6231155778894473 38.82184374665081 L 0.628140703517588 38.82406287760527 L 0.6331658291457286 38.82628200855973 L 0.6381909547738693 38.82850113951419 L 0.6432160804020101 38.830720270468646 L 0.6482412060301508 38.83293940142311 L 0.6532663316582915 38.83515853237757 L 0.6582914572864321 38.83737766333203 L 0.6633165829145728 38.839596794286486 L 0.6683417085427136 38.841815925240944 L 0.6733668341708543 38.8440350561954 L 0.678391959798995 38.84625418714987 L 0.6834170854271356 38.848473318104325 L 0.6884422110552764 38.85069244905878 L 0.6934673366834171 38.85291158001324 L 0.6984924623115578 38.8551307109677 L 0.7035175879396985 38.85734984192216 L 0.7085427135678392 38.85956897287662 L 0.7135678391959799 38.86178810383108 L 0.7185929648241206 38.86400723478554 L 0.7236180904522613 38.86622636574 L 0.7286432160804021 38.868445496694456 L 0.7336683417085427 38.87066462764892 L 0.7386934673366834 38.87288375860338 L 0.7437185929648241 38.87510288955784 L 0.7487437185929648 38.877322020512295 L 0.7537688442211056 38.87954115146675 L 0.7587939698492463 38.88176028242121 L 0.7638190954773869 38.88397941337568 L 0.7688442211055276 38.886198544330135 L 0.7738693467336684 38.88841767528459 L 0.7788944723618091 38.89063680623905 L 0.7839195979899498 38.89285593719351 L 0.7889447236180904 38.89507506814797 L 0.7939698492462312 38.89729419910243 L 0.7989949748743719 38.89951333005689 L 0.8040201005025126 38.90173246101135 L 0.8090452261306533 38.90395159196581 L 0.8140703517587939 38.906170722920265 L 0.8190954773869347 38.90838985387473 L 0.8241206030150754 38.91060898482919 L 0.8291457286432161 38.91282811578365 L 0.8341708542713568 38.915047246738105 L 0.8391959798994975 38.91726637769256 L 0.8442211055276382 38.91948550864702 L 0.8492462311557789 38.92170463960149 L 0.8542713567839196 38.923923770555945 L 0.8592964824120604 38.9261429015104 L 0.864321608040201 38.92836203246486 L 0.8693467336683417 38.93058116341932 L 0.8743718592964824 38.93280029437378 L 0.8793969849246231 38.93501942532824 L 0.8844221105527639 38.9372385562827 L 0.8894472361809045 38.93945768723716 L 0.8944723618090452 38.94167681819162 L 0.8994974874371859 38.943895949146075 L 0.9045226130653267 38.94611508010053 L 0.9095477386934674 38.948334211055 L 0.914572864321608 38.95055334200946 L 0.9195979899497487 38.952772472963915 L 0.9246231155778895 38.95499160391837 L 0.9296482412060302 38.95721073487283 L 0.9346733668341709 38.959429865827296 L 0.9396984924623115 38.961648996781754 L 0.9447236180904522 38.96386812773621 L 0.949748743718593 38.96608725869067 L 0.9547738693467337 38.96830638964513 L 0.9597989949748744 38.97052552059959 L 0.964824120603015 38.97274465155405 L 0.9698492462311558 38.97496378250851 L 0.9748743718592965 38.97718291346297 L 0.9798994974874372 38.97940204441743 L 0.9849246231155779 38.981621175371885 L 0.9899497487437187 38.98384030632634 L 0.9949748743718593 38.98605943728081 L 1.0 38.988278568235266",
          "type": "path"
         }
        ],
        "template": {
         "data": {
          "bar": [
           {
            "error_x": {
             "color": "#2a3f5f"
            },
            "error_y": {
             "color": "#2a3f5f"
            },
            "marker": {
             "line": {
              "color": "white",
              "width": 0.5
             },
             "pattern": {
              "fillmode": "overlay",
              "size": 10,
              "solidity": 0.2
             }
            },
            "type": "bar"
           }
          ],
          "barpolar": [
           {
            "marker": {
             "line": {
              "color": "white",
              "width": 0.5
             },
             "pattern": {
              "fillmode": "overlay",
              "size": 10,
              "solidity": 0.2
             }
            },
            "type": "barpolar"
           }
          ],
          "box": [
           {
            "boxpoints": "outliers",
            "notched": false,
            "type": "box"
           }
          ],
          "carpet": [
           {
            "aaxis": {
             "endlinecolor": "#2a3f5f",
             "gridcolor": "#C8D4E3",
             "linecolor": "#C8D4E3",
             "minorgridcolor": "#C8D4E3",
             "startlinecolor": "#2a3f5f"
            },
            "baxis": {
             "endlinecolor": "#2a3f5f",
             "gridcolor": "#C8D4E3",
             "linecolor": "#C8D4E3",
             "minorgridcolor": "#C8D4E3",
             "startlinecolor": "#2a3f5f"
            },
            "type": "carpet"
           }
          ],
          "choropleth": [
           {
            "colorbar": {
             "outlinewidth": 0,
             "ticks": ""
            },
            "type": "choropleth"
           }
          ],
          "contour": [
           {
            "colorbar": {
             "outlinewidth": 0,
             "ticks": ""
            },
            "colorscale": [
             [
              0,
              "#0d0887"
             ],
             [
              0.1111111111111111,
              "#46039f"
             ],
             [
              0.2222222222222222,
              "#7201a8"
             ],
             [
              0.3333333333333333,
              "#9c179e"
             ],
             [
              0.4444444444444444,
              "#bd3786"
             ],
             [
              0.5555555555555556,
              "#d8576b"
             ],
             [
              0.6666666666666666,
              "#ed7953"
             ],
             [
              0.7777777777777778,
              "#fb9f3a"
             ],
             [
              0.8888888888888888,
              "#fdca26"
             ],
             [
              1,
              "#f0f921"
             ]
            ],
            "type": "contour"
           }
          ],
          "contourcarpet": [
           {
            "colorbar": {
             "outlinewidth": 0,
             "ticks": ""
            },
            "type": "contourcarpet"
           }
          ],
          "heatmap": [
           {
            "colorbar": {
             "outlinewidth": 0,
             "ticks": ""
            },
            "colorscale": [
             [
              0,
              "#0d0887"
             ],
             [
              0.1111111111111111,
              "#46039f"
             ],
             [
              0.2222222222222222,
              "#7201a8"
             ],
             [
              0.3333333333333333,
              "#9c179e"
             ],
             [
              0.4444444444444444,
              "#bd3786"
             ],
             [
              0.5555555555555556,
              "#d8576b"
             ],
             [
              0.6666666666666666,
              "#ed7953"
             ],
             [
              0.7777777777777778,
              "#fb9f3a"
             ],
             [
              0.8888888888888888,
              "#fdca26"
             ],
             [
              1,
              "#f0f921"
             ]
            ],
            "type": "heatmap"
           }
          ],
          "heatmapgl": [
           {
            "colorbar": {
             "outlinewidth": 0,
             "ticks": ""
            },
            "colorscale": [
             [
              0,
              "#0d0887"
             ],
             [
              0.1111111111111111,
              "#46039f"
             ],
             [
              0.2222222222222222,
              "#7201a8"
             ],
             [
              0.3333333333333333,
              "#9c179e"
             ],
             [
              0.4444444444444444,
              "#bd3786"
             ],
             [
              0.5555555555555556,
              "#d8576b"
             ],
             [
              0.6666666666666666,
              "#ed7953"
             ],
             [
              0.7777777777777778,
              "#fb9f3a"
             ],
             [
              0.8888888888888888,
              "#fdca26"
             ],
             [
              1,
              "#f0f921"
             ]
            ],
            "type": "heatmapgl"
           }
          ],
          "histogram": [
           {
            "marker": {
             "line": {
              "width": 1
             },
             "pattern": {
              "fillmode": "overlay",
              "size": 10,
              "solidity": 0.2
             }
            },
            "type": "histogram"
           }
          ],
          "histogram2d": [
           {
            "colorbar": {
             "outlinewidth": 0,
             "ticks": ""
            },
            "colorscale": [
             [
              0,
              "#0d0887"
             ],
             [
              0.1111111111111111,
              "#46039f"
             ],
             [
              0.2222222222222222,
              "#7201a8"
             ],
             [
              0.3333333333333333,
              "#9c179e"
             ],
             [
              0.4444444444444444,
              "#bd3786"
             ],
             [
              0.5555555555555556,
              "#d8576b"
             ],
             [
              0.6666666666666666,
              "#ed7953"
             ],
             [
              0.7777777777777778,
              "#fb9f3a"
             ],
             [
              0.8888888888888888,
              "#fdca26"
             ],
             [
              1,
              "#f0f921"
             ]
            ],
            "type": "histogram2d"
           }
          ],
          "histogram2dcontour": [
           {
            "colorbar": {
             "outlinewidth": 0,
             "ticks": ""
            },
            "colorscale": [
             [
              0,
              "#0d0887"
             ],
             [
              0.1111111111111111,
              "#46039f"
             ],
             [
              0.2222222222222222,
              "#7201a8"
             ],
             [
              0.3333333333333333,
              "#9c179e"
             ],
             [
              0.4444444444444444,
              "#bd3786"
             ],
             [
              0.5555555555555556,
              "#d8576b"
             ],
             [
              0.6666666666666666,
              "#ed7953"
             ],
             [
              0.7777777777777778,
              "#fb9f3a"
             ],
             [
              0.8888888888888888,
              "#fdca26"
             ],
             [
              1,
              "#f0f921"
             ]
            ],
            "type": "histogram2dcontour"
           }
          ],
          "mesh3d": [
           {
            "colorbar": {
             "outlinewidth": 0,
             "ticks": ""
            },
            "type": "mesh3d"
           }
          ],
          "parcoords": [
           {
            "line": {
             "colorbar": {
              "outlinewidth": 0,
              "ticks": ""
             }
            },
            "type": "parcoords"
           }
          ],
          "pie": [
           {
            "automargin": true,
            "type": "pie"
           }
          ],
          "scatter": [
           {
            "marker": {
             "colorbar": {
              "outlinewidth": 0,
              "ticks": ""
             },
             "opacity": 0.8
            },
            "type": "scatter"
           }
          ],
          "scatter3d": [
           {
            "line": {
             "colorbar": {
              "outlinewidth": 0,
              "ticks": ""
             }
            },
            "marker": {
             "colorbar": {
              "outlinewidth": 0,
              "ticks": ""
             },
             "opacity": 0.8
            },
            "type": "scatter3d"
           }
          ],
          "scattercarpet": [
           {
            "marker": {
             "colorbar": {
              "outlinewidth": 0,
              "ticks": ""
             }
            },
            "type": "scattercarpet"
           }
          ],
          "scattergeo": [
           {
            "marker": {
             "colorbar": {
              "outlinewidth": 0,
              "ticks": ""
             }
            },
            "type": "scattergeo"
           }
          ],
          "scattergl": [
           {
            "marker": {
             "colorbar": {
              "outlinewidth": 0,
              "ticks": ""
             }
            },
            "type": "scattergl"
           }
          ],
          "scattermapbox": [
           {
            "marker": {
             "colorbar": {
              "outlinewidth": 0,
              "ticks": ""
             }
            },
            "type": "scattermapbox"
           }
          ],
          "scatterpolar": [
           {
            "marker": {
             "colorbar": {
              "outlinewidth": 0,
              "ticks": ""
             }
            },
            "type": "scatterpolar"
           }
          ],
          "scatterpolargl": [
           {
            "marker": {
             "colorbar": {
              "outlinewidth": 0,
              "ticks": ""
             }
            },
            "type": "scatterpolargl"
           }
          ],
          "scatterternary": [
           {
            "marker": {
             "colorbar": {
              "outlinewidth": 0,
              "ticks": ""
             }
            },
            "type": "scatterternary"
           }
          ],
          "surface": [
           {
            "colorbar": {
             "outlinewidth": 0,
             "ticks": ""
            },
            "colorscale": [
             [
              0,
              "#0d0887"
             ],
             [
              0.1111111111111111,
              "#46039f"
             ],
             [
              0.2222222222222222,
              "#7201a8"
             ],
             [
              0.3333333333333333,
              "#9c179e"
             ],
             [
              0.4444444444444444,
              "#bd3786"
             ],
             [
              0.5555555555555556,
              "#d8576b"
             ],
             [
              0.6666666666666666,
              "#ed7953"
             ],
             [
              0.7777777777777778,
              "#fb9f3a"
             ],
             [
              0.8888888888888888,
              "#fdca26"
             ],
             [
              1,
              "#f0f921"
             ]
            ],
            "type": "surface"
           }
          ],
          "table": [
           {
            "cells": {
             "fill": {
              "color": "#EBF0F8"
             },
             "line": {
              "color": "white"
             }
            },
            "header": {
             "fill": {
              "color": "#C8D4E3"
             },
             "line": {
              "color": "white"
             }
            },
            "type": "table"
           }
          ]
         },
         "layout": {
          "annotationdefaults": {
           "arrowcolor": "#2a3f5f",
           "arrowhead": 0,
           "arrowwidth": 1
          },
          "autotypenumbers": "strict",
          "coloraxis": {
           "colorbar": {
            "outlinewidth": 0,
            "ticks": ""
           }
          },
          "colorscale": {
           "diverging": [
            [
             0,
             "#8e0152"
            ],
            [
             0.1,
             "#c51b7d"
            ],
            [
             0.2,
             "#de77ae"
            ],
            [
             0.3,
             "#f1b6da"
            ],
            [
             0.4,
             "#fde0ef"
            ],
            [
             0.5,
             "#f7f7f7"
            ],
            [
             0.6,
             "#e6f5d0"
            ],
            [
             0.7,
             "#b8e186"
            ],
            [
             0.8,
             "#7fbc41"
            ],
            [
             0.9,
             "#4d9221"
            ],
            [
             1,
             "#276419"
            ]
           ],
           "sequential": [
            [
             0,
             "#0d0887"
            ],
            [
             0.1111111111111111,
             "#46039f"
            ],
            [
             0.2222222222222222,
             "#7201a8"
            ],
            [
             0.3333333333333333,
             "#9c179e"
            ],
            [
             0.4444444444444444,
             "#bd3786"
            ],
            [
             0.5555555555555556,
             "#d8576b"
            ],
            [
             0.6666666666666666,
             "#ed7953"
            ],
            [
             0.7777777777777778,
             "#fb9f3a"
            ],
            [
             0.8888888888888888,
             "#fdca26"
            ],
            [
             1,
             "#f0f921"
            ]
           ],
           "sequentialminus": [
            [
             0,
             "#0d0887"
            ],
            [
             0.1111111111111111,
             "#46039f"
            ],
            [
             0.2222222222222222,
             "#7201a8"
            ],
            [
             0.3333333333333333,
             "#9c179e"
            ],
            [
             0.4444444444444444,
             "#bd3786"
            ],
            [
             0.5555555555555556,
             "#d8576b"
            ],
            [
             0.6666666666666666,
             "#ed7953"
            ],
            [
             0.7777777777777778,
             "#fb9f3a"
            ],
            [
             0.8888888888888888,
             "#fdca26"
            ],
            [
             1,
             "#f0f921"
            ]
           ]
          },
          "colorway": [
           "#636efa",
           "#EF553B",
           "#00cc96",
           "#ab63fa",
           "#FFA15A",
           "#19d3f3",
           "#FF6692",
           "#B6E880",
           "#FF97FF",
           "#FECB52"
          ],
          "font": {
           "color": "#2a3f5f"
          },
          "geo": {
           "bgcolor": "white",
           "lakecolor": "white",
           "landcolor": "white",
           "showlakes": true,
           "showland": true,
           "subunitcolor": "#C8D4E3"
          },
          "height": 400,
          "hoverlabel": {
           "align": "left"
          },
          "hovermode": "closest",
          "mapbox": {
           "style": "light"
          },
          "margin": {
           "b": 2,
           "l": 2,
           "r": 2,
           "t": 30
          },
          "paper_bgcolor": "white",
          "plot_bgcolor": "white",
          "polar": {
           "angularaxis": {
            "gridcolor": "#EBF0F8",
            "linecolor": "#EBF0F8",
            "ticks": ""
           },
           "bgcolor": "white",
           "radialaxis": {
            "gridcolor": "#EBF0F8",
            "linecolor": "#EBF0F8",
            "ticks": ""
           }
          },
          "scene": {
           "camera": {
            "eye": {
             "x": 1.5,
             "y": 1.5,
             "z": 0.1
            }
           },
           "xaxis": {
            "backgroundcolor": "white",
            "gridcolor": "#DFE8F3",
            "gridwidth": 2,
            "linecolor": "#EBF0F8",
            "showbackground": true,
            "ticks": "",
            "zerolinecolor": "#EBF0F8"
           },
           "yaxis": {
            "backgroundcolor": "white",
            "gridcolor": "#DFE8F3",
            "gridwidth": 2,
            "linecolor": "#EBF0F8",
            "showbackground": true,
            "ticks": "",
            "zerolinecolor": "#EBF0F8"
           },
           "zaxis": {
            "backgroundcolor": "white",
            "gridcolor": "#DFE8F3",
            "gridwidth": 2,
            "linecolor": "#EBF0F8",
            "showbackground": true,
            "ticks": "",
            "zerolinecolor": "#EBF0F8"
           }
          },
          "shapedefaults": {
           "line": {
            "color": "#2a3f5f"
           }
          },
          "ternary": {
           "aaxis": {
            "gridcolor": "#DFE8F3",
            "linecolor": "#A2B1C6",
            "ticks": ""
           },
           "baxis": {
            "gridcolor": "#DFE8F3",
            "linecolor": "#A2B1C6",
            "ticks": ""
           },
           "bgcolor": "white",
           "caxis": {
            "gridcolor": "#DFE8F3",
            "linecolor": "#A2B1C6",
            "ticks": ""
           }
          },
          "title": {
           "x": 0.5
          },
          "xaxis": {
           "automargin": true,
           "gridcolor": "#EBF0F8",
           "linecolor": "#EBF0F8",
           "linewidth": 2,
           "showline": true,
           "ticks": "",
           "title": {
            "standoff": 15
           },
           "zerolinecolor": "#EBF0F8",
           "zerolinewidth": 2
          },
          "yaxis": {
           "automargin": true,
           "gridcolor": "#EBF0F8",
           "linecolor": "#EBF0F8",
           "linewidth": 2,
           "showline": true,
           "ticks": "",
           "title": {
            "standoff": 15
           },
           "zerolinecolor": "#EBF0F8",
           "zerolinewidth": 2
          }
         }
        },
        "title": {
         "text": "male"
        },
        "xaxis": {
         "anchor": "y",
         "domain": [
          0,
          1
         ],
         "title": {
          "text": "male"
         }
        },
        "yaxis": {
         "anchor": "x",
         "domain": [
          0,
          1
         ],
         "title": {
          "text": "core temperature"
         }
        }
       }
      },
      "text/html": [
       "<div>                            <div id=\"6dc8c110-ca80-4252-9167-7c572f41578b\" class=\"plotly-graph-div\" style=\"height:400px; width:100%;\"></div>            <script type=\"text/javascript\">                require([\"plotly\"], function(Plotly) {                    window.PLOTLYENV=window.PLOTLYENV || {};                                    if (document.getElementById(\"6dc8c110-ca80-4252-9167-7c572f41578b\")) {                    Plotly.newPlot(                        \"6dc8c110-ca80-4252-9167-7c572f41578b\",                        [{\"hovertemplate\":\"male=%{x}<br>core temperature=%{y}<extra></extra>\",\"legendgroup\":\"\",\"marker\":{\"color\":\"#636efa\",\"size\":17,\"symbol\":\"circle\"},\"mode\":\"markers\",\"name\":\"\",\"orientation\":\"v\",\"showlegend\":false,\"type\":\"scatter\",\"x\":[0,0,1,1,1,0,1,1,0,0,1,0,1,1,0,1,1,1,0,1,0,1,0,1,1,0,1,0,0,0,1,0,1,1,1,1,1,1,0,1,0,1,0,0,0,0,0,1,0,1,1,1,0,0,1,0,1,0,1,0,1,1,1,1,1,1,1,0,0,1,0,1,1,0,0,1,0,1,0,0,0,1,0,0,1,1,0,1,0,0,0,1,0,0,1,0,0,1],\"xaxis\":\"x\",\"y\":[38.42316895,39.01599822,39.14834088,39.06004863,38.65543905,38.6092188,39.47390806,38.81521612,37.77845286,39.17685034,39.52090819,38.57896943,38.28013391,38.40158039,38.65157641,39.61720308,37.72843549,39.36694049,37.98848685,39.93405104,37.60559023,38.83468198,37.39892664,38.98633063,39.72456882,38.09695504,37.59597881,39.49731323,38.50187636,38.27036031,38.69964224,39.08411118,38.29400364,38.39872285,39.29951536,38.37598649,38.46968433,39.58561173,38.12682317,39.80156649,37.92682179,39.67264697,38.21409556,38.93217418,37.80121676,37.52097889,39.34942824,38.9163822,38.72595498,38.35421436,40.17337876,39.48214424,39.9557292,39.02529641,39.70565695,37.87210056,38.92730588,38.75694066,38.98157028,39.07020183,39.31023381,40.26487847,39.19531025,37.46606804,38.61929591,39.74308443,37.9590829,38.52387016,39.58821189,39.48780846,37.32113362,38.30311301,39.32598796,38.18373964,37.78518905,38.97361387,37.97719515,38.92654301,37.98922316,39.87010492,38.51344083,39.14710639,38.61129304,38.95232638,37.46812464,38.24131363,38.7661591,39.87233432,38.87492299,39.09337261,39.00124171,39.25963687,38.6808734,37.93994229,38.79042609,39.48996228,38.57574159,39.76644658],\"yaxis\":\"y\"}],                        {\"legend\":{\"tracegroupgap\":0},\"shapes\":[{\"line\":{\"color\":\"rgb(228,26,28)\"},\"path\":\"M0.0 38.54667150829785 L 0.005025125628140704 38.548890639252306 L 0.010050251256281407 38.551109770206764 L 0.01507537688442211 38.55332890116123 L 0.020100502512562814 38.55554803211569 L 0.02512562814070352 38.557767163070146 L 0.03015075376884422 38.559986294024604 L 0.035175879396984924 38.56220542497906 L 0.04020100502512563 38.56442455593352 L 0.04522613065326633 38.566643686887986 L 0.05025125628140704 38.568862817842444 L 0.05527638190954774 38.5710819487969 L 0.06030150753768844 38.57330107975136 L 0.06532663316582915 38.57552021070582 L 0.07035175879396985 38.577739341660276 L 0.07537688442211056 38.57995847261474 L 0.08040201005025126 38.5821776035692 L 0.08542713567839195 38.58439673452366 L 0.09045226130653267 38.586615865478116 L 0.09547738693467336 38.588834996432574 L 0.10050251256281408 38.59105412738703 L 0.10552763819095477 38.5932732583415 L 0.11055276381909548 38.595492389295956 L 0.11557788944723618 38.597711520250414 L 0.12060301507537688 38.59993065120487 L 0.12562814070351758 38.60214978215933 L 0.1306532663316583 38.604368913113795 L 0.135678391959799 38.60658804406825 L 0.1407035175879397 38.60880717502271 L 0.1457286432160804 38.61102630597717 L 0.15075376884422112 38.61324543693163 L 0.15577889447236182 38.615464567886086 L 0.16080402010050251 38.61768369884055 L 0.1658291457286432 38.61990282979501 L 0.1708542713567839 38.62212196074947 L 0.17587939698492464 38.624341091703926 L 0.18090452261306533 38.626560222658384 L 0.18592964824120603 38.62877935361284 L 0.19095477386934673 38.63099848456731 L 0.19597989949748745 38.633217615521765 L 0.20100502512562815 38.63543674647622 L 0.20603015075376885 38.63765587743068 L 0.21105527638190955 38.63987500838514 L 0.21608040201005024 38.642094139339605 L 0.22110552763819097 38.64431327029406 L 0.22613065326633167 38.64653240124852 L 0.23115577889447236 38.64875153220298 L 0.23618090452261306 38.65097066315744 L 0.24120603015075376 38.653189794111896 L 0.24623115577889448 38.65540892506636 L 0.25125628140703515 38.65762805602082 L 0.2562814070351759 38.65984718697528 L 0.2613065326633166 38.662066317929735 L 0.2663316582914573 38.66428544888419 L 0.271356783919598 38.66650457983865 L 0.2763819095477387 38.66872371079312 L 0.2814070351758794 38.670942841747575 L 0.2864321608040201 38.67316197270203 L 0.2914572864321608 38.67538110365649 L 0.2964824120603015 38.67760023461095 L 0.30150753768844224 38.67981936556541 L 0.3065326633165829 38.68203849651987 L 0.31155778894472363 38.68425762747433 L 0.3165829145728643 38.68647675842879 L 0.32160804020100503 38.68869588938325 L 0.32663316582914576 38.690915020337705 L 0.3316582914572864 38.69313415129217 L 0.33668341708542715 38.69535328224663 L 0.3417085427135678 38.69757241320109 L 0.34673366834170855 38.699791544155545 L 0.35175879396984927 38.70201067511 L 0.35678391959798994 38.70422980606446 L 0.36180904522613067 38.706448937018926 L 0.36683417085427134 38.708668067973385 L 0.37185929648241206 38.71088719892784 L 0.3768844221105528 38.7131063298823 L 0.38190954773869346 38.71532546083676 L 0.3869346733668342 38.71754459179122 L 0.3919597989949749 38.71976372274568 L 0.3969849246231156 38.72198285370014 L 0.4020100502512563 38.7242019846546 L 0.40703517587939697 38.72642111560906 L 0.4120603015075377 38.728640246563515 L 0.4170854271356784 38.73085937751798 L 0.4221105527638191 38.73307850847244 L 0.4271356783919598 38.735297639426896 L 0.4321608040201005 38.737516770381355 L 0.4371859296482412 38.73973590133581 L 0.44221105527638194 38.74195503229027 L 0.4472361809045226 38.744174163244736 L 0.45226130653266333 38.746393294199194 L 0.457286432160804 38.74861242515365 L 0.4623115577889447 38.75083155610811 L 0.46733668341708545 38.75305068706257 L 0.4723618090452261 38.75526981801703 L 0.47738693467336685 38.75748894897149 L 0.4824120603015075 38.75970807992595 L 0.48743718592964824 38.76192721088041 L 0.49246231155778897 38.764146341834866 L 0.49748743718592964 38.766365472789325 L 0.5025125628140703 38.76858460374378 L 0.507537688442211 38.77080373469825 L 0.5125628140703518 38.773022865652706 L 0.5175879396984925 38.775241996607164 L 0.5226130653266332 38.77746112756162 L 0.5276381909547738 38.77968025851608 L 0.5326633165829145 38.781899389470546 L 0.5376884422110553 38.784118520425004 L 0.542713567839196 38.78633765137946 L 0.5477386934673367 38.78855678233392 L 0.5527638190954774 38.79077591328838 L 0.5577889447236181 38.792995044242836 L 0.5628140703517588 38.7952141751973 L 0.5678391959798995 38.79743330615176 L 0.5728643216080402 38.79965243710622 L 0.577889447236181 38.801871568060676 L 0.5829145728643216 38.804090699015134 L 0.5879396984924623 38.80630982996959 L 0.592964824120603 38.80852896092406 L 0.5979899497487438 38.810748091878516 L 0.6030150753768845 38.812967222832974 L 0.6080402010050251 38.81518635378743 L 0.6130653266331658 38.81740548474189 L 0.6180904522613065 38.819624615696355 L 0.6231155778894473 38.82184374665081 L 0.628140703517588 38.82406287760527 L 0.6331658291457286 38.82628200855973 L 0.6381909547738693 38.82850113951419 L 0.6432160804020101 38.830720270468646 L 0.6482412060301508 38.83293940142311 L 0.6532663316582915 38.83515853237757 L 0.6582914572864321 38.83737766333203 L 0.6633165829145728 38.839596794286486 L 0.6683417085427136 38.841815925240944 L 0.6733668341708543 38.8440350561954 L 0.678391959798995 38.84625418714987 L 0.6834170854271356 38.848473318104325 L 0.6884422110552764 38.85069244905878 L 0.6934673366834171 38.85291158001324 L 0.6984924623115578 38.8551307109677 L 0.7035175879396985 38.85734984192216 L 0.7085427135678392 38.85956897287662 L 0.7135678391959799 38.86178810383108 L 0.7185929648241206 38.86400723478554 L 0.7236180904522613 38.86622636574 L 0.7286432160804021 38.868445496694456 L 0.7336683417085427 38.87066462764892 L 0.7386934673366834 38.87288375860338 L 0.7437185929648241 38.87510288955784 L 0.7487437185929648 38.877322020512295 L 0.7537688442211056 38.87954115146675 L 0.7587939698492463 38.88176028242121 L 0.7638190954773869 38.88397941337568 L 0.7688442211055276 38.886198544330135 L 0.7738693467336684 38.88841767528459 L 0.7788944723618091 38.89063680623905 L 0.7839195979899498 38.89285593719351 L 0.7889447236180904 38.89507506814797 L 0.7939698492462312 38.89729419910243 L 0.7989949748743719 38.89951333005689 L 0.8040201005025126 38.90173246101135 L 0.8090452261306533 38.90395159196581 L 0.8140703517587939 38.906170722920265 L 0.8190954773869347 38.90838985387473 L 0.8241206030150754 38.91060898482919 L 0.8291457286432161 38.91282811578365 L 0.8341708542713568 38.915047246738105 L 0.8391959798994975 38.91726637769256 L 0.8442211055276382 38.91948550864702 L 0.8492462311557789 38.92170463960149 L 0.8542713567839196 38.923923770555945 L 0.8592964824120604 38.9261429015104 L 0.864321608040201 38.92836203246486 L 0.8693467336683417 38.93058116341932 L 0.8743718592964824 38.93280029437378 L 0.8793969849246231 38.93501942532824 L 0.8844221105527639 38.9372385562827 L 0.8894472361809045 38.93945768723716 L 0.8944723618090452 38.94167681819162 L 0.8994974874371859 38.943895949146075 L 0.9045226130653267 38.94611508010053 L 0.9095477386934674 38.948334211055 L 0.914572864321608 38.95055334200946 L 0.9195979899497487 38.952772472963915 L 0.9246231155778895 38.95499160391837 L 0.9296482412060302 38.95721073487283 L 0.9346733668341709 38.959429865827296 L 0.9396984924623115 38.961648996781754 L 0.9447236180904522 38.96386812773621 L 0.949748743718593 38.96608725869067 L 0.9547738693467337 38.96830638964513 L 0.9597989949748744 38.97052552059959 L 0.964824120603015 38.97274465155405 L 0.9698492462311558 38.97496378250851 L 0.9748743718592965 38.97718291346297 L 0.9798994974874372 38.97940204441743 L 0.9849246231155779 38.981621175371885 L 0.9899497487437187 38.98384030632634 L 0.9949748743718593 38.98605943728081 L 1.0 38.988278568235266\",\"type\":\"path\"}],\"template\":{\"data\":{\"bar\":[{\"error_x\":{\"color\":\"#2a3f5f\"},\"error_y\":{\"color\":\"#2a3f5f\"},\"marker\":{\"line\":{\"color\":\"white\",\"width\":0.5},\"pattern\":{\"fillmode\":\"overlay\",\"size\":10,\"solidity\":0.2}},\"type\":\"bar\"}],\"barpolar\":[{\"marker\":{\"line\":{\"color\":\"white\",\"width\":0.5},\"pattern\":{\"fillmode\":\"overlay\",\"size\":10,\"solidity\":0.2}},\"type\":\"barpolar\"}],\"box\":[{\"boxpoints\":\"outliers\",\"notched\":false,\"type\":\"box\"}],\"carpet\":[{\"aaxis\":{\"endlinecolor\":\"#2a3f5f\",\"gridcolor\":\"#C8D4E3\",\"linecolor\":\"#C8D4E3\",\"minorgridcolor\":\"#C8D4E3\",\"startlinecolor\":\"#2a3f5f\"},\"baxis\":{\"endlinecolor\":\"#2a3f5f\",\"gridcolor\":\"#C8D4E3\",\"linecolor\":\"#C8D4E3\",\"minorgridcolor\":\"#C8D4E3\",\"startlinecolor\":\"#2a3f5f\"},\"type\":\"carpet\"}],\"choropleth\":[{\"colorbar\":{\"outlinewidth\":0,\"ticks\":\"\"},\"type\":\"choropleth\"}],\"contour\":[{\"colorbar\":{\"outlinewidth\":0,\"ticks\":\"\"},\"colorscale\":[[0.0,\"#0d0887\"],[0.1111111111111111,\"#46039f\"],[0.2222222222222222,\"#7201a8\"],[0.3333333333333333,\"#9c179e\"],[0.4444444444444444,\"#bd3786\"],[0.5555555555555556,\"#d8576b\"],[0.6666666666666666,\"#ed7953\"],[0.7777777777777778,\"#fb9f3a\"],[0.8888888888888888,\"#fdca26\"],[1.0,\"#f0f921\"]],\"type\":\"contour\"}],\"contourcarpet\":[{\"colorbar\":{\"outlinewidth\":0,\"ticks\":\"\"},\"type\":\"contourcarpet\"}],\"heatmap\":[{\"colorbar\":{\"outlinewidth\":0,\"ticks\":\"\"},\"colorscale\":[[0.0,\"#0d0887\"],[0.1111111111111111,\"#46039f\"],[0.2222222222222222,\"#7201a8\"],[0.3333333333333333,\"#9c179e\"],[0.4444444444444444,\"#bd3786\"],[0.5555555555555556,\"#d8576b\"],[0.6666666666666666,\"#ed7953\"],[0.7777777777777778,\"#fb9f3a\"],[0.8888888888888888,\"#fdca26\"],[1.0,\"#f0f921\"]],\"type\":\"heatmap\"}],\"heatmapgl\":[{\"colorbar\":{\"outlinewidth\":0,\"ticks\":\"\"},\"colorscale\":[[0.0,\"#0d0887\"],[0.1111111111111111,\"#46039f\"],[0.2222222222222222,\"#7201a8\"],[0.3333333333333333,\"#9c179e\"],[0.4444444444444444,\"#bd3786\"],[0.5555555555555556,\"#d8576b\"],[0.6666666666666666,\"#ed7953\"],[0.7777777777777778,\"#fb9f3a\"],[0.8888888888888888,\"#fdca26\"],[1.0,\"#f0f921\"]],\"type\":\"heatmapgl\"}],\"histogram\":[{\"marker\":{\"line\":{\"width\":1},\"pattern\":{\"fillmode\":\"overlay\",\"size\":10,\"solidity\":0.2}},\"type\":\"histogram\"}],\"histogram2d\":[{\"colorbar\":{\"outlinewidth\":0,\"ticks\":\"\"},\"colorscale\":[[0.0,\"#0d0887\"],[0.1111111111111111,\"#46039f\"],[0.2222222222222222,\"#7201a8\"],[0.3333333333333333,\"#9c179e\"],[0.4444444444444444,\"#bd3786\"],[0.5555555555555556,\"#d8576b\"],[0.6666666666666666,\"#ed7953\"],[0.7777777777777778,\"#fb9f3a\"],[0.8888888888888888,\"#fdca26\"],[1.0,\"#f0f921\"]],\"type\":\"histogram2d\"}],\"histogram2dcontour\":[{\"colorbar\":{\"outlinewidth\":0,\"ticks\":\"\"},\"colorscale\":[[0.0,\"#0d0887\"],[0.1111111111111111,\"#46039f\"],[0.2222222222222222,\"#7201a8\"],[0.3333333333333333,\"#9c179e\"],[0.4444444444444444,\"#bd3786\"],[0.5555555555555556,\"#d8576b\"],[0.6666666666666666,\"#ed7953\"],[0.7777777777777778,\"#fb9f3a\"],[0.8888888888888888,\"#fdca26\"],[1.0,\"#f0f921\"]],\"type\":\"histogram2dcontour\"}],\"mesh3d\":[{\"colorbar\":{\"outlinewidth\":0,\"ticks\":\"\"},\"type\":\"mesh3d\"}],\"parcoords\":[{\"line\":{\"colorbar\":{\"outlinewidth\":0,\"ticks\":\"\"}},\"type\":\"parcoords\"}],\"pie\":[{\"automargin\":true,\"type\":\"pie\"}],\"scatter\":[{\"marker\":{\"colorbar\":{\"outlinewidth\":0,\"ticks\":\"\"},\"opacity\":0.8},\"type\":\"scatter\"}],\"scatter3d\":[{\"line\":{\"colorbar\":{\"outlinewidth\":0,\"ticks\":\"\"}},\"marker\":{\"colorbar\":{\"outlinewidth\":0,\"ticks\":\"\"},\"opacity\":0.8},\"type\":\"scatter3d\"}],\"scattercarpet\":[{\"marker\":{\"colorbar\":{\"outlinewidth\":0,\"ticks\":\"\"}},\"type\":\"scattercarpet\"}],\"scattergeo\":[{\"marker\":{\"colorbar\":{\"outlinewidth\":0,\"ticks\":\"\"}},\"type\":\"scattergeo\"}],\"scattergl\":[{\"marker\":{\"colorbar\":{\"outlinewidth\":0,\"ticks\":\"\"}},\"type\":\"scattergl\"}],\"scattermapbox\":[{\"marker\":{\"colorbar\":{\"outlinewidth\":0,\"ticks\":\"\"}},\"type\":\"scattermapbox\"}],\"scatterpolar\":[{\"marker\":{\"colorbar\":{\"outlinewidth\":0,\"ticks\":\"\"}},\"type\":\"scatterpolar\"}],\"scatterpolargl\":[{\"marker\":{\"colorbar\":{\"outlinewidth\":0,\"ticks\":\"\"}},\"type\":\"scatterpolargl\"}],\"scatterternary\":[{\"marker\":{\"colorbar\":{\"outlinewidth\":0,\"ticks\":\"\"}},\"type\":\"scatterternary\"}],\"surface\":[{\"colorbar\":{\"outlinewidth\":0,\"ticks\":\"\"},\"colorscale\":[[0.0,\"#0d0887\"],[0.1111111111111111,\"#46039f\"],[0.2222222222222222,\"#7201a8\"],[0.3333333333333333,\"#9c179e\"],[0.4444444444444444,\"#bd3786\"],[0.5555555555555556,\"#d8576b\"],[0.6666666666666666,\"#ed7953\"],[0.7777777777777778,\"#fb9f3a\"],[0.8888888888888888,\"#fdca26\"],[1.0,\"#f0f921\"]],\"type\":\"surface\"}],\"table\":[{\"cells\":{\"fill\":{\"color\":\"#EBF0F8\"},\"line\":{\"color\":\"white\"}},\"header\":{\"fill\":{\"color\":\"#C8D4E3\"},\"line\":{\"color\":\"white\"}},\"type\":\"table\"}]},\"layout\":{\"annotationdefaults\":{\"arrowcolor\":\"#2a3f5f\",\"arrowhead\":0,\"arrowwidth\":1},\"autotypenumbers\":\"strict\",\"coloraxis\":{\"colorbar\":{\"outlinewidth\":0,\"ticks\":\"\"}},\"colorscale\":{\"diverging\":[[0,\"#8e0152\"],[0.1,\"#c51b7d\"],[0.2,\"#de77ae\"],[0.3,\"#f1b6da\"],[0.4,\"#fde0ef\"],[0.5,\"#f7f7f7\"],[0.6,\"#e6f5d0\"],[0.7,\"#b8e186\"],[0.8,\"#7fbc41\"],[0.9,\"#4d9221\"],[1,\"#276419\"]],\"sequential\":[[0.0,\"#0d0887\"],[0.1111111111111111,\"#46039f\"],[0.2222222222222222,\"#7201a8\"],[0.3333333333333333,\"#9c179e\"],[0.4444444444444444,\"#bd3786\"],[0.5555555555555556,\"#d8576b\"],[0.6666666666666666,\"#ed7953\"],[0.7777777777777778,\"#fb9f3a\"],[0.8888888888888888,\"#fdca26\"],[1.0,\"#f0f921\"]],\"sequentialminus\":[[0.0,\"#0d0887\"],[0.1111111111111111,\"#46039f\"],[0.2222222222222222,\"#7201a8\"],[0.3333333333333333,\"#9c179e\"],[0.4444444444444444,\"#bd3786\"],[0.5555555555555556,\"#d8576b\"],[0.6666666666666666,\"#ed7953\"],[0.7777777777777778,\"#fb9f3a\"],[0.8888888888888888,\"#fdca26\"],[1.0,\"#f0f921\"]]},\"colorway\":[\"#636efa\",\"#EF553B\",\"#00cc96\",\"#ab63fa\",\"#FFA15A\",\"#19d3f3\",\"#FF6692\",\"#B6E880\",\"#FF97FF\",\"#FECB52\"],\"font\":{\"color\":\"#2a3f5f\"},\"geo\":{\"bgcolor\":\"white\",\"lakecolor\":\"white\",\"landcolor\":\"white\",\"showlakes\":true,\"showland\":true,\"subunitcolor\":\"#C8D4E3\"},\"height\":400,\"hoverlabel\":{\"align\":\"left\"},\"hovermode\":\"closest\",\"mapbox\":{\"style\":\"light\"},\"margin\":{\"b\":2,\"l\":2,\"r\":2,\"t\":30},\"paper_bgcolor\":\"white\",\"plot_bgcolor\":\"white\",\"polar\":{\"angularaxis\":{\"gridcolor\":\"#EBF0F8\",\"linecolor\":\"#EBF0F8\",\"ticks\":\"\"},\"bgcolor\":\"white\",\"radialaxis\":{\"gridcolor\":\"#EBF0F8\",\"linecolor\":\"#EBF0F8\",\"ticks\":\"\"}},\"scene\":{\"camera\":{\"eye\":{\"x\":1.5,\"y\":1.5,\"z\":0.1}},\"xaxis\":{\"backgroundcolor\":\"white\",\"gridcolor\":\"#DFE8F3\",\"gridwidth\":2,\"linecolor\":\"#EBF0F8\",\"showbackground\":true,\"ticks\":\"\",\"zerolinecolor\":\"#EBF0F8\"},\"yaxis\":{\"backgroundcolor\":\"white\",\"gridcolor\":\"#DFE8F3\",\"gridwidth\":2,\"linecolor\":\"#EBF0F8\",\"showbackground\":true,\"ticks\":\"\",\"zerolinecolor\":\"#EBF0F8\"},\"zaxis\":{\"backgroundcolor\":\"white\",\"gridcolor\":\"#DFE8F3\",\"gridwidth\":2,\"linecolor\":\"#EBF0F8\",\"showbackground\":true,\"ticks\":\"\",\"zerolinecolor\":\"#EBF0F8\"}},\"shapedefaults\":{\"line\":{\"color\":\"#2a3f5f\"}},\"ternary\":{\"aaxis\":{\"gridcolor\":\"#DFE8F3\",\"linecolor\":\"#A2B1C6\",\"ticks\":\"\"},\"baxis\":{\"gridcolor\":\"#DFE8F3\",\"linecolor\":\"#A2B1C6\",\"ticks\":\"\"},\"bgcolor\":\"white\",\"caxis\":{\"gridcolor\":\"#DFE8F3\",\"linecolor\":\"#A2B1C6\",\"ticks\":\"\"}},\"title\":{\"x\":0.5},\"xaxis\":{\"automargin\":true,\"gridcolor\":\"#EBF0F8\",\"linecolor\":\"#EBF0F8\",\"linewidth\":2,\"showline\":true,\"ticks\":\"\",\"title\":{\"standoff\":15},\"zerolinecolor\":\"#EBF0F8\",\"zerolinewidth\":2},\"yaxis\":{\"automargin\":true,\"gridcolor\":\"#EBF0F8\",\"linecolor\":\"#EBF0F8\",\"linewidth\":2,\"showline\":true,\"ticks\":\"\",\"title\":{\"standoff\":15},\"zerolinecolor\":\"#EBF0F8\",\"zerolinewidth\":2}}},\"title\":{\"text\":\"male\"},\"xaxis\":{\"anchor\":\"y\",\"domain\":[0.0,1.0],\"title\":{\"text\":\"male\"}},\"yaxis\":{\"anchor\":\"x\",\"domain\":[0.0,1.0],\"title\":{\"text\":\"core temperature\"}}},                        {\"responsive\": true}                    ).then(function(){\n",
       "                            \n",
       "var gd = document.getElementById('6dc8c110-ca80-4252-9167-7c572f41578b');\n",
       "var x = new MutationObserver(function (mutations, observer) {{\n",
       "        var display = window.getComputedStyle(gd).display;\n",
       "        if (!display || display === 'none') {{\n",
       "            console.log([gd, 'removed!']);\n",
       "            Plotly.purge(gd);\n",
       "            observer.disconnect();\n",
       "        }}\n",
       "}});\n",
       "\n",
       "// Listen for the removal of the full notebook cells\n",
       "var notebookContainer = gd.closest('#notebook-container');\n",
       "if (notebookContainer) {{\n",
       "    x.observe(notebookContainer, {childList: true});\n",
       "}}\n",
       "\n",
       "// Listen for the clearing of the current output cell\n",
       "var outputEl = gd.closest('.output');\n",
       "if (outputEl) {{\n",
       "    x.observe(outputEl, {childList: true});\n",
       "}}\n",
       "\n",
       "                        })                };                });            </script>        </div>"
      ]
     },
     "metadata": {},
     "output_type": "display_data"
    },
    {
     "name": "stdout",
     "output_type": "stream",
     "text": [
      "age\n",
      "R-squared: 0.2648116081342464\n"
     ]
    },
    {
     "data": {
      "application/vnd.plotly.v1+json": {
       "config": {
        "plotlyServerURL": "https://plot.ly"
       },
       "data": [
        {
         "hovertemplate": "age=%{x}<br>core temperature=%{y}<extra></extra>",
         "legendgroup": "",
         "marker": {
          "color": "#636efa",
          "size": 17,
          "symbol": "circle"
         },
         "mode": "markers",
         "name": "",
         "orientation": "v",
         "showlegend": false,
         "type": "scatter",
         "x": [
          6.9,
          5.4,
          5.4,
          4.8,
          4.8,
          7.8,
          2.7,
          5.7,
          1.5,
          1.8,
          4.2,
          4.5,
          1.5,
          5.1,
          4.8,
          5.1,
          3.6,
          4.2,
          2.7,
          8.7,
          0.9,
          6.3,
          1.2,
          2.7,
          6,
          6,
          0.6,
          3.9,
          6,
          5.7,
          6.9,
          5.1,
          2.1,
          3.6,
          6.3,
          2.4,
          8.4,
          7.5,
          5.7,
          5.7,
          2.7,
          4.2,
          6.9,
          3,
          1.8,
          2.4,
          6.3,
          0.6,
          1.8,
          4.8,
          8.4,
          8.1,
          6.3,
          8.7,
          4.5,
          4.5,
          7.5,
          1.2,
          5.7,
          0.6,
          6.9,
          8.1,
          0.6,
          1.2,
          6.6,
          8.1,
          2.7,
          3.9,
          4.2,
          6.9,
          1.2,
          3.9,
          3.6,
          0.3,
          3,
          8.7,
          2.1,
          6.6,
          1.5,
          5.1,
          6,
          2.1,
          6,
          4.2,
          1.5,
          1.8,
          1.8,
          6.9,
          6.9,
          4.5,
          1.8,
          8.4,
          3,
          4.5,
          1.8,
          6.6,
          6.9,
          6
         ],
         "xaxis": "x",
         "y": [
          38.42316895,
          39.01599822,
          39.14834088,
          39.06004863,
          38.65543905,
          38.6092188,
          39.47390806,
          38.81521612,
          37.77845286,
          39.17685034,
          39.52090819,
          38.57896943,
          38.28013391,
          38.40158039,
          38.65157641,
          39.61720308,
          37.72843549,
          39.36694049,
          37.98848685,
          39.93405104,
          37.60559023,
          38.83468198,
          37.39892664,
          38.98633063,
          39.72456882,
          38.09695504,
          37.59597881,
          39.49731323,
          38.50187636,
          38.27036031,
          38.69964224,
          39.08411118,
          38.29400364,
          38.39872285,
          39.29951536,
          38.37598649,
          38.46968433,
          39.58561173,
          38.12682317,
          39.80156649,
          37.92682179,
          39.67264697,
          38.21409556,
          38.93217418,
          37.80121676,
          37.52097889,
          39.34942824,
          38.9163822,
          38.72595498,
          38.35421436,
          40.17337876,
          39.48214424,
          39.9557292,
          39.02529641,
          39.70565695,
          37.87210056,
          38.92730588,
          38.75694066,
          38.98157028,
          39.07020183,
          39.31023381,
          40.26487847,
          39.19531025,
          37.46606804,
          38.61929591,
          39.74308443,
          37.9590829,
          38.52387016,
          39.58821189,
          39.48780846,
          37.32113362,
          38.30311301,
          39.32598796,
          38.18373964,
          37.78518905,
          38.97361387,
          37.97719515,
          38.92654301,
          37.98922316,
          39.87010492,
          38.51344083,
          39.14710639,
          38.61129304,
          38.95232638,
          37.46812464,
          38.24131363,
          38.7661591,
          39.87233432,
          38.87492299,
          39.09337261,
          39.00124171,
          39.25963687,
          38.6808734,
          37.93994229,
          38.79042609,
          39.48996228,
          38.57574159,
          39.76644658
         ],
         "yaxis": "y"
        }
       ],
       "layout": {
        "legend": {
         "tracegroupgap": 0
        },
        "shapes": [
         {
          "line": {
           "color": "rgb(228,26,28)"
          },
          "path": "M0.3 38.133869422156295 L 0.3422110552763819 38.1403420475402 L 0.38442211055276376 38.14681467292411 L 0.4266331658291457 38.153287298308015 L 0.4688442211055276 38.15975992369192 L 0.5110552763819095 38.16623254907583 L 0.5532663316582913 38.172705174459736 L 0.5954773869346732 38.17917779984364 L 0.6376884422110551 38.18565042522755 L 0.679899497487437 38.19212305061146 L 0.722110552763819 38.198595675995364 L 0.7643216080402009 38.20506830137927 L 0.8065326633165828 38.21154092676318 L 0.8487437185929647 38.218013552147085 L 0.8909547738693466 38.22448617753099 L 0.9331658291457285 38.2309588029149 L 0.9753768844221105 38.237431428298805 L 1.0175879396984924 38.24390405368271 L 1.0597989949748743 38.25037667906662 L 1.1020100502512562 38.256849304450526 L 1.1442211055276381 38.26332192983443 L 1.1864321608040198 38.26979455521834 L 1.2286432160804017 38.27626718060225 L 1.2708542713567836 38.282739805986154 L 1.3130653266331656 38.28921243137006 L 1.3552763819095475 38.29568505675397 L 1.3974874371859294 38.302157682137874 L 1.4396984924623113 38.30863030752178 L 1.4819095477386932 38.31510293290569 L 1.5241206030150751 38.321575558289595 L 1.566331658291457 38.3280481836735 L 1.608542713567839 38.33452080905741 L 1.6507537688442209 38.340993434441316 L 1.6929648241206028 38.34746605982522 L 1.7351758793969847 38.35393868520913 L 1.7773869346733666 38.36041131059304 L 1.8195979899497485 38.366883935976944 L 1.8618090452261304 38.37335656136085 L 1.9040201005025124 38.37982918674476 L 1.9462311557788943 38.386301812128664 L 1.9884422110552762 38.39277443751257 L 2.0306532663316577 38.39924706289648 L 2.07286432160804 38.405719688280385 L 2.1150753768844215 38.41219231366429 L 2.1572864321608036 38.4186649390482 L 2.1994974874371853 38.425137564432106 L 2.2417085427135675 38.43161018981601 L 2.283919597989949 38.43808281519992 L 2.326130653266331 38.44455544058383 L 2.368341708542713 38.45102806596773 L 2.4105527638190947 38.45750069135164 L 2.452763819095477 38.46397331673555 L 2.4949748743718585 38.470445942119454 L 2.5371859296482406 38.47691856750336 L 2.5793969849246223 38.48339119288727 L 2.6216080402010045 38.489863818271175 L 2.663819095477386 38.49633644365508 L 2.7060301507537683 38.50280906903899 L 2.74824120603015 38.509281694422896 L 2.790452261306532 38.5157543198068 L 2.832663316582914 38.52222694519071 L 2.874874371859296 38.52869957057462 L 2.9170854271356776 38.53517219595852 L 2.95929648241206 38.54164482134243 L 3.0015075376884415 38.54811744672634 L 3.043718592964823 38.554590072110244 L 3.0859296482412053 38.56106269749415 L 3.128140703517587 38.56753532287806 L 3.170351758793969 38.574007948261965 L 3.212562814070351 38.58048057364587 L 3.254773869346733 38.58695319902978 L 3.2969849246231147 38.593425824413686 L 3.339195979899497 38.59989844979759 L 3.3814070351758785 38.6063710751815 L 3.4236180904522606 38.612843700565406 L 3.4658291457286423 38.61931632594931 L 3.5080402010050244 38.62578895133322 L 3.550251256281406 38.63226157671713 L 3.5924623115577883 38.638734202101034 L 3.63467336683417 38.64520682748494 L 3.676884422110552 38.65167945286885 L 3.719095477386934 38.658152078252755 L 3.7613065326633155 38.66462470363666 L 3.8035175879396976 38.67109732902057 L 3.8457286432160793 38.677569954404476 L 3.8879396984924615 38.68404257978838 L 3.930150753768843 38.69051520517229 L 3.9723618090452253 38.696987830556196 L 4.014572864321607 38.7034604559401 L 4.056783919597989 38.70993308132401 L 4.098994974874371 38.71640570670792 L 4.141206030150753 38.722878332091824 L 4.183417085427135 38.72935095747573 L 4.225628140703517 38.73582358285964 L 4.2678391959798985 38.742296208243545 L 4.31005025125628 38.74876883362745 L 4.352261306532662 38.75524145901136 L 4.394472361809044 38.761714084395265 L 4.436683417085426 38.76818670977917 L 4.478894472361808 38.77465933516308 L 4.5211055276381895 38.781131960546986 L 4.563316582914572 38.78760458593089 L 4.605527638190954 38.7940772113148 L 4.6477386934673355 38.80054983669871 L 4.689949748743717 38.807022462082614 L 4.7321608040201 38.81349508746652 L 4.7743718592964814 38.81996771285043 L 4.816582914572863 38.826440338234335 L 4.858793969849245 38.83291296361824 L 4.901005025125627 38.83938558900215 L 4.943216080402009 38.845858214386055 L 4.985427135678391 38.85233083976996 L 5.0276381909547725 38.85880346515387 L 5.069849246231154 38.865276090537776 L 5.112060301507537 38.87174871592168 L 5.1542713567839185 38.87822134130559 L 5.1964824120603 38.8846939666895 L 5.238693467336682 38.891166592073404 L 5.280904522613064 38.89763921745731 L 5.323115577889446 38.90411184284122 L 5.365326633165828 38.910584468225125 L 5.4075376884422095 38.91705709360903 L 5.449748743718592 38.92352971899294 L 5.491959798994974 38.930002344376845 L 5.5341708542713555 38.93647496976075 L 5.576381909547737 38.94294759514466 L 5.61859296482412 38.949420220528566 L 5.660804020100501 38.95589284591247 L 5.703015075376883 38.96236547129638 L 5.745226130653265 38.96883809668029 L 5.7874371859296465 38.975310722064194 L 5.829648241206029 38.9817833474481 L 5.871859296482411 38.98825597283201 L 5.9140703517587925 38.994728598215914 L 5.956281407035174 39.00120122359982 L 5.998492462311557 39.00767384898373 L 6.040703517587938 39.014146474367635 L 6.08291457286432 39.02061909975154 L 6.125125628140702 39.02709172513545 L 6.167336683417084 39.033564350519356 L 6.209547738693466 39.04003697590326 L 6.251758793969848 39.04650960128717 L 6.2939698492462295 39.05298222667108 L 6.336180904522612 39.059454852054984 L 6.378391959798994 39.06592747743889 L 6.4206030150753755 39.0724001028228 L 6.462814070351757 39.078872728206704 L 6.505025125628139 39.08534535359061 L 6.547236180904521 39.09181797897452 L 6.589447236180903 39.098290604358425 L 6.631658291457285 39.10476322974233 L 6.6738693467336665 39.11123585512624 L 6.716080402010049 39.117708480510146 L 6.758291457286431 39.12418110589405 L 6.8005025125628125 39.13065373127796 L 6.842713567839194 39.13712635666187 L 6.884924623115577 39.14359898204577 L 6.927135678391958 39.15007160742968 L 6.96934673366834 39.15654423281359 L 7.011557788944722 39.163016858197494 L 7.053768844221104 39.1694894835814 L 7.095979899497486 39.17596210896531 L 7.138190954773868 39.182434734349215 L 7.1804020100502495 39.18890735973312 L 7.222613065326631 39.19537998511703 L 7.264824120603014 39.201852610500936 L 7.307035175879395 39.20832523588484 L 7.349246231155777 39.21479786126875 L 7.391457286432159 39.22127048665266 L 7.433668341708541 39.22774311203656 L 7.475879396984923 39.23421573742047 L 7.518090452261305 39.24068836280438 L 7.5603015075376865 39.247160988188284 L 7.602512562814069 39.25363361357219 L 7.644723618090451 39.2601062389561 L 7.6869346733668324 39.266578864340005 L 7.729145728643214 39.27305148972391 L 7.771356783919596 39.27952411510782 L 7.813567839195978 39.285996740491726 L 7.85577889447236 39.29246936587563 L 7.897989949748742 39.29894199125954 L 7.9402010050251235 39.305414616643446 L 7.982412060301506 39.31188724202735 L 8.024623115577889 39.31835986741126 L 8.06683417085427 39.32483249279517 L 8.109045226130652 39.331305118179074 L 8.151256281407035 39.33777774356298 L 8.193467336683415 39.34425036894689 L 8.235678391959798 39.350722994330795 L 8.277889447236179 39.3571956197147 L 8.320100502512561 39.36366824509861 L 8.362311557788944 39.370140870482516 L 8.404522613065325 39.37661349586642 L 8.446733668341707 39.38308612125033 L 8.48894472361809 39.389558746634236 L 8.53115577889447 39.39603137201814 L 8.573366834170853 39.40250399740205 L 8.615577889447236 39.40897662278596 L 8.657788944723617 39.415449248169864 L 8.7 39.42192187355377",
          "type": "path"
         }
        ],
        "template": {
         "data": {
          "bar": [
           {
            "error_x": {
             "color": "#2a3f5f"
            },
            "error_y": {
             "color": "#2a3f5f"
            },
            "marker": {
             "line": {
              "color": "white",
              "width": 0.5
             },
             "pattern": {
              "fillmode": "overlay",
              "size": 10,
              "solidity": 0.2
             }
            },
            "type": "bar"
           }
          ],
          "barpolar": [
           {
            "marker": {
             "line": {
              "color": "white",
              "width": 0.5
             },
             "pattern": {
              "fillmode": "overlay",
              "size": 10,
              "solidity": 0.2
             }
            },
            "type": "barpolar"
           }
          ],
          "box": [
           {
            "boxpoints": "outliers",
            "notched": false,
            "type": "box"
           }
          ],
          "carpet": [
           {
            "aaxis": {
             "endlinecolor": "#2a3f5f",
             "gridcolor": "#C8D4E3",
             "linecolor": "#C8D4E3",
             "minorgridcolor": "#C8D4E3",
             "startlinecolor": "#2a3f5f"
            },
            "baxis": {
             "endlinecolor": "#2a3f5f",
             "gridcolor": "#C8D4E3",
             "linecolor": "#C8D4E3",
             "minorgridcolor": "#C8D4E3",
             "startlinecolor": "#2a3f5f"
            },
            "type": "carpet"
           }
          ],
          "choropleth": [
           {
            "colorbar": {
             "outlinewidth": 0,
             "ticks": ""
            },
            "type": "choropleth"
           }
          ],
          "contour": [
           {
            "colorbar": {
             "outlinewidth": 0,
             "ticks": ""
            },
            "colorscale": [
             [
              0,
              "#0d0887"
             ],
             [
              0.1111111111111111,
              "#46039f"
             ],
             [
              0.2222222222222222,
              "#7201a8"
             ],
             [
              0.3333333333333333,
              "#9c179e"
             ],
             [
              0.4444444444444444,
              "#bd3786"
             ],
             [
              0.5555555555555556,
              "#d8576b"
             ],
             [
              0.6666666666666666,
              "#ed7953"
             ],
             [
              0.7777777777777778,
              "#fb9f3a"
             ],
             [
              0.8888888888888888,
              "#fdca26"
             ],
             [
              1,
              "#f0f921"
             ]
            ],
            "type": "contour"
           }
          ],
          "contourcarpet": [
           {
            "colorbar": {
             "outlinewidth": 0,
             "ticks": ""
            },
            "type": "contourcarpet"
           }
          ],
          "heatmap": [
           {
            "colorbar": {
             "outlinewidth": 0,
             "ticks": ""
            },
            "colorscale": [
             [
              0,
              "#0d0887"
             ],
             [
              0.1111111111111111,
              "#46039f"
             ],
             [
              0.2222222222222222,
              "#7201a8"
             ],
             [
              0.3333333333333333,
              "#9c179e"
             ],
             [
              0.4444444444444444,
              "#bd3786"
             ],
             [
              0.5555555555555556,
              "#d8576b"
             ],
             [
              0.6666666666666666,
              "#ed7953"
             ],
             [
              0.7777777777777778,
              "#fb9f3a"
             ],
             [
              0.8888888888888888,
              "#fdca26"
             ],
             [
              1,
              "#f0f921"
             ]
            ],
            "type": "heatmap"
           }
          ],
          "heatmapgl": [
           {
            "colorbar": {
             "outlinewidth": 0,
             "ticks": ""
            },
            "colorscale": [
             [
              0,
              "#0d0887"
             ],
             [
              0.1111111111111111,
              "#46039f"
             ],
             [
              0.2222222222222222,
              "#7201a8"
             ],
             [
              0.3333333333333333,
              "#9c179e"
             ],
             [
              0.4444444444444444,
              "#bd3786"
             ],
             [
              0.5555555555555556,
              "#d8576b"
             ],
             [
              0.6666666666666666,
              "#ed7953"
             ],
             [
              0.7777777777777778,
              "#fb9f3a"
             ],
             [
              0.8888888888888888,
              "#fdca26"
             ],
             [
              1,
              "#f0f921"
             ]
            ],
            "type": "heatmapgl"
           }
          ],
          "histogram": [
           {
            "marker": {
             "line": {
              "width": 1
             },
             "pattern": {
              "fillmode": "overlay",
              "size": 10,
              "solidity": 0.2
             }
            },
            "type": "histogram"
           }
          ],
          "histogram2d": [
           {
            "colorbar": {
             "outlinewidth": 0,
             "ticks": ""
            },
            "colorscale": [
             [
              0,
              "#0d0887"
             ],
             [
              0.1111111111111111,
              "#46039f"
             ],
             [
              0.2222222222222222,
              "#7201a8"
             ],
             [
              0.3333333333333333,
              "#9c179e"
             ],
             [
              0.4444444444444444,
              "#bd3786"
             ],
             [
              0.5555555555555556,
              "#d8576b"
             ],
             [
              0.6666666666666666,
              "#ed7953"
             ],
             [
              0.7777777777777778,
              "#fb9f3a"
             ],
             [
              0.8888888888888888,
              "#fdca26"
             ],
             [
              1,
              "#f0f921"
             ]
            ],
            "type": "histogram2d"
           }
          ],
          "histogram2dcontour": [
           {
            "colorbar": {
             "outlinewidth": 0,
             "ticks": ""
            },
            "colorscale": [
             [
              0,
              "#0d0887"
             ],
             [
              0.1111111111111111,
              "#46039f"
             ],
             [
              0.2222222222222222,
              "#7201a8"
             ],
             [
              0.3333333333333333,
              "#9c179e"
             ],
             [
              0.4444444444444444,
              "#bd3786"
             ],
             [
              0.5555555555555556,
              "#d8576b"
             ],
             [
              0.6666666666666666,
              "#ed7953"
             ],
             [
              0.7777777777777778,
              "#fb9f3a"
             ],
             [
              0.8888888888888888,
              "#fdca26"
             ],
             [
              1,
              "#f0f921"
             ]
            ],
            "type": "histogram2dcontour"
           }
          ],
          "mesh3d": [
           {
            "colorbar": {
             "outlinewidth": 0,
             "ticks": ""
            },
            "type": "mesh3d"
           }
          ],
          "parcoords": [
           {
            "line": {
             "colorbar": {
              "outlinewidth": 0,
              "ticks": ""
             }
            },
            "type": "parcoords"
           }
          ],
          "pie": [
           {
            "automargin": true,
            "type": "pie"
           }
          ],
          "scatter": [
           {
            "marker": {
             "colorbar": {
              "outlinewidth": 0,
              "ticks": ""
             },
             "opacity": 0.8
            },
            "type": "scatter"
           }
          ],
          "scatter3d": [
           {
            "line": {
             "colorbar": {
              "outlinewidth": 0,
              "ticks": ""
             }
            },
            "marker": {
             "colorbar": {
              "outlinewidth": 0,
              "ticks": ""
             },
             "opacity": 0.8
            },
            "type": "scatter3d"
           }
          ],
          "scattercarpet": [
           {
            "marker": {
             "colorbar": {
              "outlinewidth": 0,
              "ticks": ""
             }
            },
            "type": "scattercarpet"
           }
          ],
          "scattergeo": [
           {
            "marker": {
             "colorbar": {
              "outlinewidth": 0,
              "ticks": ""
             }
            },
            "type": "scattergeo"
           }
          ],
          "scattergl": [
           {
            "marker": {
             "colorbar": {
              "outlinewidth": 0,
              "ticks": ""
             }
            },
            "type": "scattergl"
           }
          ],
          "scattermapbox": [
           {
            "marker": {
             "colorbar": {
              "outlinewidth": 0,
              "ticks": ""
             }
            },
            "type": "scattermapbox"
           }
          ],
          "scatterpolar": [
           {
            "marker": {
             "colorbar": {
              "outlinewidth": 0,
              "ticks": ""
             }
            },
            "type": "scatterpolar"
           }
          ],
          "scatterpolargl": [
           {
            "marker": {
             "colorbar": {
              "outlinewidth": 0,
              "ticks": ""
             }
            },
            "type": "scatterpolargl"
           }
          ],
          "scatterternary": [
           {
            "marker": {
             "colorbar": {
              "outlinewidth": 0,
              "ticks": ""
             }
            },
            "type": "scatterternary"
           }
          ],
          "surface": [
           {
            "colorbar": {
             "outlinewidth": 0,
             "ticks": ""
            },
            "colorscale": [
             [
              0,
              "#0d0887"
             ],
             [
              0.1111111111111111,
              "#46039f"
             ],
             [
              0.2222222222222222,
              "#7201a8"
             ],
             [
              0.3333333333333333,
              "#9c179e"
             ],
             [
              0.4444444444444444,
              "#bd3786"
             ],
             [
              0.5555555555555556,
              "#d8576b"
             ],
             [
              0.6666666666666666,
              "#ed7953"
             ],
             [
              0.7777777777777778,
              "#fb9f3a"
             ],
             [
              0.8888888888888888,
              "#fdca26"
             ],
             [
              1,
              "#f0f921"
             ]
            ],
            "type": "surface"
           }
          ],
          "table": [
           {
            "cells": {
             "fill": {
              "color": "#EBF0F8"
             },
             "line": {
              "color": "white"
             }
            },
            "header": {
             "fill": {
              "color": "#C8D4E3"
             },
             "line": {
              "color": "white"
             }
            },
            "type": "table"
           }
          ]
         },
         "layout": {
          "annotationdefaults": {
           "arrowcolor": "#2a3f5f",
           "arrowhead": 0,
           "arrowwidth": 1
          },
          "autotypenumbers": "strict",
          "coloraxis": {
           "colorbar": {
            "outlinewidth": 0,
            "ticks": ""
           }
          },
          "colorscale": {
           "diverging": [
            [
             0,
             "#8e0152"
            ],
            [
             0.1,
             "#c51b7d"
            ],
            [
             0.2,
             "#de77ae"
            ],
            [
             0.3,
             "#f1b6da"
            ],
            [
             0.4,
             "#fde0ef"
            ],
            [
             0.5,
             "#f7f7f7"
            ],
            [
             0.6,
             "#e6f5d0"
            ],
            [
             0.7,
             "#b8e186"
            ],
            [
             0.8,
             "#7fbc41"
            ],
            [
             0.9,
             "#4d9221"
            ],
            [
             1,
             "#276419"
            ]
           ],
           "sequential": [
            [
             0,
             "#0d0887"
            ],
            [
             0.1111111111111111,
             "#46039f"
            ],
            [
             0.2222222222222222,
             "#7201a8"
            ],
            [
             0.3333333333333333,
             "#9c179e"
            ],
            [
             0.4444444444444444,
             "#bd3786"
            ],
            [
             0.5555555555555556,
             "#d8576b"
            ],
            [
             0.6666666666666666,
             "#ed7953"
            ],
            [
             0.7777777777777778,
             "#fb9f3a"
            ],
            [
             0.8888888888888888,
             "#fdca26"
            ],
            [
             1,
             "#f0f921"
            ]
           ],
           "sequentialminus": [
            [
             0,
             "#0d0887"
            ],
            [
             0.1111111111111111,
             "#46039f"
            ],
            [
             0.2222222222222222,
             "#7201a8"
            ],
            [
             0.3333333333333333,
             "#9c179e"
            ],
            [
             0.4444444444444444,
             "#bd3786"
            ],
            [
             0.5555555555555556,
             "#d8576b"
            ],
            [
             0.6666666666666666,
             "#ed7953"
            ],
            [
             0.7777777777777778,
             "#fb9f3a"
            ],
            [
             0.8888888888888888,
             "#fdca26"
            ],
            [
             1,
             "#f0f921"
            ]
           ]
          },
          "colorway": [
           "#636efa",
           "#EF553B",
           "#00cc96",
           "#ab63fa",
           "#FFA15A",
           "#19d3f3",
           "#FF6692",
           "#B6E880",
           "#FF97FF",
           "#FECB52"
          ],
          "font": {
           "color": "#2a3f5f"
          },
          "geo": {
           "bgcolor": "white",
           "lakecolor": "white",
           "landcolor": "white",
           "showlakes": true,
           "showland": true,
           "subunitcolor": "#C8D4E3"
          },
          "height": 400,
          "hoverlabel": {
           "align": "left"
          },
          "hovermode": "closest",
          "mapbox": {
           "style": "light"
          },
          "margin": {
           "b": 2,
           "l": 2,
           "r": 2,
           "t": 30
          },
          "paper_bgcolor": "white",
          "plot_bgcolor": "white",
          "polar": {
           "angularaxis": {
            "gridcolor": "#EBF0F8",
            "linecolor": "#EBF0F8",
            "ticks": ""
           },
           "bgcolor": "white",
           "radialaxis": {
            "gridcolor": "#EBF0F8",
            "linecolor": "#EBF0F8",
            "ticks": ""
           }
          },
          "scene": {
           "camera": {
            "eye": {
             "x": 1.5,
             "y": 1.5,
             "z": 0.1
            }
           },
           "xaxis": {
            "backgroundcolor": "white",
            "gridcolor": "#DFE8F3",
            "gridwidth": 2,
            "linecolor": "#EBF0F8",
            "showbackground": true,
            "ticks": "",
            "zerolinecolor": "#EBF0F8"
           },
           "yaxis": {
            "backgroundcolor": "white",
            "gridcolor": "#DFE8F3",
            "gridwidth": 2,
            "linecolor": "#EBF0F8",
            "showbackground": true,
            "ticks": "",
            "zerolinecolor": "#EBF0F8"
           },
           "zaxis": {
            "backgroundcolor": "white",
            "gridcolor": "#DFE8F3",
            "gridwidth": 2,
            "linecolor": "#EBF0F8",
            "showbackground": true,
            "ticks": "",
            "zerolinecolor": "#EBF0F8"
           }
          },
          "shapedefaults": {
           "line": {
            "color": "#2a3f5f"
           }
          },
          "ternary": {
           "aaxis": {
            "gridcolor": "#DFE8F3",
            "linecolor": "#A2B1C6",
            "ticks": ""
           },
           "baxis": {
            "gridcolor": "#DFE8F3",
            "linecolor": "#A2B1C6",
            "ticks": ""
           },
           "bgcolor": "white",
           "caxis": {
            "gridcolor": "#DFE8F3",
            "linecolor": "#A2B1C6",
            "ticks": ""
           }
          },
          "title": {
           "x": 0.5
          },
          "xaxis": {
           "automargin": true,
           "gridcolor": "#EBF0F8",
           "linecolor": "#EBF0F8",
           "linewidth": 2,
           "showline": true,
           "ticks": "",
           "title": {
            "standoff": 15
           },
           "zerolinecolor": "#EBF0F8",
           "zerolinewidth": 2
          },
          "yaxis": {
           "automargin": true,
           "gridcolor": "#EBF0F8",
           "linecolor": "#EBF0F8",
           "linewidth": 2,
           "showline": true,
           "ticks": "",
           "title": {
            "standoff": 15
           },
           "zerolinecolor": "#EBF0F8",
           "zerolinewidth": 2
          }
         }
        },
        "title": {
         "text": "age"
        },
        "xaxis": {
         "anchor": "y",
         "domain": [
          0,
          1
         ],
         "title": {
          "text": "age"
         }
        },
        "yaxis": {
         "anchor": "x",
         "domain": [
          0,
          1
         ],
         "title": {
          "text": "core temperature"
         }
        }
       }
      },
      "text/html": [
       "<div>                            <div id=\"d0f03649-d8cc-44d9-8873-0e66140e0ef0\" class=\"plotly-graph-div\" style=\"height:400px; width:100%;\"></div>            <script type=\"text/javascript\">                require([\"plotly\"], function(Plotly) {                    window.PLOTLYENV=window.PLOTLYENV || {};                                    if (document.getElementById(\"d0f03649-d8cc-44d9-8873-0e66140e0ef0\")) {                    Plotly.newPlot(                        \"d0f03649-d8cc-44d9-8873-0e66140e0ef0\",                        [{\"hovertemplate\":\"age=%{x}<br>core temperature=%{y}<extra></extra>\",\"legendgroup\":\"\",\"marker\":{\"color\":\"#636efa\",\"size\":17,\"symbol\":\"circle\"},\"mode\":\"markers\",\"name\":\"\",\"orientation\":\"v\",\"showlegend\":false,\"type\":\"scatter\",\"x\":[6.9,5.4,5.4,4.8,4.8,7.8,2.7,5.7,1.5,1.8,4.2,4.5,1.5,5.1,4.8,5.1,3.6,4.2,2.7,8.7,0.9,6.3,1.2,2.7,6.0,6.0,0.6,3.9,6.0,5.7,6.9,5.1,2.1,3.6,6.3,2.4,8.4,7.5,5.7,5.7,2.7,4.2,6.9,3.0,1.8,2.4,6.3,0.6,1.8,4.8,8.4,8.1,6.3,8.7,4.5,4.5,7.5,1.2,5.7,0.6,6.9,8.1,0.6,1.2,6.6,8.1,2.7,3.9,4.2,6.9,1.2,3.9,3.6,0.3,3.0,8.7,2.1,6.6,1.5,5.1,6.0,2.1,6.0,4.2,1.5,1.8,1.8,6.9,6.9,4.5,1.8,8.4,3.0,4.5,1.8,6.6,6.9,6.0],\"xaxis\":\"x\",\"y\":[38.42316895,39.01599822,39.14834088,39.06004863,38.65543905,38.6092188,39.47390806,38.81521612,37.77845286,39.17685034,39.52090819,38.57896943,38.28013391,38.40158039,38.65157641,39.61720308,37.72843549,39.36694049,37.98848685,39.93405104,37.60559023,38.83468198,37.39892664,38.98633063,39.72456882,38.09695504,37.59597881,39.49731323,38.50187636,38.27036031,38.69964224,39.08411118,38.29400364,38.39872285,39.29951536,38.37598649,38.46968433,39.58561173,38.12682317,39.80156649,37.92682179,39.67264697,38.21409556,38.93217418,37.80121676,37.52097889,39.34942824,38.9163822,38.72595498,38.35421436,40.17337876,39.48214424,39.9557292,39.02529641,39.70565695,37.87210056,38.92730588,38.75694066,38.98157028,39.07020183,39.31023381,40.26487847,39.19531025,37.46606804,38.61929591,39.74308443,37.9590829,38.52387016,39.58821189,39.48780846,37.32113362,38.30311301,39.32598796,38.18373964,37.78518905,38.97361387,37.97719515,38.92654301,37.98922316,39.87010492,38.51344083,39.14710639,38.61129304,38.95232638,37.46812464,38.24131363,38.7661591,39.87233432,38.87492299,39.09337261,39.00124171,39.25963687,38.6808734,37.93994229,38.79042609,39.48996228,38.57574159,39.76644658],\"yaxis\":\"y\"}],                        {\"legend\":{\"tracegroupgap\":0},\"shapes\":[{\"line\":{\"color\":\"rgb(228,26,28)\"},\"path\":\"M0.3 38.133869422156295 L 0.3422110552763819 38.1403420475402 L 0.38442211055276376 38.14681467292411 L 0.4266331658291457 38.153287298308015 L 0.4688442211055276 38.15975992369192 L 0.5110552763819095 38.16623254907583 L 0.5532663316582913 38.172705174459736 L 0.5954773869346732 38.17917779984364 L 0.6376884422110551 38.18565042522755 L 0.679899497487437 38.19212305061146 L 0.722110552763819 38.198595675995364 L 0.7643216080402009 38.20506830137927 L 0.8065326633165828 38.21154092676318 L 0.8487437185929647 38.218013552147085 L 0.8909547738693466 38.22448617753099 L 0.9331658291457285 38.2309588029149 L 0.9753768844221105 38.237431428298805 L 1.0175879396984924 38.24390405368271 L 1.0597989949748743 38.25037667906662 L 1.1020100502512562 38.256849304450526 L 1.1442211055276381 38.26332192983443 L 1.1864321608040198 38.26979455521834 L 1.2286432160804017 38.27626718060225 L 1.2708542713567836 38.282739805986154 L 1.3130653266331656 38.28921243137006 L 1.3552763819095475 38.29568505675397 L 1.3974874371859294 38.302157682137874 L 1.4396984924623113 38.30863030752178 L 1.4819095477386932 38.31510293290569 L 1.5241206030150751 38.321575558289595 L 1.566331658291457 38.3280481836735 L 1.608542713567839 38.33452080905741 L 1.6507537688442209 38.340993434441316 L 1.6929648241206028 38.34746605982522 L 1.7351758793969847 38.35393868520913 L 1.7773869346733666 38.36041131059304 L 1.8195979899497485 38.366883935976944 L 1.8618090452261304 38.37335656136085 L 1.9040201005025124 38.37982918674476 L 1.9462311557788943 38.386301812128664 L 1.9884422110552762 38.39277443751257 L 2.0306532663316577 38.39924706289648 L 2.07286432160804 38.405719688280385 L 2.1150753768844215 38.41219231366429 L 2.1572864321608036 38.4186649390482 L 2.1994974874371853 38.425137564432106 L 2.2417085427135675 38.43161018981601 L 2.283919597989949 38.43808281519992 L 2.326130653266331 38.44455544058383 L 2.368341708542713 38.45102806596773 L 2.4105527638190947 38.45750069135164 L 2.452763819095477 38.46397331673555 L 2.4949748743718585 38.470445942119454 L 2.5371859296482406 38.47691856750336 L 2.5793969849246223 38.48339119288727 L 2.6216080402010045 38.489863818271175 L 2.663819095477386 38.49633644365508 L 2.7060301507537683 38.50280906903899 L 2.74824120603015 38.509281694422896 L 2.790452261306532 38.5157543198068 L 2.832663316582914 38.52222694519071 L 2.874874371859296 38.52869957057462 L 2.9170854271356776 38.53517219595852 L 2.95929648241206 38.54164482134243 L 3.0015075376884415 38.54811744672634 L 3.043718592964823 38.554590072110244 L 3.0859296482412053 38.56106269749415 L 3.128140703517587 38.56753532287806 L 3.170351758793969 38.574007948261965 L 3.212562814070351 38.58048057364587 L 3.254773869346733 38.58695319902978 L 3.2969849246231147 38.593425824413686 L 3.339195979899497 38.59989844979759 L 3.3814070351758785 38.6063710751815 L 3.4236180904522606 38.612843700565406 L 3.4658291457286423 38.61931632594931 L 3.5080402010050244 38.62578895133322 L 3.550251256281406 38.63226157671713 L 3.5924623115577883 38.638734202101034 L 3.63467336683417 38.64520682748494 L 3.676884422110552 38.65167945286885 L 3.719095477386934 38.658152078252755 L 3.7613065326633155 38.66462470363666 L 3.8035175879396976 38.67109732902057 L 3.8457286432160793 38.677569954404476 L 3.8879396984924615 38.68404257978838 L 3.930150753768843 38.69051520517229 L 3.9723618090452253 38.696987830556196 L 4.014572864321607 38.7034604559401 L 4.056783919597989 38.70993308132401 L 4.098994974874371 38.71640570670792 L 4.141206030150753 38.722878332091824 L 4.183417085427135 38.72935095747573 L 4.225628140703517 38.73582358285964 L 4.2678391959798985 38.742296208243545 L 4.31005025125628 38.74876883362745 L 4.352261306532662 38.75524145901136 L 4.394472361809044 38.761714084395265 L 4.436683417085426 38.76818670977917 L 4.478894472361808 38.77465933516308 L 4.5211055276381895 38.781131960546986 L 4.563316582914572 38.78760458593089 L 4.605527638190954 38.7940772113148 L 4.6477386934673355 38.80054983669871 L 4.689949748743717 38.807022462082614 L 4.7321608040201 38.81349508746652 L 4.7743718592964814 38.81996771285043 L 4.816582914572863 38.826440338234335 L 4.858793969849245 38.83291296361824 L 4.901005025125627 38.83938558900215 L 4.943216080402009 38.845858214386055 L 4.985427135678391 38.85233083976996 L 5.0276381909547725 38.85880346515387 L 5.069849246231154 38.865276090537776 L 5.112060301507537 38.87174871592168 L 5.1542713567839185 38.87822134130559 L 5.1964824120603 38.8846939666895 L 5.238693467336682 38.891166592073404 L 5.280904522613064 38.89763921745731 L 5.323115577889446 38.90411184284122 L 5.365326633165828 38.910584468225125 L 5.4075376884422095 38.91705709360903 L 5.449748743718592 38.92352971899294 L 5.491959798994974 38.930002344376845 L 5.5341708542713555 38.93647496976075 L 5.576381909547737 38.94294759514466 L 5.61859296482412 38.949420220528566 L 5.660804020100501 38.95589284591247 L 5.703015075376883 38.96236547129638 L 5.745226130653265 38.96883809668029 L 5.7874371859296465 38.975310722064194 L 5.829648241206029 38.9817833474481 L 5.871859296482411 38.98825597283201 L 5.9140703517587925 38.994728598215914 L 5.956281407035174 39.00120122359982 L 5.998492462311557 39.00767384898373 L 6.040703517587938 39.014146474367635 L 6.08291457286432 39.02061909975154 L 6.125125628140702 39.02709172513545 L 6.167336683417084 39.033564350519356 L 6.209547738693466 39.04003697590326 L 6.251758793969848 39.04650960128717 L 6.2939698492462295 39.05298222667108 L 6.336180904522612 39.059454852054984 L 6.378391959798994 39.06592747743889 L 6.4206030150753755 39.0724001028228 L 6.462814070351757 39.078872728206704 L 6.505025125628139 39.08534535359061 L 6.547236180904521 39.09181797897452 L 6.589447236180903 39.098290604358425 L 6.631658291457285 39.10476322974233 L 6.6738693467336665 39.11123585512624 L 6.716080402010049 39.117708480510146 L 6.758291457286431 39.12418110589405 L 6.8005025125628125 39.13065373127796 L 6.842713567839194 39.13712635666187 L 6.884924623115577 39.14359898204577 L 6.927135678391958 39.15007160742968 L 6.96934673366834 39.15654423281359 L 7.011557788944722 39.163016858197494 L 7.053768844221104 39.1694894835814 L 7.095979899497486 39.17596210896531 L 7.138190954773868 39.182434734349215 L 7.1804020100502495 39.18890735973312 L 7.222613065326631 39.19537998511703 L 7.264824120603014 39.201852610500936 L 7.307035175879395 39.20832523588484 L 7.349246231155777 39.21479786126875 L 7.391457286432159 39.22127048665266 L 7.433668341708541 39.22774311203656 L 7.475879396984923 39.23421573742047 L 7.518090452261305 39.24068836280438 L 7.5603015075376865 39.247160988188284 L 7.602512562814069 39.25363361357219 L 7.644723618090451 39.2601062389561 L 7.6869346733668324 39.266578864340005 L 7.729145728643214 39.27305148972391 L 7.771356783919596 39.27952411510782 L 7.813567839195978 39.285996740491726 L 7.85577889447236 39.29246936587563 L 7.897989949748742 39.29894199125954 L 7.9402010050251235 39.305414616643446 L 7.982412060301506 39.31188724202735 L 8.024623115577889 39.31835986741126 L 8.06683417085427 39.32483249279517 L 8.109045226130652 39.331305118179074 L 8.151256281407035 39.33777774356298 L 8.193467336683415 39.34425036894689 L 8.235678391959798 39.350722994330795 L 8.277889447236179 39.3571956197147 L 8.320100502512561 39.36366824509861 L 8.362311557788944 39.370140870482516 L 8.404522613065325 39.37661349586642 L 8.446733668341707 39.38308612125033 L 8.48894472361809 39.389558746634236 L 8.53115577889447 39.39603137201814 L 8.573366834170853 39.40250399740205 L 8.615577889447236 39.40897662278596 L 8.657788944723617 39.415449248169864 L 8.7 39.42192187355377\",\"type\":\"path\"}],\"template\":{\"data\":{\"bar\":[{\"error_x\":{\"color\":\"#2a3f5f\"},\"error_y\":{\"color\":\"#2a3f5f\"},\"marker\":{\"line\":{\"color\":\"white\",\"width\":0.5},\"pattern\":{\"fillmode\":\"overlay\",\"size\":10,\"solidity\":0.2}},\"type\":\"bar\"}],\"barpolar\":[{\"marker\":{\"line\":{\"color\":\"white\",\"width\":0.5},\"pattern\":{\"fillmode\":\"overlay\",\"size\":10,\"solidity\":0.2}},\"type\":\"barpolar\"}],\"box\":[{\"boxpoints\":\"outliers\",\"notched\":false,\"type\":\"box\"}],\"carpet\":[{\"aaxis\":{\"endlinecolor\":\"#2a3f5f\",\"gridcolor\":\"#C8D4E3\",\"linecolor\":\"#C8D4E3\",\"minorgridcolor\":\"#C8D4E3\",\"startlinecolor\":\"#2a3f5f\"},\"baxis\":{\"endlinecolor\":\"#2a3f5f\",\"gridcolor\":\"#C8D4E3\",\"linecolor\":\"#C8D4E3\",\"minorgridcolor\":\"#C8D4E3\",\"startlinecolor\":\"#2a3f5f\"},\"type\":\"carpet\"}],\"choropleth\":[{\"colorbar\":{\"outlinewidth\":0,\"ticks\":\"\"},\"type\":\"choropleth\"}],\"contour\":[{\"colorbar\":{\"outlinewidth\":0,\"ticks\":\"\"},\"colorscale\":[[0.0,\"#0d0887\"],[0.1111111111111111,\"#46039f\"],[0.2222222222222222,\"#7201a8\"],[0.3333333333333333,\"#9c179e\"],[0.4444444444444444,\"#bd3786\"],[0.5555555555555556,\"#d8576b\"],[0.6666666666666666,\"#ed7953\"],[0.7777777777777778,\"#fb9f3a\"],[0.8888888888888888,\"#fdca26\"],[1.0,\"#f0f921\"]],\"type\":\"contour\"}],\"contourcarpet\":[{\"colorbar\":{\"outlinewidth\":0,\"ticks\":\"\"},\"type\":\"contourcarpet\"}],\"heatmap\":[{\"colorbar\":{\"outlinewidth\":0,\"ticks\":\"\"},\"colorscale\":[[0.0,\"#0d0887\"],[0.1111111111111111,\"#46039f\"],[0.2222222222222222,\"#7201a8\"],[0.3333333333333333,\"#9c179e\"],[0.4444444444444444,\"#bd3786\"],[0.5555555555555556,\"#d8576b\"],[0.6666666666666666,\"#ed7953\"],[0.7777777777777778,\"#fb9f3a\"],[0.8888888888888888,\"#fdca26\"],[1.0,\"#f0f921\"]],\"type\":\"heatmap\"}],\"heatmapgl\":[{\"colorbar\":{\"outlinewidth\":0,\"ticks\":\"\"},\"colorscale\":[[0.0,\"#0d0887\"],[0.1111111111111111,\"#46039f\"],[0.2222222222222222,\"#7201a8\"],[0.3333333333333333,\"#9c179e\"],[0.4444444444444444,\"#bd3786\"],[0.5555555555555556,\"#d8576b\"],[0.6666666666666666,\"#ed7953\"],[0.7777777777777778,\"#fb9f3a\"],[0.8888888888888888,\"#fdca26\"],[1.0,\"#f0f921\"]],\"type\":\"heatmapgl\"}],\"histogram\":[{\"marker\":{\"line\":{\"width\":1},\"pattern\":{\"fillmode\":\"overlay\",\"size\":10,\"solidity\":0.2}},\"type\":\"histogram\"}],\"histogram2d\":[{\"colorbar\":{\"outlinewidth\":0,\"ticks\":\"\"},\"colorscale\":[[0.0,\"#0d0887\"],[0.1111111111111111,\"#46039f\"],[0.2222222222222222,\"#7201a8\"],[0.3333333333333333,\"#9c179e\"],[0.4444444444444444,\"#bd3786\"],[0.5555555555555556,\"#d8576b\"],[0.6666666666666666,\"#ed7953\"],[0.7777777777777778,\"#fb9f3a\"],[0.8888888888888888,\"#fdca26\"],[1.0,\"#f0f921\"]],\"type\":\"histogram2d\"}],\"histogram2dcontour\":[{\"colorbar\":{\"outlinewidth\":0,\"ticks\":\"\"},\"colorscale\":[[0.0,\"#0d0887\"],[0.1111111111111111,\"#46039f\"],[0.2222222222222222,\"#7201a8\"],[0.3333333333333333,\"#9c179e\"],[0.4444444444444444,\"#bd3786\"],[0.5555555555555556,\"#d8576b\"],[0.6666666666666666,\"#ed7953\"],[0.7777777777777778,\"#fb9f3a\"],[0.8888888888888888,\"#fdca26\"],[1.0,\"#f0f921\"]],\"type\":\"histogram2dcontour\"}],\"mesh3d\":[{\"colorbar\":{\"outlinewidth\":0,\"ticks\":\"\"},\"type\":\"mesh3d\"}],\"parcoords\":[{\"line\":{\"colorbar\":{\"outlinewidth\":0,\"ticks\":\"\"}},\"type\":\"parcoords\"}],\"pie\":[{\"automargin\":true,\"type\":\"pie\"}],\"scatter\":[{\"marker\":{\"colorbar\":{\"outlinewidth\":0,\"ticks\":\"\"},\"opacity\":0.8},\"type\":\"scatter\"}],\"scatter3d\":[{\"line\":{\"colorbar\":{\"outlinewidth\":0,\"ticks\":\"\"}},\"marker\":{\"colorbar\":{\"outlinewidth\":0,\"ticks\":\"\"},\"opacity\":0.8},\"type\":\"scatter3d\"}],\"scattercarpet\":[{\"marker\":{\"colorbar\":{\"outlinewidth\":0,\"ticks\":\"\"}},\"type\":\"scattercarpet\"}],\"scattergeo\":[{\"marker\":{\"colorbar\":{\"outlinewidth\":0,\"ticks\":\"\"}},\"type\":\"scattergeo\"}],\"scattergl\":[{\"marker\":{\"colorbar\":{\"outlinewidth\":0,\"ticks\":\"\"}},\"type\":\"scattergl\"}],\"scattermapbox\":[{\"marker\":{\"colorbar\":{\"outlinewidth\":0,\"ticks\":\"\"}},\"type\":\"scattermapbox\"}],\"scatterpolar\":[{\"marker\":{\"colorbar\":{\"outlinewidth\":0,\"ticks\":\"\"}},\"type\":\"scatterpolar\"}],\"scatterpolargl\":[{\"marker\":{\"colorbar\":{\"outlinewidth\":0,\"ticks\":\"\"}},\"type\":\"scatterpolargl\"}],\"scatterternary\":[{\"marker\":{\"colorbar\":{\"outlinewidth\":0,\"ticks\":\"\"}},\"type\":\"scatterternary\"}],\"surface\":[{\"colorbar\":{\"outlinewidth\":0,\"ticks\":\"\"},\"colorscale\":[[0.0,\"#0d0887\"],[0.1111111111111111,\"#46039f\"],[0.2222222222222222,\"#7201a8\"],[0.3333333333333333,\"#9c179e\"],[0.4444444444444444,\"#bd3786\"],[0.5555555555555556,\"#d8576b\"],[0.6666666666666666,\"#ed7953\"],[0.7777777777777778,\"#fb9f3a\"],[0.8888888888888888,\"#fdca26\"],[1.0,\"#f0f921\"]],\"type\":\"surface\"}],\"table\":[{\"cells\":{\"fill\":{\"color\":\"#EBF0F8\"},\"line\":{\"color\":\"white\"}},\"header\":{\"fill\":{\"color\":\"#C8D4E3\"},\"line\":{\"color\":\"white\"}},\"type\":\"table\"}]},\"layout\":{\"annotationdefaults\":{\"arrowcolor\":\"#2a3f5f\",\"arrowhead\":0,\"arrowwidth\":1},\"autotypenumbers\":\"strict\",\"coloraxis\":{\"colorbar\":{\"outlinewidth\":0,\"ticks\":\"\"}},\"colorscale\":{\"diverging\":[[0,\"#8e0152\"],[0.1,\"#c51b7d\"],[0.2,\"#de77ae\"],[0.3,\"#f1b6da\"],[0.4,\"#fde0ef\"],[0.5,\"#f7f7f7\"],[0.6,\"#e6f5d0\"],[0.7,\"#b8e186\"],[0.8,\"#7fbc41\"],[0.9,\"#4d9221\"],[1,\"#276419\"]],\"sequential\":[[0.0,\"#0d0887\"],[0.1111111111111111,\"#46039f\"],[0.2222222222222222,\"#7201a8\"],[0.3333333333333333,\"#9c179e\"],[0.4444444444444444,\"#bd3786\"],[0.5555555555555556,\"#d8576b\"],[0.6666666666666666,\"#ed7953\"],[0.7777777777777778,\"#fb9f3a\"],[0.8888888888888888,\"#fdca26\"],[1.0,\"#f0f921\"]],\"sequentialminus\":[[0.0,\"#0d0887\"],[0.1111111111111111,\"#46039f\"],[0.2222222222222222,\"#7201a8\"],[0.3333333333333333,\"#9c179e\"],[0.4444444444444444,\"#bd3786\"],[0.5555555555555556,\"#d8576b\"],[0.6666666666666666,\"#ed7953\"],[0.7777777777777778,\"#fb9f3a\"],[0.8888888888888888,\"#fdca26\"],[1.0,\"#f0f921\"]]},\"colorway\":[\"#636efa\",\"#EF553B\",\"#00cc96\",\"#ab63fa\",\"#FFA15A\",\"#19d3f3\",\"#FF6692\",\"#B6E880\",\"#FF97FF\",\"#FECB52\"],\"font\":{\"color\":\"#2a3f5f\"},\"geo\":{\"bgcolor\":\"white\",\"lakecolor\":\"white\",\"landcolor\":\"white\",\"showlakes\":true,\"showland\":true,\"subunitcolor\":\"#C8D4E3\"},\"height\":400,\"hoverlabel\":{\"align\":\"left\"},\"hovermode\":\"closest\",\"mapbox\":{\"style\":\"light\"},\"margin\":{\"b\":2,\"l\":2,\"r\":2,\"t\":30},\"paper_bgcolor\":\"white\",\"plot_bgcolor\":\"white\",\"polar\":{\"angularaxis\":{\"gridcolor\":\"#EBF0F8\",\"linecolor\":\"#EBF0F8\",\"ticks\":\"\"},\"bgcolor\":\"white\",\"radialaxis\":{\"gridcolor\":\"#EBF0F8\",\"linecolor\":\"#EBF0F8\",\"ticks\":\"\"}},\"scene\":{\"camera\":{\"eye\":{\"x\":1.5,\"y\":1.5,\"z\":0.1}},\"xaxis\":{\"backgroundcolor\":\"white\",\"gridcolor\":\"#DFE8F3\",\"gridwidth\":2,\"linecolor\":\"#EBF0F8\",\"showbackground\":true,\"ticks\":\"\",\"zerolinecolor\":\"#EBF0F8\"},\"yaxis\":{\"backgroundcolor\":\"white\",\"gridcolor\":\"#DFE8F3\",\"gridwidth\":2,\"linecolor\":\"#EBF0F8\",\"showbackground\":true,\"ticks\":\"\",\"zerolinecolor\":\"#EBF0F8\"},\"zaxis\":{\"backgroundcolor\":\"white\",\"gridcolor\":\"#DFE8F3\",\"gridwidth\":2,\"linecolor\":\"#EBF0F8\",\"showbackground\":true,\"ticks\":\"\",\"zerolinecolor\":\"#EBF0F8\"}},\"shapedefaults\":{\"line\":{\"color\":\"#2a3f5f\"}},\"ternary\":{\"aaxis\":{\"gridcolor\":\"#DFE8F3\",\"linecolor\":\"#A2B1C6\",\"ticks\":\"\"},\"baxis\":{\"gridcolor\":\"#DFE8F3\",\"linecolor\":\"#A2B1C6\",\"ticks\":\"\"},\"bgcolor\":\"white\",\"caxis\":{\"gridcolor\":\"#DFE8F3\",\"linecolor\":\"#A2B1C6\",\"ticks\":\"\"}},\"title\":{\"x\":0.5},\"xaxis\":{\"automargin\":true,\"gridcolor\":\"#EBF0F8\",\"linecolor\":\"#EBF0F8\",\"linewidth\":2,\"showline\":true,\"ticks\":\"\",\"title\":{\"standoff\":15},\"zerolinecolor\":\"#EBF0F8\",\"zerolinewidth\":2},\"yaxis\":{\"automargin\":true,\"gridcolor\":\"#EBF0F8\",\"linecolor\":\"#EBF0F8\",\"linewidth\":2,\"showline\":true,\"ticks\":\"\",\"title\":{\"standoff\":15},\"zerolinecolor\":\"#EBF0F8\",\"zerolinewidth\":2}}},\"title\":{\"text\":\"age\"},\"xaxis\":{\"anchor\":\"y\",\"domain\":[0.0,1.0],\"title\":{\"text\":\"age\"}},\"yaxis\":{\"anchor\":\"x\",\"domain\":[0.0,1.0],\"title\":{\"text\":\"core temperature\"}}},                        {\"responsive\": true}                    ).then(function(){\n",
       "                            \n",
       "var gd = document.getElementById('d0f03649-d8cc-44d9-8873-0e66140e0ef0');\n",
       "var x = new MutationObserver(function (mutations, observer) {{\n",
       "        var display = window.getComputedStyle(gd).display;\n",
       "        if (!display || display === 'none') {{\n",
       "            console.log([gd, 'removed!']);\n",
       "            Plotly.purge(gd);\n",
       "            observer.disconnect();\n",
       "        }}\n",
       "}});\n",
       "\n",
       "// Listen for the removal of the full notebook cells\n",
       "var notebookContainer = gd.closest('#notebook-container');\n",
       "if (notebookContainer) {{\n",
       "    x.observe(notebookContainer, {childList: true});\n",
       "}}\n",
       "\n",
       "// Listen for the clearing of the current output cell\n",
       "var outputEl = gd.closest('.output');\n",
       "if (outputEl) {{\n",
       "    x.observe(outputEl, {childList: true});\n",
       "}}\n",
       "\n",
       "                        })                };                });            </script>        </div>"
      ]
     },
     "metadata": {},
     "output_type": "display_data"
    },
    {
     "name": "stdout",
     "output_type": "stream",
     "text": [
      "protein_content_of_last_meal\n",
      "R-squared: 0.9155158150005703\n"
     ]
    },
    {
     "data": {
      "application/vnd.plotly.v1+json": {
       "config": {
        "plotlyServerURL": "https://plot.ly"
       },
       "data": [
        {
         "hovertemplate": "protein content of last meal=%{x}<br>core temperature=%{y}<extra></extra>",
         "legendgroup": "",
         "marker": {
          "color": "#636efa",
          "size": 17,
          "symbol": "circle"
         },
         "mode": "markers",
         "name": "",
         "orientation": "v",
         "showlegend": false,
         "type": "scatter",
         "x": [
          7.66,
          13.36,
          12.9,
          13.45,
          10.53,
          11.17,
          16,
          10.3,
          5.71,
          15.38,
          18.47,
          8.52,
          7.36,
          7.78,
          10.76,
          19.94,
          5.86,
          17.56,
          8.14,
          22.18,
          4.43,
          12.29,
          4.83,
          13.68,
          18.52,
          7.12,
          6.99,
          17.39,
          10.6,
          9.03,
          9.54,
          13.29,
          8.79,
          7.72,
          15.43,
          7.17,
          8.9,
          19.72,
          8.47,
          21.73,
          5.95,
          19.16,
          7.28,
          11.57,
          7.62,
          5.33,
          15.95,
          13.04,
          11.96,
          8.96,
          24.89,
          17.45,
          23.65,
          11.9,
          20.52,
          6.76,
          11.71,
          11.51,
          11.76,
          13.78,
          16.51,
          26.61,
          14.84,
          4.99,
          9.98,
          19.91,
          6.5,
          8.2,
          18.86,
          16.26,
          3.93,
          7.66,
          14.68,
          6.4,
          5.31,
          13.52,
          7.9,
          10.86,
          7.91,
          21.93,
          9.51,
          12.79,
          9.64,
          13.31,
          6.45,
          9.44,
          10.04,
          22.78,
          11.12,
          13.99,
          14.22,
          15.06,
          10,
          7.35,
          12.18,
          15.84,
          9.79,
          21.3
         ],
         "xaxis": "x",
         "y": [
          38.42316895,
          39.01599822,
          39.14834088,
          39.06004863,
          38.65543905,
          38.6092188,
          39.47390806,
          38.81521612,
          37.77845286,
          39.17685034,
          39.52090819,
          38.57896943,
          38.28013391,
          38.40158039,
          38.65157641,
          39.61720308,
          37.72843549,
          39.36694049,
          37.98848685,
          39.93405104,
          37.60559023,
          38.83468198,
          37.39892664,
          38.98633063,
          39.72456882,
          38.09695504,
          37.59597881,
          39.49731323,
          38.50187636,
          38.27036031,
          38.69964224,
          39.08411118,
          38.29400364,
          38.39872285,
          39.29951536,
          38.37598649,
          38.46968433,
          39.58561173,
          38.12682317,
          39.80156649,
          37.92682179,
          39.67264697,
          38.21409556,
          38.93217418,
          37.80121676,
          37.52097889,
          39.34942824,
          38.9163822,
          38.72595498,
          38.35421436,
          40.17337876,
          39.48214424,
          39.9557292,
          39.02529641,
          39.70565695,
          37.87210056,
          38.92730588,
          38.75694066,
          38.98157028,
          39.07020183,
          39.31023381,
          40.26487847,
          39.19531025,
          37.46606804,
          38.61929591,
          39.74308443,
          37.9590829,
          38.52387016,
          39.58821189,
          39.48780846,
          37.32113362,
          38.30311301,
          39.32598796,
          38.18373964,
          37.78518905,
          38.97361387,
          37.97719515,
          38.92654301,
          37.98922316,
          39.87010492,
          38.51344083,
          39.14710639,
          38.61129304,
          38.95232638,
          37.46812464,
          38.24131363,
          38.7661591,
          39.87233432,
          38.87492299,
          39.09337261,
          39.00124171,
          39.25963687,
          38.6808734,
          37.93994229,
          38.79042609,
          39.48996228,
          38.57574159,
          39.76644658
         ],
         "yaxis": "y"
        }
       ],
       "layout": {
        "legend": {
         "tracegroupgap": 0
        },
        "shapes": [
         {
          "line": {
           "color": "rgb(228,26,28)"
          },
          "path": "M3.93 37.713614289245186 L 4.043969849246231 37.7282367911211 L 4.157939698492463 37.74285929299701 L 4.2719095477386935 37.75748179487292 L 4.385879396984925 37.77210429674883 L 4.499849246231156 37.78672679862474 L 4.613819095477387 37.801349300500654 L 4.727788944723619 37.815971802376566 L 4.841758793969849 37.83059430425248 L 4.95572864321608 37.845216806128384 L 5.069698492462312 37.8598393080043 L 5.183668341708543 37.87446180988021 L 5.297638190954774 37.88908431175612 L 5.411608040201005 37.90370681363203 L 5.525577889447236 37.91832931550794 L 5.639547738693468 37.93295181738385 L 5.753517587939699 37.947574319259765 L 5.86748743718593 37.96219682113568 L 5.9814572864321605 37.97681932301158 L 6.095427135678392 37.991441824887495 L 6.2093969849246236 38.00606432676341 L 6.323366834170855 38.02068682863932 L 6.437336683417086 38.035309330515226 L 6.551306532663316 38.04993183239114 L 6.665276381909548 38.06455433426705 L 6.7792462311557795 38.07917683614296 L 6.89321608040201 38.09379933801887 L 7.007185929648241 38.10842183989478 L 7.121155778894472 38.123044341770694 L 7.235125628140704 38.137666843646606 L 7.3490954773869355 38.15228934552252 L 7.463065326633166 38.166911847398424 L 7.577035175879397 38.18153434927434 L 7.691005025125628 38.19615685115025 L 7.80497487437186 38.21077935302616 L 7.9189447236180905 38.22540185490207 L 8.032914572864321 38.24002435677798 L 8.146884422110553 38.25464685865389 L 8.260854271356784 38.269269360529805 L 8.374824120603016 38.28389186240571 L 8.488793969849246 38.29851436428162 L 8.602763819095477 38.313136866157535 L 8.716733668341709 38.32775936803345 L 8.83070351758794 38.34238186990936 L 8.944673366834172 38.357004371785266 L 9.058643216080402 38.37162687366118 L 9.172613065326633 38.38624937553709 L 9.286582914572865 38.400871877413 L 9.400552763819096 38.41549437928891 L 9.514522613065328 38.43011688116482 L 9.628492462311558 38.444739383040734 L 9.742462311557789 38.459361884916646 L 9.85643216080402 38.47398438679256 L 9.970402010050252 38.488606888668464 L 10.084371859296482 38.50322939054438 L 10.198341708542713 38.51785189242029 L 10.312311557788945 38.5324743942962 L 10.426281407035177 38.54709689617211 L 10.540251256281408 38.56171939804802 L 10.654221105527638 38.57634189992393 L 10.76819095477387 38.590964401799845 L 10.882160804020101 38.60558690367575 L 10.996130653266333 38.62020940555166 L 11.110100502512562 38.634831907427575 L 11.224070351758794 38.64945440930349 L 11.338040201005025 38.6640769111794 L 11.452010050251257 38.678699413055305 L 11.565979899497489 38.69332191493122 L 11.679949748743718 38.70794441680713 L 11.79391959798995 38.72256691868304 L 11.907889447236181 38.73718942055895 L 12.021859296482411 38.75181192243486 L 12.135829145728643 38.76643442431077 L 12.249798994974874 38.781056926186686 L 12.363768844221106 38.7956794280626 L 12.477738693467337 38.810301929938504 L 12.591708542713567 38.824924431814416 L 12.705678391959799 38.83954693369033 L 12.81964824120603 38.85416943556624 L 12.933618090452262 38.86879193744215 L 13.047587939698492 38.88341443931806 L 13.161557788944723 38.89803694119397 L 13.275527638190955 38.912659443069884 L 13.389497487437186 38.92728194494579 L 13.503467336683418 38.9419044468217 L 13.617437185929647 38.956526948697615 L 13.731407035175879 38.97114945057353 L 13.84537688442211 38.98577195244944 L 13.959346733668342 39.000394454325345 L 14.073316582914574 39.01501695620126 L 14.187286432160803 39.02963945807717 L 14.301256281407035 39.04426195995308 L 14.415226130653267 39.05888446182899 L 14.529195979899498 39.0735069637049 L 14.643165829145728 39.08812946558081 L 14.75713567839196 39.102751967456726 L 14.871105527638191 39.11737446933263 L 14.985075376884422 39.131996971208544 L 15.099045226130654 39.146619473084456 L 15.213015075376884 39.16124197496037 L 15.326984924623115 39.17586447683628 L 15.440954773869347 39.19048697871219 L 15.554924623115578 39.2051094805881 L 15.668894472361808 39.21973198246401 L 15.78286432160804 39.234354484339924 L 15.896834170854271 39.24897698621583 L 16.010804020100505 39.26359948809174 L 16.124773869346736 39.278221989967655 L 16.238743718592964 39.29284449184357 L 16.352713567839196 39.30746699371947 L 16.466683417085427 39.322089495595385 L 16.58065326633166 39.3367119974713 L 16.69462311557789 39.35133449934721 L 16.808592964824122 39.36595700122312 L 16.922562814070353 39.38057950309903 L 17.036532663316585 39.39520200497494 L 17.150502512562817 39.40982450685085 L 17.264472361809045 39.424447008726766 L 17.378442211055276 39.43906951060267 L 17.492412060301508 39.453692012478584 L 17.60638190954774 39.468314514354496 L 17.72035175879397 39.48293701623041 L 17.834321608040202 39.49755951810632 L 17.948291457286434 39.51218201998223 L 18.062261306532665 39.52680452185814 L 18.176231155778897 39.54142702373405 L 18.290201005025125 39.556049525609964 L 18.404170854271356 39.57067202748587 L 18.518140703517588 39.58529452936178 L 18.63211055276382 39.599917031237695 L 18.74608040201005 39.61453953311361 L 18.860050251256283 39.62916203498952 L 18.974020100502514 39.643784536865425 L 19.087989949748746 39.65840703874134 L 19.201959798994977 39.67302954061725 L 19.315929648241205 39.68765204249316 L 19.429899497487437 39.70227454436907 L 19.54386934673367 39.71689704624498 L 19.6578391959799 39.73151954812089 L 19.77180904522613 39.746142049996806 L 19.885778894472363 39.76076455187271 L 19.999748743718595 39.775387053748624 L 20.113718592964823 39.790009555624536 L 20.227688442211054 39.80463205750045 L 20.341658291457286 39.81925455937636 L 20.455628140703517 39.83387706125227 L 20.56959798994975 39.84849956312818 L 20.68356783919598 39.86312206500409 L 20.797537688442212 39.877744566880004 L 20.911507537688443 39.89236706875591 L 21.025477386934675 39.90698957063182 L 21.139447236180903 39.921612072507735 L 21.253417085427134 39.93623457438365 L 21.367386934673366 39.95085707625955 L 21.481356783919598 39.965479578135465 L 21.59532663316583 39.98010208001138 L 21.70929648241206 39.99472458188729 L 21.823266331658292 40.0093470837632 L 21.937236180904524 40.02396958563911 L 22.051206030150755 40.03859208751502 L 22.165175879396983 40.05321458939093 L 22.279145728643215 40.067837091266846 L 22.393115577889446 40.08245959314275 L 22.507085427135678 40.09708209501866 L 22.62105527638191 40.111704596894576 L 22.73502512562814 40.12632709877049 L 22.848994974874373 40.140949600646394 L 22.962964824120604 40.15557210252231 L 23.076934673366836 40.17019460439822 L 23.190904522613067 40.18481710627413 L 23.304874371859295 40.199439608150044 L 23.418844221105527 40.21406211002595 L 23.53281407035176 40.22868461190186 L 23.64678391959799 40.243307113777774 L 23.76075376884422 40.25792961565369 L 23.874723618090453 40.27255211752959 L 23.988693467336685 40.287174619405505 L 24.102663316582916 40.30179712128142 L 24.216633165829148 40.31641962315733 L 24.330603015075376 40.331042125033235 L 24.444572864321607 40.34566462690915 L 24.55854271356784 40.36028712878506 L 24.67251256281407 40.37490963066097 L 24.786482412060302 40.389532132536885 L 24.900452261306533 40.40415463441279 L 25.014422110552765 40.4187771362887 L 25.128391959798996 40.433399638164616 L 25.242361809045228 40.44802214004053 L 25.356331658291456 40.462644641916434 L 25.470301507537688 40.477267143792346 L 25.58427135678392 40.49188964566826 L 25.69824120603015 40.50651214754417 L 25.812211055276382 40.521134649420084 L 25.926180904522614 40.53575715129599 L 26.040150753768845 40.5503796531719 L 26.154120603015077 40.565002155047814 L 26.26809045226131 40.57962465692373 L 26.382060301507536 40.59424715879963 L 26.496030150753768 40.608869660675545 L 26.61 40.62349216255146",
          "type": "path"
         }
        ],
        "template": {
         "data": {
          "bar": [
           {
            "error_x": {
             "color": "#2a3f5f"
            },
            "error_y": {
             "color": "#2a3f5f"
            },
            "marker": {
             "line": {
              "color": "white",
              "width": 0.5
             },
             "pattern": {
              "fillmode": "overlay",
              "size": 10,
              "solidity": 0.2
             }
            },
            "type": "bar"
           }
          ],
          "barpolar": [
           {
            "marker": {
             "line": {
              "color": "white",
              "width": 0.5
             },
             "pattern": {
              "fillmode": "overlay",
              "size": 10,
              "solidity": 0.2
             }
            },
            "type": "barpolar"
           }
          ],
          "box": [
           {
            "boxpoints": "outliers",
            "notched": false,
            "type": "box"
           }
          ],
          "carpet": [
           {
            "aaxis": {
             "endlinecolor": "#2a3f5f",
             "gridcolor": "#C8D4E3",
             "linecolor": "#C8D4E3",
             "minorgridcolor": "#C8D4E3",
             "startlinecolor": "#2a3f5f"
            },
            "baxis": {
             "endlinecolor": "#2a3f5f",
             "gridcolor": "#C8D4E3",
             "linecolor": "#C8D4E3",
             "minorgridcolor": "#C8D4E3",
             "startlinecolor": "#2a3f5f"
            },
            "type": "carpet"
           }
          ],
          "choropleth": [
           {
            "colorbar": {
             "outlinewidth": 0,
             "ticks": ""
            },
            "type": "choropleth"
           }
          ],
          "contour": [
           {
            "colorbar": {
             "outlinewidth": 0,
             "ticks": ""
            },
            "colorscale": [
             [
              0,
              "#0d0887"
             ],
             [
              0.1111111111111111,
              "#46039f"
             ],
             [
              0.2222222222222222,
              "#7201a8"
             ],
             [
              0.3333333333333333,
              "#9c179e"
             ],
             [
              0.4444444444444444,
              "#bd3786"
             ],
             [
              0.5555555555555556,
              "#d8576b"
             ],
             [
              0.6666666666666666,
              "#ed7953"
             ],
             [
              0.7777777777777778,
              "#fb9f3a"
             ],
             [
              0.8888888888888888,
              "#fdca26"
             ],
             [
              1,
              "#f0f921"
             ]
            ],
            "type": "contour"
           }
          ],
          "contourcarpet": [
           {
            "colorbar": {
             "outlinewidth": 0,
             "ticks": ""
            },
            "type": "contourcarpet"
           }
          ],
          "heatmap": [
           {
            "colorbar": {
             "outlinewidth": 0,
             "ticks": ""
            },
            "colorscale": [
             [
              0,
              "#0d0887"
             ],
             [
              0.1111111111111111,
              "#46039f"
             ],
             [
              0.2222222222222222,
              "#7201a8"
             ],
             [
              0.3333333333333333,
              "#9c179e"
             ],
             [
              0.4444444444444444,
              "#bd3786"
             ],
             [
              0.5555555555555556,
              "#d8576b"
             ],
             [
              0.6666666666666666,
              "#ed7953"
             ],
             [
              0.7777777777777778,
              "#fb9f3a"
             ],
             [
              0.8888888888888888,
              "#fdca26"
             ],
             [
              1,
              "#f0f921"
             ]
            ],
            "type": "heatmap"
           }
          ],
          "heatmapgl": [
           {
            "colorbar": {
             "outlinewidth": 0,
             "ticks": ""
            },
            "colorscale": [
             [
              0,
              "#0d0887"
             ],
             [
              0.1111111111111111,
              "#46039f"
             ],
             [
              0.2222222222222222,
              "#7201a8"
             ],
             [
              0.3333333333333333,
              "#9c179e"
             ],
             [
              0.4444444444444444,
              "#bd3786"
             ],
             [
              0.5555555555555556,
              "#d8576b"
             ],
             [
              0.6666666666666666,
              "#ed7953"
             ],
             [
              0.7777777777777778,
              "#fb9f3a"
             ],
             [
              0.8888888888888888,
              "#fdca26"
             ],
             [
              1,
              "#f0f921"
             ]
            ],
            "type": "heatmapgl"
           }
          ],
          "histogram": [
           {
            "marker": {
             "line": {
              "width": 1
             },
             "pattern": {
              "fillmode": "overlay",
              "size": 10,
              "solidity": 0.2
             }
            },
            "type": "histogram"
           }
          ],
          "histogram2d": [
           {
            "colorbar": {
             "outlinewidth": 0,
             "ticks": ""
            },
            "colorscale": [
             [
              0,
              "#0d0887"
             ],
             [
              0.1111111111111111,
              "#46039f"
             ],
             [
              0.2222222222222222,
              "#7201a8"
             ],
             [
              0.3333333333333333,
              "#9c179e"
             ],
             [
              0.4444444444444444,
              "#bd3786"
             ],
             [
              0.5555555555555556,
              "#d8576b"
             ],
             [
              0.6666666666666666,
              "#ed7953"
             ],
             [
              0.7777777777777778,
              "#fb9f3a"
             ],
             [
              0.8888888888888888,
              "#fdca26"
             ],
             [
              1,
              "#f0f921"
             ]
            ],
            "type": "histogram2d"
           }
          ],
          "histogram2dcontour": [
           {
            "colorbar": {
             "outlinewidth": 0,
             "ticks": ""
            },
            "colorscale": [
             [
              0,
              "#0d0887"
             ],
             [
              0.1111111111111111,
              "#46039f"
             ],
             [
              0.2222222222222222,
              "#7201a8"
             ],
             [
              0.3333333333333333,
              "#9c179e"
             ],
             [
              0.4444444444444444,
              "#bd3786"
             ],
             [
              0.5555555555555556,
              "#d8576b"
             ],
             [
              0.6666666666666666,
              "#ed7953"
             ],
             [
              0.7777777777777778,
              "#fb9f3a"
             ],
             [
              0.8888888888888888,
              "#fdca26"
             ],
             [
              1,
              "#f0f921"
             ]
            ],
            "type": "histogram2dcontour"
           }
          ],
          "mesh3d": [
           {
            "colorbar": {
             "outlinewidth": 0,
             "ticks": ""
            },
            "type": "mesh3d"
           }
          ],
          "parcoords": [
           {
            "line": {
             "colorbar": {
              "outlinewidth": 0,
              "ticks": ""
             }
            },
            "type": "parcoords"
           }
          ],
          "pie": [
           {
            "automargin": true,
            "type": "pie"
           }
          ],
          "scatter": [
           {
            "marker": {
             "colorbar": {
              "outlinewidth": 0,
              "ticks": ""
             },
             "opacity": 0.8
            },
            "type": "scatter"
           }
          ],
          "scatter3d": [
           {
            "line": {
             "colorbar": {
              "outlinewidth": 0,
              "ticks": ""
             }
            },
            "marker": {
             "colorbar": {
              "outlinewidth": 0,
              "ticks": ""
             },
             "opacity": 0.8
            },
            "type": "scatter3d"
           }
          ],
          "scattercarpet": [
           {
            "marker": {
             "colorbar": {
              "outlinewidth": 0,
              "ticks": ""
             }
            },
            "type": "scattercarpet"
           }
          ],
          "scattergeo": [
           {
            "marker": {
             "colorbar": {
              "outlinewidth": 0,
              "ticks": ""
             }
            },
            "type": "scattergeo"
           }
          ],
          "scattergl": [
           {
            "marker": {
             "colorbar": {
              "outlinewidth": 0,
              "ticks": ""
             }
            },
            "type": "scattergl"
           }
          ],
          "scattermapbox": [
           {
            "marker": {
             "colorbar": {
              "outlinewidth": 0,
              "ticks": ""
             }
            },
            "type": "scattermapbox"
           }
          ],
          "scatterpolar": [
           {
            "marker": {
             "colorbar": {
              "outlinewidth": 0,
              "ticks": ""
             }
            },
            "type": "scatterpolar"
           }
          ],
          "scatterpolargl": [
           {
            "marker": {
             "colorbar": {
              "outlinewidth": 0,
              "ticks": ""
             }
            },
            "type": "scatterpolargl"
           }
          ],
          "scatterternary": [
           {
            "marker": {
             "colorbar": {
              "outlinewidth": 0,
              "ticks": ""
             }
            },
            "type": "scatterternary"
           }
          ],
          "surface": [
           {
            "colorbar": {
             "outlinewidth": 0,
             "ticks": ""
            },
            "colorscale": [
             [
              0,
              "#0d0887"
             ],
             [
              0.1111111111111111,
              "#46039f"
             ],
             [
              0.2222222222222222,
              "#7201a8"
             ],
             [
              0.3333333333333333,
              "#9c179e"
             ],
             [
              0.4444444444444444,
              "#bd3786"
             ],
             [
              0.5555555555555556,
              "#d8576b"
             ],
             [
              0.6666666666666666,
              "#ed7953"
             ],
             [
              0.7777777777777778,
              "#fb9f3a"
             ],
             [
              0.8888888888888888,
              "#fdca26"
             ],
             [
              1,
              "#f0f921"
             ]
            ],
            "type": "surface"
           }
          ],
          "table": [
           {
            "cells": {
             "fill": {
              "color": "#EBF0F8"
             },
             "line": {
              "color": "white"
             }
            },
            "header": {
             "fill": {
              "color": "#C8D4E3"
             },
             "line": {
              "color": "white"
             }
            },
            "type": "table"
           }
          ]
         },
         "layout": {
          "annotationdefaults": {
           "arrowcolor": "#2a3f5f",
           "arrowhead": 0,
           "arrowwidth": 1
          },
          "autotypenumbers": "strict",
          "coloraxis": {
           "colorbar": {
            "outlinewidth": 0,
            "ticks": ""
           }
          },
          "colorscale": {
           "diverging": [
            [
             0,
             "#8e0152"
            ],
            [
             0.1,
             "#c51b7d"
            ],
            [
             0.2,
             "#de77ae"
            ],
            [
             0.3,
             "#f1b6da"
            ],
            [
             0.4,
             "#fde0ef"
            ],
            [
             0.5,
             "#f7f7f7"
            ],
            [
             0.6,
             "#e6f5d0"
            ],
            [
             0.7,
             "#b8e186"
            ],
            [
             0.8,
             "#7fbc41"
            ],
            [
             0.9,
             "#4d9221"
            ],
            [
             1,
             "#276419"
            ]
           ],
           "sequential": [
            [
             0,
             "#0d0887"
            ],
            [
             0.1111111111111111,
             "#46039f"
            ],
            [
             0.2222222222222222,
             "#7201a8"
            ],
            [
             0.3333333333333333,
             "#9c179e"
            ],
            [
             0.4444444444444444,
             "#bd3786"
            ],
            [
             0.5555555555555556,
             "#d8576b"
            ],
            [
             0.6666666666666666,
             "#ed7953"
            ],
            [
             0.7777777777777778,
             "#fb9f3a"
            ],
            [
             0.8888888888888888,
             "#fdca26"
            ],
            [
             1,
             "#f0f921"
            ]
           ],
           "sequentialminus": [
            [
             0,
             "#0d0887"
            ],
            [
             0.1111111111111111,
             "#46039f"
            ],
            [
             0.2222222222222222,
             "#7201a8"
            ],
            [
             0.3333333333333333,
             "#9c179e"
            ],
            [
             0.4444444444444444,
             "#bd3786"
            ],
            [
             0.5555555555555556,
             "#d8576b"
            ],
            [
             0.6666666666666666,
             "#ed7953"
            ],
            [
             0.7777777777777778,
             "#fb9f3a"
            ],
            [
             0.8888888888888888,
             "#fdca26"
            ],
            [
             1,
             "#f0f921"
            ]
           ]
          },
          "colorway": [
           "#636efa",
           "#EF553B",
           "#00cc96",
           "#ab63fa",
           "#FFA15A",
           "#19d3f3",
           "#FF6692",
           "#B6E880",
           "#FF97FF",
           "#FECB52"
          ],
          "font": {
           "color": "#2a3f5f"
          },
          "geo": {
           "bgcolor": "white",
           "lakecolor": "white",
           "landcolor": "white",
           "showlakes": true,
           "showland": true,
           "subunitcolor": "#C8D4E3"
          },
          "height": 400,
          "hoverlabel": {
           "align": "left"
          },
          "hovermode": "closest",
          "mapbox": {
           "style": "light"
          },
          "margin": {
           "b": 2,
           "l": 2,
           "r": 2,
           "t": 30
          },
          "paper_bgcolor": "white",
          "plot_bgcolor": "white",
          "polar": {
           "angularaxis": {
            "gridcolor": "#EBF0F8",
            "linecolor": "#EBF0F8",
            "ticks": ""
           },
           "bgcolor": "white",
           "radialaxis": {
            "gridcolor": "#EBF0F8",
            "linecolor": "#EBF0F8",
            "ticks": ""
           }
          },
          "scene": {
           "camera": {
            "eye": {
             "x": 1.5,
             "y": 1.5,
             "z": 0.1
            }
           },
           "xaxis": {
            "backgroundcolor": "white",
            "gridcolor": "#DFE8F3",
            "gridwidth": 2,
            "linecolor": "#EBF0F8",
            "showbackground": true,
            "ticks": "",
            "zerolinecolor": "#EBF0F8"
           },
           "yaxis": {
            "backgroundcolor": "white",
            "gridcolor": "#DFE8F3",
            "gridwidth": 2,
            "linecolor": "#EBF0F8",
            "showbackground": true,
            "ticks": "",
            "zerolinecolor": "#EBF0F8"
           },
           "zaxis": {
            "backgroundcolor": "white",
            "gridcolor": "#DFE8F3",
            "gridwidth": 2,
            "linecolor": "#EBF0F8",
            "showbackground": true,
            "ticks": "",
            "zerolinecolor": "#EBF0F8"
           }
          },
          "shapedefaults": {
           "line": {
            "color": "#2a3f5f"
           }
          },
          "ternary": {
           "aaxis": {
            "gridcolor": "#DFE8F3",
            "linecolor": "#A2B1C6",
            "ticks": ""
           },
           "baxis": {
            "gridcolor": "#DFE8F3",
            "linecolor": "#A2B1C6",
            "ticks": ""
           },
           "bgcolor": "white",
           "caxis": {
            "gridcolor": "#DFE8F3",
            "linecolor": "#A2B1C6",
            "ticks": ""
           }
          },
          "title": {
           "x": 0.5
          },
          "xaxis": {
           "automargin": true,
           "gridcolor": "#EBF0F8",
           "linecolor": "#EBF0F8",
           "linewidth": 2,
           "showline": true,
           "ticks": "",
           "title": {
            "standoff": 15
           },
           "zerolinecolor": "#EBF0F8",
           "zerolinewidth": 2
          },
          "yaxis": {
           "automargin": true,
           "gridcolor": "#EBF0F8",
           "linecolor": "#EBF0F8",
           "linewidth": 2,
           "showline": true,
           "ticks": "",
           "title": {
            "standoff": 15
           },
           "zerolinecolor": "#EBF0F8",
           "zerolinewidth": 2
          }
         }
        },
        "title": {
         "text": "protein_content_of_last_meal"
        },
        "xaxis": {
         "anchor": "y",
         "domain": [
          0,
          1
         ],
         "title": {
          "text": "protein content of last meal"
         }
        },
        "yaxis": {
         "anchor": "x",
         "domain": [
          0,
          1
         ],
         "title": {
          "text": "core temperature"
         }
        }
       }
      },
      "text/html": [
       "<div>                            <div id=\"53b870c9-3073-4158-a7e5-859e05e797e4\" class=\"plotly-graph-div\" style=\"height:400px; width:100%;\"></div>            <script type=\"text/javascript\">                require([\"plotly\"], function(Plotly) {                    window.PLOTLYENV=window.PLOTLYENV || {};                                    if (document.getElementById(\"53b870c9-3073-4158-a7e5-859e05e797e4\")) {                    Plotly.newPlot(                        \"53b870c9-3073-4158-a7e5-859e05e797e4\",                        [{\"hovertemplate\":\"protein content of last meal=%{x}<br>core temperature=%{y}<extra></extra>\",\"legendgroup\":\"\",\"marker\":{\"color\":\"#636efa\",\"size\":17,\"symbol\":\"circle\"},\"mode\":\"markers\",\"name\":\"\",\"orientation\":\"v\",\"showlegend\":false,\"type\":\"scatter\",\"x\":[7.66,13.36,12.9,13.45,10.53,11.17,16.0,10.3,5.71,15.38,18.47,8.52,7.36,7.78,10.76,19.94,5.86,17.56,8.14,22.18,4.43,12.29,4.83,13.68,18.52,7.12,6.99,17.39,10.6,9.03,9.54,13.29,8.79,7.72,15.43,7.17,8.9,19.72,8.47,21.73,5.95,19.16,7.28,11.57,7.62,5.33,15.95,13.04,11.96,8.96,24.89,17.45,23.65,11.9,20.52,6.76,11.71,11.51,11.76,13.78,16.51,26.61,14.84,4.99,9.98,19.91,6.5,8.2,18.86,16.26,3.93,7.66,14.68,6.4,5.31,13.52,7.9,10.86,7.91,21.93,9.51,12.79,9.64,13.31,6.45,9.44,10.04,22.78,11.12,13.99,14.22,15.06,10.0,7.35,12.18,15.84,9.79,21.3],\"xaxis\":\"x\",\"y\":[38.42316895,39.01599822,39.14834088,39.06004863,38.65543905,38.6092188,39.47390806,38.81521612,37.77845286,39.17685034,39.52090819,38.57896943,38.28013391,38.40158039,38.65157641,39.61720308,37.72843549,39.36694049,37.98848685,39.93405104,37.60559023,38.83468198,37.39892664,38.98633063,39.72456882,38.09695504,37.59597881,39.49731323,38.50187636,38.27036031,38.69964224,39.08411118,38.29400364,38.39872285,39.29951536,38.37598649,38.46968433,39.58561173,38.12682317,39.80156649,37.92682179,39.67264697,38.21409556,38.93217418,37.80121676,37.52097889,39.34942824,38.9163822,38.72595498,38.35421436,40.17337876,39.48214424,39.9557292,39.02529641,39.70565695,37.87210056,38.92730588,38.75694066,38.98157028,39.07020183,39.31023381,40.26487847,39.19531025,37.46606804,38.61929591,39.74308443,37.9590829,38.52387016,39.58821189,39.48780846,37.32113362,38.30311301,39.32598796,38.18373964,37.78518905,38.97361387,37.97719515,38.92654301,37.98922316,39.87010492,38.51344083,39.14710639,38.61129304,38.95232638,37.46812464,38.24131363,38.7661591,39.87233432,38.87492299,39.09337261,39.00124171,39.25963687,38.6808734,37.93994229,38.79042609,39.48996228,38.57574159,39.76644658],\"yaxis\":\"y\"}],                        {\"legend\":{\"tracegroupgap\":0},\"shapes\":[{\"line\":{\"color\":\"rgb(228,26,28)\"},\"path\":\"M3.93 37.713614289245186 L 4.043969849246231 37.7282367911211 L 4.157939698492463 37.74285929299701 L 4.2719095477386935 37.75748179487292 L 4.385879396984925 37.77210429674883 L 4.499849246231156 37.78672679862474 L 4.613819095477387 37.801349300500654 L 4.727788944723619 37.815971802376566 L 4.841758793969849 37.83059430425248 L 4.95572864321608 37.845216806128384 L 5.069698492462312 37.8598393080043 L 5.183668341708543 37.87446180988021 L 5.297638190954774 37.88908431175612 L 5.411608040201005 37.90370681363203 L 5.525577889447236 37.91832931550794 L 5.639547738693468 37.93295181738385 L 5.753517587939699 37.947574319259765 L 5.86748743718593 37.96219682113568 L 5.9814572864321605 37.97681932301158 L 6.095427135678392 37.991441824887495 L 6.2093969849246236 38.00606432676341 L 6.323366834170855 38.02068682863932 L 6.437336683417086 38.035309330515226 L 6.551306532663316 38.04993183239114 L 6.665276381909548 38.06455433426705 L 6.7792462311557795 38.07917683614296 L 6.89321608040201 38.09379933801887 L 7.007185929648241 38.10842183989478 L 7.121155778894472 38.123044341770694 L 7.235125628140704 38.137666843646606 L 7.3490954773869355 38.15228934552252 L 7.463065326633166 38.166911847398424 L 7.577035175879397 38.18153434927434 L 7.691005025125628 38.19615685115025 L 7.80497487437186 38.21077935302616 L 7.9189447236180905 38.22540185490207 L 8.032914572864321 38.24002435677798 L 8.146884422110553 38.25464685865389 L 8.260854271356784 38.269269360529805 L 8.374824120603016 38.28389186240571 L 8.488793969849246 38.29851436428162 L 8.602763819095477 38.313136866157535 L 8.716733668341709 38.32775936803345 L 8.83070351758794 38.34238186990936 L 8.944673366834172 38.357004371785266 L 9.058643216080402 38.37162687366118 L 9.172613065326633 38.38624937553709 L 9.286582914572865 38.400871877413 L 9.400552763819096 38.41549437928891 L 9.514522613065328 38.43011688116482 L 9.628492462311558 38.444739383040734 L 9.742462311557789 38.459361884916646 L 9.85643216080402 38.47398438679256 L 9.970402010050252 38.488606888668464 L 10.084371859296482 38.50322939054438 L 10.198341708542713 38.51785189242029 L 10.312311557788945 38.5324743942962 L 10.426281407035177 38.54709689617211 L 10.540251256281408 38.56171939804802 L 10.654221105527638 38.57634189992393 L 10.76819095477387 38.590964401799845 L 10.882160804020101 38.60558690367575 L 10.996130653266333 38.62020940555166 L 11.110100502512562 38.634831907427575 L 11.224070351758794 38.64945440930349 L 11.338040201005025 38.6640769111794 L 11.452010050251257 38.678699413055305 L 11.565979899497489 38.69332191493122 L 11.679949748743718 38.70794441680713 L 11.79391959798995 38.72256691868304 L 11.907889447236181 38.73718942055895 L 12.021859296482411 38.75181192243486 L 12.135829145728643 38.76643442431077 L 12.249798994974874 38.781056926186686 L 12.363768844221106 38.7956794280626 L 12.477738693467337 38.810301929938504 L 12.591708542713567 38.824924431814416 L 12.705678391959799 38.83954693369033 L 12.81964824120603 38.85416943556624 L 12.933618090452262 38.86879193744215 L 13.047587939698492 38.88341443931806 L 13.161557788944723 38.89803694119397 L 13.275527638190955 38.912659443069884 L 13.389497487437186 38.92728194494579 L 13.503467336683418 38.9419044468217 L 13.617437185929647 38.956526948697615 L 13.731407035175879 38.97114945057353 L 13.84537688442211 38.98577195244944 L 13.959346733668342 39.000394454325345 L 14.073316582914574 39.01501695620126 L 14.187286432160803 39.02963945807717 L 14.301256281407035 39.04426195995308 L 14.415226130653267 39.05888446182899 L 14.529195979899498 39.0735069637049 L 14.643165829145728 39.08812946558081 L 14.75713567839196 39.102751967456726 L 14.871105527638191 39.11737446933263 L 14.985075376884422 39.131996971208544 L 15.099045226130654 39.146619473084456 L 15.213015075376884 39.16124197496037 L 15.326984924623115 39.17586447683628 L 15.440954773869347 39.19048697871219 L 15.554924623115578 39.2051094805881 L 15.668894472361808 39.21973198246401 L 15.78286432160804 39.234354484339924 L 15.896834170854271 39.24897698621583 L 16.010804020100505 39.26359948809174 L 16.124773869346736 39.278221989967655 L 16.238743718592964 39.29284449184357 L 16.352713567839196 39.30746699371947 L 16.466683417085427 39.322089495595385 L 16.58065326633166 39.3367119974713 L 16.69462311557789 39.35133449934721 L 16.808592964824122 39.36595700122312 L 16.922562814070353 39.38057950309903 L 17.036532663316585 39.39520200497494 L 17.150502512562817 39.40982450685085 L 17.264472361809045 39.424447008726766 L 17.378442211055276 39.43906951060267 L 17.492412060301508 39.453692012478584 L 17.60638190954774 39.468314514354496 L 17.72035175879397 39.48293701623041 L 17.834321608040202 39.49755951810632 L 17.948291457286434 39.51218201998223 L 18.062261306532665 39.52680452185814 L 18.176231155778897 39.54142702373405 L 18.290201005025125 39.556049525609964 L 18.404170854271356 39.57067202748587 L 18.518140703517588 39.58529452936178 L 18.63211055276382 39.599917031237695 L 18.74608040201005 39.61453953311361 L 18.860050251256283 39.62916203498952 L 18.974020100502514 39.643784536865425 L 19.087989949748746 39.65840703874134 L 19.201959798994977 39.67302954061725 L 19.315929648241205 39.68765204249316 L 19.429899497487437 39.70227454436907 L 19.54386934673367 39.71689704624498 L 19.6578391959799 39.73151954812089 L 19.77180904522613 39.746142049996806 L 19.885778894472363 39.76076455187271 L 19.999748743718595 39.775387053748624 L 20.113718592964823 39.790009555624536 L 20.227688442211054 39.80463205750045 L 20.341658291457286 39.81925455937636 L 20.455628140703517 39.83387706125227 L 20.56959798994975 39.84849956312818 L 20.68356783919598 39.86312206500409 L 20.797537688442212 39.877744566880004 L 20.911507537688443 39.89236706875591 L 21.025477386934675 39.90698957063182 L 21.139447236180903 39.921612072507735 L 21.253417085427134 39.93623457438365 L 21.367386934673366 39.95085707625955 L 21.481356783919598 39.965479578135465 L 21.59532663316583 39.98010208001138 L 21.70929648241206 39.99472458188729 L 21.823266331658292 40.0093470837632 L 21.937236180904524 40.02396958563911 L 22.051206030150755 40.03859208751502 L 22.165175879396983 40.05321458939093 L 22.279145728643215 40.067837091266846 L 22.393115577889446 40.08245959314275 L 22.507085427135678 40.09708209501866 L 22.62105527638191 40.111704596894576 L 22.73502512562814 40.12632709877049 L 22.848994974874373 40.140949600646394 L 22.962964824120604 40.15557210252231 L 23.076934673366836 40.17019460439822 L 23.190904522613067 40.18481710627413 L 23.304874371859295 40.199439608150044 L 23.418844221105527 40.21406211002595 L 23.53281407035176 40.22868461190186 L 23.64678391959799 40.243307113777774 L 23.76075376884422 40.25792961565369 L 23.874723618090453 40.27255211752959 L 23.988693467336685 40.287174619405505 L 24.102663316582916 40.30179712128142 L 24.216633165829148 40.31641962315733 L 24.330603015075376 40.331042125033235 L 24.444572864321607 40.34566462690915 L 24.55854271356784 40.36028712878506 L 24.67251256281407 40.37490963066097 L 24.786482412060302 40.389532132536885 L 24.900452261306533 40.40415463441279 L 25.014422110552765 40.4187771362887 L 25.128391959798996 40.433399638164616 L 25.242361809045228 40.44802214004053 L 25.356331658291456 40.462644641916434 L 25.470301507537688 40.477267143792346 L 25.58427135678392 40.49188964566826 L 25.69824120603015 40.50651214754417 L 25.812211055276382 40.521134649420084 L 25.926180904522614 40.53575715129599 L 26.040150753768845 40.5503796531719 L 26.154120603015077 40.565002155047814 L 26.26809045226131 40.57962465692373 L 26.382060301507536 40.59424715879963 L 26.496030150753768 40.608869660675545 L 26.61 40.62349216255146\",\"type\":\"path\"}],\"template\":{\"data\":{\"bar\":[{\"error_x\":{\"color\":\"#2a3f5f\"},\"error_y\":{\"color\":\"#2a3f5f\"},\"marker\":{\"line\":{\"color\":\"white\",\"width\":0.5},\"pattern\":{\"fillmode\":\"overlay\",\"size\":10,\"solidity\":0.2}},\"type\":\"bar\"}],\"barpolar\":[{\"marker\":{\"line\":{\"color\":\"white\",\"width\":0.5},\"pattern\":{\"fillmode\":\"overlay\",\"size\":10,\"solidity\":0.2}},\"type\":\"barpolar\"}],\"box\":[{\"boxpoints\":\"outliers\",\"notched\":false,\"type\":\"box\"}],\"carpet\":[{\"aaxis\":{\"endlinecolor\":\"#2a3f5f\",\"gridcolor\":\"#C8D4E3\",\"linecolor\":\"#C8D4E3\",\"minorgridcolor\":\"#C8D4E3\",\"startlinecolor\":\"#2a3f5f\"},\"baxis\":{\"endlinecolor\":\"#2a3f5f\",\"gridcolor\":\"#C8D4E3\",\"linecolor\":\"#C8D4E3\",\"minorgridcolor\":\"#C8D4E3\",\"startlinecolor\":\"#2a3f5f\"},\"type\":\"carpet\"}],\"choropleth\":[{\"colorbar\":{\"outlinewidth\":0,\"ticks\":\"\"},\"type\":\"choropleth\"}],\"contour\":[{\"colorbar\":{\"outlinewidth\":0,\"ticks\":\"\"},\"colorscale\":[[0.0,\"#0d0887\"],[0.1111111111111111,\"#46039f\"],[0.2222222222222222,\"#7201a8\"],[0.3333333333333333,\"#9c179e\"],[0.4444444444444444,\"#bd3786\"],[0.5555555555555556,\"#d8576b\"],[0.6666666666666666,\"#ed7953\"],[0.7777777777777778,\"#fb9f3a\"],[0.8888888888888888,\"#fdca26\"],[1.0,\"#f0f921\"]],\"type\":\"contour\"}],\"contourcarpet\":[{\"colorbar\":{\"outlinewidth\":0,\"ticks\":\"\"},\"type\":\"contourcarpet\"}],\"heatmap\":[{\"colorbar\":{\"outlinewidth\":0,\"ticks\":\"\"},\"colorscale\":[[0.0,\"#0d0887\"],[0.1111111111111111,\"#46039f\"],[0.2222222222222222,\"#7201a8\"],[0.3333333333333333,\"#9c179e\"],[0.4444444444444444,\"#bd3786\"],[0.5555555555555556,\"#d8576b\"],[0.6666666666666666,\"#ed7953\"],[0.7777777777777778,\"#fb9f3a\"],[0.8888888888888888,\"#fdca26\"],[1.0,\"#f0f921\"]],\"type\":\"heatmap\"}],\"heatmapgl\":[{\"colorbar\":{\"outlinewidth\":0,\"ticks\":\"\"},\"colorscale\":[[0.0,\"#0d0887\"],[0.1111111111111111,\"#46039f\"],[0.2222222222222222,\"#7201a8\"],[0.3333333333333333,\"#9c179e\"],[0.4444444444444444,\"#bd3786\"],[0.5555555555555556,\"#d8576b\"],[0.6666666666666666,\"#ed7953\"],[0.7777777777777778,\"#fb9f3a\"],[0.8888888888888888,\"#fdca26\"],[1.0,\"#f0f921\"]],\"type\":\"heatmapgl\"}],\"histogram\":[{\"marker\":{\"line\":{\"width\":1},\"pattern\":{\"fillmode\":\"overlay\",\"size\":10,\"solidity\":0.2}},\"type\":\"histogram\"}],\"histogram2d\":[{\"colorbar\":{\"outlinewidth\":0,\"ticks\":\"\"},\"colorscale\":[[0.0,\"#0d0887\"],[0.1111111111111111,\"#46039f\"],[0.2222222222222222,\"#7201a8\"],[0.3333333333333333,\"#9c179e\"],[0.4444444444444444,\"#bd3786\"],[0.5555555555555556,\"#d8576b\"],[0.6666666666666666,\"#ed7953\"],[0.7777777777777778,\"#fb9f3a\"],[0.8888888888888888,\"#fdca26\"],[1.0,\"#f0f921\"]],\"type\":\"histogram2d\"}],\"histogram2dcontour\":[{\"colorbar\":{\"outlinewidth\":0,\"ticks\":\"\"},\"colorscale\":[[0.0,\"#0d0887\"],[0.1111111111111111,\"#46039f\"],[0.2222222222222222,\"#7201a8\"],[0.3333333333333333,\"#9c179e\"],[0.4444444444444444,\"#bd3786\"],[0.5555555555555556,\"#d8576b\"],[0.6666666666666666,\"#ed7953\"],[0.7777777777777778,\"#fb9f3a\"],[0.8888888888888888,\"#fdca26\"],[1.0,\"#f0f921\"]],\"type\":\"histogram2dcontour\"}],\"mesh3d\":[{\"colorbar\":{\"outlinewidth\":0,\"ticks\":\"\"},\"type\":\"mesh3d\"}],\"parcoords\":[{\"line\":{\"colorbar\":{\"outlinewidth\":0,\"ticks\":\"\"}},\"type\":\"parcoords\"}],\"pie\":[{\"automargin\":true,\"type\":\"pie\"}],\"scatter\":[{\"marker\":{\"colorbar\":{\"outlinewidth\":0,\"ticks\":\"\"},\"opacity\":0.8},\"type\":\"scatter\"}],\"scatter3d\":[{\"line\":{\"colorbar\":{\"outlinewidth\":0,\"ticks\":\"\"}},\"marker\":{\"colorbar\":{\"outlinewidth\":0,\"ticks\":\"\"},\"opacity\":0.8},\"type\":\"scatter3d\"}],\"scattercarpet\":[{\"marker\":{\"colorbar\":{\"outlinewidth\":0,\"ticks\":\"\"}},\"type\":\"scattercarpet\"}],\"scattergeo\":[{\"marker\":{\"colorbar\":{\"outlinewidth\":0,\"ticks\":\"\"}},\"type\":\"scattergeo\"}],\"scattergl\":[{\"marker\":{\"colorbar\":{\"outlinewidth\":0,\"ticks\":\"\"}},\"type\":\"scattergl\"}],\"scattermapbox\":[{\"marker\":{\"colorbar\":{\"outlinewidth\":0,\"ticks\":\"\"}},\"type\":\"scattermapbox\"}],\"scatterpolar\":[{\"marker\":{\"colorbar\":{\"outlinewidth\":0,\"ticks\":\"\"}},\"type\":\"scatterpolar\"}],\"scatterpolargl\":[{\"marker\":{\"colorbar\":{\"outlinewidth\":0,\"ticks\":\"\"}},\"type\":\"scatterpolargl\"}],\"scatterternary\":[{\"marker\":{\"colorbar\":{\"outlinewidth\":0,\"ticks\":\"\"}},\"type\":\"scatterternary\"}],\"surface\":[{\"colorbar\":{\"outlinewidth\":0,\"ticks\":\"\"},\"colorscale\":[[0.0,\"#0d0887\"],[0.1111111111111111,\"#46039f\"],[0.2222222222222222,\"#7201a8\"],[0.3333333333333333,\"#9c179e\"],[0.4444444444444444,\"#bd3786\"],[0.5555555555555556,\"#d8576b\"],[0.6666666666666666,\"#ed7953\"],[0.7777777777777778,\"#fb9f3a\"],[0.8888888888888888,\"#fdca26\"],[1.0,\"#f0f921\"]],\"type\":\"surface\"}],\"table\":[{\"cells\":{\"fill\":{\"color\":\"#EBF0F8\"},\"line\":{\"color\":\"white\"}},\"header\":{\"fill\":{\"color\":\"#C8D4E3\"},\"line\":{\"color\":\"white\"}},\"type\":\"table\"}]},\"layout\":{\"annotationdefaults\":{\"arrowcolor\":\"#2a3f5f\",\"arrowhead\":0,\"arrowwidth\":1},\"autotypenumbers\":\"strict\",\"coloraxis\":{\"colorbar\":{\"outlinewidth\":0,\"ticks\":\"\"}},\"colorscale\":{\"diverging\":[[0,\"#8e0152\"],[0.1,\"#c51b7d\"],[0.2,\"#de77ae\"],[0.3,\"#f1b6da\"],[0.4,\"#fde0ef\"],[0.5,\"#f7f7f7\"],[0.6,\"#e6f5d0\"],[0.7,\"#b8e186\"],[0.8,\"#7fbc41\"],[0.9,\"#4d9221\"],[1,\"#276419\"]],\"sequential\":[[0.0,\"#0d0887\"],[0.1111111111111111,\"#46039f\"],[0.2222222222222222,\"#7201a8\"],[0.3333333333333333,\"#9c179e\"],[0.4444444444444444,\"#bd3786\"],[0.5555555555555556,\"#d8576b\"],[0.6666666666666666,\"#ed7953\"],[0.7777777777777778,\"#fb9f3a\"],[0.8888888888888888,\"#fdca26\"],[1.0,\"#f0f921\"]],\"sequentialminus\":[[0.0,\"#0d0887\"],[0.1111111111111111,\"#46039f\"],[0.2222222222222222,\"#7201a8\"],[0.3333333333333333,\"#9c179e\"],[0.4444444444444444,\"#bd3786\"],[0.5555555555555556,\"#d8576b\"],[0.6666666666666666,\"#ed7953\"],[0.7777777777777778,\"#fb9f3a\"],[0.8888888888888888,\"#fdca26\"],[1.0,\"#f0f921\"]]},\"colorway\":[\"#636efa\",\"#EF553B\",\"#00cc96\",\"#ab63fa\",\"#FFA15A\",\"#19d3f3\",\"#FF6692\",\"#B6E880\",\"#FF97FF\",\"#FECB52\"],\"font\":{\"color\":\"#2a3f5f\"},\"geo\":{\"bgcolor\":\"white\",\"lakecolor\":\"white\",\"landcolor\":\"white\",\"showlakes\":true,\"showland\":true,\"subunitcolor\":\"#C8D4E3\"},\"height\":400,\"hoverlabel\":{\"align\":\"left\"},\"hovermode\":\"closest\",\"mapbox\":{\"style\":\"light\"},\"margin\":{\"b\":2,\"l\":2,\"r\":2,\"t\":30},\"paper_bgcolor\":\"white\",\"plot_bgcolor\":\"white\",\"polar\":{\"angularaxis\":{\"gridcolor\":\"#EBF0F8\",\"linecolor\":\"#EBF0F8\",\"ticks\":\"\"},\"bgcolor\":\"white\",\"radialaxis\":{\"gridcolor\":\"#EBF0F8\",\"linecolor\":\"#EBF0F8\",\"ticks\":\"\"}},\"scene\":{\"camera\":{\"eye\":{\"x\":1.5,\"y\":1.5,\"z\":0.1}},\"xaxis\":{\"backgroundcolor\":\"white\",\"gridcolor\":\"#DFE8F3\",\"gridwidth\":2,\"linecolor\":\"#EBF0F8\",\"showbackground\":true,\"ticks\":\"\",\"zerolinecolor\":\"#EBF0F8\"},\"yaxis\":{\"backgroundcolor\":\"white\",\"gridcolor\":\"#DFE8F3\",\"gridwidth\":2,\"linecolor\":\"#EBF0F8\",\"showbackground\":true,\"ticks\":\"\",\"zerolinecolor\":\"#EBF0F8\"},\"zaxis\":{\"backgroundcolor\":\"white\",\"gridcolor\":\"#DFE8F3\",\"gridwidth\":2,\"linecolor\":\"#EBF0F8\",\"showbackground\":true,\"ticks\":\"\",\"zerolinecolor\":\"#EBF0F8\"}},\"shapedefaults\":{\"line\":{\"color\":\"#2a3f5f\"}},\"ternary\":{\"aaxis\":{\"gridcolor\":\"#DFE8F3\",\"linecolor\":\"#A2B1C6\",\"ticks\":\"\"},\"baxis\":{\"gridcolor\":\"#DFE8F3\",\"linecolor\":\"#A2B1C6\",\"ticks\":\"\"},\"bgcolor\":\"white\",\"caxis\":{\"gridcolor\":\"#DFE8F3\",\"linecolor\":\"#A2B1C6\",\"ticks\":\"\"}},\"title\":{\"x\":0.5},\"xaxis\":{\"automargin\":true,\"gridcolor\":\"#EBF0F8\",\"linecolor\":\"#EBF0F8\",\"linewidth\":2,\"showline\":true,\"ticks\":\"\",\"title\":{\"standoff\":15},\"zerolinecolor\":\"#EBF0F8\",\"zerolinewidth\":2},\"yaxis\":{\"automargin\":true,\"gridcolor\":\"#EBF0F8\",\"linecolor\":\"#EBF0F8\",\"linewidth\":2,\"showline\":true,\"ticks\":\"\",\"title\":{\"standoff\":15},\"zerolinecolor\":\"#EBF0F8\",\"zerolinewidth\":2}}},\"title\":{\"text\":\"protein_content_of_last_meal\"},\"xaxis\":{\"anchor\":\"y\",\"domain\":[0.0,1.0],\"title\":{\"text\":\"protein content of last meal\"}},\"yaxis\":{\"anchor\":\"x\",\"domain\":[0.0,1.0],\"title\":{\"text\":\"core temperature\"}}},                        {\"responsive\": true}                    ).then(function(){\n",
       "                            \n",
       "var gd = document.getElementById('53b870c9-3073-4158-a7e5-859e05e797e4');\n",
       "var x = new MutationObserver(function (mutations, observer) {{\n",
       "        var display = window.getComputedStyle(gd).display;\n",
       "        if (!display || display === 'none') {{\n",
       "            console.log([gd, 'removed!']);\n",
       "            Plotly.purge(gd);\n",
       "            observer.disconnect();\n",
       "        }}\n",
       "}});\n",
       "\n",
       "// Listen for the removal of the full notebook cells\n",
       "var notebookContainer = gd.closest('#notebook-container');\n",
       "if (notebookContainer) {{\n",
       "    x.observe(notebookContainer, {childList: true});\n",
       "}}\n",
       "\n",
       "// Listen for the clearing of the current output cell\n",
       "var outputEl = gd.closest('.output');\n",
       "if (outputEl) {{\n",
       "    x.observe(outputEl, {childList: true});\n",
       "}}\n",
       "\n",
       "                        })                };                });            </script>        </div>"
      ]
     },
     "metadata": {},
     "output_type": "display_data"
    },
    {
     "name": "stdout",
     "output_type": "stream",
     "text": [
      "body_fat_percentage\n",
      "R-squared: 0.00020809002637933727\n"
     ]
    },
    {
     "data": {
      "application/vnd.plotly.v1+json": {
       "config": {
        "plotlyServerURL": "https://plot.ly"
       },
       "data": [
        {
         "hovertemplate": "body fat percentage=%{x}<br>core temperature=%{y}<extra></extra>",
         "legendgroup": "",
         "marker": {
          "color": "#636efa",
          "size": 17,
          "symbol": "circle"
         },
         "mode": "markers",
         "name": "",
         "orientation": "v",
         "showlegend": false,
         "type": "scatter",
         "x": [
          38,
          32,
          12,
          23,
          15,
          14,
          25,
          18,
          34,
          31,
          13,
          18,
          26,
          36,
          31,
          12,
          30,
          35,
          11,
          26,
          19,
          36,
          24,
          29,
          20,
          16,
          17,
          17,
          32,
          12,
          20,
          34,
          29,
          12,
          36,
          39,
          12,
          15,
          35,
          32,
          39,
          31,
          17,
          20,
          40,
          40,
          23,
          38,
          18,
          28,
          40,
          28,
          40,
          11,
          16,
          39,
          20,
          39,
          15,
          21,
          16,
          33,
          40,
          19,
          38,
          20,
          17,
          40,
          36,
          23,
          10,
          30,
          38,
          23,
          35,
          27,
          21,
          16,
          40,
          29,
          20,
          11,
          37,
          33,
          15,
          25,
          39,
          25,
          38,
          36,
          29,
          30,
          18,
          38,
          11,
          20,
          32,
          21
         ],
         "xaxis": "x",
         "y": [
          38.42316895,
          39.01599822,
          39.14834088,
          39.06004863,
          38.65543905,
          38.6092188,
          39.47390806,
          38.81521612,
          37.77845286,
          39.17685034,
          39.52090819,
          38.57896943,
          38.28013391,
          38.40158039,
          38.65157641,
          39.61720308,
          37.72843549,
          39.36694049,
          37.98848685,
          39.93405104,
          37.60559023,
          38.83468198,
          37.39892664,
          38.98633063,
          39.72456882,
          38.09695504,
          37.59597881,
          39.49731323,
          38.50187636,
          38.27036031,
          38.69964224,
          39.08411118,
          38.29400364,
          38.39872285,
          39.29951536,
          38.37598649,
          38.46968433,
          39.58561173,
          38.12682317,
          39.80156649,
          37.92682179,
          39.67264697,
          38.21409556,
          38.93217418,
          37.80121676,
          37.52097889,
          39.34942824,
          38.9163822,
          38.72595498,
          38.35421436,
          40.17337876,
          39.48214424,
          39.9557292,
          39.02529641,
          39.70565695,
          37.87210056,
          38.92730588,
          38.75694066,
          38.98157028,
          39.07020183,
          39.31023381,
          40.26487847,
          39.19531025,
          37.46606804,
          38.61929591,
          39.74308443,
          37.9590829,
          38.52387016,
          39.58821189,
          39.48780846,
          37.32113362,
          38.30311301,
          39.32598796,
          38.18373964,
          37.78518905,
          38.97361387,
          37.97719515,
          38.92654301,
          37.98922316,
          39.87010492,
          38.51344083,
          39.14710639,
          38.61129304,
          38.95232638,
          37.46812464,
          38.24131363,
          38.7661591,
          39.87233432,
          38.87492299,
          39.09337261,
          39.00124171,
          39.25963687,
          38.6808734,
          37.93994229,
          38.79042609,
          39.48996228,
          38.57574159,
          39.76644658
         ],
         "yaxis": "y"
        }
       ],
       "layout": {
        "legend": {
         "tracegroupgap": 0
        },
        "shapes": [
         {
          "line": {
           "color": "rgb(228,26,28)"
          },
          "path": "M10.0 38.759438804285836 L 10.150753768844222 38.75959842033662 L 10.301507537688442 38.75975803638741 L 10.452261306532662 38.75991765243819 L 10.603015075376884 38.76007726848898 L 10.753768844221106 38.760236884539765 L 10.904522613065327 38.760396500590545 L 11.055276381909547 38.76055611664133 L 11.206030150753769 38.76071573269212 L 11.35678391959799 38.7608753487429 L 11.507537688442211 38.76103496479369 L 11.658291457286431 38.761194580844474 L 11.809045226130653 38.761354196895255 L 11.959798994974875 38.76151381294604 L 12.110552763819095 38.76167342899683 L 12.261306532663315 38.76183304504761 L 12.412060301507537 38.7619926610984 L 12.56281407035176 38.762152277149184 L 12.71356783919598 38.762311893199964 L 12.8643216080402 38.76247150925075 L 13.015075376884422 38.76263112530153 L 13.165829145728644 38.76279074135232 L 13.316582914572864 38.762950357403106 L 13.467336683417084 38.763109973453886 L 13.618090452261306 38.763269589504674 L 13.768844221105528 38.76342920555546 L 13.919597989949748 38.76358882160624 L 14.070351758793969 38.76374843765703 L 14.22110552763819 38.763908053707816 L 14.371859296482413 38.764067669758596 L 14.522613065326633 38.76422728580938 L 14.673366834170853 38.76438690186017 L 14.824120603015075 38.76454651791095 L 14.974874371859297 38.76470613396174 L 15.125628140703517 38.764865750012525 L 15.276381909547737 38.765025366063306 L 15.42713567839196 38.76518498211409 L 15.577889447236181 38.76534459816488 L 15.728643216080402 38.76550421421566 L 15.879396984924622 38.76566383026645 L 16.030150753768844 38.765823446317235 L 16.180904522613066 38.765983062368015 L 16.331658291457288 38.7661426784188 L 16.482412060301506 38.76630229446959 L 16.633165829145728 38.76646191052037 L 16.78391959798995 38.76662152657116 L 16.93467336683417 38.766781142621944 L 17.08542713567839 38.766940758672725 L 17.236180904522612 38.76710037472351 L 17.386934673366834 38.7672599907743 L 17.537688442211056 38.76741960682508 L 17.688442211055275 38.76757922287587 L 17.839195979899497 38.767738838926654 L 17.98994974874372 38.767898454977434 L 18.140703517587937 38.76805807102822 L 18.29145728643216 38.76821768707901 L 18.44221105527638 38.76837730312979 L 18.592964824120603 38.768536919180576 L 18.743718592964825 38.768696535231356 L 18.894472361809044 38.768856151282144 L 19.045226130653266 38.76901576733293 L 19.195979899497488 38.76917538338371 L 19.346733668341706 38.7693349994345 L 19.497487437185928 38.769494615485286 L 19.64824120603015 38.769654231536066 L 19.798994974874372 38.76981384758685 L 19.949748743718594 38.76997346363764 L 20.100502512562812 38.77013307968842 L 20.251256281407034 38.77029269573921 L 20.402010050251256 38.770452311789995 L 20.552763819095475 38.770611927840775 L 20.703517587939697 38.77077154389156 L 20.85427135678392 38.77093115994235 L 21.00502512562814 38.77109077599313 L 21.155778894472363 38.77125039204392 L 21.30653266331658 38.771410008094705 L 21.457286432160803 38.771569624145485 L 21.608040201005025 38.77172924019627 L 21.758793969849243 38.77188885624706 L 21.909547738693465 38.77204847229784 L 22.060301507537687 38.77220808834863 L 22.21105527638191 38.772367704399414 L 22.36180904522613 38.772527320450195 L 22.51256281407035 38.77268693650098 L 22.66331658291457 38.77284655255177 L 22.814070351758794 38.77300616860255 L 22.964824120603012 38.77316578465334 L 23.115577889447234 38.773325400704124 L 23.266331658291456 38.773485016754904 L 23.417085427135678 38.77364463280569 L 23.5678391959799 38.77380424885648 L 23.71859296482412 38.77396386490726 L 23.86934673366834 38.774123480958046 L 24.020100502512562 38.77428309700883 L 24.17085427135678 38.774442713059614 L 24.321608040201003 38.7746023291104 L 24.472361809045225 38.77476194516118 L 24.623115577889447 38.77492156121197 L 24.77386934673367 38.775081177262756 L 24.924623115577887 38.775240793313536 L 25.07537688442211 38.77540040936432 L 25.22613065326633 38.77556002541511 L 25.37688442211055 38.77571964146589 L 25.52763819095477 38.77587925751668 L 25.678391959798994 38.776038873567465 L 25.829145728643216 38.776198489618245 L 25.979899497487438 38.77635810566903 L 26.130653266331656 38.77651772171982 L 26.281407035175878 38.7766773377706 L 26.4321608040201 38.77683695382139 L 26.58291457286432 38.776996569872175 L 26.73366834170854 38.777156185922955 L 26.884422110552762 38.77731580197374 L 27.035175879396984 38.77747541802453 L 27.185929648241206 38.77763503407531 L 27.336683417085425 38.7777946501261 L 27.487437185929647 38.777954266176884 L 27.63819095477387 38.778113882227665 L 27.788944723618087 38.77827349827845 L 27.93969849246231 38.77843311432924 L 28.09045226130653 38.77859273038002 L 28.241206030150753 38.77875234643081 L 28.391959798994975 38.778911962481594 L 28.542713567839193 38.779071578532374 L 28.693467336683415 38.77923119458316 L 28.844221105527637 38.77939081063395 L 28.994974874371856 38.77955042668473 L 29.145728643216078 38.779710042735516 L 29.2964824120603 38.7798696587863 L 29.44723618090452 38.780029274837084 L 29.597989949748744 38.78018889088787 L 29.748743718592962 38.78034850693866 L 29.899497487437184 38.78050812298944 L 30.050251256281406 38.780667739040226 L 30.201005025125625 38.780827355091006 L 30.351758793969847 38.78098697114179 L 30.50251256281407 38.78114658719258 L 30.65326633165829 38.78130620324336 L 30.804020100502512 38.78146581929415 L 30.95477386934673 38.781625435344935 L 31.105527638190953 38.781785051395715 L 31.256281407035175 38.7819446674465 L 31.407035175879393 38.78210428349729 L 31.557788944723615 38.78226389954807 L 31.708542713567837 38.78242351559886 L 31.85929648241206 38.782583131649645 L 32.01005025125628 38.782742747700425 L 32.1608040201005 38.78290236375121 L 32.311557788944725 38.783061979802 L 32.462311557788944 38.78322159585278 L 32.61306532663316 38.78338121190357 L 32.76381909547739 38.783540827954354 L 32.914572864321606 38.783700444005135 L 33.065326633165824 38.78386006005592 L 33.21608040201005 38.78401967610671 L 33.36683417085427 38.78417929215749 L 33.51758793969849 38.78433890820828 L 33.66834170854271 38.784498524259064 L 33.81909547738693 38.784658140309844 L 33.96984924623115 38.78481775636063 L 34.120603015075375 38.78497737241142 L 34.2713567839196 38.7851369884622 L 34.42211055276382 38.785296604512986 L 34.57286432160804 38.78545622056377 L 34.72361809045226 38.785615836614554 L 34.87437185929648 38.78577545266534 L 35.0251256281407 38.78593506871613 L 35.175879396984925 38.78609468476691 L 35.32663316582914 38.786254300817696 L 35.47738693467336 38.78641391686848 L 35.62814070351759 38.78657353291926 L 35.778894472361806 38.78673314897005 L 35.929648241206024 38.78689276502083 L 36.08040201005025 38.78705238107162 L 36.23115577889447 38.787211997122405 L 36.38190954773869 38.787371613173185 L 36.53266331658291 38.78753122922397 L 36.68341708542714 38.78769084527476 L 36.834170854271356 38.78785046132554 L 36.984924623115575 38.78801007737633 L 37.1356783919598 38.788169693427115 L 37.28643216080402 38.788329309477895 L 37.43718592964824 38.78848892552868 L 37.58793969849246 38.78864854157947 L 37.73869346733668 38.78880815763025 L 37.8894472361809 38.78896777368104 L 38.040201005025125 38.789127389731824 L 38.19095477386934 38.789287005782604 L 38.34170854271356 38.78944662183339 L 38.49246231155779 38.78960623788418 L 38.643216080402006 38.78976585393496 L 38.793969849246224 38.78992546998575 L 38.94472361809045 38.790085086036534 L 39.095477386934675 38.790244702087314 L 39.246231155778894 38.7904043181381 L 39.39698492462311 38.79056393418889 L 39.54773869346734 38.79072355023967 L 39.698492462311556 38.790883166290456 L 39.849246231155774 38.79104278234124 L 40.0 38.791202398392024",
          "type": "path"
         }
        ],
        "template": {
         "data": {
          "bar": [
           {
            "error_x": {
             "color": "#2a3f5f"
            },
            "error_y": {
             "color": "#2a3f5f"
            },
            "marker": {
             "line": {
              "color": "white",
              "width": 0.5
             },
             "pattern": {
              "fillmode": "overlay",
              "size": 10,
              "solidity": 0.2
             }
            },
            "type": "bar"
           }
          ],
          "barpolar": [
           {
            "marker": {
             "line": {
              "color": "white",
              "width": 0.5
             },
             "pattern": {
              "fillmode": "overlay",
              "size": 10,
              "solidity": 0.2
             }
            },
            "type": "barpolar"
           }
          ],
          "box": [
           {
            "boxpoints": "outliers",
            "notched": false,
            "type": "box"
           }
          ],
          "carpet": [
           {
            "aaxis": {
             "endlinecolor": "#2a3f5f",
             "gridcolor": "#C8D4E3",
             "linecolor": "#C8D4E3",
             "minorgridcolor": "#C8D4E3",
             "startlinecolor": "#2a3f5f"
            },
            "baxis": {
             "endlinecolor": "#2a3f5f",
             "gridcolor": "#C8D4E3",
             "linecolor": "#C8D4E3",
             "minorgridcolor": "#C8D4E3",
             "startlinecolor": "#2a3f5f"
            },
            "type": "carpet"
           }
          ],
          "choropleth": [
           {
            "colorbar": {
             "outlinewidth": 0,
             "ticks": ""
            },
            "type": "choropleth"
           }
          ],
          "contour": [
           {
            "colorbar": {
             "outlinewidth": 0,
             "ticks": ""
            },
            "colorscale": [
             [
              0,
              "#0d0887"
             ],
             [
              0.1111111111111111,
              "#46039f"
             ],
             [
              0.2222222222222222,
              "#7201a8"
             ],
             [
              0.3333333333333333,
              "#9c179e"
             ],
             [
              0.4444444444444444,
              "#bd3786"
             ],
             [
              0.5555555555555556,
              "#d8576b"
             ],
             [
              0.6666666666666666,
              "#ed7953"
             ],
             [
              0.7777777777777778,
              "#fb9f3a"
             ],
             [
              0.8888888888888888,
              "#fdca26"
             ],
             [
              1,
              "#f0f921"
             ]
            ],
            "type": "contour"
           }
          ],
          "contourcarpet": [
           {
            "colorbar": {
             "outlinewidth": 0,
             "ticks": ""
            },
            "type": "contourcarpet"
           }
          ],
          "heatmap": [
           {
            "colorbar": {
             "outlinewidth": 0,
             "ticks": ""
            },
            "colorscale": [
             [
              0,
              "#0d0887"
             ],
             [
              0.1111111111111111,
              "#46039f"
             ],
             [
              0.2222222222222222,
              "#7201a8"
             ],
             [
              0.3333333333333333,
              "#9c179e"
             ],
             [
              0.4444444444444444,
              "#bd3786"
             ],
             [
              0.5555555555555556,
              "#d8576b"
             ],
             [
              0.6666666666666666,
              "#ed7953"
             ],
             [
              0.7777777777777778,
              "#fb9f3a"
             ],
             [
              0.8888888888888888,
              "#fdca26"
             ],
             [
              1,
              "#f0f921"
             ]
            ],
            "type": "heatmap"
           }
          ],
          "heatmapgl": [
           {
            "colorbar": {
             "outlinewidth": 0,
             "ticks": ""
            },
            "colorscale": [
             [
              0,
              "#0d0887"
             ],
             [
              0.1111111111111111,
              "#46039f"
             ],
             [
              0.2222222222222222,
              "#7201a8"
             ],
             [
              0.3333333333333333,
              "#9c179e"
             ],
             [
              0.4444444444444444,
              "#bd3786"
             ],
             [
              0.5555555555555556,
              "#d8576b"
             ],
             [
              0.6666666666666666,
              "#ed7953"
             ],
             [
              0.7777777777777778,
              "#fb9f3a"
             ],
             [
              0.8888888888888888,
              "#fdca26"
             ],
             [
              1,
              "#f0f921"
             ]
            ],
            "type": "heatmapgl"
           }
          ],
          "histogram": [
           {
            "marker": {
             "line": {
              "width": 1
             },
             "pattern": {
              "fillmode": "overlay",
              "size": 10,
              "solidity": 0.2
             }
            },
            "type": "histogram"
           }
          ],
          "histogram2d": [
           {
            "colorbar": {
             "outlinewidth": 0,
             "ticks": ""
            },
            "colorscale": [
             [
              0,
              "#0d0887"
             ],
             [
              0.1111111111111111,
              "#46039f"
             ],
             [
              0.2222222222222222,
              "#7201a8"
             ],
             [
              0.3333333333333333,
              "#9c179e"
             ],
             [
              0.4444444444444444,
              "#bd3786"
             ],
             [
              0.5555555555555556,
              "#d8576b"
             ],
             [
              0.6666666666666666,
              "#ed7953"
             ],
             [
              0.7777777777777778,
              "#fb9f3a"
             ],
             [
              0.8888888888888888,
              "#fdca26"
             ],
             [
              1,
              "#f0f921"
             ]
            ],
            "type": "histogram2d"
           }
          ],
          "histogram2dcontour": [
           {
            "colorbar": {
             "outlinewidth": 0,
             "ticks": ""
            },
            "colorscale": [
             [
              0,
              "#0d0887"
             ],
             [
              0.1111111111111111,
              "#46039f"
             ],
             [
              0.2222222222222222,
              "#7201a8"
             ],
             [
              0.3333333333333333,
              "#9c179e"
             ],
             [
              0.4444444444444444,
              "#bd3786"
             ],
             [
              0.5555555555555556,
              "#d8576b"
             ],
             [
              0.6666666666666666,
              "#ed7953"
             ],
             [
              0.7777777777777778,
              "#fb9f3a"
             ],
             [
              0.8888888888888888,
              "#fdca26"
             ],
             [
              1,
              "#f0f921"
             ]
            ],
            "type": "histogram2dcontour"
           }
          ],
          "mesh3d": [
           {
            "colorbar": {
             "outlinewidth": 0,
             "ticks": ""
            },
            "type": "mesh3d"
           }
          ],
          "parcoords": [
           {
            "line": {
             "colorbar": {
              "outlinewidth": 0,
              "ticks": ""
             }
            },
            "type": "parcoords"
           }
          ],
          "pie": [
           {
            "automargin": true,
            "type": "pie"
           }
          ],
          "scatter": [
           {
            "marker": {
             "colorbar": {
              "outlinewidth": 0,
              "ticks": ""
             },
             "opacity": 0.8
            },
            "type": "scatter"
           }
          ],
          "scatter3d": [
           {
            "line": {
             "colorbar": {
              "outlinewidth": 0,
              "ticks": ""
             }
            },
            "marker": {
             "colorbar": {
              "outlinewidth": 0,
              "ticks": ""
             },
             "opacity": 0.8
            },
            "type": "scatter3d"
           }
          ],
          "scattercarpet": [
           {
            "marker": {
             "colorbar": {
              "outlinewidth": 0,
              "ticks": ""
             }
            },
            "type": "scattercarpet"
           }
          ],
          "scattergeo": [
           {
            "marker": {
             "colorbar": {
              "outlinewidth": 0,
              "ticks": ""
             }
            },
            "type": "scattergeo"
           }
          ],
          "scattergl": [
           {
            "marker": {
             "colorbar": {
              "outlinewidth": 0,
              "ticks": ""
             }
            },
            "type": "scattergl"
           }
          ],
          "scattermapbox": [
           {
            "marker": {
             "colorbar": {
              "outlinewidth": 0,
              "ticks": ""
             }
            },
            "type": "scattermapbox"
           }
          ],
          "scatterpolar": [
           {
            "marker": {
             "colorbar": {
              "outlinewidth": 0,
              "ticks": ""
             }
            },
            "type": "scatterpolar"
           }
          ],
          "scatterpolargl": [
           {
            "marker": {
             "colorbar": {
              "outlinewidth": 0,
              "ticks": ""
             }
            },
            "type": "scatterpolargl"
           }
          ],
          "scatterternary": [
           {
            "marker": {
             "colorbar": {
              "outlinewidth": 0,
              "ticks": ""
             }
            },
            "type": "scatterternary"
           }
          ],
          "surface": [
           {
            "colorbar": {
             "outlinewidth": 0,
             "ticks": ""
            },
            "colorscale": [
             [
              0,
              "#0d0887"
             ],
             [
              0.1111111111111111,
              "#46039f"
             ],
             [
              0.2222222222222222,
              "#7201a8"
             ],
             [
              0.3333333333333333,
              "#9c179e"
             ],
             [
              0.4444444444444444,
              "#bd3786"
             ],
             [
              0.5555555555555556,
              "#d8576b"
             ],
             [
              0.6666666666666666,
              "#ed7953"
             ],
             [
              0.7777777777777778,
              "#fb9f3a"
             ],
             [
              0.8888888888888888,
              "#fdca26"
             ],
             [
              1,
              "#f0f921"
             ]
            ],
            "type": "surface"
           }
          ],
          "table": [
           {
            "cells": {
             "fill": {
              "color": "#EBF0F8"
             },
             "line": {
              "color": "white"
             }
            },
            "header": {
             "fill": {
              "color": "#C8D4E3"
             },
             "line": {
              "color": "white"
             }
            },
            "type": "table"
           }
          ]
         },
         "layout": {
          "annotationdefaults": {
           "arrowcolor": "#2a3f5f",
           "arrowhead": 0,
           "arrowwidth": 1
          },
          "autotypenumbers": "strict",
          "coloraxis": {
           "colorbar": {
            "outlinewidth": 0,
            "ticks": ""
           }
          },
          "colorscale": {
           "diverging": [
            [
             0,
             "#8e0152"
            ],
            [
             0.1,
             "#c51b7d"
            ],
            [
             0.2,
             "#de77ae"
            ],
            [
             0.3,
             "#f1b6da"
            ],
            [
             0.4,
             "#fde0ef"
            ],
            [
             0.5,
             "#f7f7f7"
            ],
            [
             0.6,
             "#e6f5d0"
            ],
            [
             0.7,
             "#b8e186"
            ],
            [
             0.8,
             "#7fbc41"
            ],
            [
             0.9,
             "#4d9221"
            ],
            [
             1,
             "#276419"
            ]
           ],
           "sequential": [
            [
             0,
             "#0d0887"
            ],
            [
             0.1111111111111111,
             "#46039f"
            ],
            [
             0.2222222222222222,
             "#7201a8"
            ],
            [
             0.3333333333333333,
             "#9c179e"
            ],
            [
             0.4444444444444444,
             "#bd3786"
            ],
            [
             0.5555555555555556,
             "#d8576b"
            ],
            [
             0.6666666666666666,
             "#ed7953"
            ],
            [
             0.7777777777777778,
             "#fb9f3a"
            ],
            [
             0.8888888888888888,
             "#fdca26"
            ],
            [
             1,
             "#f0f921"
            ]
           ],
           "sequentialminus": [
            [
             0,
             "#0d0887"
            ],
            [
             0.1111111111111111,
             "#46039f"
            ],
            [
             0.2222222222222222,
             "#7201a8"
            ],
            [
             0.3333333333333333,
             "#9c179e"
            ],
            [
             0.4444444444444444,
             "#bd3786"
            ],
            [
             0.5555555555555556,
             "#d8576b"
            ],
            [
             0.6666666666666666,
             "#ed7953"
            ],
            [
             0.7777777777777778,
             "#fb9f3a"
            ],
            [
             0.8888888888888888,
             "#fdca26"
            ],
            [
             1,
             "#f0f921"
            ]
           ]
          },
          "colorway": [
           "#636efa",
           "#EF553B",
           "#00cc96",
           "#ab63fa",
           "#FFA15A",
           "#19d3f3",
           "#FF6692",
           "#B6E880",
           "#FF97FF",
           "#FECB52"
          ],
          "font": {
           "color": "#2a3f5f"
          },
          "geo": {
           "bgcolor": "white",
           "lakecolor": "white",
           "landcolor": "white",
           "showlakes": true,
           "showland": true,
           "subunitcolor": "#C8D4E3"
          },
          "height": 400,
          "hoverlabel": {
           "align": "left"
          },
          "hovermode": "closest",
          "mapbox": {
           "style": "light"
          },
          "margin": {
           "b": 2,
           "l": 2,
           "r": 2,
           "t": 30
          },
          "paper_bgcolor": "white",
          "plot_bgcolor": "white",
          "polar": {
           "angularaxis": {
            "gridcolor": "#EBF0F8",
            "linecolor": "#EBF0F8",
            "ticks": ""
           },
           "bgcolor": "white",
           "radialaxis": {
            "gridcolor": "#EBF0F8",
            "linecolor": "#EBF0F8",
            "ticks": ""
           }
          },
          "scene": {
           "camera": {
            "eye": {
             "x": 1.5,
             "y": 1.5,
             "z": 0.1
            }
           },
           "xaxis": {
            "backgroundcolor": "white",
            "gridcolor": "#DFE8F3",
            "gridwidth": 2,
            "linecolor": "#EBF0F8",
            "showbackground": true,
            "ticks": "",
            "zerolinecolor": "#EBF0F8"
           },
           "yaxis": {
            "backgroundcolor": "white",
            "gridcolor": "#DFE8F3",
            "gridwidth": 2,
            "linecolor": "#EBF0F8",
            "showbackground": true,
            "ticks": "",
            "zerolinecolor": "#EBF0F8"
           },
           "zaxis": {
            "backgroundcolor": "white",
            "gridcolor": "#DFE8F3",
            "gridwidth": 2,
            "linecolor": "#EBF0F8",
            "showbackground": true,
            "ticks": "",
            "zerolinecolor": "#EBF0F8"
           }
          },
          "shapedefaults": {
           "line": {
            "color": "#2a3f5f"
           }
          },
          "ternary": {
           "aaxis": {
            "gridcolor": "#DFE8F3",
            "linecolor": "#A2B1C6",
            "ticks": ""
           },
           "baxis": {
            "gridcolor": "#DFE8F3",
            "linecolor": "#A2B1C6",
            "ticks": ""
           },
           "bgcolor": "white",
           "caxis": {
            "gridcolor": "#DFE8F3",
            "linecolor": "#A2B1C6",
            "ticks": ""
           }
          },
          "title": {
           "x": 0.5
          },
          "xaxis": {
           "automargin": true,
           "gridcolor": "#EBF0F8",
           "linecolor": "#EBF0F8",
           "linewidth": 2,
           "showline": true,
           "ticks": "",
           "title": {
            "standoff": 15
           },
           "zerolinecolor": "#EBF0F8",
           "zerolinewidth": 2
          },
          "yaxis": {
           "automargin": true,
           "gridcolor": "#EBF0F8",
           "linecolor": "#EBF0F8",
           "linewidth": 2,
           "showline": true,
           "ticks": "",
           "title": {
            "standoff": 15
           },
           "zerolinecolor": "#EBF0F8",
           "zerolinewidth": 2
          }
         }
        },
        "title": {
         "text": "body_fat_percentage"
        },
        "xaxis": {
         "anchor": "y",
         "domain": [
          0,
          1
         ],
         "title": {
          "text": "body fat percentage"
         }
        },
        "yaxis": {
         "anchor": "x",
         "domain": [
          0,
          1
         ],
         "title": {
          "text": "core temperature"
         }
        }
       }
      },
      "text/html": [
       "<div>                            <div id=\"ea6a7388-8401-4595-862f-560cd8620a93\" class=\"plotly-graph-div\" style=\"height:400px; width:100%;\"></div>            <script type=\"text/javascript\">                require([\"plotly\"], function(Plotly) {                    window.PLOTLYENV=window.PLOTLYENV || {};                                    if (document.getElementById(\"ea6a7388-8401-4595-862f-560cd8620a93\")) {                    Plotly.newPlot(                        \"ea6a7388-8401-4595-862f-560cd8620a93\",                        [{\"hovertemplate\":\"body fat percentage=%{x}<br>core temperature=%{y}<extra></extra>\",\"legendgroup\":\"\",\"marker\":{\"color\":\"#636efa\",\"size\":17,\"symbol\":\"circle\"},\"mode\":\"markers\",\"name\":\"\",\"orientation\":\"v\",\"showlegend\":false,\"type\":\"scatter\",\"x\":[38,32,12,23,15,14,25,18,34,31,13,18,26,36,31,12,30,35,11,26,19,36,24,29,20,16,17,17,32,12,20,34,29,12,36,39,12,15,35,32,39,31,17,20,40,40,23,38,18,28,40,28,40,11,16,39,20,39,15,21,16,33,40,19,38,20,17,40,36,23,10,30,38,23,35,27,21,16,40,29,20,11,37,33,15,25,39,25,38,36,29,30,18,38,11,20,32,21],\"xaxis\":\"x\",\"y\":[38.42316895,39.01599822,39.14834088,39.06004863,38.65543905,38.6092188,39.47390806,38.81521612,37.77845286,39.17685034,39.52090819,38.57896943,38.28013391,38.40158039,38.65157641,39.61720308,37.72843549,39.36694049,37.98848685,39.93405104,37.60559023,38.83468198,37.39892664,38.98633063,39.72456882,38.09695504,37.59597881,39.49731323,38.50187636,38.27036031,38.69964224,39.08411118,38.29400364,38.39872285,39.29951536,38.37598649,38.46968433,39.58561173,38.12682317,39.80156649,37.92682179,39.67264697,38.21409556,38.93217418,37.80121676,37.52097889,39.34942824,38.9163822,38.72595498,38.35421436,40.17337876,39.48214424,39.9557292,39.02529641,39.70565695,37.87210056,38.92730588,38.75694066,38.98157028,39.07020183,39.31023381,40.26487847,39.19531025,37.46606804,38.61929591,39.74308443,37.9590829,38.52387016,39.58821189,39.48780846,37.32113362,38.30311301,39.32598796,38.18373964,37.78518905,38.97361387,37.97719515,38.92654301,37.98922316,39.87010492,38.51344083,39.14710639,38.61129304,38.95232638,37.46812464,38.24131363,38.7661591,39.87233432,38.87492299,39.09337261,39.00124171,39.25963687,38.6808734,37.93994229,38.79042609,39.48996228,38.57574159,39.76644658],\"yaxis\":\"y\"}],                        {\"legend\":{\"tracegroupgap\":0},\"shapes\":[{\"line\":{\"color\":\"rgb(228,26,28)\"},\"path\":\"M10.0 38.759438804285836 L 10.150753768844222 38.75959842033662 L 10.301507537688442 38.75975803638741 L 10.452261306532662 38.75991765243819 L 10.603015075376884 38.76007726848898 L 10.753768844221106 38.760236884539765 L 10.904522613065327 38.760396500590545 L 11.055276381909547 38.76055611664133 L 11.206030150753769 38.76071573269212 L 11.35678391959799 38.7608753487429 L 11.507537688442211 38.76103496479369 L 11.658291457286431 38.761194580844474 L 11.809045226130653 38.761354196895255 L 11.959798994974875 38.76151381294604 L 12.110552763819095 38.76167342899683 L 12.261306532663315 38.76183304504761 L 12.412060301507537 38.7619926610984 L 12.56281407035176 38.762152277149184 L 12.71356783919598 38.762311893199964 L 12.8643216080402 38.76247150925075 L 13.015075376884422 38.76263112530153 L 13.165829145728644 38.76279074135232 L 13.316582914572864 38.762950357403106 L 13.467336683417084 38.763109973453886 L 13.618090452261306 38.763269589504674 L 13.768844221105528 38.76342920555546 L 13.919597989949748 38.76358882160624 L 14.070351758793969 38.76374843765703 L 14.22110552763819 38.763908053707816 L 14.371859296482413 38.764067669758596 L 14.522613065326633 38.76422728580938 L 14.673366834170853 38.76438690186017 L 14.824120603015075 38.76454651791095 L 14.974874371859297 38.76470613396174 L 15.125628140703517 38.764865750012525 L 15.276381909547737 38.765025366063306 L 15.42713567839196 38.76518498211409 L 15.577889447236181 38.76534459816488 L 15.728643216080402 38.76550421421566 L 15.879396984924622 38.76566383026645 L 16.030150753768844 38.765823446317235 L 16.180904522613066 38.765983062368015 L 16.331658291457288 38.7661426784188 L 16.482412060301506 38.76630229446959 L 16.633165829145728 38.76646191052037 L 16.78391959798995 38.76662152657116 L 16.93467336683417 38.766781142621944 L 17.08542713567839 38.766940758672725 L 17.236180904522612 38.76710037472351 L 17.386934673366834 38.7672599907743 L 17.537688442211056 38.76741960682508 L 17.688442211055275 38.76757922287587 L 17.839195979899497 38.767738838926654 L 17.98994974874372 38.767898454977434 L 18.140703517587937 38.76805807102822 L 18.29145728643216 38.76821768707901 L 18.44221105527638 38.76837730312979 L 18.592964824120603 38.768536919180576 L 18.743718592964825 38.768696535231356 L 18.894472361809044 38.768856151282144 L 19.045226130653266 38.76901576733293 L 19.195979899497488 38.76917538338371 L 19.346733668341706 38.7693349994345 L 19.497487437185928 38.769494615485286 L 19.64824120603015 38.769654231536066 L 19.798994974874372 38.76981384758685 L 19.949748743718594 38.76997346363764 L 20.100502512562812 38.77013307968842 L 20.251256281407034 38.77029269573921 L 20.402010050251256 38.770452311789995 L 20.552763819095475 38.770611927840775 L 20.703517587939697 38.77077154389156 L 20.85427135678392 38.77093115994235 L 21.00502512562814 38.77109077599313 L 21.155778894472363 38.77125039204392 L 21.30653266331658 38.771410008094705 L 21.457286432160803 38.771569624145485 L 21.608040201005025 38.77172924019627 L 21.758793969849243 38.77188885624706 L 21.909547738693465 38.77204847229784 L 22.060301507537687 38.77220808834863 L 22.21105527638191 38.772367704399414 L 22.36180904522613 38.772527320450195 L 22.51256281407035 38.77268693650098 L 22.66331658291457 38.77284655255177 L 22.814070351758794 38.77300616860255 L 22.964824120603012 38.77316578465334 L 23.115577889447234 38.773325400704124 L 23.266331658291456 38.773485016754904 L 23.417085427135678 38.77364463280569 L 23.5678391959799 38.77380424885648 L 23.71859296482412 38.77396386490726 L 23.86934673366834 38.774123480958046 L 24.020100502512562 38.77428309700883 L 24.17085427135678 38.774442713059614 L 24.321608040201003 38.7746023291104 L 24.472361809045225 38.77476194516118 L 24.623115577889447 38.77492156121197 L 24.77386934673367 38.775081177262756 L 24.924623115577887 38.775240793313536 L 25.07537688442211 38.77540040936432 L 25.22613065326633 38.77556002541511 L 25.37688442211055 38.77571964146589 L 25.52763819095477 38.77587925751668 L 25.678391959798994 38.776038873567465 L 25.829145728643216 38.776198489618245 L 25.979899497487438 38.77635810566903 L 26.130653266331656 38.77651772171982 L 26.281407035175878 38.7766773377706 L 26.4321608040201 38.77683695382139 L 26.58291457286432 38.776996569872175 L 26.73366834170854 38.777156185922955 L 26.884422110552762 38.77731580197374 L 27.035175879396984 38.77747541802453 L 27.185929648241206 38.77763503407531 L 27.336683417085425 38.7777946501261 L 27.487437185929647 38.777954266176884 L 27.63819095477387 38.778113882227665 L 27.788944723618087 38.77827349827845 L 27.93969849246231 38.77843311432924 L 28.09045226130653 38.77859273038002 L 28.241206030150753 38.77875234643081 L 28.391959798994975 38.778911962481594 L 28.542713567839193 38.779071578532374 L 28.693467336683415 38.77923119458316 L 28.844221105527637 38.77939081063395 L 28.994974874371856 38.77955042668473 L 29.145728643216078 38.779710042735516 L 29.2964824120603 38.7798696587863 L 29.44723618090452 38.780029274837084 L 29.597989949748744 38.78018889088787 L 29.748743718592962 38.78034850693866 L 29.899497487437184 38.78050812298944 L 30.050251256281406 38.780667739040226 L 30.201005025125625 38.780827355091006 L 30.351758793969847 38.78098697114179 L 30.50251256281407 38.78114658719258 L 30.65326633165829 38.78130620324336 L 30.804020100502512 38.78146581929415 L 30.95477386934673 38.781625435344935 L 31.105527638190953 38.781785051395715 L 31.256281407035175 38.7819446674465 L 31.407035175879393 38.78210428349729 L 31.557788944723615 38.78226389954807 L 31.708542713567837 38.78242351559886 L 31.85929648241206 38.782583131649645 L 32.01005025125628 38.782742747700425 L 32.1608040201005 38.78290236375121 L 32.311557788944725 38.783061979802 L 32.462311557788944 38.78322159585278 L 32.61306532663316 38.78338121190357 L 32.76381909547739 38.783540827954354 L 32.914572864321606 38.783700444005135 L 33.065326633165824 38.78386006005592 L 33.21608040201005 38.78401967610671 L 33.36683417085427 38.78417929215749 L 33.51758793969849 38.78433890820828 L 33.66834170854271 38.784498524259064 L 33.81909547738693 38.784658140309844 L 33.96984924623115 38.78481775636063 L 34.120603015075375 38.78497737241142 L 34.2713567839196 38.7851369884622 L 34.42211055276382 38.785296604512986 L 34.57286432160804 38.78545622056377 L 34.72361809045226 38.785615836614554 L 34.87437185929648 38.78577545266534 L 35.0251256281407 38.78593506871613 L 35.175879396984925 38.78609468476691 L 35.32663316582914 38.786254300817696 L 35.47738693467336 38.78641391686848 L 35.62814070351759 38.78657353291926 L 35.778894472361806 38.78673314897005 L 35.929648241206024 38.78689276502083 L 36.08040201005025 38.78705238107162 L 36.23115577889447 38.787211997122405 L 36.38190954773869 38.787371613173185 L 36.53266331658291 38.78753122922397 L 36.68341708542714 38.78769084527476 L 36.834170854271356 38.78785046132554 L 36.984924623115575 38.78801007737633 L 37.1356783919598 38.788169693427115 L 37.28643216080402 38.788329309477895 L 37.43718592964824 38.78848892552868 L 37.58793969849246 38.78864854157947 L 37.73869346733668 38.78880815763025 L 37.8894472361809 38.78896777368104 L 38.040201005025125 38.789127389731824 L 38.19095477386934 38.789287005782604 L 38.34170854271356 38.78944662183339 L 38.49246231155779 38.78960623788418 L 38.643216080402006 38.78976585393496 L 38.793969849246224 38.78992546998575 L 38.94472361809045 38.790085086036534 L 39.095477386934675 38.790244702087314 L 39.246231155778894 38.7904043181381 L 39.39698492462311 38.79056393418889 L 39.54773869346734 38.79072355023967 L 39.698492462311556 38.790883166290456 L 39.849246231155774 38.79104278234124 L 40.0 38.791202398392024\",\"type\":\"path\"}],\"template\":{\"data\":{\"bar\":[{\"error_x\":{\"color\":\"#2a3f5f\"},\"error_y\":{\"color\":\"#2a3f5f\"},\"marker\":{\"line\":{\"color\":\"white\",\"width\":0.5},\"pattern\":{\"fillmode\":\"overlay\",\"size\":10,\"solidity\":0.2}},\"type\":\"bar\"}],\"barpolar\":[{\"marker\":{\"line\":{\"color\":\"white\",\"width\":0.5},\"pattern\":{\"fillmode\":\"overlay\",\"size\":10,\"solidity\":0.2}},\"type\":\"barpolar\"}],\"box\":[{\"boxpoints\":\"outliers\",\"notched\":false,\"type\":\"box\"}],\"carpet\":[{\"aaxis\":{\"endlinecolor\":\"#2a3f5f\",\"gridcolor\":\"#C8D4E3\",\"linecolor\":\"#C8D4E3\",\"minorgridcolor\":\"#C8D4E3\",\"startlinecolor\":\"#2a3f5f\"},\"baxis\":{\"endlinecolor\":\"#2a3f5f\",\"gridcolor\":\"#C8D4E3\",\"linecolor\":\"#C8D4E3\",\"minorgridcolor\":\"#C8D4E3\",\"startlinecolor\":\"#2a3f5f\"},\"type\":\"carpet\"}],\"choropleth\":[{\"colorbar\":{\"outlinewidth\":0,\"ticks\":\"\"},\"type\":\"choropleth\"}],\"contour\":[{\"colorbar\":{\"outlinewidth\":0,\"ticks\":\"\"},\"colorscale\":[[0.0,\"#0d0887\"],[0.1111111111111111,\"#46039f\"],[0.2222222222222222,\"#7201a8\"],[0.3333333333333333,\"#9c179e\"],[0.4444444444444444,\"#bd3786\"],[0.5555555555555556,\"#d8576b\"],[0.6666666666666666,\"#ed7953\"],[0.7777777777777778,\"#fb9f3a\"],[0.8888888888888888,\"#fdca26\"],[1.0,\"#f0f921\"]],\"type\":\"contour\"}],\"contourcarpet\":[{\"colorbar\":{\"outlinewidth\":0,\"ticks\":\"\"},\"type\":\"contourcarpet\"}],\"heatmap\":[{\"colorbar\":{\"outlinewidth\":0,\"ticks\":\"\"},\"colorscale\":[[0.0,\"#0d0887\"],[0.1111111111111111,\"#46039f\"],[0.2222222222222222,\"#7201a8\"],[0.3333333333333333,\"#9c179e\"],[0.4444444444444444,\"#bd3786\"],[0.5555555555555556,\"#d8576b\"],[0.6666666666666666,\"#ed7953\"],[0.7777777777777778,\"#fb9f3a\"],[0.8888888888888888,\"#fdca26\"],[1.0,\"#f0f921\"]],\"type\":\"heatmap\"}],\"heatmapgl\":[{\"colorbar\":{\"outlinewidth\":0,\"ticks\":\"\"},\"colorscale\":[[0.0,\"#0d0887\"],[0.1111111111111111,\"#46039f\"],[0.2222222222222222,\"#7201a8\"],[0.3333333333333333,\"#9c179e\"],[0.4444444444444444,\"#bd3786\"],[0.5555555555555556,\"#d8576b\"],[0.6666666666666666,\"#ed7953\"],[0.7777777777777778,\"#fb9f3a\"],[0.8888888888888888,\"#fdca26\"],[1.0,\"#f0f921\"]],\"type\":\"heatmapgl\"}],\"histogram\":[{\"marker\":{\"line\":{\"width\":1},\"pattern\":{\"fillmode\":\"overlay\",\"size\":10,\"solidity\":0.2}},\"type\":\"histogram\"}],\"histogram2d\":[{\"colorbar\":{\"outlinewidth\":0,\"ticks\":\"\"},\"colorscale\":[[0.0,\"#0d0887\"],[0.1111111111111111,\"#46039f\"],[0.2222222222222222,\"#7201a8\"],[0.3333333333333333,\"#9c179e\"],[0.4444444444444444,\"#bd3786\"],[0.5555555555555556,\"#d8576b\"],[0.6666666666666666,\"#ed7953\"],[0.7777777777777778,\"#fb9f3a\"],[0.8888888888888888,\"#fdca26\"],[1.0,\"#f0f921\"]],\"type\":\"histogram2d\"}],\"histogram2dcontour\":[{\"colorbar\":{\"outlinewidth\":0,\"ticks\":\"\"},\"colorscale\":[[0.0,\"#0d0887\"],[0.1111111111111111,\"#46039f\"],[0.2222222222222222,\"#7201a8\"],[0.3333333333333333,\"#9c179e\"],[0.4444444444444444,\"#bd3786\"],[0.5555555555555556,\"#d8576b\"],[0.6666666666666666,\"#ed7953\"],[0.7777777777777778,\"#fb9f3a\"],[0.8888888888888888,\"#fdca26\"],[1.0,\"#f0f921\"]],\"type\":\"histogram2dcontour\"}],\"mesh3d\":[{\"colorbar\":{\"outlinewidth\":0,\"ticks\":\"\"},\"type\":\"mesh3d\"}],\"parcoords\":[{\"line\":{\"colorbar\":{\"outlinewidth\":0,\"ticks\":\"\"}},\"type\":\"parcoords\"}],\"pie\":[{\"automargin\":true,\"type\":\"pie\"}],\"scatter\":[{\"marker\":{\"colorbar\":{\"outlinewidth\":0,\"ticks\":\"\"},\"opacity\":0.8},\"type\":\"scatter\"}],\"scatter3d\":[{\"line\":{\"colorbar\":{\"outlinewidth\":0,\"ticks\":\"\"}},\"marker\":{\"colorbar\":{\"outlinewidth\":0,\"ticks\":\"\"},\"opacity\":0.8},\"type\":\"scatter3d\"}],\"scattercarpet\":[{\"marker\":{\"colorbar\":{\"outlinewidth\":0,\"ticks\":\"\"}},\"type\":\"scattercarpet\"}],\"scattergeo\":[{\"marker\":{\"colorbar\":{\"outlinewidth\":0,\"ticks\":\"\"}},\"type\":\"scattergeo\"}],\"scattergl\":[{\"marker\":{\"colorbar\":{\"outlinewidth\":0,\"ticks\":\"\"}},\"type\":\"scattergl\"}],\"scattermapbox\":[{\"marker\":{\"colorbar\":{\"outlinewidth\":0,\"ticks\":\"\"}},\"type\":\"scattermapbox\"}],\"scatterpolar\":[{\"marker\":{\"colorbar\":{\"outlinewidth\":0,\"ticks\":\"\"}},\"type\":\"scatterpolar\"}],\"scatterpolargl\":[{\"marker\":{\"colorbar\":{\"outlinewidth\":0,\"ticks\":\"\"}},\"type\":\"scatterpolargl\"}],\"scatterternary\":[{\"marker\":{\"colorbar\":{\"outlinewidth\":0,\"ticks\":\"\"}},\"type\":\"scatterternary\"}],\"surface\":[{\"colorbar\":{\"outlinewidth\":0,\"ticks\":\"\"},\"colorscale\":[[0.0,\"#0d0887\"],[0.1111111111111111,\"#46039f\"],[0.2222222222222222,\"#7201a8\"],[0.3333333333333333,\"#9c179e\"],[0.4444444444444444,\"#bd3786\"],[0.5555555555555556,\"#d8576b\"],[0.6666666666666666,\"#ed7953\"],[0.7777777777777778,\"#fb9f3a\"],[0.8888888888888888,\"#fdca26\"],[1.0,\"#f0f921\"]],\"type\":\"surface\"}],\"table\":[{\"cells\":{\"fill\":{\"color\":\"#EBF0F8\"},\"line\":{\"color\":\"white\"}},\"header\":{\"fill\":{\"color\":\"#C8D4E3\"},\"line\":{\"color\":\"white\"}},\"type\":\"table\"}]},\"layout\":{\"annotationdefaults\":{\"arrowcolor\":\"#2a3f5f\",\"arrowhead\":0,\"arrowwidth\":1},\"autotypenumbers\":\"strict\",\"coloraxis\":{\"colorbar\":{\"outlinewidth\":0,\"ticks\":\"\"}},\"colorscale\":{\"diverging\":[[0,\"#8e0152\"],[0.1,\"#c51b7d\"],[0.2,\"#de77ae\"],[0.3,\"#f1b6da\"],[0.4,\"#fde0ef\"],[0.5,\"#f7f7f7\"],[0.6,\"#e6f5d0\"],[0.7,\"#b8e186\"],[0.8,\"#7fbc41\"],[0.9,\"#4d9221\"],[1,\"#276419\"]],\"sequential\":[[0.0,\"#0d0887\"],[0.1111111111111111,\"#46039f\"],[0.2222222222222222,\"#7201a8\"],[0.3333333333333333,\"#9c179e\"],[0.4444444444444444,\"#bd3786\"],[0.5555555555555556,\"#d8576b\"],[0.6666666666666666,\"#ed7953\"],[0.7777777777777778,\"#fb9f3a\"],[0.8888888888888888,\"#fdca26\"],[1.0,\"#f0f921\"]],\"sequentialminus\":[[0.0,\"#0d0887\"],[0.1111111111111111,\"#46039f\"],[0.2222222222222222,\"#7201a8\"],[0.3333333333333333,\"#9c179e\"],[0.4444444444444444,\"#bd3786\"],[0.5555555555555556,\"#d8576b\"],[0.6666666666666666,\"#ed7953\"],[0.7777777777777778,\"#fb9f3a\"],[0.8888888888888888,\"#fdca26\"],[1.0,\"#f0f921\"]]},\"colorway\":[\"#636efa\",\"#EF553B\",\"#00cc96\",\"#ab63fa\",\"#FFA15A\",\"#19d3f3\",\"#FF6692\",\"#B6E880\",\"#FF97FF\",\"#FECB52\"],\"font\":{\"color\":\"#2a3f5f\"},\"geo\":{\"bgcolor\":\"white\",\"lakecolor\":\"white\",\"landcolor\":\"white\",\"showlakes\":true,\"showland\":true,\"subunitcolor\":\"#C8D4E3\"},\"height\":400,\"hoverlabel\":{\"align\":\"left\"},\"hovermode\":\"closest\",\"mapbox\":{\"style\":\"light\"},\"margin\":{\"b\":2,\"l\":2,\"r\":2,\"t\":30},\"paper_bgcolor\":\"white\",\"plot_bgcolor\":\"white\",\"polar\":{\"angularaxis\":{\"gridcolor\":\"#EBF0F8\",\"linecolor\":\"#EBF0F8\",\"ticks\":\"\"},\"bgcolor\":\"white\",\"radialaxis\":{\"gridcolor\":\"#EBF0F8\",\"linecolor\":\"#EBF0F8\",\"ticks\":\"\"}},\"scene\":{\"camera\":{\"eye\":{\"x\":1.5,\"y\":1.5,\"z\":0.1}},\"xaxis\":{\"backgroundcolor\":\"white\",\"gridcolor\":\"#DFE8F3\",\"gridwidth\":2,\"linecolor\":\"#EBF0F8\",\"showbackground\":true,\"ticks\":\"\",\"zerolinecolor\":\"#EBF0F8\"},\"yaxis\":{\"backgroundcolor\":\"white\",\"gridcolor\":\"#DFE8F3\",\"gridwidth\":2,\"linecolor\":\"#EBF0F8\",\"showbackground\":true,\"ticks\":\"\",\"zerolinecolor\":\"#EBF0F8\"},\"zaxis\":{\"backgroundcolor\":\"white\",\"gridcolor\":\"#DFE8F3\",\"gridwidth\":2,\"linecolor\":\"#EBF0F8\",\"showbackground\":true,\"ticks\":\"\",\"zerolinecolor\":\"#EBF0F8\"}},\"shapedefaults\":{\"line\":{\"color\":\"#2a3f5f\"}},\"ternary\":{\"aaxis\":{\"gridcolor\":\"#DFE8F3\",\"linecolor\":\"#A2B1C6\",\"ticks\":\"\"},\"baxis\":{\"gridcolor\":\"#DFE8F3\",\"linecolor\":\"#A2B1C6\",\"ticks\":\"\"},\"bgcolor\":\"white\",\"caxis\":{\"gridcolor\":\"#DFE8F3\",\"linecolor\":\"#A2B1C6\",\"ticks\":\"\"}},\"title\":{\"x\":0.5},\"xaxis\":{\"automargin\":true,\"gridcolor\":\"#EBF0F8\",\"linecolor\":\"#EBF0F8\",\"linewidth\":2,\"showline\":true,\"ticks\":\"\",\"title\":{\"standoff\":15},\"zerolinecolor\":\"#EBF0F8\",\"zerolinewidth\":2},\"yaxis\":{\"automargin\":true,\"gridcolor\":\"#EBF0F8\",\"linecolor\":\"#EBF0F8\",\"linewidth\":2,\"showline\":true,\"ticks\":\"\",\"title\":{\"standoff\":15},\"zerolinecolor\":\"#EBF0F8\",\"zerolinewidth\":2}}},\"title\":{\"text\":\"body_fat_percentage\"},\"xaxis\":{\"anchor\":\"y\",\"domain\":[0.0,1.0],\"title\":{\"text\":\"body fat percentage\"}},\"yaxis\":{\"anchor\":\"x\",\"domain\":[0.0,1.0],\"title\":{\"text\":\"core temperature\"}}},                        {\"responsive\": true}                    ).then(function(){\n",
       "                            \n",
       "var gd = document.getElementById('ea6a7388-8401-4595-862f-560cd8620a93');\n",
       "var x = new MutationObserver(function (mutations, observer) {{\n",
       "        var display = window.getComputedStyle(gd).display;\n",
       "        if (!display || display === 'none') {{\n",
       "            console.log([gd, 'removed!']);\n",
       "            Plotly.purge(gd);\n",
       "            observer.disconnect();\n",
       "        }}\n",
       "}});\n",
       "\n",
       "// Listen for the removal of the full notebook cells\n",
       "var notebookContainer = gd.closest('#notebook-container');\n",
       "if (notebookContainer) {{\n",
       "    x.observe(notebookContainer, {childList: true});\n",
       "}}\n",
       "\n",
       "// Listen for the clearing of the current output cell\n",
       "var outputEl = gd.closest('.output');\n",
       "if (outputEl) {{\n",
       "    x.observe(outputEl, {childList: true});\n",
       "}}\n",
       "\n",
       "                        })                };                });            </script>        </div>"
      ]
     },
     "metadata": {},
     "output_type": "display_data"
    }
   ],
   "source": [
    "import statsmodels.formula.api as smf\n",
    "import graphing # custom graphing code. See our GitHub repo for details\n",
    "\n",
    "for feature in [\"male\", \"age\", \"protein_content_of_last_meal\", \"body_fat_percentage\"]:\n",
    "    # Perform linear regression. This method takes care of\n",
    "    # the entire fitting procedure for us.\n",
    "    formula = \"core_temperature ~ \" + feature\n",
    "    simple_model = smf.ols(formula = formula, data = dataset).fit()\n",
    "\n",
    "    print(feature)\n",
    "    print(\"R-squared:\", simple_model.rsquared)\n",
    "    \n",
    "    # Show a graph of the result\n",
    "    graphing.scatter_2D(dataset, label_x=feature, \n",
    "                                 label_y=\"core_temperature\",\n",
    "                                 title = feature,\n",
    "                                 trendline=lambda x: simple_model.params[1] * x + simple_model.params[0],\n",
    "                                 show=True)"
   ]
  },
  {
   "cell_type": "markdown",
   "id": "b3563c3f",
   "metadata": {},
   "source": [
    "Scrolling through these graphs, we get R-square values of 0.0002 (`body_fat_percentage`), 0.1 (`male`), and 0.26 (`age`).\n",
    "\n",
    "While `protein_content_of_last_meal` looks very promising too, the relationship looks curved, not linear. We'll leave this feature for now and come back to it in the next exercise."
   ]
  },
  {
   "cell_type": "markdown",
   "id": "0d52e930",
   "metadata": {},
   "source": [
    "## R-Squared\n",
    "\n",
    "We've shown the R-Squared value for these models and used it as a measure of 'correctness' for our regression, but what is it?\n",
    "\n",
    "Intuitively, we can think of R-Squared as ratio for how much better our regression line is than a naive regression that just goes straight through the mean of all examples. \n",
    "Roughly, the R-Squared is calculated by taking the loss/error of the trained model, and dividing by the loss/error of the naive model. That gives a range where `0` is better and `1` is worse, so the whole thing is subtracted from `1` to flip those results.\n",
    "\n",
    "Below, we once again show the scatter plot with `age` and `core_temperature`, but this time, we show two regression lines. The first is the naive line that just goes straight through the mean. This has an R-Squared of `0` (since it's no better than itself). An R-Squared of `1` would be a line that fit each training example perfectly. The second plot shows our trained regression line and we once again see its R-Squared."
   ]
  },
  {
   "cell_type": "code",
   "execution_count": 61,
   "id": "9cc994fb",
   "metadata": {},
   "outputs": [
    {
     "name": "stdout",
     "output_type": "stream",
     "text": [
      "naive R-squared: 0.0\n",
      "trained R-squared: 0.2648116081342464\n"
     ]
    },
    {
     "data": {
      "application/vnd.plotly.v1+json": {
       "config": {
        "plotlyServerURL": "https://plot.ly"
       },
       "data": [
        {
         "hovertemplate": "age=%{x}<br>core temperature=%{y}<extra></extra>",
         "legendgroup": "",
         "marker": {
          "color": "#636efa",
          "size": 17,
          "symbol": "circle"
         },
         "mode": "markers",
         "name": "",
         "orientation": "v",
         "showlegend": false,
         "type": "scatter",
         "x": [
          6.9,
          5.4,
          5.4,
          4.8,
          4.8,
          7.8,
          2.7,
          5.7,
          1.5,
          1.8,
          4.2,
          4.5,
          1.5,
          5.1,
          4.8,
          5.1,
          3.6,
          4.2,
          2.7,
          8.7,
          0.9,
          6.3,
          1.2,
          2.7,
          6,
          6,
          0.6,
          3.9,
          6,
          5.7,
          6.9,
          5.1,
          2.1,
          3.6,
          6.3,
          2.4,
          8.4,
          7.5,
          5.7,
          5.7,
          2.7,
          4.2,
          6.9,
          3,
          1.8,
          2.4,
          6.3,
          0.6,
          1.8,
          4.8,
          8.4,
          8.1,
          6.3,
          8.7,
          4.5,
          4.5,
          7.5,
          1.2,
          5.7,
          0.6,
          6.9,
          8.1,
          0.6,
          1.2,
          6.6,
          8.1,
          2.7,
          3.9,
          4.2,
          6.9,
          1.2,
          3.9,
          3.6,
          0.3,
          3,
          8.7,
          2.1,
          6.6,
          1.5,
          5.1,
          6,
          2.1,
          6,
          4.2,
          1.5,
          1.8,
          1.8,
          6.9,
          6.9,
          4.5,
          1.8,
          8.4,
          3,
          4.5,
          1.8,
          6.6,
          6.9,
          6
         ],
         "xaxis": "x",
         "y": [
          38.42316895,
          39.01599822,
          39.14834088,
          39.06004863,
          38.65543905,
          38.6092188,
          39.47390806,
          38.81521612,
          37.77845286,
          39.17685034,
          39.52090819,
          38.57896943,
          38.28013391,
          38.40158039,
          38.65157641,
          39.61720308,
          37.72843549,
          39.36694049,
          37.98848685,
          39.93405104,
          37.60559023,
          38.83468198,
          37.39892664,
          38.98633063,
          39.72456882,
          38.09695504,
          37.59597881,
          39.49731323,
          38.50187636,
          38.27036031,
          38.69964224,
          39.08411118,
          38.29400364,
          38.39872285,
          39.29951536,
          38.37598649,
          38.46968433,
          39.58561173,
          38.12682317,
          39.80156649,
          37.92682179,
          39.67264697,
          38.21409556,
          38.93217418,
          37.80121676,
          37.52097889,
          39.34942824,
          38.9163822,
          38.72595498,
          38.35421436,
          40.17337876,
          39.48214424,
          39.9557292,
          39.02529641,
          39.70565695,
          37.87210056,
          38.92730588,
          38.75694066,
          38.98157028,
          39.07020183,
          39.31023381,
          40.26487847,
          39.19531025,
          37.46606804,
          38.61929591,
          39.74308443,
          37.9590829,
          38.52387016,
          39.58821189,
          39.48780846,
          37.32113362,
          38.30311301,
          39.32598796,
          38.18373964,
          37.78518905,
          38.97361387,
          37.97719515,
          38.92654301,
          37.98922316,
          39.87010492,
          38.51344083,
          39.14710639,
          38.61129304,
          38.95232638,
          37.46812464,
          38.24131363,
          38.7661591,
          39.87233432,
          38.87492299,
          39.09337261,
          39.00124171,
          39.25963687,
          38.6808734,
          37.93994229,
          38.79042609,
          39.48996228,
          38.57574159,
          39.76644658
         ],
         "yaxis": "y"
        }
       ],
       "layout": {
        "legend": {
         "tracegroupgap": 0
        },
        "shapes": [
         {
          "line": {
           "color": "rgb(228,26,28)"
          },
          "path": "M0.3 38.776487427244916 L 0.3422110552763819 38.776487427244916 L 0.38442211055276376 38.776487427244916 L 0.4266331658291457 38.776487427244916 L 0.4688442211055276 38.776487427244916 L 0.5110552763819095 38.776487427244916 L 0.5532663316582913 38.776487427244916 L 0.5954773869346732 38.776487427244916 L 0.6376884422110551 38.776487427244916 L 0.679899497487437 38.776487427244916 L 0.722110552763819 38.776487427244916 L 0.7643216080402009 38.776487427244916 L 0.8065326633165828 38.776487427244916 L 0.8487437185929647 38.776487427244916 L 0.8909547738693466 38.776487427244916 L 0.9331658291457285 38.776487427244916 L 0.9753768844221105 38.776487427244916 L 1.0175879396984924 38.776487427244916 L 1.0597989949748743 38.776487427244916 L 1.1020100502512562 38.776487427244916 L 1.1442211055276381 38.776487427244916 L 1.1864321608040198 38.776487427244916 L 1.2286432160804017 38.776487427244916 L 1.2708542713567836 38.776487427244916 L 1.3130653266331656 38.776487427244916 L 1.3552763819095475 38.776487427244916 L 1.3974874371859294 38.776487427244916 L 1.4396984924623113 38.776487427244916 L 1.4819095477386932 38.776487427244916 L 1.5241206030150751 38.776487427244916 L 1.566331658291457 38.776487427244916 L 1.608542713567839 38.776487427244916 L 1.6507537688442209 38.776487427244916 L 1.6929648241206028 38.776487427244916 L 1.7351758793969847 38.776487427244916 L 1.7773869346733666 38.776487427244916 L 1.8195979899497485 38.776487427244916 L 1.8618090452261304 38.776487427244916 L 1.9040201005025124 38.776487427244916 L 1.9462311557788943 38.776487427244916 L 1.9884422110552762 38.776487427244916 L 2.0306532663316577 38.776487427244916 L 2.07286432160804 38.776487427244916 L 2.1150753768844215 38.776487427244916 L 2.1572864321608036 38.776487427244916 L 2.1994974874371853 38.776487427244916 L 2.2417085427135675 38.776487427244916 L 2.283919597989949 38.776487427244916 L 2.326130653266331 38.776487427244916 L 2.368341708542713 38.776487427244916 L 2.4105527638190947 38.776487427244916 L 2.452763819095477 38.776487427244916 L 2.4949748743718585 38.776487427244916 L 2.5371859296482406 38.776487427244916 L 2.5793969849246223 38.776487427244916 L 2.6216080402010045 38.776487427244916 L 2.663819095477386 38.776487427244916 L 2.7060301507537683 38.776487427244916 L 2.74824120603015 38.776487427244916 L 2.790452261306532 38.776487427244916 L 2.832663316582914 38.776487427244916 L 2.874874371859296 38.776487427244916 L 2.9170854271356776 38.776487427244916 L 2.95929648241206 38.776487427244916 L 3.0015075376884415 38.776487427244916 L 3.043718592964823 38.776487427244916 L 3.0859296482412053 38.776487427244916 L 3.128140703517587 38.776487427244916 L 3.170351758793969 38.776487427244916 L 3.212562814070351 38.776487427244916 L 3.254773869346733 38.776487427244916 L 3.2969849246231147 38.776487427244916 L 3.339195979899497 38.776487427244916 L 3.3814070351758785 38.776487427244916 L 3.4236180904522606 38.776487427244916 L 3.4658291457286423 38.776487427244916 L 3.5080402010050244 38.776487427244916 L 3.550251256281406 38.776487427244916 L 3.5924623115577883 38.776487427244916 L 3.63467336683417 38.776487427244916 L 3.676884422110552 38.776487427244916 L 3.719095477386934 38.776487427244916 L 3.7613065326633155 38.776487427244916 L 3.8035175879396976 38.776487427244916 L 3.8457286432160793 38.776487427244916 L 3.8879396984924615 38.776487427244916 L 3.930150753768843 38.776487427244916 L 3.9723618090452253 38.776487427244916 L 4.014572864321607 38.776487427244916 L 4.056783919597989 38.776487427244916 L 4.098994974874371 38.776487427244916 L 4.141206030150753 38.776487427244916 L 4.183417085427135 38.776487427244916 L 4.225628140703517 38.776487427244916 L 4.2678391959798985 38.776487427244916 L 4.31005025125628 38.776487427244916 L 4.352261306532662 38.776487427244916 L 4.394472361809044 38.776487427244916 L 4.436683417085426 38.776487427244916 L 4.478894472361808 38.776487427244916 L 4.5211055276381895 38.776487427244916 L 4.563316582914572 38.776487427244916 L 4.605527638190954 38.776487427244916 L 4.6477386934673355 38.776487427244916 L 4.689949748743717 38.776487427244916 L 4.7321608040201 38.776487427244916 L 4.7743718592964814 38.776487427244916 L 4.816582914572863 38.776487427244916 L 4.858793969849245 38.776487427244916 L 4.901005025125627 38.776487427244916 L 4.943216080402009 38.776487427244916 L 4.985427135678391 38.776487427244916 L 5.0276381909547725 38.776487427244916 L 5.069849246231154 38.776487427244916 L 5.112060301507537 38.776487427244916 L 5.1542713567839185 38.776487427244916 L 5.1964824120603 38.776487427244916 L 5.238693467336682 38.776487427244916 L 5.280904522613064 38.776487427244916 L 5.323115577889446 38.776487427244916 L 5.365326633165828 38.776487427244916 L 5.4075376884422095 38.776487427244916 L 5.449748743718592 38.776487427244916 L 5.491959798994974 38.776487427244916 L 5.5341708542713555 38.776487427244916 L 5.576381909547737 38.776487427244916 L 5.61859296482412 38.776487427244916 L 5.660804020100501 38.776487427244916 L 5.703015075376883 38.776487427244916 L 5.745226130653265 38.776487427244916 L 5.7874371859296465 38.776487427244916 L 5.829648241206029 38.776487427244916 L 5.871859296482411 38.776487427244916 L 5.9140703517587925 38.776487427244916 L 5.956281407035174 38.776487427244916 L 5.998492462311557 38.776487427244916 L 6.040703517587938 38.776487427244916 L 6.08291457286432 38.776487427244916 L 6.125125628140702 38.776487427244916 L 6.167336683417084 38.776487427244916 L 6.209547738693466 38.776487427244916 L 6.251758793969848 38.776487427244916 L 6.2939698492462295 38.776487427244916 L 6.336180904522612 38.776487427244916 L 6.378391959798994 38.776487427244916 L 6.4206030150753755 38.776487427244916 L 6.462814070351757 38.776487427244916 L 6.505025125628139 38.776487427244916 L 6.547236180904521 38.776487427244916 L 6.589447236180903 38.776487427244916 L 6.631658291457285 38.776487427244916 L 6.6738693467336665 38.776487427244916 L 6.716080402010049 38.776487427244916 L 6.758291457286431 38.776487427244916 L 6.8005025125628125 38.776487427244916 L 6.842713567839194 38.776487427244916 L 6.884924623115577 38.776487427244916 L 6.927135678391958 38.776487427244916 L 6.96934673366834 38.776487427244916 L 7.011557788944722 38.776487427244916 L 7.053768844221104 38.776487427244916 L 7.095979899497486 38.776487427244916 L 7.138190954773868 38.776487427244916 L 7.1804020100502495 38.776487427244916 L 7.222613065326631 38.776487427244916 L 7.264824120603014 38.776487427244916 L 7.307035175879395 38.776487427244916 L 7.349246231155777 38.776487427244916 L 7.391457286432159 38.776487427244916 L 7.433668341708541 38.776487427244916 L 7.475879396984923 38.776487427244916 L 7.518090452261305 38.776487427244916 L 7.5603015075376865 38.776487427244916 L 7.602512562814069 38.776487427244916 L 7.644723618090451 38.776487427244916 L 7.6869346733668324 38.776487427244916 L 7.729145728643214 38.776487427244916 L 7.771356783919596 38.776487427244916 L 7.813567839195978 38.776487427244916 L 7.85577889447236 38.776487427244916 L 7.897989949748742 38.776487427244916 L 7.9402010050251235 38.776487427244916 L 7.982412060301506 38.776487427244916 L 8.024623115577889 38.776487427244916 L 8.06683417085427 38.776487427244916 L 8.109045226130652 38.776487427244916 L 8.151256281407035 38.776487427244916 L 8.193467336683415 38.776487427244916 L 8.235678391959798 38.776487427244916 L 8.277889447236179 38.776487427244916 L 8.320100502512561 38.776487427244916 L 8.362311557788944 38.776487427244916 L 8.404522613065325 38.776487427244916 L 8.446733668341707 38.776487427244916 L 8.48894472361809 38.776487427244916 L 8.53115577889447 38.776487427244916 L 8.573366834170853 38.776487427244916 L 8.615577889447236 38.776487427244916 L 8.657788944723617 38.776487427244916 L 8.7 38.776487427244916",
          "type": "path"
         }
        ],
        "template": {
         "data": {
          "bar": [
           {
            "error_x": {
             "color": "#2a3f5f"
            },
            "error_y": {
             "color": "#2a3f5f"
            },
            "marker": {
             "line": {
              "color": "white",
              "width": 0.5
             },
             "pattern": {
              "fillmode": "overlay",
              "size": 10,
              "solidity": 0.2
             }
            },
            "type": "bar"
           }
          ],
          "barpolar": [
           {
            "marker": {
             "line": {
              "color": "white",
              "width": 0.5
             },
             "pattern": {
              "fillmode": "overlay",
              "size": 10,
              "solidity": 0.2
             }
            },
            "type": "barpolar"
           }
          ],
          "box": [
           {
            "boxpoints": "outliers",
            "notched": false,
            "type": "box"
           }
          ],
          "carpet": [
           {
            "aaxis": {
             "endlinecolor": "#2a3f5f",
             "gridcolor": "#C8D4E3",
             "linecolor": "#C8D4E3",
             "minorgridcolor": "#C8D4E3",
             "startlinecolor": "#2a3f5f"
            },
            "baxis": {
             "endlinecolor": "#2a3f5f",
             "gridcolor": "#C8D4E3",
             "linecolor": "#C8D4E3",
             "minorgridcolor": "#C8D4E3",
             "startlinecolor": "#2a3f5f"
            },
            "type": "carpet"
           }
          ],
          "choropleth": [
           {
            "colorbar": {
             "outlinewidth": 0,
             "ticks": ""
            },
            "type": "choropleth"
           }
          ],
          "contour": [
           {
            "colorbar": {
             "outlinewidth": 0,
             "ticks": ""
            },
            "colorscale": [
             [
              0,
              "#0d0887"
             ],
             [
              0.1111111111111111,
              "#46039f"
             ],
             [
              0.2222222222222222,
              "#7201a8"
             ],
             [
              0.3333333333333333,
              "#9c179e"
             ],
             [
              0.4444444444444444,
              "#bd3786"
             ],
             [
              0.5555555555555556,
              "#d8576b"
             ],
             [
              0.6666666666666666,
              "#ed7953"
             ],
             [
              0.7777777777777778,
              "#fb9f3a"
             ],
             [
              0.8888888888888888,
              "#fdca26"
             ],
             [
              1,
              "#f0f921"
             ]
            ],
            "type": "contour"
           }
          ],
          "contourcarpet": [
           {
            "colorbar": {
             "outlinewidth": 0,
             "ticks": ""
            },
            "type": "contourcarpet"
           }
          ],
          "heatmap": [
           {
            "colorbar": {
             "outlinewidth": 0,
             "ticks": ""
            },
            "colorscale": [
             [
              0,
              "#0d0887"
             ],
             [
              0.1111111111111111,
              "#46039f"
             ],
             [
              0.2222222222222222,
              "#7201a8"
             ],
             [
              0.3333333333333333,
              "#9c179e"
             ],
             [
              0.4444444444444444,
              "#bd3786"
             ],
             [
              0.5555555555555556,
              "#d8576b"
             ],
             [
              0.6666666666666666,
              "#ed7953"
             ],
             [
              0.7777777777777778,
              "#fb9f3a"
             ],
             [
              0.8888888888888888,
              "#fdca26"
             ],
             [
              1,
              "#f0f921"
             ]
            ],
            "type": "heatmap"
           }
          ],
          "heatmapgl": [
           {
            "colorbar": {
             "outlinewidth": 0,
             "ticks": ""
            },
            "colorscale": [
             [
              0,
              "#0d0887"
             ],
             [
              0.1111111111111111,
              "#46039f"
             ],
             [
              0.2222222222222222,
              "#7201a8"
             ],
             [
              0.3333333333333333,
              "#9c179e"
             ],
             [
              0.4444444444444444,
              "#bd3786"
             ],
             [
              0.5555555555555556,
              "#d8576b"
             ],
             [
              0.6666666666666666,
              "#ed7953"
             ],
             [
              0.7777777777777778,
              "#fb9f3a"
             ],
             [
              0.8888888888888888,
              "#fdca26"
             ],
             [
              1,
              "#f0f921"
             ]
            ],
            "type": "heatmapgl"
           }
          ],
          "histogram": [
           {
            "marker": {
             "line": {
              "width": 1
             },
             "pattern": {
              "fillmode": "overlay",
              "size": 10,
              "solidity": 0.2
             }
            },
            "type": "histogram"
           }
          ],
          "histogram2d": [
           {
            "colorbar": {
             "outlinewidth": 0,
             "ticks": ""
            },
            "colorscale": [
             [
              0,
              "#0d0887"
             ],
             [
              0.1111111111111111,
              "#46039f"
             ],
             [
              0.2222222222222222,
              "#7201a8"
             ],
             [
              0.3333333333333333,
              "#9c179e"
             ],
             [
              0.4444444444444444,
              "#bd3786"
             ],
             [
              0.5555555555555556,
              "#d8576b"
             ],
             [
              0.6666666666666666,
              "#ed7953"
             ],
             [
              0.7777777777777778,
              "#fb9f3a"
             ],
             [
              0.8888888888888888,
              "#fdca26"
             ],
             [
              1,
              "#f0f921"
             ]
            ],
            "type": "histogram2d"
           }
          ],
          "histogram2dcontour": [
           {
            "colorbar": {
             "outlinewidth": 0,
             "ticks": ""
            },
            "colorscale": [
             [
              0,
              "#0d0887"
             ],
             [
              0.1111111111111111,
              "#46039f"
             ],
             [
              0.2222222222222222,
              "#7201a8"
             ],
             [
              0.3333333333333333,
              "#9c179e"
             ],
             [
              0.4444444444444444,
              "#bd3786"
             ],
             [
              0.5555555555555556,
              "#d8576b"
             ],
             [
              0.6666666666666666,
              "#ed7953"
             ],
             [
              0.7777777777777778,
              "#fb9f3a"
             ],
             [
              0.8888888888888888,
              "#fdca26"
             ],
             [
              1,
              "#f0f921"
             ]
            ],
            "type": "histogram2dcontour"
           }
          ],
          "mesh3d": [
           {
            "colorbar": {
             "outlinewidth": 0,
             "ticks": ""
            },
            "type": "mesh3d"
           }
          ],
          "parcoords": [
           {
            "line": {
             "colorbar": {
              "outlinewidth": 0,
              "ticks": ""
             }
            },
            "type": "parcoords"
           }
          ],
          "pie": [
           {
            "automargin": true,
            "type": "pie"
           }
          ],
          "scatter": [
           {
            "marker": {
             "colorbar": {
              "outlinewidth": 0,
              "ticks": ""
             },
             "opacity": 0.8
            },
            "type": "scatter"
           }
          ],
          "scatter3d": [
           {
            "line": {
             "colorbar": {
              "outlinewidth": 0,
              "ticks": ""
             }
            },
            "marker": {
             "colorbar": {
              "outlinewidth": 0,
              "ticks": ""
             },
             "opacity": 0.8
            },
            "type": "scatter3d"
           }
          ],
          "scattercarpet": [
           {
            "marker": {
             "colorbar": {
              "outlinewidth": 0,
              "ticks": ""
             }
            },
            "type": "scattercarpet"
           }
          ],
          "scattergeo": [
           {
            "marker": {
             "colorbar": {
              "outlinewidth": 0,
              "ticks": ""
             }
            },
            "type": "scattergeo"
           }
          ],
          "scattergl": [
           {
            "marker": {
             "colorbar": {
              "outlinewidth": 0,
              "ticks": ""
             }
            },
            "type": "scattergl"
           }
          ],
          "scattermapbox": [
           {
            "marker": {
             "colorbar": {
              "outlinewidth": 0,
              "ticks": ""
             }
            },
            "type": "scattermapbox"
           }
          ],
          "scatterpolar": [
           {
            "marker": {
             "colorbar": {
              "outlinewidth": 0,
              "ticks": ""
             }
            },
            "type": "scatterpolar"
           }
          ],
          "scatterpolargl": [
           {
            "marker": {
             "colorbar": {
              "outlinewidth": 0,
              "ticks": ""
             }
            },
            "type": "scatterpolargl"
           }
          ],
          "scatterternary": [
           {
            "marker": {
             "colorbar": {
              "outlinewidth": 0,
              "ticks": ""
             }
            },
            "type": "scatterternary"
           }
          ],
          "surface": [
           {
            "colorbar": {
             "outlinewidth": 0,
             "ticks": ""
            },
            "colorscale": [
             [
              0,
              "#0d0887"
             ],
             [
              0.1111111111111111,
              "#46039f"
             ],
             [
              0.2222222222222222,
              "#7201a8"
             ],
             [
              0.3333333333333333,
              "#9c179e"
             ],
             [
              0.4444444444444444,
              "#bd3786"
             ],
             [
              0.5555555555555556,
              "#d8576b"
             ],
             [
              0.6666666666666666,
              "#ed7953"
             ],
             [
              0.7777777777777778,
              "#fb9f3a"
             ],
             [
              0.8888888888888888,
              "#fdca26"
             ],
             [
              1,
              "#f0f921"
             ]
            ],
            "type": "surface"
           }
          ],
          "table": [
           {
            "cells": {
             "fill": {
              "color": "#EBF0F8"
             },
             "line": {
              "color": "white"
             }
            },
            "header": {
             "fill": {
              "color": "#C8D4E3"
             },
             "line": {
              "color": "white"
             }
            },
            "type": "table"
           }
          ]
         },
         "layout": {
          "annotationdefaults": {
           "arrowcolor": "#2a3f5f",
           "arrowhead": 0,
           "arrowwidth": 1
          },
          "autotypenumbers": "strict",
          "coloraxis": {
           "colorbar": {
            "outlinewidth": 0,
            "ticks": ""
           }
          },
          "colorscale": {
           "diverging": [
            [
             0,
             "#8e0152"
            ],
            [
             0.1,
             "#c51b7d"
            ],
            [
             0.2,
             "#de77ae"
            ],
            [
             0.3,
             "#f1b6da"
            ],
            [
             0.4,
             "#fde0ef"
            ],
            [
             0.5,
             "#f7f7f7"
            ],
            [
             0.6,
             "#e6f5d0"
            ],
            [
             0.7,
             "#b8e186"
            ],
            [
             0.8,
             "#7fbc41"
            ],
            [
             0.9,
             "#4d9221"
            ],
            [
             1,
             "#276419"
            ]
           ],
           "sequential": [
            [
             0,
             "#0d0887"
            ],
            [
             0.1111111111111111,
             "#46039f"
            ],
            [
             0.2222222222222222,
             "#7201a8"
            ],
            [
             0.3333333333333333,
             "#9c179e"
            ],
            [
             0.4444444444444444,
             "#bd3786"
            ],
            [
             0.5555555555555556,
             "#d8576b"
            ],
            [
             0.6666666666666666,
             "#ed7953"
            ],
            [
             0.7777777777777778,
             "#fb9f3a"
            ],
            [
             0.8888888888888888,
             "#fdca26"
            ],
            [
             1,
             "#f0f921"
            ]
           ],
           "sequentialminus": [
            [
             0,
             "#0d0887"
            ],
            [
             0.1111111111111111,
             "#46039f"
            ],
            [
             0.2222222222222222,
             "#7201a8"
            ],
            [
             0.3333333333333333,
             "#9c179e"
            ],
            [
             0.4444444444444444,
             "#bd3786"
            ],
            [
             0.5555555555555556,
             "#d8576b"
            ],
            [
             0.6666666666666666,
             "#ed7953"
            ],
            [
             0.7777777777777778,
             "#fb9f3a"
            ],
            [
             0.8888888888888888,
             "#fdca26"
            ],
            [
             1,
             "#f0f921"
            ]
           ]
          },
          "colorway": [
           "#636efa",
           "#EF553B",
           "#00cc96",
           "#ab63fa",
           "#FFA15A",
           "#19d3f3",
           "#FF6692",
           "#B6E880",
           "#FF97FF",
           "#FECB52"
          ],
          "font": {
           "color": "#2a3f5f"
          },
          "geo": {
           "bgcolor": "white",
           "lakecolor": "white",
           "landcolor": "white",
           "showlakes": true,
           "showland": true,
           "subunitcolor": "#C8D4E3"
          },
          "height": 400,
          "hoverlabel": {
           "align": "left"
          },
          "hovermode": "closest",
          "mapbox": {
           "style": "light"
          },
          "margin": {
           "b": 2,
           "l": 2,
           "r": 2,
           "t": 30
          },
          "paper_bgcolor": "white",
          "plot_bgcolor": "white",
          "polar": {
           "angularaxis": {
            "gridcolor": "#EBF0F8",
            "linecolor": "#EBF0F8",
            "ticks": ""
           },
           "bgcolor": "white",
           "radialaxis": {
            "gridcolor": "#EBF0F8",
            "linecolor": "#EBF0F8",
            "ticks": ""
           }
          },
          "scene": {
           "camera": {
            "eye": {
             "x": 1.5,
             "y": 1.5,
             "z": 0.1
            }
           },
           "xaxis": {
            "backgroundcolor": "white",
            "gridcolor": "#DFE8F3",
            "gridwidth": 2,
            "linecolor": "#EBF0F8",
            "showbackground": true,
            "ticks": "",
            "zerolinecolor": "#EBF0F8"
           },
           "yaxis": {
            "backgroundcolor": "white",
            "gridcolor": "#DFE8F3",
            "gridwidth": 2,
            "linecolor": "#EBF0F8",
            "showbackground": true,
            "ticks": "",
            "zerolinecolor": "#EBF0F8"
           },
           "zaxis": {
            "backgroundcolor": "white",
            "gridcolor": "#DFE8F3",
            "gridwidth": 2,
            "linecolor": "#EBF0F8",
            "showbackground": true,
            "ticks": "",
            "zerolinecolor": "#EBF0F8"
           }
          },
          "shapedefaults": {
           "line": {
            "color": "#2a3f5f"
           }
          },
          "ternary": {
           "aaxis": {
            "gridcolor": "#DFE8F3",
            "linecolor": "#A2B1C6",
            "ticks": ""
           },
           "baxis": {
            "gridcolor": "#DFE8F3",
            "linecolor": "#A2B1C6",
            "ticks": ""
           },
           "bgcolor": "white",
           "caxis": {
            "gridcolor": "#DFE8F3",
            "linecolor": "#A2B1C6",
            "ticks": ""
           }
          },
          "title": {
           "x": 0.5
          },
          "xaxis": {
           "automargin": true,
           "gridcolor": "#EBF0F8",
           "linecolor": "#EBF0F8",
           "linewidth": 2,
           "showline": true,
           "ticks": "",
           "title": {
            "standoff": 15
           },
           "zerolinecolor": "#EBF0F8",
           "zerolinewidth": 2
          },
          "yaxis": {
           "automargin": true,
           "gridcolor": "#EBF0F8",
           "linecolor": "#EBF0F8",
           "linewidth": 2,
           "showline": true,
           "ticks": "",
           "title": {
            "standoff": 15
           },
           "zerolinecolor": "#EBF0F8",
           "zerolinewidth": 2
          }
         }
        },
        "title": {
         "text": "Naive model"
        },
        "xaxis": {
         "anchor": "y",
         "domain": [
          0,
          1
         ],
         "title": {
          "text": "age"
         }
        },
        "yaxis": {
         "anchor": "x",
         "domain": [
          0,
          1
         ],
         "title": {
          "text": "core temperature"
         }
        }
       }
      },
      "text/html": [
       "<div>                            <div id=\"ea79da94-d8c4-427e-82ad-4127639f22a7\" class=\"plotly-graph-div\" style=\"height:400px; width:100%;\"></div>            <script type=\"text/javascript\">                require([\"plotly\"], function(Plotly) {                    window.PLOTLYENV=window.PLOTLYENV || {};                                    if (document.getElementById(\"ea79da94-d8c4-427e-82ad-4127639f22a7\")) {                    Plotly.newPlot(                        \"ea79da94-d8c4-427e-82ad-4127639f22a7\",                        [{\"hovertemplate\":\"age=%{x}<br>core temperature=%{y}<extra></extra>\",\"legendgroup\":\"\",\"marker\":{\"color\":\"#636efa\",\"size\":17,\"symbol\":\"circle\"},\"mode\":\"markers\",\"name\":\"\",\"orientation\":\"v\",\"showlegend\":false,\"type\":\"scatter\",\"x\":[6.9,5.4,5.4,4.8,4.8,7.8,2.7,5.7,1.5,1.8,4.2,4.5,1.5,5.1,4.8,5.1,3.6,4.2,2.7,8.7,0.9,6.3,1.2,2.7,6.0,6.0,0.6,3.9,6.0,5.7,6.9,5.1,2.1,3.6,6.3,2.4,8.4,7.5,5.7,5.7,2.7,4.2,6.9,3.0,1.8,2.4,6.3,0.6,1.8,4.8,8.4,8.1,6.3,8.7,4.5,4.5,7.5,1.2,5.7,0.6,6.9,8.1,0.6,1.2,6.6,8.1,2.7,3.9,4.2,6.9,1.2,3.9,3.6,0.3,3.0,8.7,2.1,6.6,1.5,5.1,6.0,2.1,6.0,4.2,1.5,1.8,1.8,6.9,6.9,4.5,1.8,8.4,3.0,4.5,1.8,6.6,6.9,6.0],\"xaxis\":\"x\",\"y\":[38.42316895,39.01599822,39.14834088,39.06004863,38.65543905,38.6092188,39.47390806,38.81521612,37.77845286,39.17685034,39.52090819,38.57896943,38.28013391,38.40158039,38.65157641,39.61720308,37.72843549,39.36694049,37.98848685,39.93405104,37.60559023,38.83468198,37.39892664,38.98633063,39.72456882,38.09695504,37.59597881,39.49731323,38.50187636,38.27036031,38.69964224,39.08411118,38.29400364,38.39872285,39.29951536,38.37598649,38.46968433,39.58561173,38.12682317,39.80156649,37.92682179,39.67264697,38.21409556,38.93217418,37.80121676,37.52097889,39.34942824,38.9163822,38.72595498,38.35421436,40.17337876,39.48214424,39.9557292,39.02529641,39.70565695,37.87210056,38.92730588,38.75694066,38.98157028,39.07020183,39.31023381,40.26487847,39.19531025,37.46606804,38.61929591,39.74308443,37.9590829,38.52387016,39.58821189,39.48780846,37.32113362,38.30311301,39.32598796,38.18373964,37.78518905,38.97361387,37.97719515,38.92654301,37.98922316,39.87010492,38.51344083,39.14710639,38.61129304,38.95232638,37.46812464,38.24131363,38.7661591,39.87233432,38.87492299,39.09337261,39.00124171,39.25963687,38.6808734,37.93994229,38.79042609,39.48996228,38.57574159,39.76644658],\"yaxis\":\"y\"}],                        {\"legend\":{\"tracegroupgap\":0},\"shapes\":[{\"line\":{\"color\":\"rgb(228,26,28)\"},\"path\":\"M0.3 38.776487427244916 L 0.3422110552763819 38.776487427244916 L 0.38442211055276376 38.776487427244916 L 0.4266331658291457 38.776487427244916 L 0.4688442211055276 38.776487427244916 L 0.5110552763819095 38.776487427244916 L 0.5532663316582913 38.776487427244916 L 0.5954773869346732 38.776487427244916 L 0.6376884422110551 38.776487427244916 L 0.679899497487437 38.776487427244916 L 0.722110552763819 38.776487427244916 L 0.7643216080402009 38.776487427244916 L 0.8065326633165828 38.776487427244916 L 0.8487437185929647 38.776487427244916 L 0.8909547738693466 38.776487427244916 L 0.9331658291457285 38.776487427244916 L 0.9753768844221105 38.776487427244916 L 1.0175879396984924 38.776487427244916 L 1.0597989949748743 38.776487427244916 L 1.1020100502512562 38.776487427244916 L 1.1442211055276381 38.776487427244916 L 1.1864321608040198 38.776487427244916 L 1.2286432160804017 38.776487427244916 L 1.2708542713567836 38.776487427244916 L 1.3130653266331656 38.776487427244916 L 1.3552763819095475 38.776487427244916 L 1.3974874371859294 38.776487427244916 L 1.4396984924623113 38.776487427244916 L 1.4819095477386932 38.776487427244916 L 1.5241206030150751 38.776487427244916 L 1.566331658291457 38.776487427244916 L 1.608542713567839 38.776487427244916 L 1.6507537688442209 38.776487427244916 L 1.6929648241206028 38.776487427244916 L 1.7351758793969847 38.776487427244916 L 1.7773869346733666 38.776487427244916 L 1.8195979899497485 38.776487427244916 L 1.8618090452261304 38.776487427244916 L 1.9040201005025124 38.776487427244916 L 1.9462311557788943 38.776487427244916 L 1.9884422110552762 38.776487427244916 L 2.0306532663316577 38.776487427244916 L 2.07286432160804 38.776487427244916 L 2.1150753768844215 38.776487427244916 L 2.1572864321608036 38.776487427244916 L 2.1994974874371853 38.776487427244916 L 2.2417085427135675 38.776487427244916 L 2.283919597989949 38.776487427244916 L 2.326130653266331 38.776487427244916 L 2.368341708542713 38.776487427244916 L 2.4105527638190947 38.776487427244916 L 2.452763819095477 38.776487427244916 L 2.4949748743718585 38.776487427244916 L 2.5371859296482406 38.776487427244916 L 2.5793969849246223 38.776487427244916 L 2.6216080402010045 38.776487427244916 L 2.663819095477386 38.776487427244916 L 2.7060301507537683 38.776487427244916 L 2.74824120603015 38.776487427244916 L 2.790452261306532 38.776487427244916 L 2.832663316582914 38.776487427244916 L 2.874874371859296 38.776487427244916 L 2.9170854271356776 38.776487427244916 L 2.95929648241206 38.776487427244916 L 3.0015075376884415 38.776487427244916 L 3.043718592964823 38.776487427244916 L 3.0859296482412053 38.776487427244916 L 3.128140703517587 38.776487427244916 L 3.170351758793969 38.776487427244916 L 3.212562814070351 38.776487427244916 L 3.254773869346733 38.776487427244916 L 3.2969849246231147 38.776487427244916 L 3.339195979899497 38.776487427244916 L 3.3814070351758785 38.776487427244916 L 3.4236180904522606 38.776487427244916 L 3.4658291457286423 38.776487427244916 L 3.5080402010050244 38.776487427244916 L 3.550251256281406 38.776487427244916 L 3.5924623115577883 38.776487427244916 L 3.63467336683417 38.776487427244916 L 3.676884422110552 38.776487427244916 L 3.719095477386934 38.776487427244916 L 3.7613065326633155 38.776487427244916 L 3.8035175879396976 38.776487427244916 L 3.8457286432160793 38.776487427244916 L 3.8879396984924615 38.776487427244916 L 3.930150753768843 38.776487427244916 L 3.9723618090452253 38.776487427244916 L 4.014572864321607 38.776487427244916 L 4.056783919597989 38.776487427244916 L 4.098994974874371 38.776487427244916 L 4.141206030150753 38.776487427244916 L 4.183417085427135 38.776487427244916 L 4.225628140703517 38.776487427244916 L 4.2678391959798985 38.776487427244916 L 4.31005025125628 38.776487427244916 L 4.352261306532662 38.776487427244916 L 4.394472361809044 38.776487427244916 L 4.436683417085426 38.776487427244916 L 4.478894472361808 38.776487427244916 L 4.5211055276381895 38.776487427244916 L 4.563316582914572 38.776487427244916 L 4.605527638190954 38.776487427244916 L 4.6477386934673355 38.776487427244916 L 4.689949748743717 38.776487427244916 L 4.7321608040201 38.776487427244916 L 4.7743718592964814 38.776487427244916 L 4.816582914572863 38.776487427244916 L 4.858793969849245 38.776487427244916 L 4.901005025125627 38.776487427244916 L 4.943216080402009 38.776487427244916 L 4.985427135678391 38.776487427244916 L 5.0276381909547725 38.776487427244916 L 5.069849246231154 38.776487427244916 L 5.112060301507537 38.776487427244916 L 5.1542713567839185 38.776487427244916 L 5.1964824120603 38.776487427244916 L 5.238693467336682 38.776487427244916 L 5.280904522613064 38.776487427244916 L 5.323115577889446 38.776487427244916 L 5.365326633165828 38.776487427244916 L 5.4075376884422095 38.776487427244916 L 5.449748743718592 38.776487427244916 L 5.491959798994974 38.776487427244916 L 5.5341708542713555 38.776487427244916 L 5.576381909547737 38.776487427244916 L 5.61859296482412 38.776487427244916 L 5.660804020100501 38.776487427244916 L 5.703015075376883 38.776487427244916 L 5.745226130653265 38.776487427244916 L 5.7874371859296465 38.776487427244916 L 5.829648241206029 38.776487427244916 L 5.871859296482411 38.776487427244916 L 5.9140703517587925 38.776487427244916 L 5.956281407035174 38.776487427244916 L 5.998492462311557 38.776487427244916 L 6.040703517587938 38.776487427244916 L 6.08291457286432 38.776487427244916 L 6.125125628140702 38.776487427244916 L 6.167336683417084 38.776487427244916 L 6.209547738693466 38.776487427244916 L 6.251758793969848 38.776487427244916 L 6.2939698492462295 38.776487427244916 L 6.336180904522612 38.776487427244916 L 6.378391959798994 38.776487427244916 L 6.4206030150753755 38.776487427244916 L 6.462814070351757 38.776487427244916 L 6.505025125628139 38.776487427244916 L 6.547236180904521 38.776487427244916 L 6.589447236180903 38.776487427244916 L 6.631658291457285 38.776487427244916 L 6.6738693467336665 38.776487427244916 L 6.716080402010049 38.776487427244916 L 6.758291457286431 38.776487427244916 L 6.8005025125628125 38.776487427244916 L 6.842713567839194 38.776487427244916 L 6.884924623115577 38.776487427244916 L 6.927135678391958 38.776487427244916 L 6.96934673366834 38.776487427244916 L 7.011557788944722 38.776487427244916 L 7.053768844221104 38.776487427244916 L 7.095979899497486 38.776487427244916 L 7.138190954773868 38.776487427244916 L 7.1804020100502495 38.776487427244916 L 7.222613065326631 38.776487427244916 L 7.264824120603014 38.776487427244916 L 7.307035175879395 38.776487427244916 L 7.349246231155777 38.776487427244916 L 7.391457286432159 38.776487427244916 L 7.433668341708541 38.776487427244916 L 7.475879396984923 38.776487427244916 L 7.518090452261305 38.776487427244916 L 7.5603015075376865 38.776487427244916 L 7.602512562814069 38.776487427244916 L 7.644723618090451 38.776487427244916 L 7.6869346733668324 38.776487427244916 L 7.729145728643214 38.776487427244916 L 7.771356783919596 38.776487427244916 L 7.813567839195978 38.776487427244916 L 7.85577889447236 38.776487427244916 L 7.897989949748742 38.776487427244916 L 7.9402010050251235 38.776487427244916 L 7.982412060301506 38.776487427244916 L 8.024623115577889 38.776487427244916 L 8.06683417085427 38.776487427244916 L 8.109045226130652 38.776487427244916 L 8.151256281407035 38.776487427244916 L 8.193467336683415 38.776487427244916 L 8.235678391959798 38.776487427244916 L 8.277889447236179 38.776487427244916 L 8.320100502512561 38.776487427244916 L 8.362311557788944 38.776487427244916 L 8.404522613065325 38.776487427244916 L 8.446733668341707 38.776487427244916 L 8.48894472361809 38.776487427244916 L 8.53115577889447 38.776487427244916 L 8.573366834170853 38.776487427244916 L 8.615577889447236 38.776487427244916 L 8.657788944723617 38.776487427244916 L 8.7 38.776487427244916\",\"type\":\"path\"}],\"template\":{\"data\":{\"bar\":[{\"error_x\":{\"color\":\"#2a3f5f\"},\"error_y\":{\"color\":\"#2a3f5f\"},\"marker\":{\"line\":{\"color\":\"white\",\"width\":0.5},\"pattern\":{\"fillmode\":\"overlay\",\"size\":10,\"solidity\":0.2}},\"type\":\"bar\"}],\"barpolar\":[{\"marker\":{\"line\":{\"color\":\"white\",\"width\":0.5},\"pattern\":{\"fillmode\":\"overlay\",\"size\":10,\"solidity\":0.2}},\"type\":\"barpolar\"}],\"box\":[{\"boxpoints\":\"outliers\",\"notched\":false,\"type\":\"box\"}],\"carpet\":[{\"aaxis\":{\"endlinecolor\":\"#2a3f5f\",\"gridcolor\":\"#C8D4E3\",\"linecolor\":\"#C8D4E3\",\"minorgridcolor\":\"#C8D4E3\",\"startlinecolor\":\"#2a3f5f\"},\"baxis\":{\"endlinecolor\":\"#2a3f5f\",\"gridcolor\":\"#C8D4E3\",\"linecolor\":\"#C8D4E3\",\"minorgridcolor\":\"#C8D4E3\",\"startlinecolor\":\"#2a3f5f\"},\"type\":\"carpet\"}],\"choropleth\":[{\"colorbar\":{\"outlinewidth\":0,\"ticks\":\"\"},\"type\":\"choropleth\"}],\"contour\":[{\"colorbar\":{\"outlinewidth\":0,\"ticks\":\"\"},\"colorscale\":[[0.0,\"#0d0887\"],[0.1111111111111111,\"#46039f\"],[0.2222222222222222,\"#7201a8\"],[0.3333333333333333,\"#9c179e\"],[0.4444444444444444,\"#bd3786\"],[0.5555555555555556,\"#d8576b\"],[0.6666666666666666,\"#ed7953\"],[0.7777777777777778,\"#fb9f3a\"],[0.8888888888888888,\"#fdca26\"],[1.0,\"#f0f921\"]],\"type\":\"contour\"}],\"contourcarpet\":[{\"colorbar\":{\"outlinewidth\":0,\"ticks\":\"\"},\"type\":\"contourcarpet\"}],\"heatmap\":[{\"colorbar\":{\"outlinewidth\":0,\"ticks\":\"\"},\"colorscale\":[[0.0,\"#0d0887\"],[0.1111111111111111,\"#46039f\"],[0.2222222222222222,\"#7201a8\"],[0.3333333333333333,\"#9c179e\"],[0.4444444444444444,\"#bd3786\"],[0.5555555555555556,\"#d8576b\"],[0.6666666666666666,\"#ed7953\"],[0.7777777777777778,\"#fb9f3a\"],[0.8888888888888888,\"#fdca26\"],[1.0,\"#f0f921\"]],\"type\":\"heatmap\"}],\"heatmapgl\":[{\"colorbar\":{\"outlinewidth\":0,\"ticks\":\"\"},\"colorscale\":[[0.0,\"#0d0887\"],[0.1111111111111111,\"#46039f\"],[0.2222222222222222,\"#7201a8\"],[0.3333333333333333,\"#9c179e\"],[0.4444444444444444,\"#bd3786\"],[0.5555555555555556,\"#d8576b\"],[0.6666666666666666,\"#ed7953\"],[0.7777777777777778,\"#fb9f3a\"],[0.8888888888888888,\"#fdca26\"],[1.0,\"#f0f921\"]],\"type\":\"heatmapgl\"}],\"histogram\":[{\"marker\":{\"line\":{\"width\":1},\"pattern\":{\"fillmode\":\"overlay\",\"size\":10,\"solidity\":0.2}},\"type\":\"histogram\"}],\"histogram2d\":[{\"colorbar\":{\"outlinewidth\":0,\"ticks\":\"\"},\"colorscale\":[[0.0,\"#0d0887\"],[0.1111111111111111,\"#46039f\"],[0.2222222222222222,\"#7201a8\"],[0.3333333333333333,\"#9c179e\"],[0.4444444444444444,\"#bd3786\"],[0.5555555555555556,\"#d8576b\"],[0.6666666666666666,\"#ed7953\"],[0.7777777777777778,\"#fb9f3a\"],[0.8888888888888888,\"#fdca26\"],[1.0,\"#f0f921\"]],\"type\":\"histogram2d\"}],\"histogram2dcontour\":[{\"colorbar\":{\"outlinewidth\":0,\"ticks\":\"\"},\"colorscale\":[[0.0,\"#0d0887\"],[0.1111111111111111,\"#46039f\"],[0.2222222222222222,\"#7201a8\"],[0.3333333333333333,\"#9c179e\"],[0.4444444444444444,\"#bd3786\"],[0.5555555555555556,\"#d8576b\"],[0.6666666666666666,\"#ed7953\"],[0.7777777777777778,\"#fb9f3a\"],[0.8888888888888888,\"#fdca26\"],[1.0,\"#f0f921\"]],\"type\":\"histogram2dcontour\"}],\"mesh3d\":[{\"colorbar\":{\"outlinewidth\":0,\"ticks\":\"\"},\"type\":\"mesh3d\"}],\"parcoords\":[{\"line\":{\"colorbar\":{\"outlinewidth\":0,\"ticks\":\"\"}},\"type\":\"parcoords\"}],\"pie\":[{\"automargin\":true,\"type\":\"pie\"}],\"scatter\":[{\"marker\":{\"colorbar\":{\"outlinewidth\":0,\"ticks\":\"\"},\"opacity\":0.8},\"type\":\"scatter\"}],\"scatter3d\":[{\"line\":{\"colorbar\":{\"outlinewidth\":0,\"ticks\":\"\"}},\"marker\":{\"colorbar\":{\"outlinewidth\":0,\"ticks\":\"\"},\"opacity\":0.8},\"type\":\"scatter3d\"}],\"scattercarpet\":[{\"marker\":{\"colorbar\":{\"outlinewidth\":0,\"ticks\":\"\"}},\"type\":\"scattercarpet\"}],\"scattergeo\":[{\"marker\":{\"colorbar\":{\"outlinewidth\":0,\"ticks\":\"\"}},\"type\":\"scattergeo\"}],\"scattergl\":[{\"marker\":{\"colorbar\":{\"outlinewidth\":0,\"ticks\":\"\"}},\"type\":\"scattergl\"}],\"scattermapbox\":[{\"marker\":{\"colorbar\":{\"outlinewidth\":0,\"ticks\":\"\"}},\"type\":\"scattermapbox\"}],\"scatterpolar\":[{\"marker\":{\"colorbar\":{\"outlinewidth\":0,\"ticks\":\"\"}},\"type\":\"scatterpolar\"}],\"scatterpolargl\":[{\"marker\":{\"colorbar\":{\"outlinewidth\":0,\"ticks\":\"\"}},\"type\":\"scatterpolargl\"}],\"scatterternary\":[{\"marker\":{\"colorbar\":{\"outlinewidth\":0,\"ticks\":\"\"}},\"type\":\"scatterternary\"}],\"surface\":[{\"colorbar\":{\"outlinewidth\":0,\"ticks\":\"\"},\"colorscale\":[[0.0,\"#0d0887\"],[0.1111111111111111,\"#46039f\"],[0.2222222222222222,\"#7201a8\"],[0.3333333333333333,\"#9c179e\"],[0.4444444444444444,\"#bd3786\"],[0.5555555555555556,\"#d8576b\"],[0.6666666666666666,\"#ed7953\"],[0.7777777777777778,\"#fb9f3a\"],[0.8888888888888888,\"#fdca26\"],[1.0,\"#f0f921\"]],\"type\":\"surface\"}],\"table\":[{\"cells\":{\"fill\":{\"color\":\"#EBF0F8\"},\"line\":{\"color\":\"white\"}},\"header\":{\"fill\":{\"color\":\"#C8D4E3\"},\"line\":{\"color\":\"white\"}},\"type\":\"table\"}]},\"layout\":{\"annotationdefaults\":{\"arrowcolor\":\"#2a3f5f\",\"arrowhead\":0,\"arrowwidth\":1},\"autotypenumbers\":\"strict\",\"coloraxis\":{\"colorbar\":{\"outlinewidth\":0,\"ticks\":\"\"}},\"colorscale\":{\"diverging\":[[0,\"#8e0152\"],[0.1,\"#c51b7d\"],[0.2,\"#de77ae\"],[0.3,\"#f1b6da\"],[0.4,\"#fde0ef\"],[0.5,\"#f7f7f7\"],[0.6,\"#e6f5d0\"],[0.7,\"#b8e186\"],[0.8,\"#7fbc41\"],[0.9,\"#4d9221\"],[1,\"#276419\"]],\"sequential\":[[0.0,\"#0d0887\"],[0.1111111111111111,\"#46039f\"],[0.2222222222222222,\"#7201a8\"],[0.3333333333333333,\"#9c179e\"],[0.4444444444444444,\"#bd3786\"],[0.5555555555555556,\"#d8576b\"],[0.6666666666666666,\"#ed7953\"],[0.7777777777777778,\"#fb9f3a\"],[0.8888888888888888,\"#fdca26\"],[1.0,\"#f0f921\"]],\"sequentialminus\":[[0.0,\"#0d0887\"],[0.1111111111111111,\"#46039f\"],[0.2222222222222222,\"#7201a8\"],[0.3333333333333333,\"#9c179e\"],[0.4444444444444444,\"#bd3786\"],[0.5555555555555556,\"#d8576b\"],[0.6666666666666666,\"#ed7953\"],[0.7777777777777778,\"#fb9f3a\"],[0.8888888888888888,\"#fdca26\"],[1.0,\"#f0f921\"]]},\"colorway\":[\"#636efa\",\"#EF553B\",\"#00cc96\",\"#ab63fa\",\"#FFA15A\",\"#19d3f3\",\"#FF6692\",\"#B6E880\",\"#FF97FF\",\"#FECB52\"],\"font\":{\"color\":\"#2a3f5f\"},\"geo\":{\"bgcolor\":\"white\",\"lakecolor\":\"white\",\"landcolor\":\"white\",\"showlakes\":true,\"showland\":true,\"subunitcolor\":\"#C8D4E3\"},\"height\":400,\"hoverlabel\":{\"align\":\"left\"},\"hovermode\":\"closest\",\"mapbox\":{\"style\":\"light\"},\"margin\":{\"b\":2,\"l\":2,\"r\":2,\"t\":30},\"paper_bgcolor\":\"white\",\"plot_bgcolor\":\"white\",\"polar\":{\"angularaxis\":{\"gridcolor\":\"#EBF0F8\",\"linecolor\":\"#EBF0F8\",\"ticks\":\"\"},\"bgcolor\":\"white\",\"radialaxis\":{\"gridcolor\":\"#EBF0F8\",\"linecolor\":\"#EBF0F8\",\"ticks\":\"\"}},\"scene\":{\"camera\":{\"eye\":{\"x\":1.5,\"y\":1.5,\"z\":0.1}},\"xaxis\":{\"backgroundcolor\":\"white\",\"gridcolor\":\"#DFE8F3\",\"gridwidth\":2,\"linecolor\":\"#EBF0F8\",\"showbackground\":true,\"ticks\":\"\",\"zerolinecolor\":\"#EBF0F8\"},\"yaxis\":{\"backgroundcolor\":\"white\",\"gridcolor\":\"#DFE8F3\",\"gridwidth\":2,\"linecolor\":\"#EBF0F8\",\"showbackground\":true,\"ticks\":\"\",\"zerolinecolor\":\"#EBF0F8\"},\"zaxis\":{\"backgroundcolor\":\"white\",\"gridcolor\":\"#DFE8F3\",\"gridwidth\":2,\"linecolor\":\"#EBF0F8\",\"showbackground\":true,\"ticks\":\"\",\"zerolinecolor\":\"#EBF0F8\"}},\"shapedefaults\":{\"line\":{\"color\":\"#2a3f5f\"}},\"ternary\":{\"aaxis\":{\"gridcolor\":\"#DFE8F3\",\"linecolor\":\"#A2B1C6\",\"ticks\":\"\"},\"baxis\":{\"gridcolor\":\"#DFE8F3\",\"linecolor\":\"#A2B1C6\",\"ticks\":\"\"},\"bgcolor\":\"white\",\"caxis\":{\"gridcolor\":\"#DFE8F3\",\"linecolor\":\"#A2B1C6\",\"ticks\":\"\"}},\"title\":{\"x\":0.5},\"xaxis\":{\"automargin\":true,\"gridcolor\":\"#EBF0F8\",\"linecolor\":\"#EBF0F8\",\"linewidth\":2,\"showline\":true,\"ticks\":\"\",\"title\":{\"standoff\":15},\"zerolinecolor\":\"#EBF0F8\",\"zerolinewidth\":2},\"yaxis\":{\"automargin\":true,\"gridcolor\":\"#EBF0F8\",\"linecolor\":\"#EBF0F8\",\"linewidth\":2,\"showline\":true,\"ticks\":\"\",\"title\":{\"standoff\":15},\"zerolinecolor\":\"#EBF0F8\",\"zerolinewidth\":2}}},\"title\":{\"text\":\"Naive model\"},\"xaxis\":{\"anchor\":\"y\",\"domain\":[0.0,1.0],\"title\":{\"text\":\"age\"}},\"yaxis\":{\"anchor\":\"x\",\"domain\":[0.0,1.0],\"title\":{\"text\":\"core temperature\"}}},                        {\"responsive\": true}                    ).then(function(){\n",
       "                            \n",
       "var gd = document.getElementById('ea79da94-d8c4-427e-82ad-4127639f22a7');\n",
       "var x = new MutationObserver(function (mutations, observer) {{\n",
       "        var display = window.getComputedStyle(gd).display;\n",
       "        if (!display || display === 'none') {{\n",
       "            console.log([gd, 'removed!']);\n",
       "            Plotly.purge(gd);\n",
       "            observer.disconnect();\n",
       "        }}\n",
       "}});\n",
       "\n",
       "// Listen for the removal of the full notebook cells\n",
       "var notebookContainer = gd.closest('#notebook-container');\n",
       "if (notebookContainer) {{\n",
       "    x.observe(notebookContainer, {childList: true});\n",
       "}}\n",
       "\n",
       "// Listen for the clearing of the current output cell\n",
       "var outputEl = gd.closest('.output');\n",
       "if (outputEl) {{\n",
       "    x.observe(outputEl, {childList: true});\n",
       "}}\n",
       "\n",
       "                        })                };                });            </script>        </div>"
      ]
     },
     "metadata": {},
     "output_type": "display_data"
    },
    {
     "data": {
      "application/vnd.plotly.v1+json": {
       "config": {
        "plotlyServerURL": "https://plot.ly"
       },
       "data": [
        {
         "hovertemplate": "age=%{x}<br>core temperature=%{y}<extra></extra>",
         "legendgroup": "",
         "marker": {
          "color": "#636efa",
          "size": 17,
          "symbol": "circle"
         },
         "mode": "markers",
         "name": "",
         "orientation": "v",
         "showlegend": false,
         "type": "scatter",
         "x": [
          6.9,
          5.4,
          5.4,
          4.8,
          4.8,
          7.8,
          2.7,
          5.7,
          1.5,
          1.8,
          4.2,
          4.5,
          1.5,
          5.1,
          4.8,
          5.1,
          3.6,
          4.2,
          2.7,
          8.7,
          0.9,
          6.3,
          1.2,
          2.7,
          6,
          6,
          0.6,
          3.9,
          6,
          5.7,
          6.9,
          5.1,
          2.1,
          3.6,
          6.3,
          2.4,
          8.4,
          7.5,
          5.7,
          5.7,
          2.7,
          4.2,
          6.9,
          3,
          1.8,
          2.4,
          6.3,
          0.6,
          1.8,
          4.8,
          8.4,
          8.1,
          6.3,
          8.7,
          4.5,
          4.5,
          7.5,
          1.2,
          5.7,
          0.6,
          6.9,
          8.1,
          0.6,
          1.2,
          6.6,
          8.1,
          2.7,
          3.9,
          4.2,
          6.9,
          1.2,
          3.9,
          3.6,
          0.3,
          3,
          8.7,
          2.1,
          6.6,
          1.5,
          5.1,
          6,
          2.1,
          6,
          4.2,
          1.5,
          1.8,
          1.8,
          6.9,
          6.9,
          4.5,
          1.8,
          8.4,
          3,
          4.5,
          1.8,
          6.6,
          6.9,
          6
         ],
         "xaxis": "x",
         "y": [
          38.42316895,
          39.01599822,
          39.14834088,
          39.06004863,
          38.65543905,
          38.6092188,
          39.47390806,
          38.81521612,
          37.77845286,
          39.17685034,
          39.52090819,
          38.57896943,
          38.28013391,
          38.40158039,
          38.65157641,
          39.61720308,
          37.72843549,
          39.36694049,
          37.98848685,
          39.93405104,
          37.60559023,
          38.83468198,
          37.39892664,
          38.98633063,
          39.72456882,
          38.09695504,
          37.59597881,
          39.49731323,
          38.50187636,
          38.27036031,
          38.69964224,
          39.08411118,
          38.29400364,
          38.39872285,
          39.29951536,
          38.37598649,
          38.46968433,
          39.58561173,
          38.12682317,
          39.80156649,
          37.92682179,
          39.67264697,
          38.21409556,
          38.93217418,
          37.80121676,
          37.52097889,
          39.34942824,
          38.9163822,
          38.72595498,
          38.35421436,
          40.17337876,
          39.48214424,
          39.9557292,
          39.02529641,
          39.70565695,
          37.87210056,
          38.92730588,
          38.75694066,
          38.98157028,
          39.07020183,
          39.31023381,
          40.26487847,
          39.19531025,
          37.46606804,
          38.61929591,
          39.74308443,
          37.9590829,
          38.52387016,
          39.58821189,
          39.48780846,
          37.32113362,
          38.30311301,
          39.32598796,
          38.18373964,
          37.78518905,
          38.97361387,
          37.97719515,
          38.92654301,
          37.98922316,
          39.87010492,
          38.51344083,
          39.14710639,
          38.61129304,
          38.95232638,
          37.46812464,
          38.24131363,
          38.7661591,
          39.87233432,
          38.87492299,
          39.09337261,
          39.00124171,
          39.25963687,
          38.6808734,
          37.93994229,
          38.79042609,
          39.48996228,
          38.57574159,
          39.76644658
         ],
         "yaxis": "y"
        }
       ],
       "layout": {
        "legend": {
         "tracegroupgap": 0
        },
        "shapes": [
         {
          "line": {
           "color": "rgb(228,26,28)"
          },
          "path": "M0.3 38.133869422156295 L 0.3422110552763819 38.1403420475402 L 0.38442211055276376 38.14681467292411 L 0.4266331658291457 38.153287298308015 L 0.4688442211055276 38.15975992369192 L 0.5110552763819095 38.16623254907583 L 0.5532663316582913 38.172705174459736 L 0.5954773869346732 38.17917779984364 L 0.6376884422110551 38.18565042522755 L 0.679899497487437 38.19212305061146 L 0.722110552763819 38.198595675995364 L 0.7643216080402009 38.20506830137927 L 0.8065326633165828 38.21154092676318 L 0.8487437185929647 38.218013552147085 L 0.8909547738693466 38.22448617753099 L 0.9331658291457285 38.2309588029149 L 0.9753768844221105 38.237431428298805 L 1.0175879396984924 38.24390405368271 L 1.0597989949748743 38.25037667906662 L 1.1020100502512562 38.256849304450526 L 1.1442211055276381 38.26332192983443 L 1.1864321608040198 38.26979455521834 L 1.2286432160804017 38.27626718060225 L 1.2708542713567836 38.282739805986154 L 1.3130653266331656 38.28921243137006 L 1.3552763819095475 38.29568505675397 L 1.3974874371859294 38.302157682137874 L 1.4396984924623113 38.30863030752178 L 1.4819095477386932 38.31510293290569 L 1.5241206030150751 38.321575558289595 L 1.566331658291457 38.3280481836735 L 1.608542713567839 38.33452080905741 L 1.6507537688442209 38.340993434441316 L 1.6929648241206028 38.34746605982522 L 1.7351758793969847 38.35393868520913 L 1.7773869346733666 38.36041131059304 L 1.8195979899497485 38.366883935976944 L 1.8618090452261304 38.37335656136085 L 1.9040201005025124 38.37982918674476 L 1.9462311557788943 38.386301812128664 L 1.9884422110552762 38.39277443751257 L 2.0306532663316577 38.39924706289648 L 2.07286432160804 38.405719688280385 L 2.1150753768844215 38.41219231366429 L 2.1572864321608036 38.4186649390482 L 2.1994974874371853 38.425137564432106 L 2.2417085427135675 38.43161018981601 L 2.283919597989949 38.43808281519992 L 2.326130653266331 38.44455544058383 L 2.368341708542713 38.45102806596773 L 2.4105527638190947 38.45750069135164 L 2.452763819095477 38.46397331673555 L 2.4949748743718585 38.470445942119454 L 2.5371859296482406 38.47691856750336 L 2.5793969849246223 38.48339119288727 L 2.6216080402010045 38.489863818271175 L 2.663819095477386 38.49633644365508 L 2.7060301507537683 38.50280906903899 L 2.74824120603015 38.509281694422896 L 2.790452261306532 38.5157543198068 L 2.832663316582914 38.52222694519071 L 2.874874371859296 38.52869957057462 L 2.9170854271356776 38.53517219595852 L 2.95929648241206 38.54164482134243 L 3.0015075376884415 38.54811744672634 L 3.043718592964823 38.554590072110244 L 3.0859296482412053 38.56106269749415 L 3.128140703517587 38.56753532287806 L 3.170351758793969 38.574007948261965 L 3.212562814070351 38.58048057364587 L 3.254773869346733 38.58695319902978 L 3.2969849246231147 38.593425824413686 L 3.339195979899497 38.59989844979759 L 3.3814070351758785 38.6063710751815 L 3.4236180904522606 38.612843700565406 L 3.4658291457286423 38.61931632594931 L 3.5080402010050244 38.62578895133322 L 3.550251256281406 38.63226157671713 L 3.5924623115577883 38.638734202101034 L 3.63467336683417 38.64520682748494 L 3.676884422110552 38.65167945286885 L 3.719095477386934 38.658152078252755 L 3.7613065326633155 38.66462470363666 L 3.8035175879396976 38.67109732902057 L 3.8457286432160793 38.677569954404476 L 3.8879396984924615 38.68404257978838 L 3.930150753768843 38.69051520517229 L 3.9723618090452253 38.696987830556196 L 4.014572864321607 38.7034604559401 L 4.056783919597989 38.70993308132401 L 4.098994974874371 38.71640570670792 L 4.141206030150753 38.722878332091824 L 4.183417085427135 38.72935095747573 L 4.225628140703517 38.73582358285964 L 4.2678391959798985 38.742296208243545 L 4.31005025125628 38.74876883362745 L 4.352261306532662 38.75524145901136 L 4.394472361809044 38.761714084395265 L 4.436683417085426 38.76818670977917 L 4.478894472361808 38.77465933516308 L 4.5211055276381895 38.781131960546986 L 4.563316582914572 38.78760458593089 L 4.605527638190954 38.7940772113148 L 4.6477386934673355 38.80054983669871 L 4.689949748743717 38.807022462082614 L 4.7321608040201 38.81349508746652 L 4.7743718592964814 38.81996771285043 L 4.816582914572863 38.826440338234335 L 4.858793969849245 38.83291296361824 L 4.901005025125627 38.83938558900215 L 4.943216080402009 38.845858214386055 L 4.985427135678391 38.85233083976996 L 5.0276381909547725 38.85880346515387 L 5.069849246231154 38.865276090537776 L 5.112060301507537 38.87174871592168 L 5.1542713567839185 38.87822134130559 L 5.1964824120603 38.8846939666895 L 5.238693467336682 38.891166592073404 L 5.280904522613064 38.89763921745731 L 5.323115577889446 38.90411184284122 L 5.365326633165828 38.910584468225125 L 5.4075376884422095 38.91705709360903 L 5.449748743718592 38.92352971899294 L 5.491959798994974 38.930002344376845 L 5.5341708542713555 38.93647496976075 L 5.576381909547737 38.94294759514466 L 5.61859296482412 38.949420220528566 L 5.660804020100501 38.95589284591247 L 5.703015075376883 38.96236547129638 L 5.745226130653265 38.96883809668029 L 5.7874371859296465 38.975310722064194 L 5.829648241206029 38.9817833474481 L 5.871859296482411 38.98825597283201 L 5.9140703517587925 38.994728598215914 L 5.956281407035174 39.00120122359982 L 5.998492462311557 39.00767384898373 L 6.040703517587938 39.014146474367635 L 6.08291457286432 39.02061909975154 L 6.125125628140702 39.02709172513545 L 6.167336683417084 39.033564350519356 L 6.209547738693466 39.04003697590326 L 6.251758793969848 39.04650960128717 L 6.2939698492462295 39.05298222667108 L 6.336180904522612 39.059454852054984 L 6.378391959798994 39.06592747743889 L 6.4206030150753755 39.0724001028228 L 6.462814070351757 39.078872728206704 L 6.505025125628139 39.08534535359061 L 6.547236180904521 39.09181797897452 L 6.589447236180903 39.098290604358425 L 6.631658291457285 39.10476322974233 L 6.6738693467336665 39.11123585512624 L 6.716080402010049 39.117708480510146 L 6.758291457286431 39.12418110589405 L 6.8005025125628125 39.13065373127796 L 6.842713567839194 39.13712635666187 L 6.884924623115577 39.14359898204577 L 6.927135678391958 39.15007160742968 L 6.96934673366834 39.15654423281359 L 7.011557788944722 39.163016858197494 L 7.053768844221104 39.1694894835814 L 7.095979899497486 39.17596210896531 L 7.138190954773868 39.182434734349215 L 7.1804020100502495 39.18890735973312 L 7.222613065326631 39.19537998511703 L 7.264824120603014 39.201852610500936 L 7.307035175879395 39.20832523588484 L 7.349246231155777 39.21479786126875 L 7.391457286432159 39.22127048665266 L 7.433668341708541 39.22774311203656 L 7.475879396984923 39.23421573742047 L 7.518090452261305 39.24068836280438 L 7.5603015075376865 39.247160988188284 L 7.602512562814069 39.25363361357219 L 7.644723618090451 39.2601062389561 L 7.6869346733668324 39.266578864340005 L 7.729145728643214 39.27305148972391 L 7.771356783919596 39.27952411510782 L 7.813567839195978 39.285996740491726 L 7.85577889447236 39.29246936587563 L 7.897989949748742 39.29894199125954 L 7.9402010050251235 39.305414616643446 L 7.982412060301506 39.31188724202735 L 8.024623115577889 39.31835986741126 L 8.06683417085427 39.32483249279517 L 8.109045226130652 39.331305118179074 L 8.151256281407035 39.33777774356298 L 8.193467336683415 39.34425036894689 L 8.235678391959798 39.350722994330795 L 8.277889447236179 39.3571956197147 L 8.320100502512561 39.36366824509861 L 8.362311557788944 39.370140870482516 L 8.404522613065325 39.37661349586642 L 8.446733668341707 39.38308612125033 L 8.48894472361809 39.389558746634236 L 8.53115577889447 39.39603137201814 L 8.573366834170853 39.40250399740205 L 8.615577889447236 39.40897662278596 L 8.657788944723617 39.415449248169864 L 8.7 39.42192187355377",
          "type": "path"
         }
        ],
        "template": {
         "data": {
          "bar": [
           {
            "error_x": {
             "color": "#2a3f5f"
            },
            "error_y": {
             "color": "#2a3f5f"
            },
            "marker": {
             "line": {
              "color": "white",
              "width": 0.5
             },
             "pattern": {
              "fillmode": "overlay",
              "size": 10,
              "solidity": 0.2
             }
            },
            "type": "bar"
           }
          ],
          "barpolar": [
           {
            "marker": {
             "line": {
              "color": "white",
              "width": 0.5
             },
             "pattern": {
              "fillmode": "overlay",
              "size": 10,
              "solidity": 0.2
             }
            },
            "type": "barpolar"
           }
          ],
          "box": [
           {
            "boxpoints": "outliers",
            "notched": false,
            "type": "box"
           }
          ],
          "carpet": [
           {
            "aaxis": {
             "endlinecolor": "#2a3f5f",
             "gridcolor": "#C8D4E3",
             "linecolor": "#C8D4E3",
             "minorgridcolor": "#C8D4E3",
             "startlinecolor": "#2a3f5f"
            },
            "baxis": {
             "endlinecolor": "#2a3f5f",
             "gridcolor": "#C8D4E3",
             "linecolor": "#C8D4E3",
             "minorgridcolor": "#C8D4E3",
             "startlinecolor": "#2a3f5f"
            },
            "type": "carpet"
           }
          ],
          "choropleth": [
           {
            "colorbar": {
             "outlinewidth": 0,
             "ticks": ""
            },
            "type": "choropleth"
           }
          ],
          "contour": [
           {
            "colorbar": {
             "outlinewidth": 0,
             "ticks": ""
            },
            "colorscale": [
             [
              0,
              "#0d0887"
             ],
             [
              0.1111111111111111,
              "#46039f"
             ],
             [
              0.2222222222222222,
              "#7201a8"
             ],
             [
              0.3333333333333333,
              "#9c179e"
             ],
             [
              0.4444444444444444,
              "#bd3786"
             ],
             [
              0.5555555555555556,
              "#d8576b"
             ],
             [
              0.6666666666666666,
              "#ed7953"
             ],
             [
              0.7777777777777778,
              "#fb9f3a"
             ],
             [
              0.8888888888888888,
              "#fdca26"
             ],
             [
              1,
              "#f0f921"
             ]
            ],
            "type": "contour"
           }
          ],
          "contourcarpet": [
           {
            "colorbar": {
             "outlinewidth": 0,
             "ticks": ""
            },
            "type": "contourcarpet"
           }
          ],
          "heatmap": [
           {
            "colorbar": {
             "outlinewidth": 0,
             "ticks": ""
            },
            "colorscale": [
             [
              0,
              "#0d0887"
             ],
             [
              0.1111111111111111,
              "#46039f"
             ],
             [
              0.2222222222222222,
              "#7201a8"
             ],
             [
              0.3333333333333333,
              "#9c179e"
             ],
             [
              0.4444444444444444,
              "#bd3786"
             ],
             [
              0.5555555555555556,
              "#d8576b"
             ],
             [
              0.6666666666666666,
              "#ed7953"
             ],
             [
              0.7777777777777778,
              "#fb9f3a"
             ],
             [
              0.8888888888888888,
              "#fdca26"
             ],
             [
              1,
              "#f0f921"
             ]
            ],
            "type": "heatmap"
           }
          ],
          "heatmapgl": [
           {
            "colorbar": {
             "outlinewidth": 0,
             "ticks": ""
            },
            "colorscale": [
             [
              0,
              "#0d0887"
             ],
             [
              0.1111111111111111,
              "#46039f"
             ],
             [
              0.2222222222222222,
              "#7201a8"
             ],
             [
              0.3333333333333333,
              "#9c179e"
             ],
             [
              0.4444444444444444,
              "#bd3786"
             ],
             [
              0.5555555555555556,
              "#d8576b"
             ],
             [
              0.6666666666666666,
              "#ed7953"
             ],
             [
              0.7777777777777778,
              "#fb9f3a"
             ],
             [
              0.8888888888888888,
              "#fdca26"
             ],
             [
              1,
              "#f0f921"
             ]
            ],
            "type": "heatmapgl"
           }
          ],
          "histogram": [
           {
            "marker": {
             "line": {
              "width": 1
             },
             "pattern": {
              "fillmode": "overlay",
              "size": 10,
              "solidity": 0.2
             }
            },
            "type": "histogram"
           }
          ],
          "histogram2d": [
           {
            "colorbar": {
             "outlinewidth": 0,
             "ticks": ""
            },
            "colorscale": [
             [
              0,
              "#0d0887"
             ],
             [
              0.1111111111111111,
              "#46039f"
             ],
             [
              0.2222222222222222,
              "#7201a8"
             ],
             [
              0.3333333333333333,
              "#9c179e"
             ],
             [
              0.4444444444444444,
              "#bd3786"
             ],
             [
              0.5555555555555556,
              "#d8576b"
             ],
             [
              0.6666666666666666,
              "#ed7953"
             ],
             [
              0.7777777777777778,
              "#fb9f3a"
             ],
             [
              0.8888888888888888,
              "#fdca26"
             ],
             [
              1,
              "#f0f921"
             ]
            ],
            "type": "histogram2d"
           }
          ],
          "histogram2dcontour": [
           {
            "colorbar": {
             "outlinewidth": 0,
             "ticks": ""
            },
            "colorscale": [
             [
              0,
              "#0d0887"
             ],
             [
              0.1111111111111111,
              "#46039f"
             ],
             [
              0.2222222222222222,
              "#7201a8"
             ],
             [
              0.3333333333333333,
              "#9c179e"
             ],
             [
              0.4444444444444444,
              "#bd3786"
             ],
             [
              0.5555555555555556,
              "#d8576b"
             ],
             [
              0.6666666666666666,
              "#ed7953"
             ],
             [
              0.7777777777777778,
              "#fb9f3a"
             ],
             [
              0.8888888888888888,
              "#fdca26"
             ],
             [
              1,
              "#f0f921"
             ]
            ],
            "type": "histogram2dcontour"
           }
          ],
          "mesh3d": [
           {
            "colorbar": {
             "outlinewidth": 0,
             "ticks": ""
            },
            "type": "mesh3d"
           }
          ],
          "parcoords": [
           {
            "line": {
             "colorbar": {
              "outlinewidth": 0,
              "ticks": ""
             }
            },
            "type": "parcoords"
           }
          ],
          "pie": [
           {
            "automargin": true,
            "type": "pie"
           }
          ],
          "scatter": [
           {
            "marker": {
             "colorbar": {
              "outlinewidth": 0,
              "ticks": ""
             },
             "opacity": 0.8
            },
            "type": "scatter"
           }
          ],
          "scatter3d": [
           {
            "line": {
             "colorbar": {
              "outlinewidth": 0,
              "ticks": ""
             }
            },
            "marker": {
             "colorbar": {
              "outlinewidth": 0,
              "ticks": ""
             },
             "opacity": 0.8
            },
            "type": "scatter3d"
           }
          ],
          "scattercarpet": [
           {
            "marker": {
             "colorbar": {
              "outlinewidth": 0,
              "ticks": ""
             }
            },
            "type": "scattercarpet"
           }
          ],
          "scattergeo": [
           {
            "marker": {
             "colorbar": {
              "outlinewidth": 0,
              "ticks": ""
             }
            },
            "type": "scattergeo"
           }
          ],
          "scattergl": [
           {
            "marker": {
             "colorbar": {
              "outlinewidth": 0,
              "ticks": ""
             }
            },
            "type": "scattergl"
           }
          ],
          "scattermapbox": [
           {
            "marker": {
             "colorbar": {
              "outlinewidth": 0,
              "ticks": ""
             }
            },
            "type": "scattermapbox"
           }
          ],
          "scatterpolar": [
           {
            "marker": {
             "colorbar": {
              "outlinewidth": 0,
              "ticks": ""
             }
            },
            "type": "scatterpolar"
           }
          ],
          "scatterpolargl": [
           {
            "marker": {
             "colorbar": {
              "outlinewidth": 0,
              "ticks": ""
             }
            },
            "type": "scatterpolargl"
           }
          ],
          "scatterternary": [
           {
            "marker": {
             "colorbar": {
              "outlinewidth": 0,
              "ticks": ""
             }
            },
            "type": "scatterternary"
           }
          ],
          "surface": [
           {
            "colorbar": {
             "outlinewidth": 0,
             "ticks": ""
            },
            "colorscale": [
             [
              0,
              "#0d0887"
             ],
             [
              0.1111111111111111,
              "#46039f"
             ],
             [
              0.2222222222222222,
              "#7201a8"
             ],
             [
              0.3333333333333333,
              "#9c179e"
             ],
             [
              0.4444444444444444,
              "#bd3786"
             ],
             [
              0.5555555555555556,
              "#d8576b"
             ],
             [
              0.6666666666666666,
              "#ed7953"
             ],
             [
              0.7777777777777778,
              "#fb9f3a"
             ],
             [
              0.8888888888888888,
              "#fdca26"
             ],
             [
              1,
              "#f0f921"
             ]
            ],
            "type": "surface"
           }
          ],
          "table": [
           {
            "cells": {
             "fill": {
              "color": "#EBF0F8"
             },
             "line": {
              "color": "white"
             }
            },
            "header": {
             "fill": {
              "color": "#C8D4E3"
             },
             "line": {
              "color": "white"
             }
            },
            "type": "table"
           }
          ]
         },
         "layout": {
          "annotationdefaults": {
           "arrowcolor": "#2a3f5f",
           "arrowhead": 0,
           "arrowwidth": 1
          },
          "autotypenumbers": "strict",
          "coloraxis": {
           "colorbar": {
            "outlinewidth": 0,
            "ticks": ""
           }
          },
          "colorscale": {
           "diverging": [
            [
             0,
             "#8e0152"
            ],
            [
             0.1,
             "#c51b7d"
            ],
            [
             0.2,
             "#de77ae"
            ],
            [
             0.3,
             "#f1b6da"
            ],
            [
             0.4,
             "#fde0ef"
            ],
            [
             0.5,
             "#f7f7f7"
            ],
            [
             0.6,
             "#e6f5d0"
            ],
            [
             0.7,
             "#b8e186"
            ],
            [
             0.8,
             "#7fbc41"
            ],
            [
             0.9,
             "#4d9221"
            ],
            [
             1,
             "#276419"
            ]
           ],
           "sequential": [
            [
             0,
             "#0d0887"
            ],
            [
             0.1111111111111111,
             "#46039f"
            ],
            [
             0.2222222222222222,
             "#7201a8"
            ],
            [
             0.3333333333333333,
             "#9c179e"
            ],
            [
             0.4444444444444444,
             "#bd3786"
            ],
            [
             0.5555555555555556,
             "#d8576b"
            ],
            [
             0.6666666666666666,
             "#ed7953"
            ],
            [
             0.7777777777777778,
             "#fb9f3a"
            ],
            [
             0.8888888888888888,
             "#fdca26"
            ],
            [
             1,
             "#f0f921"
            ]
           ],
           "sequentialminus": [
            [
             0,
             "#0d0887"
            ],
            [
             0.1111111111111111,
             "#46039f"
            ],
            [
             0.2222222222222222,
             "#7201a8"
            ],
            [
             0.3333333333333333,
             "#9c179e"
            ],
            [
             0.4444444444444444,
             "#bd3786"
            ],
            [
             0.5555555555555556,
             "#d8576b"
            ],
            [
             0.6666666666666666,
             "#ed7953"
            ],
            [
             0.7777777777777778,
             "#fb9f3a"
            ],
            [
             0.8888888888888888,
             "#fdca26"
            ],
            [
             1,
             "#f0f921"
            ]
           ]
          },
          "colorway": [
           "#636efa",
           "#EF553B",
           "#00cc96",
           "#ab63fa",
           "#FFA15A",
           "#19d3f3",
           "#FF6692",
           "#B6E880",
           "#FF97FF",
           "#FECB52"
          ],
          "font": {
           "color": "#2a3f5f"
          },
          "geo": {
           "bgcolor": "white",
           "lakecolor": "white",
           "landcolor": "white",
           "showlakes": true,
           "showland": true,
           "subunitcolor": "#C8D4E3"
          },
          "height": 400,
          "hoverlabel": {
           "align": "left"
          },
          "hovermode": "closest",
          "mapbox": {
           "style": "light"
          },
          "margin": {
           "b": 2,
           "l": 2,
           "r": 2,
           "t": 30
          },
          "paper_bgcolor": "white",
          "plot_bgcolor": "white",
          "polar": {
           "angularaxis": {
            "gridcolor": "#EBF0F8",
            "linecolor": "#EBF0F8",
            "ticks": ""
           },
           "bgcolor": "white",
           "radialaxis": {
            "gridcolor": "#EBF0F8",
            "linecolor": "#EBF0F8",
            "ticks": ""
           }
          },
          "scene": {
           "camera": {
            "eye": {
             "x": 1.5,
             "y": 1.5,
             "z": 0.1
            }
           },
           "xaxis": {
            "backgroundcolor": "white",
            "gridcolor": "#DFE8F3",
            "gridwidth": 2,
            "linecolor": "#EBF0F8",
            "showbackground": true,
            "ticks": "",
            "zerolinecolor": "#EBF0F8"
           },
           "yaxis": {
            "backgroundcolor": "white",
            "gridcolor": "#DFE8F3",
            "gridwidth": 2,
            "linecolor": "#EBF0F8",
            "showbackground": true,
            "ticks": "",
            "zerolinecolor": "#EBF0F8"
           },
           "zaxis": {
            "backgroundcolor": "white",
            "gridcolor": "#DFE8F3",
            "gridwidth": 2,
            "linecolor": "#EBF0F8",
            "showbackground": true,
            "ticks": "",
            "zerolinecolor": "#EBF0F8"
           }
          },
          "shapedefaults": {
           "line": {
            "color": "#2a3f5f"
           }
          },
          "ternary": {
           "aaxis": {
            "gridcolor": "#DFE8F3",
            "linecolor": "#A2B1C6",
            "ticks": ""
           },
           "baxis": {
            "gridcolor": "#DFE8F3",
            "linecolor": "#A2B1C6",
            "ticks": ""
           },
           "bgcolor": "white",
           "caxis": {
            "gridcolor": "#DFE8F3",
            "linecolor": "#A2B1C6",
            "ticks": ""
           }
          },
          "title": {
           "x": 0.5
          },
          "xaxis": {
           "automargin": true,
           "gridcolor": "#EBF0F8",
           "linecolor": "#EBF0F8",
           "linewidth": 2,
           "showline": true,
           "ticks": "",
           "title": {
            "standoff": 15
           },
           "zerolinecolor": "#EBF0F8",
           "zerolinewidth": 2
          },
          "yaxis": {
           "automargin": true,
           "gridcolor": "#EBF0F8",
           "linecolor": "#EBF0F8",
           "linewidth": 2,
           "showline": true,
           "ticks": "",
           "title": {
            "standoff": 15
           },
           "zerolinecolor": "#EBF0F8",
           "zerolinewidth": 2
          }
         }
        },
        "title": {
         "text": "Trained model"
        },
        "xaxis": {
         "anchor": "y",
         "domain": [
          0,
          1
         ],
         "title": {
          "text": "age"
         }
        },
        "yaxis": {
         "anchor": "x",
         "domain": [
          0,
          1
         ],
         "title": {
          "text": "core temperature"
         }
        }
       }
      },
      "text/html": [
       "<div>                            <div id=\"2fd51e27-58fe-4625-9f5b-fb5b819ecd41\" class=\"plotly-graph-div\" style=\"height:400px; width:100%;\"></div>            <script type=\"text/javascript\">                require([\"plotly\"], function(Plotly) {                    window.PLOTLYENV=window.PLOTLYENV || {};                                    if (document.getElementById(\"2fd51e27-58fe-4625-9f5b-fb5b819ecd41\")) {                    Plotly.newPlot(                        \"2fd51e27-58fe-4625-9f5b-fb5b819ecd41\",                        [{\"hovertemplate\":\"age=%{x}<br>core temperature=%{y}<extra></extra>\",\"legendgroup\":\"\",\"marker\":{\"color\":\"#636efa\",\"size\":17,\"symbol\":\"circle\"},\"mode\":\"markers\",\"name\":\"\",\"orientation\":\"v\",\"showlegend\":false,\"type\":\"scatter\",\"x\":[6.9,5.4,5.4,4.8,4.8,7.8,2.7,5.7,1.5,1.8,4.2,4.5,1.5,5.1,4.8,5.1,3.6,4.2,2.7,8.7,0.9,6.3,1.2,2.7,6.0,6.0,0.6,3.9,6.0,5.7,6.9,5.1,2.1,3.6,6.3,2.4,8.4,7.5,5.7,5.7,2.7,4.2,6.9,3.0,1.8,2.4,6.3,0.6,1.8,4.8,8.4,8.1,6.3,8.7,4.5,4.5,7.5,1.2,5.7,0.6,6.9,8.1,0.6,1.2,6.6,8.1,2.7,3.9,4.2,6.9,1.2,3.9,3.6,0.3,3.0,8.7,2.1,6.6,1.5,5.1,6.0,2.1,6.0,4.2,1.5,1.8,1.8,6.9,6.9,4.5,1.8,8.4,3.0,4.5,1.8,6.6,6.9,6.0],\"xaxis\":\"x\",\"y\":[38.42316895,39.01599822,39.14834088,39.06004863,38.65543905,38.6092188,39.47390806,38.81521612,37.77845286,39.17685034,39.52090819,38.57896943,38.28013391,38.40158039,38.65157641,39.61720308,37.72843549,39.36694049,37.98848685,39.93405104,37.60559023,38.83468198,37.39892664,38.98633063,39.72456882,38.09695504,37.59597881,39.49731323,38.50187636,38.27036031,38.69964224,39.08411118,38.29400364,38.39872285,39.29951536,38.37598649,38.46968433,39.58561173,38.12682317,39.80156649,37.92682179,39.67264697,38.21409556,38.93217418,37.80121676,37.52097889,39.34942824,38.9163822,38.72595498,38.35421436,40.17337876,39.48214424,39.9557292,39.02529641,39.70565695,37.87210056,38.92730588,38.75694066,38.98157028,39.07020183,39.31023381,40.26487847,39.19531025,37.46606804,38.61929591,39.74308443,37.9590829,38.52387016,39.58821189,39.48780846,37.32113362,38.30311301,39.32598796,38.18373964,37.78518905,38.97361387,37.97719515,38.92654301,37.98922316,39.87010492,38.51344083,39.14710639,38.61129304,38.95232638,37.46812464,38.24131363,38.7661591,39.87233432,38.87492299,39.09337261,39.00124171,39.25963687,38.6808734,37.93994229,38.79042609,39.48996228,38.57574159,39.76644658],\"yaxis\":\"y\"}],                        {\"legend\":{\"tracegroupgap\":0},\"shapes\":[{\"line\":{\"color\":\"rgb(228,26,28)\"},\"path\":\"M0.3 38.133869422156295 L 0.3422110552763819 38.1403420475402 L 0.38442211055276376 38.14681467292411 L 0.4266331658291457 38.153287298308015 L 0.4688442211055276 38.15975992369192 L 0.5110552763819095 38.16623254907583 L 0.5532663316582913 38.172705174459736 L 0.5954773869346732 38.17917779984364 L 0.6376884422110551 38.18565042522755 L 0.679899497487437 38.19212305061146 L 0.722110552763819 38.198595675995364 L 0.7643216080402009 38.20506830137927 L 0.8065326633165828 38.21154092676318 L 0.8487437185929647 38.218013552147085 L 0.8909547738693466 38.22448617753099 L 0.9331658291457285 38.2309588029149 L 0.9753768844221105 38.237431428298805 L 1.0175879396984924 38.24390405368271 L 1.0597989949748743 38.25037667906662 L 1.1020100502512562 38.256849304450526 L 1.1442211055276381 38.26332192983443 L 1.1864321608040198 38.26979455521834 L 1.2286432160804017 38.27626718060225 L 1.2708542713567836 38.282739805986154 L 1.3130653266331656 38.28921243137006 L 1.3552763819095475 38.29568505675397 L 1.3974874371859294 38.302157682137874 L 1.4396984924623113 38.30863030752178 L 1.4819095477386932 38.31510293290569 L 1.5241206030150751 38.321575558289595 L 1.566331658291457 38.3280481836735 L 1.608542713567839 38.33452080905741 L 1.6507537688442209 38.340993434441316 L 1.6929648241206028 38.34746605982522 L 1.7351758793969847 38.35393868520913 L 1.7773869346733666 38.36041131059304 L 1.8195979899497485 38.366883935976944 L 1.8618090452261304 38.37335656136085 L 1.9040201005025124 38.37982918674476 L 1.9462311557788943 38.386301812128664 L 1.9884422110552762 38.39277443751257 L 2.0306532663316577 38.39924706289648 L 2.07286432160804 38.405719688280385 L 2.1150753768844215 38.41219231366429 L 2.1572864321608036 38.4186649390482 L 2.1994974874371853 38.425137564432106 L 2.2417085427135675 38.43161018981601 L 2.283919597989949 38.43808281519992 L 2.326130653266331 38.44455544058383 L 2.368341708542713 38.45102806596773 L 2.4105527638190947 38.45750069135164 L 2.452763819095477 38.46397331673555 L 2.4949748743718585 38.470445942119454 L 2.5371859296482406 38.47691856750336 L 2.5793969849246223 38.48339119288727 L 2.6216080402010045 38.489863818271175 L 2.663819095477386 38.49633644365508 L 2.7060301507537683 38.50280906903899 L 2.74824120603015 38.509281694422896 L 2.790452261306532 38.5157543198068 L 2.832663316582914 38.52222694519071 L 2.874874371859296 38.52869957057462 L 2.9170854271356776 38.53517219595852 L 2.95929648241206 38.54164482134243 L 3.0015075376884415 38.54811744672634 L 3.043718592964823 38.554590072110244 L 3.0859296482412053 38.56106269749415 L 3.128140703517587 38.56753532287806 L 3.170351758793969 38.574007948261965 L 3.212562814070351 38.58048057364587 L 3.254773869346733 38.58695319902978 L 3.2969849246231147 38.593425824413686 L 3.339195979899497 38.59989844979759 L 3.3814070351758785 38.6063710751815 L 3.4236180904522606 38.612843700565406 L 3.4658291457286423 38.61931632594931 L 3.5080402010050244 38.62578895133322 L 3.550251256281406 38.63226157671713 L 3.5924623115577883 38.638734202101034 L 3.63467336683417 38.64520682748494 L 3.676884422110552 38.65167945286885 L 3.719095477386934 38.658152078252755 L 3.7613065326633155 38.66462470363666 L 3.8035175879396976 38.67109732902057 L 3.8457286432160793 38.677569954404476 L 3.8879396984924615 38.68404257978838 L 3.930150753768843 38.69051520517229 L 3.9723618090452253 38.696987830556196 L 4.014572864321607 38.7034604559401 L 4.056783919597989 38.70993308132401 L 4.098994974874371 38.71640570670792 L 4.141206030150753 38.722878332091824 L 4.183417085427135 38.72935095747573 L 4.225628140703517 38.73582358285964 L 4.2678391959798985 38.742296208243545 L 4.31005025125628 38.74876883362745 L 4.352261306532662 38.75524145901136 L 4.394472361809044 38.761714084395265 L 4.436683417085426 38.76818670977917 L 4.478894472361808 38.77465933516308 L 4.5211055276381895 38.781131960546986 L 4.563316582914572 38.78760458593089 L 4.605527638190954 38.7940772113148 L 4.6477386934673355 38.80054983669871 L 4.689949748743717 38.807022462082614 L 4.7321608040201 38.81349508746652 L 4.7743718592964814 38.81996771285043 L 4.816582914572863 38.826440338234335 L 4.858793969849245 38.83291296361824 L 4.901005025125627 38.83938558900215 L 4.943216080402009 38.845858214386055 L 4.985427135678391 38.85233083976996 L 5.0276381909547725 38.85880346515387 L 5.069849246231154 38.865276090537776 L 5.112060301507537 38.87174871592168 L 5.1542713567839185 38.87822134130559 L 5.1964824120603 38.8846939666895 L 5.238693467336682 38.891166592073404 L 5.280904522613064 38.89763921745731 L 5.323115577889446 38.90411184284122 L 5.365326633165828 38.910584468225125 L 5.4075376884422095 38.91705709360903 L 5.449748743718592 38.92352971899294 L 5.491959798994974 38.930002344376845 L 5.5341708542713555 38.93647496976075 L 5.576381909547737 38.94294759514466 L 5.61859296482412 38.949420220528566 L 5.660804020100501 38.95589284591247 L 5.703015075376883 38.96236547129638 L 5.745226130653265 38.96883809668029 L 5.7874371859296465 38.975310722064194 L 5.829648241206029 38.9817833474481 L 5.871859296482411 38.98825597283201 L 5.9140703517587925 38.994728598215914 L 5.956281407035174 39.00120122359982 L 5.998492462311557 39.00767384898373 L 6.040703517587938 39.014146474367635 L 6.08291457286432 39.02061909975154 L 6.125125628140702 39.02709172513545 L 6.167336683417084 39.033564350519356 L 6.209547738693466 39.04003697590326 L 6.251758793969848 39.04650960128717 L 6.2939698492462295 39.05298222667108 L 6.336180904522612 39.059454852054984 L 6.378391959798994 39.06592747743889 L 6.4206030150753755 39.0724001028228 L 6.462814070351757 39.078872728206704 L 6.505025125628139 39.08534535359061 L 6.547236180904521 39.09181797897452 L 6.589447236180903 39.098290604358425 L 6.631658291457285 39.10476322974233 L 6.6738693467336665 39.11123585512624 L 6.716080402010049 39.117708480510146 L 6.758291457286431 39.12418110589405 L 6.8005025125628125 39.13065373127796 L 6.842713567839194 39.13712635666187 L 6.884924623115577 39.14359898204577 L 6.927135678391958 39.15007160742968 L 6.96934673366834 39.15654423281359 L 7.011557788944722 39.163016858197494 L 7.053768844221104 39.1694894835814 L 7.095979899497486 39.17596210896531 L 7.138190954773868 39.182434734349215 L 7.1804020100502495 39.18890735973312 L 7.222613065326631 39.19537998511703 L 7.264824120603014 39.201852610500936 L 7.307035175879395 39.20832523588484 L 7.349246231155777 39.21479786126875 L 7.391457286432159 39.22127048665266 L 7.433668341708541 39.22774311203656 L 7.475879396984923 39.23421573742047 L 7.518090452261305 39.24068836280438 L 7.5603015075376865 39.247160988188284 L 7.602512562814069 39.25363361357219 L 7.644723618090451 39.2601062389561 L 7.6869346733668324 39.266578864340005 L 7.729145728643214 39.27305148972391 L 7.771356783919596 39.27952411510782 L 7.813567839195978 39.285996740491726 L 7.85577889447236 39.29246936587563 L 7.897989949748742 39.29894199125954 L 7.9402010050251235 39.305414616643446 L 7.982412060301506 39.31188724202735 L 8.024623115577889 39.31835986741126 L 8.06683417085427 39.32483249279517 L 8.109045226130652 39.331305118179074 L 8.151256281407035 39.33777774356298 L 8.193467336683415 39.34425036894689 L 8.235678391959798 39.350722994330795 L 8.277889447236179 39.3571956197147 L 8.320100502512561 39.36366824509861 L 8.362311557788944 39.370140870482516 L 8.404522613065325 39.37661349586642 L 8.446733668341707 39.38308612125033 L 8.48894472361809 39.389558746634236 L 8.53115577889447 39.39603137201814 L 8.573366834170853 39.40250399740205 L 8.615577889447236 39.40897662278596 L 8.657788944723617 39.415449248169864 L 8.7 39.42192187355377\",\"type\":\"path\"}],\"template\":{\"data\":{\"bar\":[{\"error_x\":{\"color\":\"#2a3f5f\"},\"error_y\":{\"color\":\"#2a3f5f\"},\"marker\":{\"line\":{\"color\":\"white\",\"width\":0.5},\"pattern\":{\"fillmode\":\"overlay\",\"size\":10,\"solidity\":0.2}},\"type\":\"bar\"}],\"barpolar\":[{\"marker\":{\"line\":{\"color\":\"white\",\"width\":0.5},\"pattern\":{\"fillmode\":\"overlay\",\"size\":10,\"solidity\":0.2}},\"type\":\"barpolar\"}],\"box\":[{\"boxpoints\":\"outliers\",\"notched\":false,\"type\":\"box\"}],\"carpet\":[{\"aaxis\":{\"endlinecolor\":\"#2a3f5f\",\"gridcolor\":\"#C8D4E3\",\"linecolor\":\"#C8D4E3\",\"minorgridcolor\":\"#C8D4E3\",\"startlinecolor\":\"#2a3f5f\"},\"baxis\":{\"endlinecolor\":\"#2a3f5f\",\"gridcolor\":\"#C8D4E3\",\"linecolor\":\"#C8D4E3\",\"minorgridcolor\":\"#C8D4E3\",\"startlinecolor\":\"#2a3f5f\"},\"type\":\"carpet\"}],\"choropleth\":[{\"colorbar\":{\"outlinewidth\":0,\"ticks\":\"\"},\"type\":\"choropleth\"}],\"contour\":[{\"colorbar\":{\"outlinewidth\":0,\"ticks\":\"\"},\"colorscale\":[[0.0,\"#0d0887\"],[0.1111111111111111,\"#46039f\"],[0.2222222222222222,\"#7201a8\"],[0.3333333333333333,\"#9c179e\"],[0.4444444444444444,\"#bd3786\"],[0.5555555555555556,\"#d8576b\"],[0.6666666666666666,\"#ed7953\"],[0.7777777777777778,\"#fb9f3a\"],[0.8888888888888888,\"#fdca26\"],[1.0,\"#f0f921\"]],\"type\":\"contour\"}],\"contourcarpet\":[{\"colorbar\":{\"outlinewidth\":0,\"ticks\":\"\"},\"type\":\"contourcarpet\"}],\"heatmap\":[{\"colorbar\":{\"outlinewidth\":0,\"ticks\":\"\"},\"colorscale\":[[0.0,\"#0d0887\"],[0.1111111111111111,\"#46039f\"],[0.2222222222222222,\"#7201a8\"],[0.3333333333333333,\"#9c179e\"],[0.4444444444444444,\"#bd3786\"],[0.5555555555555556,\"#d8576b\"],[0.6666666666666666,\"#ed7953\"],[0.7777777777777778,\"#fb9f3a\"],[0.8888888888888888,\"#fdca26\"],[1.0,\"#f0f921\"]],\"type\":\"heatmap\"}],\"heatmapgl\":[{\"colorbar\":{\"outlinewidth\":0,\"ticks\":\"\"},\"colorscale\":[[0.0,\"#0d0887\"],[0.1111111111111111,\"#46039f\"],[0.2222222222222222,\"#7201a8\"],[0.3333333333333333,\"#9c179e\"],[0.4444444444444444,\"#bd3786\"],[0.5555555555555556,\"#d8576b\"],[0.6666666666666666,\"#ed7953\"],[0.7777777777777778,\"#fb9f3a\"],[0.8888888888888888,\"#fdca26\"],[1.0,\"#f0f921\"]],\"type\":\"heatmapgl\"}],\"histogram\":[{\"marker\":{\"line\":{\"width\":1},\"pattern\":{\"fillmode\":\"overlay\",\"size\":10,\"solidity\":0.2}},\"type\":\"histogram\"}],\"histogram2d\":[{\"colorbar\":{\"outlinewidth\":0,\"ticks\":\"\"},\"colorscale\":[[0.0,\"#0d0887\"],[0.1111111111111111,\"#46039f\"],[0.2222222222222222,\"#7201a8\"],[0.3333333333333333,\"#9c179e\"],[0.4444444444444444,\"#bd3786\"],[0.5555555555555556,\"#d8576b\"],[0.6666666666666666,\"#ed7953\"],[0.7777777777777778,\"#fb9f3a\"],[0.8888888888888888,\"#fdca26\"],[1.0,\"#f0f921\"]],\"type\":\"histogram2d\"}],\"histogram2dcontour\":[{\"colorbar\":{\"outlinewidth\":0,\"ticks\":\"\"},\"colorscale\":[[0.0,\"#0d0887\"],[0.1111111111111111,\"#46039f\"],[0.2222222222222222,\"#7201a8\"],[0.3333333333333333,\"#9c179e\"],[0.4444444444444444,\"#bd3786\"],[0.5555555555555556,\"#d8576b\"],[0.6666666666666666,\"#ed7953\"],[0.7777777777777778,\"#fb9f3a\"],[0.8888888888888888,\"#fdca26\"],[1.0,\"#f0f921\"]],\"type\":\"histogram2dcontour\"}],\"mesh3d\":[{\"colorbar\":{\"outlinewidth\":0,\"ticks\":\"\"},\"type\":\"mesh3d\"}],\"parcoords\":[{\"line\":{\"colorbar\":{\"outlinewidth\":0,\"ticks\":\"\"}},\"type\":\"parcoords\"}],\"pie\":[{\"automargin\":true,\"type\":\"pie\"}],\"scatter\":[{\"marker\":{\"colorbar\":{\"outlinewidth\":0,\"ticks\":\"\"},\"opacity\":0.8},\"type\":\"scatter\"}],\"scatter3d\":[{\"line\":{\"colorbar\":{\"outlinewidth\":0,\"ticks\":\"\"}},\"marker\":{\"colorbar\":{\"outlinewidth\":0,\"ticks\":\"\"},\"opacity\":0.8},\"type\":\"scatter3d\"}],\"scattercarpet\":[{\"marker\":{\"colorbar\":{\"outlinewidth\":0,\"ticks\":\"\"}},\"type\":\"scattercarpet\"}],\"scattergeo\":[{\"marker\":{\"colorbar\":{\"outlinewidth\":0,\"ticks\":\"\"}},\"type\":\"scattergeo\"}],\"scattergl\":[{\"marker\":{\"colorbar\":{\"outlinewidth\":0,\"ticks\":\"\"}},\"type\":\"scattergl\"}],\"scattermapbox\":[{\"marker\":{\"colorbar\":{\"outlinewidth\":0,\"ticks\":\"\"}},\"type\":\"scattermapbox\"}],\"scatterpolar\":[{\"marker\":{\"colorbar\":{\"outlinewidth\":0,\"ticks\":\"\"}},\"type\":\"scatterpolar\"}],\"scatterpolargl\":[{\"marker\":{\"colorbar\":{\"outlinewidth\":0,\"ticks\":\"\"}},\"type\":\"scatterpolargl\"}],\"scatterternary\":[{\"marker\":{\"colorbar\":{\"outlinewidth\":0,\"ticks\":\"\"}},\"type\":\"scatterternary\"}],\"surface\":[{\"colorbar\":{\"outlinewidth\":0,\"ticks\":\"\"},\"colorscale\":[[0.0,\"#0d0887\"],[0.1111111111111111,\"#46039f\"],[0.2222222222222222,\"#7201a8\"],[0.3333333333333333,\"#9c179e\"],[0.4444444444444444,\"#bd3786\"],[0.5555555555555556,\"#d8576b\"],[0.6666666666666666,\"#ed7953\"],[0.7777777777777778,\"#fb9f3a\"],[0.8888888888888888,\"#fdca26\"],[1.0,\"#f0f921\"]],\"type\":\"surface\"}],\"table\":[{\"cells\":{\"fill\":{\"color\":\"#EBF0F8\"},\"line\":{\"color\":\"white\"}},\"header\":{\"fill\":{\"color\":\"#C8D4E3\"},\"line\":{\"color\":\"white\"}},\"type\":\"table\"}]},\"layout\":{\"annotationdefaults\":{\"arrowcolor\":\"#2a3f5f\",\"arrowhead\":0,\"arrowwidth\":1},\"autotypenumbers\":\"strict\",\"coloraxis\":{\"colorbar\":{\"outlinewidth\":0,\"ticks\":\"\"}},\"colorscale\":{\"diverging\":[[0,\"#8e0152\"],[0.1,\"#c51b7d\"],[0.2,\"#de77ae\"],[0.3,\"#f1b6da\"],[0.4,\"#fde0ef\"],[0.5,\"#f7f7f7\"],[0.6,\"#e6f5d0\"],[0.7,\"#b8e186\"],[0.8,\"#7fbc41\"],[0.9,\"#4d9221\"],[1,\"#276419\"]],\"sequential\":[[0.0,\"#0d0887\"],[0.1111111111111111,\"#46039f\"],[0.2222222222222222,\"#7201a8\"],[0.3333333333333333,\"#9c179e\"],[0.4444444444444444,\"#bd3786\"],[0.5555555555555556,\"#d8576b\"],[0.6666666666666666,\"#ed7953\"],[0.7777777777777778,\"#fb9f3a\"],[0.8888888888888888,\"#fdca26\"],[1.0,\"#f0f921\"]],\"sequentialminus\":[[0.0,\"#0d0887\"],[0.1111111111111111,\"#46039f\"],[0.2222222222222222,\"#7201a8\"],[0.3333333333333333,\"#9c179e\"],[0.4444444444444444,\"#bd3786\"],[0.5555555555555556,\"#d8576b\"],[0.6666666666666666,\"#ed7953\"],[0.7777777777777778,\"#fb9f3a\"],[0.8888888888888888,\"#fdca26\"],[1.0,\"#f0f921\"]]},\"colorway\":[\"#636efa\",\"#EF553B\",\"#00cc96\",\"#ab63fa\",\"#FFA15A\",\"#19d3f3\",\"#FF6692\",\"#B6E880\",\"#FF97FF\",\"#FECB52\"],\"font\":{\"color\":\"#2a3f5f\"},\"geo\":{\"bgcolor\":\"white\",\"lakecolor\":\"white\",\"landcolor\":\"white\",\"showlakes\":true,\"showland\":true,\"subunitcolor\":\"#C8D4E3\"},\"height\":400,\"hoverlabel\":{\"align\":\"left\"},\"hovermode\":\"closest\",\"mapbox\":{\"style\":\"light\"},\"margin\":{\"b\":2,\"l\":2,\"r\":2,\"t\":30},\"paper_bgcolor\":\"white\",\"plot_bgcolor\":\"white\",\"polar\":{\"angularaxis\":{\"gridcolor\":\"#EBF0F8\",\"linecolor\":\"#EBF0F8\",\"ticks\":\"\"},\"bgcolor\":\"white\",\"radialaxis\":{\"gridcolor\":\"#EBF0F8\",\"linecolor\":\"#EBF0F8\",\"ticks\":\"\"}},\"scene\":{\"camera\":{\"eye\":{\"x\":1.5,\"y\":1.5,\"z\":0.1}},\"xaxis\":{\"backgroundcolor\":\"white\",\"gridcolor\":\"#DFE8F3\",\"gridwidth\":2,\"linecolor\":\"#EBF0F8\",\"showbackground\":true,\"ticks\":\"\",\"zerolinecolor\":\"#EBF0F8\"},\"yaxis\":{\"backgroundcolor\":\"white\",\"gridcolor\":\"#DFE8F3\",\"gridwidth\":2,\"linecolor\":\"#EBF0F8\",\"showbackground\":true,\"ticks\":\"\",\"zerolinecolor\":\"#EBF0F8\"},\"zaxis\":{\"backgroundcolor\":\"white\",\"gridcolor\":\"#DFE8F3\",\"gridwidth\":2,\"linecolor\":\"#EBF0F8\",\"showbackground\":true,\"ticks\":\"\",\"zerolinecolor\":\"#EBF0F8\"}},\"shapedefaults\":{\"line\":{\"color\":\"#2a3f5f\"}},\"ternary\":{\"aaxis\":{\"gridcolor\":\"#DFE8F3\",\"linecolor\":\"#A2B1C6\",\"ticks\":\"\"},\"baxis\":{\"gridcolor\":\"#DFE8F3\",\"linecolor\":\"#A2B1C6\",\"ticks\":\"\"},\"bgcolor\":\"white\",\"caxis\":{\"gridcolor\":\"#DFE8F3\",\"linecolor\":\"#A2B1C6\",\"ticks\":\"\"}},\"title\":{\"x\":0.5},\"xaxis\":{\"automargin\":true,\"gridcolor\":\"#EBF0F8\",\"linecolor\":\"#EBF0F8\",\"linewidth\":2,\"showline\":true,\"ticks\":\"\",\"title\":{\"standoff\":15},\"zerolinecolor\":\"#EBF0F8\",\"zerolinewidth\":2},\"yaxis\":{\"automargin\":true,\"gridcolor\":\"#EBF0F8\",\"linecolor\":\"#EBF0F8\",\"linewidth\":2,\"showline\":true,\"ticks\":\"\",\"title\":{\"standoff\":15},\"zerolinecolor\":\"#EBF0F8\",\"zerolinewidth\":2}}},\"title\":{\"text\":\"Trained model\"},\"xaxis\":{\"anchor\":\"y\",\"domain\":[0.0,1.0],\"title\":{\"text\":\"age\"}},\"yaxis\":{\"anchor\":\"x\",\"domain\":[0.0,1.0],\"title\":{\"text\":\"core temperature\"}}},                        {\"responsive\": true}                    ).then(function(){\n",
       "                            \n",
       "var gd = document.getElementById('2fd51e27-58fe-4625-9f5b-fb5b819ecd41');\n",
       "var x = new MutationObserver(function (mutations, observer) {{\n",
       "        var display = window.getComputedStyle(gd).display;\n",
       "        if (!display || display === 'none') {{\n",
       "            console.log([gd, 'removed!']);\n",
       "            Plotly.purge(gd);\n",
       "            observer.disconnect();\n",
       "        }}\n",
       "}});\n",
       "\n",
       "// Listen for the removal of the full notebook cells\n",
       "var notebookContainer = gd.closest('#notebook-container');\n",
       "if (notebookContainer) {{\n",
       "    x.observe(notebookContainer, {childList: true});\n",
       "}}\n",
       "\n",
       "// Listen for the clearing of the current output cell\n",
       "var outputEl = gd.closest('.output');\n",
       "if (outputEl) {{\n",
       "    x.observe(outputEl, {childList: true});\n",
       "}}\n",
       "\n",
       "                        })                };                });            </script>        </div>"
      ]
     },
     "metadata": {},
     "output_type": "display_data"
    }
   ],
   "source": [
    "formula = \"core_temperature ~ age\"\n",
    "age_trained_model = smf.ols(formula = formula, data = dataset).fit()\n",
    "age_naive_model = smf.ols(formula = formula, data = dataset).fit()\n",
    "age_naive_model.params[0] = dataset['core_temperature'].mean()\n",
    "age_naive_model.params[1] = 0\n",
    "\n",
    "print(\"naive R-squared:\", age_naive_model.rsquared)\n",
    "print(\"trained R-squared:\", age_trained_model.rsquared)\n",
    "\n",
    "# Show a graph of the result\n",
    "graphing.scatter_2D(dataset, label_x=\"age\", \n",
    "                                label_y=\"core_temperature\",\n",
    "                                title = \"Naive model\",\n",
    "                                trendline=lambda x: pandas.Series([dataset['core_temperature'].mean()]).repeat(len(x)), \n",
    "                                show=True)\n",
    "# Show a graph of the result\n",
    "graphing.scatter_2D(dataset, label_x=\"age\", \n",
    "                                label_y=\"core_temperature\",\n",
    "                                title = \"Trained model\",\n",
    "                                trendline=lambda x: age_trained_model.params[1] * x + age_trained_model.params[0])\n",
    "\n"
   ]
  },
  {
   "cell_type": "markdown",
   "id": "b645f7cb",
   "metadata": {},
   "source": [
    "## Multiple Linear Regression\n",
    "\n",
    "Instead of modelling these separately, lets try to combine these into a single model. Body fat didn't seem to be useful after all, so let's just use `male` and `age` as features."
   ]
  },
  {
   "cell_type": "code",
   "execution_count": 5,
   "id": "79d27779",
   "metadata": {},
   "outputs": [
    {
     "name": "stdout",
     "output_type": "stream",
     "text": [
      "R-squared: 0.3148512699768009\n"
     ]
    }
   ],
   "source": [
    "model = smf.ols(formula = \"core_temperature ~ age + male\", data = dataset).fit()\n",
    "\n",
    "print(\"R-squared:\", model.rsquared)"
   ]
  },
  {
   "cell_type": "markdown",
   "id": "355adffa",
   "metadata": {},
   "source": [
    "By using both features at the same time, we got a better result than any of the one-feature (univariate) models.\n",
    "\n",
    "How can we view this though? Well, a simple linear regression is drawn in 2d. If we are working with an extra variable, we add one dimension and work in 3D. \n"
   ]
  },
  {
   "cell_type": "code",
   "execution_count": 6,
   "id": "1cbfe5f8",
   "metadata": {},
   "outputs": [
    {
     "data": {
      "application/vnd.plotly.v1+json": {
       "config": {
        "plotlyServerURL": "https://plot.ly"
       },
       "data": [
        {
         "colorbar": {
          "title": {
           "text": "Core temperature"
          }
         },
         "type": "surface",
         "x": [
          0.3,
          8.7
         ],
         "y": [
          0,
          1
         ],
         "z": [
          [
           38.02152564683271,
           39.20287941382103
          ],
          [
           38.33969218635936,
           39.52104595334768
          ]
         ]
        },
        {
         "mode": "markers",
         "type": "scatter3d",
         "x": [
          6.9,
          5.4,
          5.4,
          4.8,
          4.8,
          7.8,
          2.7,
          5.7,
          1.5,
          1.8,
          4.2,
          4.5,
          1.5,
          5.1,
          4.8,
          5.1,
          3.6,
          4.2,
          2.7,
          8.7,
          0.9,
          6.3,
          1.2,
          2.7,
          6,
          6,
          0.6,
          3.9,
          6,
          5.7,
          6.9,
          5.1,
          2.1,
          3.6,
          6.3,
          2.4,
          8.4,
          7.5,
          5.7,
          5.7,
          2.7,
          4.2,
          6.9,
          3,
          1.8,
          2.4,
          6.3,
          0.6,
          1.8,
          4.8,
          8.4,
          8.1,
          6.3,
          8.7,
          4.5,
          4.5,
          7.5,
          1.2,
          5.7,
          0.6,
          6.9,
          8.1,
          0.6,
          1.2,
          6.6,
          8.1,
          2.7,
          3.9,
          4.2,
          6.9,
          1.2,
          3.9,
          3.6,
          0.3,
          3,
          8.7,
          2.1,
          6.6,
          1.5,
          5.1,
          6,
          2.1,
          6,
          4.2,
          1.5,
          1.8,
          1.8,
          6.9,
          6.9,
          4.5,
          1.8,
          8.4,
          3,
          4.5,
          1.8,
          6.6,
          6.9,
          6
         ],
         "y": [
          0,
          0,
          1,
          1,
          1,
          0,
          1,
          1,
          0,
          0,
          1,
          0,
          1,
          1,
          0,
          1,
          1,
          1,
          0,
          1,
          0,
          1,
          0,
          1,
          1,
          0,
          1,
          0,
          0,
          0,
          1,
          0,
          1,
          1,
          1,
          1,
          1,
          1,
          0,
          1,
          0,
          1,
          0,
          0,
          0,
          0,
          0,
          1,
          0,
          1,
          1,
          1,
          0,
          0,
          1,
          0,
          1,
          0,
          1,
          0,
          1,
          1,
          1,
          1,
          1,
          1,
          1,
          0,
          0,
          1,
          0,
          1,
          1,
          0,
          0,
          1,
          0,
          1,
          0,
          0,
          0,
          1,
          0,
          0,
          1,
          1,
          0,
          1,
          0,
          0,
          0,
          1,
          0,
          0,
          1,
          0,
          0,
          1
         ],
         "z": [
          38.42316895,
          39.01599822,
          39.14834088,
          39.06004863,
          38.65543905,
          38.6092188,
          39.47390806,
          38.81521612,
          37.77845286,
          39.17685034,
          39.52090819,
          38.57896943,
          38.28013391,
          38.40158039,
          38.65157641,
          39.61720308,
          37.72843549,
          39.36694049,
          37.98848685,
          39.93405104,
          37.60559023,
          38.83468198,
          37.39892664,
          38.98633063,
          39.72456882,
          38.09695504,
          37.59597881,
          39.49731323,
          38.50187636,
          38.27036031,
          38.69964224,
          39.08411118,
          38.29400364,
          38.39872285,
          39.29951536,
          38.37598649,
          38.46968433,
          39.58561173,
          38.12682317,
          39.80156649,
          37.92682179,
          39.67264697,
          38.21409556,
          38.93217418,
          37.80121676,
          37.52097889,
          39.34942824,
          38.9163822,
          38.72595498,
          38.35421436,
          40.17337876,
          39.48214424,
          39.9557292,
          39.02529641,
          39.70565695,
          37.87210056,
          38.92730588,
          38.75694066,
          38.98157028,
          39.07020183,
          39.31023381,
          40.26487847,
          39.19531025,
          37.46606804,
          38.61929591,
          39.74308443,
          37.9590829,
          38.52387016,
          39.58821189,
          39.48780846,
          37.32113362,
          38.30311301,
          39.32598796,
          38.18373964,
          37.78518905,
          38.97361387,
          37.97719515,
          38.92654301,
          37.98922316,
          39.87010492,
          38.51344083,
          39.14710639,
          38.61129304,
          38.95232638,
          37.46812464,
          38.24131363,
          38.7661591,
          39.87233432,
          38.87492299,
          39.09337261,
          39.00124171,
          39.25963687,
          38.6808734,
          37.93994229,
          38.79042609,
          39.48996228,
          38.57574159,
          39.76644658
         ]
        }
       ],
       "layout": {
        "scene": {
         "xaxis": {
          "title": {
           "text": "Age"
          }
         },
         "yaxis": {
          "title": {
           "text": "Male"
          }
         },
         "zaxis": {
          "title": {
           "text": "Core temperature"
          }
         }
        },
        "template": {
         "data": {
          "bar": [
           {
            "error_x": {
             "color": "#2a3f5f"
            },
            "error_y": {
             "color": "#2a3f5f"
            },
            "marker": {
             "line": {
              "color": "white",
              "width": 0.5
             },
             "pattern": {
              "fillmode": "overlay",
              "size": 10,
              "solidity": 0.2
             }
            },
            "type": "bar"
           }
          ],
          "barpolar": [
           {
            "marker": {
             "line": {
              "color": "white",
              "width": 0.5
             },
             "pattern": {
              "fillmode": "overlay",
              "size": 10,
              "solidity": 0.2
             }
            },
            "type": "barpolar"
           }
          ],
          "box": [
           {
            "boxpoints": "outliers",
            "notched": false,
            "type": "box"
           }
          ],
          "carpet": [
           {
            "aaxis": {
             "endlinecolor": "#2a3f5f",
             "gridcolor": "#C8D4E3",
             "linecolor": "#C8D4E3",
             "minorgridcolor": "#C8D4E3",
             "startlinecolor": "#2a3f5f"
            },
            "baxis": {
             "endlinecolor": "#2a3f5f",
             "gridcolor": "#C8D4E3",
             "linecolor": "#C8D4E3",
             "minorgridcolor": "#C8D4E3",
             "startlinecolor": "#2a3f5f"
            },
            "type": "carpet"
           }
          ],
          "choropleth": [
           {
            "colorbar": {
             "outlinewidth": 0,
             "ticks": ""
            },
            "type": "choropleth"
           }
          ],
          "contour": [
           {
            "colorbar": {
             "outlinewidth": 0,
             "ticks": ""
            },
            "colorscale": [
             [
              0,
              "#0d0887"
             ],
             [
              0.1111111111111111,
              "#46039f"
             ],
             [
              0.2222222222222222,
              "#7201a8"
             ],
             [
              0.3333333333333333,
              "#9c179e"
             ],
             [
              0.4444444444444444,
              "#bd3786"
             ],
             [
              0.5555555555555556,
              "#d8576b"
             ],
             [
              0.6666666666666666,
              "#ed7953"
             ],
             [
              0.7777777777777778,
              "#fb9f3a"
             ],
             [
              0.8888888888888888,
              "#fdca26"
             ],
             [
              1,
              "#f0f921"
             ]
            ],
            "type": "contour"
           }
          ],
          "contourcarpet": [
           {
            "colorbar": {
             "outlinewidth": 0,
             "ticks": ""
            },
            "type": "contourcarpet"
           }
          ],
          "heatmap": [
           {
            "colorbar": {
             "outlinewidth": 0,
             "ticks": ""
            },
            "colorscale": [
             [
              0,
              "#0d0887"
             ],
             [
              0.1111111111111111,
              "#46039f"
             ],
             [
              0.2222222222222222,
              "#7201a8"
             ],
             [
              0.3333333333333333,
              "#9c179e"
             ],
             [
              0.4444444444444444,
              "#bd3786"
             ],
             [
              0.5555555555555556,
              "#d8576b"
             ],
             [
              0.6666666666666666,
              "#ed7953"
             ],
             [
              0.7777777777777778,
              "#fb9f3a"
             ],
             [
              0.8888888888888888,
              "#fdca26"
             ],
             [
              1,
              "#f0f921"
             ]
            ],
            "type": "heatmap"
           }
          ],
          "heatmapgl": [
           {
            "colorbar": {
             "outlinewidth": 0,
             "ticks": ""
            },
            "colorscale": [
             [
              0,
              "#0d0887"
             ],
             [
              0.1111111111111111,
              "#46039f"
             ],
             [
              0.2222222222222222,
              "#7201a8"
             ],
             [
              0.3333333333333333,
              "#9c179e"
             ],
             [
              0.4444444444444444,
              "#bd3786"
             ],
             [
              0.5555555555555556,
              "#d8576b"
             ],
             [
              0.6666666666666666,
              "#ed7953"
             ],
             [
              0.7777777777777778,
              "#fb9f3a"
             ],
             [
              0.8888888888888888,
              "#fdca26"
             ],
             [
              1,
              "#f0f921"
             ]
            ],
            "type": "heatmapgl"
           }
          ],
          "histogram": [
           {
            "marker": {
             "line": {
              "width": 1
             },
             "pattern": {
              "fillmode": "overlay",
              "size": 10,
              "solidity": 0.2
             }
            },
            "type": "histogram"
           }
          ],
          "histogram2d": [
           {
            "colorbar": {
             "outlinewidth": 0,
             "ticks": ""
            },
            "colorscale": [
             [
              0,
              "#0d0887"
             ],
             [
              0.1111111111111111,
              "#46039f"
             ],
             [
              0.2222222222222222,
              "#7201a8"
             ],
             [
              0.3333333333333333,
              "#9c179e"
             ],
             [
              0.4444444444444444,
              "#bd3786"
             ],
             [
              0.5555555555555556,
              "#d8576b"
             ],
             [
              0.6666666666666666,
              "#ed7953"
             ],
             [
              0.7777777777777778,
              "#fb9f3a"
             ],
             [
              0.8888888888888888,
              "#fdca26"
             ],
             [
              1,
              "#f0f921"
             ]
            ],
            "type": "histogram2d"
           }
          ],
          "histogram2dcontour": [
           {
            "colorbar": {
             "outlinewidth": 0,
             "ticks": ""
            },
            "colorscale": [
             [
              0,
              "#0d0887"
             ],
             [
              0.1111111111111111,
              "#46039f"
             ],
             [
              0.2222222222222222,
              "#7201a8"
             ],
             [
              0.3333333333333333,
              "#9c179e"
             ],
             [
              0.4444444444444444,
              "#bd3786"
             ],
             [
              0.5555555555555556,
              "#d8576b"
             ],
             [
              0.6666666666666666,
              "#ed7953"
             ],
             [
              0.7777777777777778,
              "#fb9f3a"
             ],
             [
              0.8888888888888888,
              "#fdca26"
             ],
             [
              1,
              "#f0f921"
             ]
            ],
            "type": "histogram2dcontour"
           }
          ],
          "mesh3d": [
           {
            "colorbar": {
             "outlinewidth": 0,
             "ticks": ""
            },
            "type": "mesh3d"
           }
          ],
          "parcoords": [
           {
            "line": {
             "colorbar": {
              "outlinewidth": 0,
              "ticks": ""
             }
            },
            "type": "parcoords"
           }
          ],
          "pie": [
           {
            "automargin": true,
            "type": "pie"
           }
          ],
          "scatter": [
           {
            "marker": {
             "colorbar": {
              "outlinewidth": 0,
              "ticks": ""
             },
             "opacity": 0.8
            },
            "type": "scatter"
           }
          ],
          "scatter3d": [
           {
            "line": {
             "colorbar": {
              "outlinewidth": 0,
              "ticks": ""
             }
            },
            "marker": {
             "colorbar": {
              "outlinewidth": 0,
              "ticks": ""
             },
             "opacity": 0.8
            },
            "type": "scatter3d"
           }
          ],
          "scattercarpet": [
           {
            "marker": {
             "colorbar": {
              "outlinewidth": 0,
              "ticks": ""
             }
            },
            "type": "scattercarpet"
           }
          ],
          "scattergeo": [
           {
            "marker": {
             "colorbar": {
              "outlinewidth": 0,
              "ticks": ""
             }
            },
            "type": "scattergeo"
           }
          ],
          "scattergl": [
           {
            "marker": {
             "colorbar": {
              "outlinewidth": 0,
              "ticks": ""
             }
            },
            "type": "scattergl"
           }
          ],
          "scattermapbox": [
           {
            "marker": {
             "colorbar": {
              "outlinewidth": 0,
              "ticks": ""
             }
            },
            "type": "scattermapbox"
           }
          ],
          "scatterpolar": [
           {
            "marker": {
             "colorbar": {
              "outlinewidth": 0,
              "ticks": ""
             }
            },
            "type": "scatterpolar"
           }
          ],
          "scatterpolargl": [
           {
            "marker": {
             "colorbar": {
              "outlinewidth": 0,
              "ticks": ""
             }
            },
            "type": "scatterpolargl"
           }
          ],
          "scatterternary": [
           {
            "marker": {
             "colorbar": {
              "outlinewidth": 0,
              "ticks": ""
             }
            },
            "type": "scatterternary"
           }
          ],
          "surface": [
           {
            "colorbar": {
             "outlinewidth": 0,
             "ticks": ""
            },
            "colorscale": [
             [
              0,
              "#0d0887"
             ],
             [
              0.1111111111111111,
              "#46039f"
             ],
             [
              0.2222222222222222,
              "#7201a8"
             ],
             [
              0.3333333333333333,
              "#9c179e"
             ],
             [
              0.4444444444444444,
              "#bd3786"
             ],
             [
              0.5555555555555556,
              "#d8576b"
             ],
             [
              0.6666666666666666,
              "#ed7953"
             ],
             [
              0.7777777777777778,
              "#fb9f3a"
             ],
             [
              0.8888888888888888,
              "#fdca26"
             ],
             [
              1,
              "#f0f921"
             ]
            ],
            "type": "surface"
           }
          ],
          "table": [
           {
            "cells": {
             "fill": {
              "color": "#EBF0F8"
             },
             "line": {
              "color": "white"
             }
            },
            "header": {
             "fill": {
              "color": "#C8D4E3"
             },
             "line": {
              "color": "white"
             }
            },
            "type": "table"
           }
          ]
         },
         "layout": {
          "annotationdefaults": {
           "arrowcolor": "#2a3f5f",
           "arrowhead": 0,
           "arrowwidth": 1
          },
          "autotypenumbers": "strict",
          "coloraxis": {
           "colorbar": {
            "outlinewidth": 0,
            "ticks": ""
           }
          },
          "colorscale": {
           "diverging": [
            [
             0,
             "#8e0152"
            ],
            [
             0.1,
             "#c51b7d"
            ],
            [
             0.2,
             "#de77ae"
            ],
            [
             0.3,
             "#f1b6da"
            ],
            [
             0.4,
             "#fde0ef"
            ],
            [
             0.5,
             "#f7f7f7"
            ],
            [
             0.6,
             "#e6f5d0"
            ],
            [
             0.7,
             "#b8e186"
            ],
            [
             0.8,
             "#7fbc41"
            ],
            [
             0.9,
             "#4d9221"
            ],
            [
             1,
             "#276419"
            ]
           ],
           "sequential": [
            [
             0,
             "#0d0887"
            ],
            [
             0.1111111111111111,
             "#46039f"
            ],
            [
             0.2222222222222222,
             "#7201a8"
            ],
            [
             0.3333333333333333,
             "#9c179e"
            ],
            [
             0.4444444444444444,
             "#bd3786"
            ],
            [
             0.5555555555555556,
             "#d8576b"
            ],
            [
             0.6666666666666666,
             "#ed7953"
            ],
            [
             0.7777777777777778,
             "#fb9f3a"
            ],
            [
             0.8888888888888888,
             "#fdca26"
            ],
            [
             1,
             "#f0f921"
            ]
           ],
           "sequentialminus": [
            [
             0,
             "#0d0887"
            ],
            [
             0.1111111111111111,
             "#46039f"
            ],
            [
             0.2222222222222222,
             "#7201a8"
            ],
            [
             0.3333333333333333,
             "#9c179e"
            ],
            [
             0.4444444444444444,
             "#bd3786"
            ],
            [
             0.5555555555555556,
             "#d8576b"
            ],
            [
             0.6666666666666666,
             "#ed7953"
            ],
            [
             0.7777777777777778,
             "#fb9f3a"
            ],
            [
             0.8888888888888888,
             "#fdca26"
            ],
            [
             1,
             "#f0f921"
            ]
           ]
          },
          "colorway": [
           "#636efa",
           "#EF553B",
           "#00cc96",
           "#ab63fa",
           "#FFA15A",
           "#19d3f3",
           "#FF6692",
           "#B6E880",
           "#FF97FF",
           "#FECB52"
          ],
          "font": {
           "color": "#2a3f5f"
          },
          "geo": {
           "bgcolor": "white",
           "lakecolor": "white",
           "landcolor": "white",
           "showlakes": true,
           "showland": true,
           "subunitcolor": "#C8D4E3"
          },
          "height": 400,
          "hoverlabel": {
           "align": "left"
          },
          "hovermode": "closest",
          "mapbox": {
           "style": "light"
          },
          "margin": {
           "b": 2,
           "l": 2,
           "r": 2,
           "t": 30
          },
          "paper_bgcolor": "white",
          "plot_bgcolor": "white",
          "polar": {
           "angularaxis": {
            "gridcolor": "#EBF0F8",
            "linecolor": "#EBF0F8",
            "ticks": ""
           },
           "bgcolor": "white",
           "radialaxis": {
            "gridcolor": "#EBF0F8",
            "linecolor": "#EBF0F8",
            "ticks": ""
           }
          },
          "scene": {
           "camera": {
            "eye": {
             "x": 1.5,
             "y": 1.5,
             "z": 0.1
            }
           },
           "xaxis": {
            "backgroundcolor": "white",
            "gridcolor": "#DFE8F3",
            "gridwidth": 2,
            "linecolor": "#EBF0F8",
            "showbackground": true,
            "ticks": "",
            "zerolinecolor": "#EBF0F8"
           },
           "yaxis": {
            "backgroundcolor": "white",
            "gridcolor": "#DFE8F3",
            "gridwidth": 2,
            "linecolor": "#EBF0F8",
            "showbackground": true,
            "ticks": "",
            "zerolinecolor": "#EBF0F8"
           },
           "zaxis": {
            "backgroundcolor": "white",
            "gridcolor": "#DFE8F3",
            "gridwidth": 2,
            "linecolor": "#EBF0F8",
            "showbackground": true,
            "ticks": "",
            "zerolinecolor": "#EBF0F8"
           }
          },
          "shapedefaults": {
           "line": {
            "color": "#2a3f5f"
           }
          },
          "ternary": {
           "aaxis": {
            "gridcolor": "#DFE8F3",
            "linecolor": "#A2B1C6",
            "ticks": ""
           },
           "baxis": {
            "gridcolor": "#DFE8F3",
            "linecolor": "#A2B1C6",
            "ticks": ""
           },
           "bgcolor": "white",
           "caxis": {
            "gridcolor": "#DFE8F3",
            "linecolor": "#A2B1C6",
            "ticks": ""
           }
          },
          "title": {
           "x": 0.5
          },
          "xaxis": {
           "automargin": true,
           "gridcolor": "#EBF0F8",
           "linecolor": "#EBF0F8",
           "linewidth": 2,
           "showline": true,
           "ticks": "",
           "title": {
            "standoff": 15
           },
           "zerolinecolor": "#EBF0F8",
           "zerolinewidth": 2
          },
          "yaxis": {
           "automargin": true,
           "gridcolor": "#EBF0F8",
           "linecolor": "#EBF0F8",
           "linewidth": 2,
           "showline": true,
           "ticks": "",
           "title": {
            "standoff": 15
           },
           "zerolinecolor": "#EBF0F8",
           "zerolinewidth": 2
          }
         }
        },
        "title": {}
       }
      },
      "text/html": [
       "<div>                            <div id=\"29e872f2-3138-4ad9-83c2-2bf653eed3de\" class=\"plotly-graph-div\" style=\"height:400px; width:100%;\"></div>            <script type=\"text/javascript\">                require([\"plotly\"], function(Plotly) {                    window.PLOTLYENV=window.PLOTLYENV || {};                                    if (document.getElementById(\"29e872f2-3138-4ad9-83c2-2bf653eed3de\")) {                    Plotly.newPlot(                        \"29e872f2-3138-4ad9-83c2-2bf653eed3de\",                        [{\"colorbar\":{\"title\":{\"text\":\"Core temperature\"}},\"type\":\"surface\",\"x\":[0.3,8.7],\"y\":[0,1],\"z\":[[38.02152564683271,39.20287941382103],[38.33969218635936,39.52104595334768]]},{\"mode\":\"markers\",\"type\":\"scatter3d\",\"x\":[6.9,5.4,5.4,4.8,4.8,7.8,2.7,5.7,1.5,1.8,4.2,4.5,1.5,5.1,4.8,5.1,3.6,4.2,2.7,8.7,0.9,6.3,1.2,2.7,6.0,6.0,0.6,3.9,6.0,5.7,6.9,5.1,2.1,3.6,6.3,2.4,8.4,7.5,5.7,5.7,2.7,4.2,6.9,3.0,1.8,2.4,6.3,0.6,1.8,4.8,8.4,8.1,6.3,8.7,4.5,4.5,7.5,1.2,5.7,0.6,6.9,8.1,0.6,1.2,6.6,8.1,2.7,3.9,4.2,6.9,1.2,3.9,3.6,0.3,3.0,8.7,2.1,6.6,1.5,5.1,6.0,2.1,6.0,4.2,1.5,1.8,1.8,6.9,6.9,4.5,1.8,8.4,3.0,4.5,1.8,6.6,6.9,6.0],\"y\":[0,0,1,1,1,0,1,1,0,0,1,0,1,1,0,1,1,1,0,1,0,1,0,1,1,0,1,0,0,0,1,0,1,1,1,1,1,1,0,1,0,1,0,0,0,0,0,1,0,1,1,1,0,0,1,0,1,0,1,0,1,1,1,1,1,1,1,0,0,1,0,1,1,0,0,1,0,1,0,0,0,1,0,0,1,1,0,1,0,0,0,1,0,0,1,0,0,1],\"z\":[38.42316895,39.01599822,39.14834088,39.06004863,38.65543905,38.6092188,39.47390806,38.81521612,37.77845286,39.17685034,39.52090819,38.57896943,38.28013391,38.40158039,38.65157641,39.61720308,37.72843549,39.36694049,37.98848685,39.93405104,37.60559023,38.83468198,37.39892664,38.98633063,39.72456882,38.09695504,37.59597881,39.49731323,38.50187636,38.27036031,38.69964224,39.08411118,38.29400364,38.39872285,39.29951536,38.37598649,38.46968433,39.58561173,38.12682317,39.80156649,37.92682179,39.67264697,38.21409556,38.93217418,37.80121676,37.52097889,39.34942824,38.9163822,38.72595498,38.35421436,40.17337876,39.48214424,39.9557292,39.02529641,39.70565695,37.87210056,38.92730588,38.75694066,38.98157028,39.07020183,39.31023381,40.26487847,39.19531025,37.46606804,38.61929591,39.74308443,37.9590829,38.52387016,39.58821189,39.48780846,37.32113362,38.30311301,39.32598796,38.18373964,37.78518905,38.97361387,37.97719515,38.92654301,37.98922316,39.87010492,38.51344083,39.14710639,38.61129304,38.95232638,37.46812464,38.24131363,38.7661591,39.87233432,38.87492299,39.09337261,39.00124171,39.25963687,38.6808734,37.93994229,38.79042609,39.48996228,38.57574159,39.76644658]}],                        {\"scene\":{\"xaxis\":{\"title\":{\"text\":\"Age\"}},\"yaxis\":{\"title\":{\"text\":\"Male\"}},\"zaxis\":{\"title\":{\"text\":\"Core temperature\"}}},\"template\":{\"data\":{\"bar\":[{\"error_x\":{\"color\":\"#2a3f5f\"},\"error_y\":{\"color\":\"#2a3f5f\"},\"marker\":{\"line\":{\"color\":\"white\",\"width\":0.5},\"pattern\":{\"fillmode\":\"overlay\",\"size\":10,\"solidity\":0.2}},\"type\":\"bar\"}],\"barpolar\":[{\"marker\":{\"line\":{\"color\":\"white\",\"width\":0.5},\"pattern\":{\"fillmode\":\"overlay\",\"size\":10,\"solidity\":0.2}},\"type\":\"barpolar\"}],\"box\":[{\"boxpoints\":\"outliers\",\"notched\":false,\"type\":\"box\"}],\"carpet\":[{\"aaxis\":{\"endlinecolor\":\"#2a3f5f\",\"gridcolor\":\"#C8D4E3\",\"linecolor\":\"#C8D4E3\",\"minorgridcolor\":\"#C8D4E3\",\"startlinecolor\":\"#2a3f5f\"},\"baxis\":{\"endlinecolor\":\"#2a3f5f\",\"gridcolor\":\"#C8D4E3\",\"linecolor\":\"#C8D4E3\",\"minorgridcolor\":\"#C8D4E3\",\"startlinecolor\":\"#2a3f5f\"},\"type\":\"carpet\"}],\"choropleth\":[{\"colorbar\":{\"outlinewidth\":0,\"ticks\":\"\"},\"type\":\"choropleth\"}],\"contour\":[{\"colorbar\":{\"outlinewidth\":0,\"ticks\":\"\"},\"colorscale\":[[0.0,\"#0d0887\"],[0.1111111111111111,\"#46039f\"],[0.2222222222222222,\"#7201a8\"],[0.3333333333333333,\"#9c179e\"],[0.4444444444444444,\"#bd3786\"],[0.5555555555555556,\"#d8576b\"],[0.6666666666666666,\"#ed7953\"],[0.7777777777777778,\"#fb9f3a\"],[0.8888888888888888,\"#fdca26\"],[1.0,\"#f0f921\"]],\"type\":\"contour\"}],\"contourcarpet\":[{\"colorbar\":{\"outlinewidth\":0,\"ticks\":\"\"},\"type\":\"contourcarpet\"}],\"heatmap\":[{\"colorbar\":{\"outlinewidth\":0,\"ticks\":\"\"},\"colorscale\":[[0.0,\"#0d0887\"],[0.1111111111111111,\"#46039f\"],[0.2222222222222222,\"#7201a8\"],[0.3333333333333333,\"#9c179e\"],[0.4444444444444444,\"#bd3786\"],[0.5555555555555556,\"#d8576b\"],[0.6666666666666666,\"#ed7953\"],[0.7777777777777778,\"#fb9f3a\"],[0.8888888888888888,\"#fdca26\"],[1.0,\"#f0f921\"]],\"type\":\"heatmap\"}],\"heatmapgl\":[{\"colorbar\":{\"outlinewidth\":0,\"ticks\":\"\"},\"colorscale\":[[0.0,\"#0d0887\"],[0.1111111111111111,\"#46039f\"],[0.2222222222222222,\"#7201a8\"],[0.3333333333333333,\"#9c179e\"],[0.4444444444444444,\"#bd3786\"],[0.5555555555555556,\"#d8576b\"],[0.6666666666666666,\"#ed7953\"],[0.7777777777777778,\"#fb9f3a\"],[0.8888888888888888,\"#fdca26\"],[1.0,\"#f0f921\"]],\"type\":\"heatmapgl\"}],\"histogram\":[{\"marker\":{\"line\":{\"width\":1},\"pattern\":{\"fillmode\":\"overlay\",\"size\":10,\"solidity\":0.2}},\"type\":\"histogram\"}],\"histogram2d\":[{\"colorbar\":{\"outlinewidth\":0,\"ticks\":\"\"},\"colorscale\":[[0.0,\"#0d0887\"],[0.1111111111111111,\"#46039f\"],[0.2222222222222222,\"#7201a8\"],[0.3333333333333333,\"#9c179e\"],[0.4444444444444444,\"#bd3786\"],[0.5555555555555556,\"#d8576b\"],[0.6666666666666666,\"#ed7953\"],[0.7777777777777778,\"#fb9f3a\"],[0.8888888888888888,\"#fdca26\"],[1.0,\"#f0f921\"]],\"type\":\"histogram2d\"}],\"histogram2dcontour\":[{\"colorbar\":{\"outlinewidth\":0,\"ticks\":\"\"},\"colorscale\":[[0.0,\"#0d0887\"],[0.1111111111111111,\"#46039f\"],[0.2222222222222222,\"#7201a8\"],[0.3333333333333333,\"#9c179e\"],[0.4444444444444444,\"#bd3786\"],[0.5555555555555556,\"#d8576b\"],[0.6666666666666666,\"#ed7953\"],[0.7777777777777778,\"#fb9f3a\"],[0.8888888888888888,\"#fdca26\"],[1.0,\"#f0f921\"]],\"type\":\"histogram2dcontour\"}],\"mesh3d\":[{\"colorbar\":{\"outlinewidth\":0,\"ticks\":\"\"},\"type\":\"mesh3d\"}],\"parcoords\":[{\"line\":{\"colorbar\":{\"outlinewidth\":0,\"ticks\":\"\"}},\"type\":\"parcoords\"}],\"pie\":[{\"automargin\":true,\"type\":\"pie\"}],\"scatter\":[{\"marker\":{\"colorbar\":{\"outlinewidth\":0,\"ticks\":\"\"},\"opacity\":0.8},\"type\":\"scatter\"}],\"scatter3d\":[{\"line\":{\"colorbar\":{\"outlinewidth\":0,\"ticks\":\"\"}},\"marker\":{\"colorbar\":{\"outlinewidth\":0,\"ticks\":\"\"},\"opacity\":0.8},\"type\":\"scatter3d\"}],\"scattercarpet\":[{\"marker\":{\"colorbar\":{\"outlinewidth\":0,\"ticks\":\"\"}},\"type\":\"scattercarpet\"}],\"scattergeo\":[{\"marker\":{\"colorbar\":{\"outlinewidth\":0,\"ticks\":\"\"}},\"type\":\"scattergeo\"}],\"scattergl\":[{\"marker\":{\"colorbar\":{\"outlinewidth\":0,\"ticks\":\"\"}},\"type\":\"scattergl\"}],\"scattermapbox\":[{\"marker\":{\"colorbar\":{\"outlinewidth\":0,\"ticks\":\"\"}},\"type\":\"scattermapbox\"}],\"scatterpolar\":[{\"marker\":{\"colorbar\":{\"outlinewidth\":0,\"ticks\":\"\"}},\"type\":\"scatterpolar\"}],\"scatterpolargl\":[{\"marker\":{\"colorbar\":{\"outlinewidth\":0,\"ticks\":\"\"}},\"type\":\"scatterpolargl\"}],\"scatterternary\":[{\"marker\":{\"colorbar\":{\"outlinewidth\":0,\"ticks\":\"\"}},\"type\":\"scatterternary\"}],\"surface\":[{\"colorbar\":{\"outlinewidth\":0,\"ticks\":\"\"},\"colorscale\":[[0.0,\"#0d0887\"],[0.1111111111111111,\"#46039f\"],[0.2222222222222222,\"#7201a8\"],[0.3333333333333333,\"#9c179e\"],[0.4444444444444444,\"#bd3786\"],[0.5555555555555556,\"#d8576b\"],[0.6666666666666666,\"#ed7953\"],[0.7777777777777778,\"#fb9f3a\"],[0.8888888888888888,\"#fdca26\"],[1.0,\"#f0f921\"]],\"type\":\"surface\"}],\"table\":[{\"cells\":{\"fill\":{\"color\":\"#EBF0F8\"},\"line\":{\"color\":\"white\"}},\"header\":{\"fill\":{\"color\":\"#C8D4E3\"},\"line\":{\"color\":\"white\"}},\"type\":\"table\"}]},\"layout\":{\"annotationdefaults\":{\"arrowcolor\":\"#2a3f5f\",\"arrowhead\":0,\"arrowwidth\":1},\"autotypenumbers\":\"strict\",\"coloraxis\":{\"colorbar\":{\"outlinewidth\":0,\"ticks\":\"\"}},\"colorscale\":{\"diverging\":[[0,\"#8e0152\"],[0.1,\"#c51b7d\"],[0.2,\"#de77ae\"],[0.3,\"#f1b6da\"],[0.4,\"#fde0ef\"],[0.5,\"#f7f7f7\"],[0.6,\"#e6f5d0\"],[0.7,\"#b8e186\"],[0.8,\"#7fbc41\"],[0.9,\"#4d9221\"],[1,\"#276419\"]],\"sequential\":[[0.0,\"#0d0887\"],[0.1111111111111111,\"#46039f\"],[0.2222222222222222,\"#7201a8\"],[0.3333333333333333,\"#9c179e\"],[0.4444444444444444,\"#bd3786\"],[0.5555555555555556,\"#d8576b\"],[0.6666666666666666,\"#ed7953\"],[0.7777777777777778,\"#fb9f3a\"],[0.8888888888888888,\"#fdca26\"],[1.0,\"#f0f921\"]],\"sequentialminus\":[[0.0,\"#0d0887\"],[0.1111111111111111,\"#46039f\"],[0.2222222222222222,\"#7201a8\"],[0.3333333333333333,\"#9c179e\"],[0.4444444444444444,\"#bd3786\"],[0.5555555555555556,\"#d8576b\"],[0.6666666666666666,\"#ed7953\"],[0.7777777777777778,\"#fb9f3a\"],[0.8888888888888888,\"#fdca26\"],[1.0,\"#f0f921\"]]},\"colorway\":[\"#636efa\",\"#EF553B\",\"#00cc96\",\"#ab63fa\",\"#FFA15A\",\"#19d3f3\",\"#FF6692\",\"#B6E880\",\"#FF97FF\",\"#FECB52\"],\"font\":{\"color\":\"#2a3f5f\"},\"geo\":{\"bgcolor\":\"white\",\"lakecolor\":\"white\",\"landcolor\":\"white\",\"showlakes\":true,\"showland\":true,\"subunitcolor\":\"#C8D4E3\"},\"height\":400,\"hoverlabel\":{\"align\":\"left\"},\"hovermode\":\"closest\",\"mapbox\":{\"style\":\"light\"},\"margin\":{\"b\":2,\"l\":2,\"r\":2,\"t\":30},\"paper_bgcolor\":\"white\",\"plot_bgcolor\":\"white\",\"polar\":{\"angularaxis\":{\"gridcolor\":\"#EBF0F8\",\"linecolor\":\"#EBF0F8\",\"ticks\":\"\"},\"bgcolor\":\"white\",\"radialaxis\":{\"gridcolor\":\"#EBF0F8\",\"linecolor\":\"#EBF0F8\",\"ticks\":\"\"}},\"scene\":{\"camera\":{\"eye\":{\"x\":1.5,\"y\":1.5,\"z\":0.1}},\"xaxis\":{\"backgroundcolor\":\"white\",\"gridcolor\":\"#DFE8F3\",\"gridwidth\":2,\"linecolor\":\"#EBF0F8\",\"showbackground\":true,\"ticks\":\"\",\"zerolinecolor\":\"#EBF0F8\"},\"yaxis\":{\"backgroundcolor\":\"white\",\"gridcolor\":\"#DFE8F3\",\"gridwidth\":2,\"linecolor\":\"#EBF0F8\",\"showbackground\":true,\"ticks\":\"\",\"zerolinecolor\":\"#EBF0F8\"},\"zaxis\":{\"backgroundcolor\":\"white\",\"gridcolor\":\"#DFE8F3\",\"gridwidth\":2,\"linecolor\":\"#EBF0F8\",\"showbackground\":true,\"ticks\":\"\",\"zerolinecolor\":\"#EBF0F8\"}},\"shapedefaults\":{\"line\":{\"color\":\"#2a3f5f\"}},\"ternary\":{\"aaxis\":{\"gridcolor\":\"#DFE8F3\",\"linecolor\":\"#A2B1C6\",\"ticks\":\"\"},\"baxis\":{\"gridcolor\":\"#DFE8F3\",\"linecolor\":\"#A2B1C6\",\"ticks\":\"\"},\"bgcolor\":\"white\",\"caxis\":{\"gridcolor\":\"#DFE8F3\",\"linecolor\":\"#A2B1C6\",\"ticks\":\"\"}},\"title\":{\"x\":0.5},\"xaxis\":{\"automargin\":true,\"gridcolor\":\"#EBF0F8\",\"linecolor\":\"#EBF0F8\",\"linewidth\":2,\"showline\":true,\"ticks\":\"\",\"title\":{\"standoff\":15},\"zerolinecolor\":\"#EBF0F8\",\"zerolinewidth\":2},\"yaxis\":{\"automargin\":true,\"gridcolor\":\"#EBF0F8\",\"linecolor\":\"#EBF0F8\",\"linewidth\":2,\"showline\":true,\"ticks\":\"\",\"title\":{\"standoff\":15},\"zerolinecolor\":\"#EBF0F8\",\"zerolinewidth\":2}}},\"title\":{}},                        {\"responsive\": true}                    ).then(function(){\n",
       "                            \n",
       "var gd = document.getElementById('29e872f2-3138-4ad9-83c2-2bf653eed3de');\n",
       "var x = new MutationObserver(function (mutations, observer) {{\n",
       "        var display = window.getComputedStyle(gd).display;\n",
       "        if (!display || display === 'none') {{\n",
       "            console.log([gd, 'removed!']);\n",
       "            Plotly.purge(gd);\n",
       "            observer.disconnect();\n",
       "        }}\n",
       "}});\n",
       "\n",
       "// Listen for the removal of the full notebook cells\n",
       "var notebookContainer = gd.closest('#notebook-container');\n",
       "if (notebookContainer) {{\n",
       "    x.observe(notebookContainer, {childList: true});\n",
       "}}\n",
       "\n",
       "// Listen for the clearing of the current output cell\n",
       "var outputEl = gd.closest('.output');\n",
       "if (outputEl) {{\n",
       "    x.observe(outputEl, {childList: true});\n",
       "}}\n",
       "\n",
       "                        })                };                });            </script>        </div>"
      ]
     },
     "metadata": {},
     "output_type": "display_data"
    }
   ],
   "source": [
    "import numpy as np\n",
    "# Show a graph of the result\n",
    "# this needs to be 3D, because we now have three variables in play: two features and one label\n",
    "\n",
    "def predict(age, male):\n",
    "    '''\n",
    "    This converts given age and male values into a prediction from the model\n",
    "    '''\n",
    "    # to make a prediction with statsmodels, we need to provide a dataframe\n",
    "    # so create a dataframe with just the age and male variables\n",
    "    df = pandas.DataFrame(dict(age=[age], male=[male]))\n",
    "    return model.predict(df)\n",
    "\n",
    "# Create the surface graph\n",
    "fig = graphing.surface(\n",
    "    x_values=np.array([min(dataset.age), max(dataset.age)]),\n",
    "    y_values=np.array([0, 1]),\n",
    "    calc_z=predict,\n",
    "    axis_title_x=\"Age\",\n",
    "    axis_title_y=\"Male\",\n",
    "    axis_title_z=\"Core temperature\"\n",
    ")\n",
    "\n",
    "# Add our datapoints to it and display\n",
    "fig.add_scatter3d(x=dataset.age, y=dataset.male, z=dataset.core_temperature, mode='markers')\n",
    "fig.show()"
   ]
  },
  {
   "cell_type": "markdown",
   "id": "f37d6c6d",
   "metadata": {},
   "source": [
    "The graph above is interactive. Try rotating it to see how the model (shown as a solid plane) would predict core temperature from different combinations of age and sex.\n",
    "\n",
    "### Inspecting our model\n",
    "\n",
    "When we have more than two features, it becomes very difficult to visualise these models. We usually have to look at the parameters directly. Let's do that now. _Statsmodels_, one of the common machine learning and statistics libraries, provides a `summary()` method which provides information about our model.    "
   ]
  },
  {
   "cell_type": "code",
   "execution_count": 62,
   "id": "03816fcc",
   "metadata": {},
   "outputs": [
    {
     "data": {
      "text/html": [
       "<table class=\"simpletable\">\n",
       "<caption>OLS Regression Results</caption>\n",
       "<tr>\n",
       "  <th>Dep. Variable:</th>    <td>core_temperature</td> <th>  R-squared:         </th> <td>   0.315</td>\n",
       "</tr>\n",
       "<tr>\n",
       "  <th>Model:</th>                   <td>OLS</td>       <th>  Adj. R-squared:    </th> <td>   0.300</td>\n",
       "</tr>\n",
       "<tr>\n",
       "  <th>Method:</th>             <td>Least Squares</td>  <th>  F-statistic:       </th> <td>   21.83</td>\n",
       "</tr>\n",
       "<tr>\n",
       "  <th>Date:</th>             <td>Thu, 11 Nov 2021</td> <th>  Prob (F-statistic):</th> <td>1.58e-08</td>\n",
       "</tr>\n",
       "<tr>\n",
       "  <th>Time:</th>                 <td>18:17:01</td>     <th>  Log-Likelihood:    </th> <td> -85.295</td>\n",
       "</tr>\n",
       "<tr>\n",
       "  <th>No. Observations:</th>      <td>    98</td>      <th>  AIC:               </th> <td>   176.6</td>\n",
       "</tr>\n",
       "<tr>\n",
       "  <th>Df Residuals:</th>          <td>    95</td>      <th>  BIC:               </th> <td>   184.3</td>\n",
       "</tr>\n",
       "<tr>\n",
       "  <th>Df Model:</th>              <td>     2</td>      <th>                     </th>     <td> </td>   \n",
       "</tr>\n",
       "<tr>\n",
       "  <th>Covariance Type:</th>      <td>nonrobust</td>    <th>                     </th>     <td> </td>   \n",
       "</tr>\n",
       "</table>\n",
       "<table class=\"simpletable\">\n",
       "<tr>\n",
       "      <td></td>         <th>coef</th>     <th>std err</th>      <th>t</th>      <th>P>|t|</th>  <th>[0.025</th>    <th>0.975]</th>  \n",
       "</tr>\n",
       "<tr>\n",
       "  <th>Intercept</th> <td>   37.9793</td> <td>    0.135</td> <td>  282.094</td> <td> 0.000</td> <td>   37.712</td> <td>   38.247</td>\n",
       "</tr>\n",
       "<tr>\n",
       "  <th>age</th>       <td>    0.1406</td> <td>    0.026</td> <td>    5.459</td> <td> 0.000</td> <td>    0.089</td> <td>    0.192</td>\n",
       "</tr>\n",
       "<tr>\n",
       "  <th>male</th>      <td>    0.3182</td> <td>    0.121</td> <td>    2.634</td> <td> 0.010</td> <td>    0.078</td> <td>    0.558</td>\n",
       "</tr>\n",
       "</table>\n",
       "<table class=\"simpletable\">\n",
       "<tr>\n",
       "  <th>Omnibus:</th>       <td>21.610</td> <th>  Durbin-Watson:     </th> <td>   2.369</td>\n",
       "</tr>\n",
       "<tr>\n",
       "  <th>Prob(Omnibus):</th> <td> 0.000</td> <th>  Jarque-Bera (JB):  </th> <td>   5.227</td>\n",
       "</tr>\n",
       "<tr>\n",
       "  <th>Skew:</th>          <td> 0.121</td> <th>  Prob(JB):          </th> <td>  0.0733</td>\n",
       "</tr>\n",
       "<tr>\n",
       "  <th>Kurtosis:</th>      <td> 1.895</td> <th>  Cond. No.          </th> <td>    12.9</td>\n",
       "</tr>\n",
       "</table><br/><br/>Notes:<br/>[1] Standard Errors assume that the covariance matrix of the errors is correctly specified."
      ],
      "text/plain": [
       "<class 'statsmodels.iolib.summary.Summary'>\n",
       "\"\"\"\n",
       "                            OLS Regression Results                            \n",
       "==============================================================================\n",
       "Dep. Variable:       core_temperature   R-squared:                       0.315\n",
       "Model:                            OLS   Adj. R-squared:                  0.300\n",
       "Method:                 Least Squares   F-statistic:                     21.83\n",
       "Date:                Thu, 11 Nov 2021   Prob (F-statistic):           1.58e-08\n",
       "Time:                        18:17:01   Log-Likelihood:                -85.295\n",
       "No. Observations:                  98   AIC:                             176.6\n",
       "Df Residuals:                      95   BIC:                             184.3\n",
       "Df Model:                           2                                         \n",
       "Covariance Type:            nonrobust                                         \n",
       "==============================================================================\n",
       "                 coef    std err          t      P>|t|      [0.025      0.975]\n",
       "------------------------------------------------------------------------------\n",
       "Intercept     37.9793      0.135    282.094      0.000      37.712      38.247\n",
       "age            0.1406      0.026      5.459      0.000       0.089       0.192\n",
       "male           0.3182      0.121      2.634      0.010       0.078       0.558\n",
       "==============================================================================\n",
       "Omnibus:                       21.610   Durbin-Watson:                   2.369\n",
       "Prob(Omnibus):                  0.000   Jarque-Bera (JB):                5.227\n",
       "Skew:                           0.121   Prob(JB):                       0.0733\n",
       "Kurtosis:                       1.895   Cond. No.                         12.9\n",
       "==============================================================================\n",
       "\n",
       "Notes:\n",
       "[1] Standard Errors assume that the covariance matrix of the errors is correctly specified.\n",
       "\"\"\""
      ]
     },
     "execution_count": 62,
     "metadata": {},
     "output_type": "execute_result"
    }
   ],
   "source": [
    "# Print summary information\n",
    "model.summary()"
   ]
  },
  {
   "cell_type": "markdown",
   "id": "bcb6fb06",
   "metadata": {},
   "source": [
    "If we look at the top right hand corner, we can see our R-squared statistic that we printed out earlier.\n",
    "\n",
    "Slightly down and to the left, we can also see information about the data we trained our model on. For example, we can see that we trained it on 98 observations (`No. Observations`).\n",
    "\n",
    "Below this we find information about our parameters, in a column called `coef` (which stands for _coefficients_, a synonym for parameters in machine leanring). Here we can see the intercept was about `38` - meaning that the model predicts a core temperature of 38 for a dog with `age=0` and `male=0`. Below this we see the parameter for age is 0.14, meaning that for additional each year of age, the predicted temperature would rise 0.14 degrees celcius. For `male`, we can see a parameter of 0.32, meaning that the model estimates all dogs (i.e. where `male == 1`) to have temperatures 0.32 degrees celcius higher than female dogs (i.e. where `male == 0`).\n",
    "\n",
    "Although we don't have space here to go into detail, the `P` column is also very useful. This tells us how confident the model is about this parameter value. As a rule of thumb, if the p value is less than 0.05, there is a good chance that this relationship if trustable. For example, here both `age` and `male` are less than 0.05, so we should feel confident using this model in the real world.\n",
    "\n",
    "As a final exercise, lets do the same thing with our earlier simple linear regression model, relating `age` to `core_temperature`. Read through the table below and see what you can make out from this model. "
   ]
  },
  {
   "cell_type": "code",
   "execution_count": 63,
   "id": "0bd2b30a",
   "metadata": {},
   "outputs": [
    {
     "data": {
      "text/html": [
       "<table class=\"simpletable\">\n",
       "<caption>OLS Regression Results</caption>\n",
       "<tr>\n",
       "  <th>Dep. Variable:</th>    <td>core_temperature</td> <th>  R-squared:         </th> <td>   0.265</td>\n",
       "</tr>\n",
       "<tr>\n",
       "  <th>Model:</th>                   <td>OLS</td>       <th>  Adj. R-squared:    </th> <td>   0.257</td>\n",
       "</tr>\n",
       "<tr>\n",
       "  <th>Method:</th>             <td>Least Squares</td>  <th>  F-statistic:       </th> <td>   34.58</td>\n",
       "</tr>\n",
       "<tr>\n",
       "  <th>Date:</th>             <td>Thu, 11 Nov 2021</td> <th>  Prob (F-statistic):</th> <td>5.94e-08</td>\n",
       "</tr>\n",
       "<tr>\n",
       "  <th>Time:</th>                 <td>18:17:27</td>     <th>  Log-Likelihood:    </th> <td> -88.749</td>\n",
       "</tr>\n",
       "<tr>\n",
       "  <th>No. Observations:</th>      <td>    98</td>      <th>  AIC:               </th> <td>   181.5</td>\n",
       "</tr>\n",
       "<tr>\n",
       "  <th>Df Residuals:</th>          <td>    96</td>      <th>  BIC:               </th> <td>   186.7</td>\n",
       "</tr>\n",
       "<tr>\n",
       "  <th>Df Model:</th>              <td>     1</td>      <th>                     </th>     <td> </td>   \n",
       "</tr>\n",
       "<tr>\n",
       "  <th>Covariance Type:</th>      <td>nonrobust</td>    <th>                     </th>     <td> </td>   \n",
       "</tr>\n",
       "</table>\n",
       "<table class=\"simpletable\">\n",
       "<tr>\n",
       "      <td></td>         <th>coef</th>     <th>std err</th>      <th>t</th>      <th>P>|t|</th>  <th>[0.025</th>    <th>0.975]</th>  \n",
       "</tr>\n",
       "<tr>\n",
       "  <th>Intercept</th> <td>   38.0879</td> <td>    0.132</td> <td>  288.373</td> <td> 0.000</td> <td>   37.826</td> <td>   38.350</td>\n",
       "</tr>\n",
       "<tr>\n",
       "  <th>age</th>       <td>    0.1533</td> <td>    0.026</td> <td>    5.880</td> <td> 0.000</td> <td>    0.102</td> <td>    0.205</td>\n",
       "</tr>\n",
       "</table>\n",
       "<table class=\"simpletable\">\n",
       "<tr>\n",
       "  <th>Omnibus:</th>       <td>43.487</td> <th>  Durbin-Watson:     </th> <td>   2.492</td>\n",
       "</tr>\n",
       "<tr>\n",
       "  <th>Prob(Omnibus):</th> <td> 0.000</td> <th>  Jarque-Bera (JB):  </th> <td>   6.605</td>\n",
       "</tr>\n",
       "<tr>\n",
       "  <th>Skew:</th>          <td> 0.087</td> <th>  Prob(JB):          </th> <td>  0.0368</td>\n",
       "</tr>\n",
       "<tr>\n",
       "  <th>Kurtosis:</th>      <td> 1.740</td> <th>  Cond. No.          </th> <td>    11.3</td>\n",
       "</tr>\n",
       "</table><br/><br/>Notes:<br/>[1] Standard Errors assume that the covariance matrix of the errors is correctly specified."
      ],
      "text/plain": [
       "<class 'statsmodels.iolib.summary.Summary'>\n",
       "\"\"\"\n",
       "                            OLS Regression Results                            \n",
       "==============================================================================\n",
       "Dep. Variable:       core_temperature   R-squared:                       0.265\n",
       "Model:                            OLS   Adj. R-squared:                  0.257\n",
       "Method:                 Least Squares   F-statistic:                     34.58\n",
       "Date:                Thu, 11 Nov 2021   Prob (F-statistic):           5.94e-08\n",
       "Time:                        18:17:27   Log-Likelihood:                -88.749\n",
       "No. Observations:                  98   AIC:                             181.5\n",
       "Df Residuals:                      96   BIC:                             186.7\n",
       "Df Model:                           1                                         \n",
       "Covariance Type:            nonrobust                                         \n",
       "==============================================================================\n",
       "                 coef    std err          t      P>|t|      [0.025      0.975]\n",
       "------------------------------------------------------------------------------\n",
       "Intercept     38.0879      0.132    288.373      0.000      37.826      38.350\n",
       "age            0.1533      0.026      5.880      0.000       0.102       0.205\n",
       "==============================================================================\n",
       "Omnibus:                       43.487   Durbin-Watson:                   2.492\n",
       "Prob(Omnibus):                  0.000   Jarque-Bera (JB):                6.605\n",
       "Skew:                           0.087   Prob(JB):                       0.0368\n",
       "Kurtosis:                       1.740   Cond. No.                         11.3\n",
       "==============================================================================\n",
       "\n",
       "Notes:\n",
       "[1] Standard Errors assume that the covariance matrix of the errors is correctly specified.\n",
       "\"\"\""
      ]
     },
     "execution_count": 63,
     "metadata": {},
     "output_type": "execute_result"
    }
   ],
   "source": [
    "age_trained_model.summary()"
   ]
  },
  {
   "cell_type": "markdown",
   "id": "a53afbe0",
   "metadata": {},
   "source": [
    "## Summary\n",
    "We covered the following concepts in this exercise:\n",
    "\n",
    "- Build Simple and Multiple Linear Regression Models.\n",
    "- Compare the performance of both models by looking at R-Squared values.\n",
    "- Inspected models to understand how they work."
   ]
  },
  {
   "cell_type": "code",
   "execution_count": null,
   "id": "0d63b3f1",
   "metadata": {},
   "outputs": [],
   "source": []
  }
 ],
 "metadata": {
  "kernelspec": {
   "display_name": "Python 3",
   "language": "python",
   "name": "python3"
  },
  "language_info": {
   "codemirror_mode": {
    "name": "ipython",
    "version": 3
   },
   "file_extension": ".py",
   "mimetype": "text/x-python",
   "name": "python",
   "nbconvert_exporter": "python",
   "pygments_lexer": "ipython3",
   "version": "3.8.8"
  }
 },
 "nbformat": 4,
 "nbformat_minor": 5
}
